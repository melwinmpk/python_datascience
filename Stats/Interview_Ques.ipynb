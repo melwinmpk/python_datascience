{
 "cells": [
  {
   "cell_type": "markdown",
   "metadata": {},
   "source": [
    "## How to fill the Missing Values"
   ]
  },
  {
   "cell_type": "markdown",
   "metadata": {},
   "source": [
    "It Depends <br>\n",
    "    -> In Categorical Data we go with mode<br>\n",
    "    -> In Numerical data if there are no Out Liers we got with mean (with outliers Median)<br>\n",
    "    -> In OutLiers Data we Got with median<br>\n",
    "It depends on Data to Data to decide. <br>    \n"
   ]
  },
  {
   "cell_type": "markdown",
   "metadata": {},
   "source": [
    "## Are the Normal Distribution and Box Plot Simalar ? If Yes what is the Need of Box plot"
   ]
  },
  {
   "cell_type": "markdown",
   "metadata": {},
   "source": [
    "Yes they are Similar. <br> \n",
    "the need of the Box plot is for the Readablity Increases in the Box Plot"
   ]
  },
  {
   "cell_type": "markdown",
   "metadata": {},
   "source": [
    "Reffer this I have some doubts to clarify\n",
    "https://towardsdatascience.com/understanding-boxplots-5e2df7bcbd51"
   ]
  },
  {
   "cell_type": "markdown",
   "metadata": {},
   "source": [
    "## what is IQR?"
   ]
  },
  {
   "cell_type": "markdown",
   "metadata": {},
   "source": [
    "<b> InterQuartile Range (Q3 - Q2) </b><br>\n",
    "1) Its the region where more than 50% of data where it lies (As you are saying more than 50% you need to explain about normal Distribution see the Image)<br>\n",
    "2) its the Most Revelent Data in the Data Range<br>\n",
    "3) we will be getting the outliers removed data<br>"
   ]
  },
  {
   "cell_type": "markdown",
   "metadata": {},
   "source": [
    "<img src=\"https://miro.medium.com/max/700/1*NRlqiZGQdsIyAu0KzP7LaQ.png\"></img>"
   ]
  },
  {
   "cell_type": "markdown",
   "metadata": {},
   "source": [
    "### What are Out Liers"
   ]
  },
  {
   "cell_type": "markdown",
   "metadata": {},
   "source": [
    "<ul>\n",
    "<li>Out Liers effects the measure of central tendency of the Data.</li>\n",
    "<li>an outlier is a data point that differs significantly from other observations. </li>\n",
    "<ul>    "
   ]
  },
  {
   "cell_type": "markdown",
   "metadata": {},
   "source": [
    "### What is the need to drop One of those colums where the Corrilation of Colums are more than  correlation coefficient (r) +0.7/-0.7 ? "
   ]
  },
  {
   "cell_type": "markdown",
   "metadata": {},
   "source": [
    "Because both <b>twin Variables</b> both are giving the same Information as a result we need to remove any one "
   ]
  },
  {
   "cell_type": "markdown",
   "metadata": {},
   "source": [
    "### Know Every Sampling their Advantage and DisAdvantage  "
   ]
  },
  {
   "cell_type": "markdown",
   "metadata": {},
   "source": [
    "Learn about the Systamatic Sampling"
   ]
  },
  {
   "cell_type": "markdown",
   "metadata": {},
   "source": [
    "Randome Sampling is widely Used in the Industery its Cost Effective"
   ]
  },
  {
   "cell_type": "markdown",
   "metadata": {},
   "source": [
    "Cluster sampling is a sampling plan used when mutually homogeneous yet internally heterogeneous groupings are evident in a statistical population."
   ]
  },
  {
   "cell_type": "markdown",
   "metadata": {},
   "source": [
    "### What is the Difference between Stratified Sampling and Cluster Sampling"
   ]
  },
  {
   "cell_type": "markdown",
   "metadata": {},
   "source": [
    "Melwin I did not understand this much but you can reffer this <br>\n",
    "https://www.datasciencecentral.com/profiles/blogs/difference-between-stratified-sampling-cluster-sampling-and-quota  <br>\n",
    "https://www.questionpro.com/blog/cluster-sampling-vs-stratified-sampling/"
   ]
  },
  {
   "cell_type": "markdown",
   "metadata": {},
   "source": [
    "### What is the difference between Point Estimate and Interval Estimate"
   ]
  },
  {
   "cell_type": "markdown",
   "metadata": {},
   "source": [
    "<ul>\n",
    "<li>A point estimate is a single value estimate of a parameter. For instance, a sample mean is a point estimate of a population mean.</li>\n",
    "<li>An interval estimate gives you a range of values where the parameter is expected to lie. A confidence interval is the most common type of interval estimate.</li>\n",
    "</ul>\n",
    "<pre>\n",
    "An interval estimate can be computed by adding and\n",
    " subtracting a margin of error to the point estimate.\n",
    " \n",
    " \n",
    "Point Estimate  +/-  Margin of Error\n",
    "</pre>\n",
    "<b>Interval Estimate of a Population Mean</b>\n",
    "<img src=\"https://cqeacademy.com/wp-content/uploads/2017/12/Confidence-Interval-for-Population-Mean-Explainer.jpg\"></img>"
   ]
  },
  {
   "cell_type": "markdown",
   "metadata": {},
   "source": [
    "### What is the Difference between Normal Distribution snd (Standard Normal Distribution/Zero Distribution/ aucian Graph)"
   ]
  },
  {
   "cell_type": "markdown",
   "metadata": {},
   "source": [
    "A normal distribution is determined by two parameters the mean and the variance<br>\n",
    "Now the standard normal distribution is a specific distribution with mean 0 and variance 1."
   ]
  },
  {
   "cell_type": "markdown",
   "metadata": {},
   "source": [
    "### When are we supposed to use t distribution and z distribution"
   ]
  },
  {
   "cell_type": "markdown",
   "metadata": {},
   "source": [
    "When the Sample size  n <= 30 we are supposed to Use t distribution<br>\n",
    "for the n >= 30 we can use z distribtion (we can use t distribution as well)<br>\n",
    "<b>Note:</b> => as df(degree of freedom) increases [i.e more than 30] z table and t table gives the same value<br>\n",
    "<b>Note:</b> => degree of freedom is only there in the t table"
   ]
  },
  {
   "cell_type": "markdown",
   "metadata": {},
   "source": [
    "# Hypothesis Testing"
   ]
  },
  {
   "cell_type": "markdown",
   "metadata": {},
   "source": [
    "### What are type I and type II Error"
   ]
  },
  {
   "cell_type": "markdown",
   "metadata": {},
   "source": [
    "A <b>Type I</b> error is rejecting H0 when it is true<br>\n",
    "A <b>Type II</b> error is accepting H0 when it is false.<br>"
   ]
  },
  {
   "cell_type": "markdown",
   "metadata": {},
   "source": [
    "### What is Coorilation "
   ]
  },
  {
   "cell_type": "markdown",
   "metadata": {},
   "source": [
    "Coorilation is a statistical measure that expresses the extent to which two variables are linearly related (meaning they change together at a constant rate)<br>\n",
    "two Variables Could be Positely Related<br>\n",
    "two Variables Could be Negatively Related<br>\n",
    "two Variables Could be Not Related <br>"
   ]
  },
  {
   "cell_type": "markdown",
   "metadata": {},
   "source": [
    "### why there is need of removing the highly Coorilated Variables"
   ]
  },
  {
   "cell_type": "markdown",
   "metadata": {},
   "source": [
    "If two columns are highly correlated, there's a chance that one of them won't be selected in a particular tree's column sample, and that tree will depend on the remaining column. Correlated features mean you can reduce overfitting (through column sampling) without giving up too much predictive quality."
   ]
  },
  {
   "cell_type": "markdown",
   "metadata": {},
   "source": [
    "### What is ANOVA ?"
   ]
  },
  {
   "cell_type": "markdown",
   "metadata": {},
   "source": [
    "<ul>\n",
    "<li>Anova is Analysis of variance. (ANOVA) is used to determine whether there are any statistically significant differences between the means of three or more independent (unrelated) groups.</li>\n",
    "<li>Way to define the H0 and Ha is <br>\n",
    "    h0 =  mu1=mu2=m3=m4 .....=mn <br>\n",
    "    ha = at least one of the mu not equal to another mu</li>\n",
    "<li>there is a F distribution the way its defined is <br>\n",
    "     f = (sigma**2 of Between the group)/(sigma**2 of within in the group) <br>\n",
    "    is the F distribution value is closer to 1 that means all the Groups are similar <br> \n",
    "    or else if the F distribution value is away from the 1 that means all the groups are not similar</li>   \n",
    "<li>Same way like hypothesis testing we will also get the p value we can accept or reject <br>\n",
    "    we can do the double check with the F distribution value as well</li>  \n",
    "<li>Its a advanced version of the Hypothesys testing </li>\n",
    "</ul>"
   ]
  },
  {
   "cell_type": "markdown",
   "metadata": {},
   "source": [
    "### What is the Difference between Matplotlib and Seaborn"
   ]
  },
  {
   "cell_type": "markdown",
   "metadata": {},
   "source": [
    "Matplot lib is used for 2D\n",
    "Seaborn lib is used for 2D and 3D visualization"
   ]
  },
  {
   "cell_type": "markdown",
   "metadata": {},
   "source": [
    "### What is the Difference between Pandas and NumPy"
   ]
  },
  {
   "cell_type": "markdown",
   "metadata": {},
   "source": [
    "<b>Pandas</b>\n",
    "<ul>\n",
    "    <li>Pandas stands for “Python Data Analysis Library”<br>\n",
    "         According to the Wikipedia page on Pandas, “the name is derived from the term “panel data”</li>    \n",
    "    <li>Pandas maily works with tabular Data</li>\n",
    "    <li>The Pandas provides some sets of powerful tools like DataFrame and Series that mainly used for analyzing the data</li>\n",
    "</ul>\n",
    "<b>Numpy</b>\n",
    "<ul>\n",
    "<li>NumPy stands for Numerical Python</li>\n",
    "<li>NumPy module works with the numerical data</li>\n",
    "</ul>"
   ]
  },
  {
   "cell_type": "code",
   "execution_count": null,
   "metadata": {},
   "outputs": [],
   "source": []
  }
 ],
 "metadata": {
  "kernelspec": {
   "display_name": "Python 3",
   "language": "python",
   "name": "python3"
  },
  "language_info": {
   "codemirror_mode": {
    "name": "ipython",
    "version": 3
   },
   "file_extension": ".py",
   "mimetype": "text/x-python",
   "name": "python",
   "nbconvert_exporter": "python",
   "pygments_lexer": "ipython3",
   "version": "3.8.3"
  }
 },
 "nbformat": 4,
 "nbformat_minor": 4
}
