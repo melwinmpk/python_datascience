{
 "cells": [
  {
   "cell_type": "markdown",
   "metadata": {},
   "source": [
    "## How to fill the Missing Values"
   ]
  },
  {
   "cell_type": "markdown",
   "metadata": {},
   "source": [
    "It Depends <br>\n",
    "    -> In Categorical Data we go with mode<br>\n",
    "    -> In Numerical data if there are no Out Liers we got with mean (with outliers Median)<br>\n",
    "    -> In OutLiers Data we Got with median<br>\n",
    "It depends on Data to Data to decide. <br>    \n"
   ]
  },
  {
   "cell_type": "markdown",
   "metadata": {},
   "source": [
    "## Are the Normal Distribution and Box Plot Simalar ? If Yes what is the Need of Box plot"
   ]
  },
  {
   "cell_type": "markdown",
   "metadata": {},
   "source": [
    "Yes they are Similar. <br> \n",
    "the need of the Box plot is for the Readablity Increases in the Box Plot"
   ]
  },
  {
   "cell_type": "markdown",
   "metadata": {},
   "source": [
    "## what is IQR?"
   ]
  },
  {
   "cell_type": "markdown",
   "metadata": {},
   "source": [
    "<b> InterQuartile Range (Q3 - Q2) </b><br>\n",
    "1) Its the region where more than 50% of data where it lies (As you are saying more than 50% you need to explain about normal Distribution see the Image)<br>\n",
    "2) its the Most Revelent Data in the Data Range<br>\n",
    "3) we will be getting the outliers removed data<br>"
   ]
  },
  {
   "cell_type": "markdown",
   "metadata": {},
   "source": [
    "<img src=\"https://miro.medium.com/max/700/1*NRlqiZGQdsIyAu0KzP7LaQ.png\"></img>"
   ]
  },
  {
   "cell_type": "markdown",
   "metadata": {},
   "source": [
    "### Why are needed to drop One of those colums where the Corrilation of Colums are more than  correlation coefficient (r) +0.7/-0.7 ? "
   ]
  },
  {
   "cell_type": "markdown",
   "metadata": {},
   "source": [
    "Because both <b>twin Variables</b> both are giving the same Information as a result we need to remove any one "
   ]
  },
  {
   "cell_type": "code",
   "execution_count": null,
   "metadata": {},
   "outputs": [],
   "source": []
  }
 ],
 "metadata": {
  "kernelspec": {
   "display_name": "Python 3",
   "language": "python",
   "name": "python3"
  },
  "language_info": {
   "codemirror_mode": {
    "name": "ipython",
    "version": 3
   },
   "file_extension": ".py",
   "mimetype": "text/x-python",
   "name": "python",
   "nbconvert_exporter": "python",
   "pygments_lexer": "ipython3",
   "version": "3.8.3"
  }
 },
 "nbformat": 4,
 "nbformat_minor": 4
}
