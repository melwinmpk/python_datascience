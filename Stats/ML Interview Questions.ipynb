{
 "cells": [
  {
   "cell_type": "markdown",
   "metadata": {},
   "source": [
    "### How does the Dicision tree works ? or\n",
    "### How does the Gini Calcluation works ?"
   ]
  },
  {
   "cell_type": "markdown",
   "metadata": {},
   "source": [
    "its a metholidigy which help us to decide which must be the first split as per the Gini Gain Value of the respective colum <br>\n",
    "Higher thr Gini gain among the frist colum that will be the first split <br>\n",
    "Melwin remember the table show the Calcluation <br>\n",
    "Recursive partesioning Method \n"
   ]
  },
  {
   "cell_type": "code",
   "execution_count": null,
   "metadata": {},
   "outputs": [],
   "source": [
    "why we call the Dicision tree calles as Recursive partesioning Method ?"
   ]
  },
  {
   "cell_type": "markdown",
   "metadata": {},
   "source": [
    "### How are you going to make the Gini gain in the continuous Values ?"
   ]
  },
  {
   "cell_type": "markdown",
   "metadata": {},
   "source": [
    "we use bucketing in this scenation for the example<br>\n",
    "for the salary we shall set the salary a range and split into buckets then we start to calcluate<br>\n",
    "\n",
    "how are we doing this in the code ?"
   ]
  },
  {
   "cell_type": "code",
   "execution_count": null,
   "metadata": {},
   "outputs": [],
   "source": []
  }
 ],
 "metadata": {
  "kernelspec": {
   "display_name": "Python 3",
   "language": "python",
   "name": "python3"
  },
  "language_info": {
   "codemirror_mode": {
    "name": "ipython",
    "version": 3
   },
   "file_extension": ".py",
   "mimetype": "text/x-python",
   "name": "python",
   "nbconvert_exporter": "python",
   "pygments_lexer": "ipython3",
   "version": "3.8.3"
  }
 },
 "nbformat": 4,
 "nbformat_minor": 4
}
