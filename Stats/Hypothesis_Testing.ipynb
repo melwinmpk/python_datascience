{
 "cells": [
  {
   "cell_type": "markdown",
   "metadata": {},
   "source": [
    "## what is Hypothesis testing Used for ?"
   ]
  },
  {
   "cell_type": "markdown",
   "metadata": {},
   "source": [
    "<b>Hypothesis testing</b> can be used to determine whether\n",
    "a statement about the value of a population parameter\n",
    "should or should not be rejected. <br>\n",
    "The <b>null hypothesis</b>, denoted by H0 , is a tentative\n",
    "assumption about a population parameter.<br>\n",
    "The <b>alternative hypothesis</b>, denoted by Ha\n",
    ", is the opposite of what is stated in the null hypothesis.<br>\n",
    "The hypothesis testing procedure uses data from a\n",
    "sample to test the two competing statements\n",
    "indicated by H0 and Ha.<br>"
   ]
  }
 ],
 "metadata": {
  "kernelspec": {
   "display_name": "Python 3",
   "language": "python",
   "name": "python3"
  },
  "language_info": {
   "codemirror_mode": {
    "name": "ipython",
    "version": 3
   },
   "file_extension": ".py",
   "mimetype": "text/x-python",
   "name": "python",
   "nbconvert_exporter": "python",
   "pygments_lexer": "ipython3",
   "version": "3.9.1"
  }
 },
 "nbformat": 4,
 "nbformat_minor": 4
}
