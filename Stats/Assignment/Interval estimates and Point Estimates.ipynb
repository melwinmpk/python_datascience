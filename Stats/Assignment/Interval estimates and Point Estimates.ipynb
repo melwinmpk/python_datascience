{
 "cells": [
  {
   "cell_type": "markdown",
   "metadata": {},
   "source": [
    "<b>Assignment</b> :<br> \n",
    "1) Write a Program to claculate the Interval estimates and Point Estimates.\n",
    "\t1. Automatically your function should decide for Z & T\n",
    "\t2. Define Dictionaries for alpha values (z0.05 = 1.96, z0.025 = 1.68, t0.025)\n",
    "\t3. Input def my_fun(sample_mean, sigma, size)\n",
    "\t4. Make use of appropriate exception handling.\n",
    "\n",
    "\n",
    "\n",
    "<b>Output</b>:<br>\n",
    "Its a Z-dist Problem because sample size is greater than 30 <br>\n",
    "Interval Estimate is ------- to ------- <br>\n",
    "Point estimate is ----------- <br>\n"
   ]
  },
  {
   "cell_type": "markdown",
   "metadata": {},
   "source": [
    "### FILE CREATION FOR The 2nd Assignment"
   ]
  },
  {
   "cell_type": "code",
   "execution_count": 12,
   "metadata": {},
   "outputs": [],
   "source": [
    "import pandas as pd\n",
    "age = [32,34,29,29,22,39,38,37,38,36,30,26,22,22,31,31]\n",
    "# age = [32]\n",
    "age_df = pd.DataFrame(age, columns = ['Ages'])\n",
    "age_df.to_csv(\"age_data.csv\")"
   ]
  },
  {
   "cell_type": "markdown",
   "metadata": {},
   "source": [
    "### FUNCTION DEFINITION "
   ]
  },
  {
   "cell_type": "code",
   "execution_count": 13,
   "metadata": {},
   "outputs": [],
   "source": [
    "'''\n",
    "Z test\n",
    "Interval Estimate  = xbar +_ Z(alpha/2)(mu/sqrt(n))\n",
    "'''\n",
    "import pandas as pd\n",
    "import math\n",
    "def Interval_Estimate(xbar,mu,n,alpha):\n",
    "    ztest = False\n",
    "    zscore = {0.05:1.68,0.025:1.96}\n",
    "    tscore = {15:{0.025:2.131,0.05:1.753,}} # Value is only there for the DF 15 Only\n",
    "    Interval_estimate = 0.0\n",
    "    margin_of_error = None\n",
    "    if n > 30: # i.e Z test\n",
    "        print(\"------------------------------------------------------------\")\n",
    "        print(\"Its a Z - Test !!!\")\n",
    "        \n",
    "        if(round(alpha/2,3) in zscore.keys()):\n",
    "            margin_of_error = zscore[round(alpha/2,3)]*(mu/math.sqrt(n))\n",
    "        else:\n",
    "            print(\"Alpha Value not in the Scope !!!\")\n",
    "            \n",
    "    else:\n",
    "        print(\"------------------------------------------------------------\")\n",
    "        print(\"Its a T - Test !!!\")\n",
    "        \n",
    "        if((n-1 in tscore.keys()) and (round(alpha/2,3) in tscore[n-1].keys())):\n",
    "            margin_of_error = tscore[n-1][round(alpha/2,3)]*(mu/math.sqrt(n))\n",
    "        else:\n",
    "            print(\"Alpha Value not in the Scope or Digree of Freedom Value Out of Scope !!!\")\n",
    "        \n",
    "    print(\"-------------------------------------------------------------\")\n",
    "    print(f'Pont Estimate    => {xbar}') \n",
    "    if (margin_of_error is not None):\n",
    "        print(f'Intervalestimate => {xbar+margin_of_error} - {xbar-margin_of_error}')\n",
    "    print(\"-------------------------------------------------------------\")\n",
    "\n",
    "    \n",
    "def Interval_Estimate_fromfile(data_array,Alpha):\n",
    "    n    = data_array.size\n",
    "    if n == 1:\n",
    "        print(f'Test is Not Possible !!! \\nLength of the data minumum must be 2')\n",
    "        return\n",
    "    xbar = round(data_array.mean(),2)\n",
    "    mu   = round(data_array.std(),2)\n",
    "    \n",
    "    Interval_Estimate(xbar,mu,n,Alpha)\n",
    "       "
   ]
  },
  {
   "cell_type": "markdown",
   "metadata": {},
   "source": [
    "### OUTPUT OF THE FIRST ASSIGNMENT"
   ]
  },
  {
   "cell_type": "code",
   "execution_count": 14,
   "metadata": {},
   "outputs": [
    {
     "name": "stdout",
     "output_type": "stream",
     "text": [
      "------------------------------------------------------------\n",
      "Its a Z - Test !!!\n",
      "-------------------------------------------------------------\n",
      "Pont Estimate    => 41000\n",
      "Intervalestimate => 42470.0 - 39530.0\n",
      "-------------------------------------------------------------\n"
     ]
    }
   ],
   "source": [
    "xbar  = 41000\n",
    "mu    = 4500\n",
    "Alpha = 0.05\n",
    "n     = 36\n",
    "Interval_Estimate(xbar,mu,n,Alpha)"
   ]
  },
  {
   "cell_type": "markdown",
   "metadata": {},
   "source": [
    "### OUT PUT OF THE SECOND ASSIGNMENT"
   ]
  },
  {
   "cell_type": "code",
   "execution_count": 15,
   "metadata": {},
   "outputs": [
    {
     "name": "stdout",
     "output_type": "stream",
     "text": [
      "------------------------------------------------------------\n",
      "Its a T - Test !!!\n",
      "-------------------------------------------------------------\n",
      "Pont Estimate    => 31.0\n",
      "Intervalestimate => 34.1059325 - 27.8940675\n",
      "-------------------------------------------------------------\n"
     ]
    }
   ],
   "source": [
    "Interval_Estimate_fromfile(pd.read_csv(\"age_data.csv\")[\"Ages\"],0.05)"
   ]
  },
  {
   "cell_type": "code",
   "execution_count": null,
   "metadata": {},
   "outputs": [],
   "source": []
  }
 ],
 "metadata": {
  "kernelspec": {
   "display_name": "Python 3",
   "language": "python",
   "name": "python3"
  },
  "language_info": {
   "codemirror_mode": {
    "name": "ipython",
    "version": 3
   },
   "file_extension": ".py",
   "mimetype": "text/x-python",
   "name": "python",
   "nbconvert_exporter": "python",
   "pygments_lexer": "ipython3",
   "version": "3.8.3"
  }
 },
 "nbformat": 4,
 "nbformat_minor": 4
}
