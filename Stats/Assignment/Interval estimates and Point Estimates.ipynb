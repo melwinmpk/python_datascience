{
 "cells": [
  {
   "cell_type": "markdown",
   "metadata": {},
   "source": [
    "<b>Assignment</b> :<br> \n",
    "1) Write a Program to claculate the Interval estimates and Point Estimates.\n",
    "\t1. Automatically your function should decide for Z & T\n",
    "\t2. Define Dictionaries for alpha values (z0.05 = 1.96, z0.025 = 1.68, t0.025)\n",
    "\t3. Input def my_fun(sample_mean, sigma, size)\n",
    "\t4. Make use of appropriate exception handling.\n",
    "\n",
    "\n",
    "\n",
    "<b>Output</b>:<br>\n",
    "Its a Z-dist Problem because sample size is greater than 30 <br>\n",
    "Interval Estimate is ------- to ------- <br>\n",
    "Point estimate is ----------- <br>\n"
   ]
  },
  {
   "cell_type": "code",
   "execution_count": 5,
   "metadata": {},
   "outputs": [],
   "source": [
    "import math"
   ]
  },
  {
   "cell_type": "code",
   "execution_count": 13,
   "metadata": {},
   "outputs": [
    {
     "ename": "KeyError",
     "evalue": "0.03",
     "output_type": "error",
     "traceback": [
      "\u001b[1;31m---------------------------------------------------------------------------\u001b[0m",
      "\u001b[1;31mKeyError\u001b[0m                                  Traceback (most recent call last)",
      "\u001b[1;32m<ipython-input-13-74d9378bfb20>\u001b[0m in \u001b[0;36m<module>\u001b[1;34m\u001b[0m\n\u001b[0;32m     30\u001b[0m \u001b[1;33m\u001b[0m\u001b[0m\n\u001b[0;32m     31\u001b[0m \u001b[1;33m\u001b[0m\u001b[0m\n\u001b[1;32m---> 32\u001b[1;33m \u001b[0mInterval_Estimate\u001b[0m\u001b[1;33m(\u001b[0m\u001b[0mxbar\u001b[0m\u001b[1;33m,\u001b[0m\u001b[0mmu\u001b[0m\u001b[1;33m,\u001b[0m\u001b[0mn\u001b[0m\u001b[1;33m,\u001b[0m\u001b[0mAlpha\u001b[0m\u001b[1;33m)\u001b[0m\u001b[1;33m\u001b[0m\u001b[1;33m\u001b[0m\u001b[0m\n\u001b[0m\u001b[0;32m     33\u001b[0m \u001b[1;33m\u001b[0m\u001b[0m\n\u001b[0;32m     34\u001b[0m \u001b[1;33m\u001b[0m\u001b[0m\n",
      "\u001b[1;32m<ipython-input-13-74d9378bfb20>\u001b[0m in \u001b[0;36mInterval_Estimate\u001b[1;34m(xbar, mu, n, alpha)\u001b[0m\n\u001b[0;32m     11\u001b[0m     \u001b[0mmargin_of_error\u001b[0m \u001b[1;33m=\u001b[0m \u001b[1;36m0.0\u001b[0m\u001b[1;33m\u001b[0m\u001b[1;33m\u001b[0m\u001b[0m\n\u001b[0;32m     12\u001b[0m     \u001b[1;32mif\u001b[0m \u001b[0mn\u001b[0m \u001b[1;33m>\u001b[0m \u001b[1;36m30\u001b[0m\u001b[1;33m:\u001b[0m \u001b[1;31m# i.e Z test\u001b[0m\u001b[1;33m\u001b[0m\u001b[1;33m\u001b[0m\u001b[0m\n\u001b[1;32m---> 13\u001b[1;33m         \u001b[0mmargin_of_error\u001b[0m \u001b[1;33m=\u001b[0m \u001b[0mzscore\u001b[0m\u001b[1;33m[\u001b[0m\u001b[0mround\u001b[0m\u001b[1;33m(\u001b[0m\u001b[0malpha\u001b[0m\u001b[1;33m/\u001b[0m\u001b[1;36m2\u001b[0m\u001b[1;33m,\u001b[0m\u001b[1;36m2\u001b[0m\u001b[1;33m)\u001b[0m\u001b[1;33m]\u001b[0m\u001b[1;33m*\u001b[0m\u001b[1;33m(\u001b[0m\u001b[0mmu\u001b[0m\u001b[1;33m/\u001b[0m\u001b[0mmath\u001b[0m\u001b[1;33m.\u001b[0m\u001b[0msqrt\u001b[0m\u001b[1;33m(\u001b[0m\u001b[0mn\u001b[0m\u001b[1;33m)\u001b[0m\u001b[1;33m)\u001b[0m\u001b[1;33m\u001b[0m\u001b[1;33m\u001b[0m\u001b[0m\n\u001b[0m\u001b[0;32m     14\u001b[0m         \u001b[0mprint\u001b[0m\u001b[1;33m(\u001b[0m\u001b[1;34m\"------------------------------------------------------------\"\u001b[0m\u001b[1;33m)\u001b[0m\u001b[1;33m\u001b[0m\u001b[1;33m\u001b[0m\u001b[0m\n\u001b[0;32m     15\u001b[0m         \u001b[0mprint\u001b[0m\u001b[1;33m(\u001b[0m\u001b[1;34m\"Its a Z - Test !!!\"\u001b[0m\u001b[1;33m)\u001b[0m\u001b[1;33m\u001b[0m\u001b[1;33m\u001b[0m\u001b[0m\n",
      "\u001b[1;31mKeyError\u001b[0m: 0.03"
     ]
    }
   ],
   "source": [
    "'''\n",
    "Z test\n",
    "Interval Estimate  = xbar +_ Z(alpha/2)(mu/sqrt(n))\n",
    "'''\n",
    "\n",
    "def Interval_Estimate(xbar,mu,n,alpha):\n",
    "    ztest = False\n",
    "    zscore = {0.05:1.68,0.025:1.96}\n",
    "    tscore = {0.025:2.131}\n",
    "    Interval_estimate = 0.0\n",
    "    margin_of_error = 0.0\n",
    "    if n > 30: # i.e Z test\n",
    "        margin_of_error = zscore[round(alpha/2,2)]*(mu/math.sqrt(n))\n",
    "        print(\"------------------------------------------------------------\")\n",
    "        print(\"Its a Z - Test !!!\")\n",
    "    else:\n",
    "        margin_of_error = tscore[rounalpha/2]*(mu/math.sqrt(n))\n",
    "        print(\"------------------------------------------------------------\")\n",
    "        print(\"Its a T - Test !!!\")\n",
    "    print(\"-------------------------------------------------------------\")\n",
    "    print(f'Pont Estimate => {xbar}')                                      \n",
    "    print(f'Intervalestimate => {xbar+margin_of_error} - {xbar-margin_of_error}')\n",
    "    print(\"-------------------------------------------------------------\")\n",
    "                                          \n",
    "\n",
    "n      = 36\n",
    "xbar   = 41100\n",
    "mu     = 4500\n",
    "Alpha  = .05\n",
    "                                          \n",
    "                                          \n",
    "Interval_Estimate(xbar,mu,n,Alpha)\n",
    "\n",
    "\n",
    "\n",
    "    \n",
    "    \n",
    "        \n",
    "        "
   ]
  },
  {
   "cell_type": "code",
   "execution_count": 3,
   "metadata": {},
   "outputs": [],
   "source": [
    " "
   ]
  },
  {
   "cell_type": "code",
   "execution_count": null,
   "metadata": {},
   "outputs": [],
   "source": []
  },
  {
   "cell_type": "code",
   "execution_count": null,
   "metadata": {},
   "outputs": [],
   "source": []
  }
 ],
 "metadata": {
  "kernelspec": {
   "display_name": "Python 3",
   "language": "python",
   "name": "python3"
  },
  "language_info": {
   "codemirror_mode": {
    "name": "ipython",
    "version": 3
   },
   "file_extension": ".py",
   "mimetype": "text/x-python",
   "name": "python",
   "nbconvert_exporter": "python",
   "pygments_lexer": "ipython3",
   "version": "3.8.3"
  }
 },
 "nbformat": 4,
 "nbformat_minor": 4
}
