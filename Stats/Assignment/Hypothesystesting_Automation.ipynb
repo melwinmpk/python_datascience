{
 "cells": [
  {
   "cell_type": "markdown",
   "metadata": {},
   "source": [
    "## Inputs That are required"
   ]
  },
  {
   "cell_type": "markdown",
   "metadata": {},
   "source": [
    "n => No of Sample Size (if N <= 30 then T test else Z or T test)<br> \n",
    "Std => Statdard Deviation <br>\n",
    "Mean => <br>\n",
    "xbar => <br>\n",
    "mu => <br>\n",
    "Alpha => default value take it as  0.05 <br>\n",
    "type of tale => 1 Rtight Tale, -1 Left Tale, 0 two tale <br>"
   ]
  },
  {
   "cell_type": "markdown",
   "metadata": {},
   "source": [
    "formula for the Hypothesis testing<br>\n",
    "\n",
    "z = (xbar-mu)/(std/sqrt(n))"
   ]
  },
  {
   "cell_type": "markdown",
   "metadata": {},
   "source": [
    "formula for the Population Propotion <br>\n",
    "z = (pbar - pNot)/(sqrt((pnot(1-pnot))/n)"
   ]
  },
  {
   "cell_type": "code",
   "execution_count": 32,
   "metadata": {},
   "outputs": [],
   "source": [
    "import math\n",
    "import scipy"
   ]
  },
  {
   "cell_type": "code",
   "execution_count": 75,
   "metadata": {},
   "outputs": [
    {
     "name": "stdout",
     "output_type": "stream",
     "text": [
      "Test statistic. Value is  z/t = 2.47\n",
      "level of significance. Alpha = 0.05\n",
      "Value Z(0.95) of = 1.64\n",
      "As we see Ho Hypothesys is Rejected 1.64 < 2.47 \n",
      "P value = 0.0067\n",
      "As Reject 0.0067 < 0.5 the H0 Hypothesys\n"
     ]
    }
   ],
   "source": [
    "# n     = float(input(\"Enter the No of the Size of the Sample:\"))\n",
    "# Std   = float(input(\"Enter the Standard Deviation of the Sapmle:\"))\n",
    "# xbar  = float(input(\"Enter the Mean of the Sample:\"))\n",
    "# mu    = float(input(\"Enter the Expected Mean Mu :\"))\n",
    "# Alpha = float(input(\"Enter the Value of Alpha:\"))\n",
    "# tale  = float(input(\"Enter the Type of tale => 1=Rtight Tale, -1=Left Tale, 0=two tale:\"))\n",
    "n     = 40\n",
    "Std   = 3.2\n",
    "xbar  = 13.25\n",
    "mu    = 12\n",
    "Alpha = .05\n",
    "tale  = 1\n",
    "\n",
    "def Hypothesystesting(n,Std,xbar,mu,Alpha):\n",
    "    return((xbar-mu)/(Std/math.sqrt(n)))\n",
    "zscore = Hypothesystesting(n,Std,xbar,mu,Alpha)      \n",
    "print(f'Test statistic. Value is  z/t = {round(zscore,2)}') \n",
    "print(f'level of significance. Alpha = {Alpha}')\n",
    "z_alpha = scipy.stats.norm.ppf(1 - Alpha)  if tale == 1 else scipy.stats.norm.ppf(1 - Alpha/2) \n",
    "print(f'Value Z({ 1 - Alpha if tale != 0 else 1 - Alpha  }) of = {round(z_alpha,2)}')\n",
    "print(f'As we see Ho Hypothesys is {(\"Accepted\"+str(round(z_alpha,2)) +\" > \" + str(round(zscore,2))) if z_alpha > zscore else (\"Rejected \"+str(round(z_alpha,2)) +\" < \" + str(round(zscore,2))) } ')\n",
    "p_value = 1 - scipy.special.ndtr(zscore)\n",
    "print(f'P value = {round(p_value,4)}')\n",
    "print(f'As {(\"Accept\"+str(round(p_value,4))+\" > 0.5\" ) if p_value > 0.5 else (\"Reject \"+str(round(p_value,4))+\" < 0.5\" ) } the H0 Hypothesys')\n"
   ]
  },
  {
   "cell_type": "code",
   "execution_count": 34,
   "metadata": {},
   "outputs": [
    {
     "data": {
      "text/plain": [
       "0.006745661019400872"
      ]
     },
     "execution_count": 34,
     "metadata": {},
     "output_type": "execute_result"
    }
   ],
   "source": [
    "scipy.stats.norm.sf(abs(Hypothesystesting(n,Std,xbar,mu,Alpha)))"
   ]
  },
  {
   "cell_type": "code",
   "execution_count": 35,
   "metadata": {},
   "outputs": [
    {
     "data": {
      "text/plain": [
       "1.6448536269514722"
      ]
     },
     "execution_count": 35,
     "metadata": {},
     "output_type": "execute_result"
    }
   ],
   "source": [
    "scipy.stats.norm.ppf(.95)"
   ]
  },
  {
   "cell_type": "code",
   "execution_count": 36,
   "metadata": {},
   "outputs": [
    {
     "data": {
      "text/plain": [
       "1.959963984540054"
      ]
     },
     "execution_count": 36,
     "metadata": {},
     "output_type": "execute_result"
    }
   ],
   "source": [
    "scipy.stats.norm.ppf(.975)"
   ]
  },
  {
   "cell_type": "code",
   "execution_count": 37,
   "metadata": {},
   "outputs": [
    {
     "data": {
      "text/plain": [
       "0.006745661019400884"
      ]
     },
     "execution_count": 37,
     "metadata": {},
     "output_type": "execute_result"
    }
   ],
   "source": [
    "p_values = 1 - scipy.special.ndtr(Hypothesystesting(n,Std,xbar,mu,Alpha))\n",
    "p_values"
   ]
  },
  {
   "cell_type": "code",
   "execution_count": 38,
   "metadata": {},
   "outputs": [
    {
     "data": {
      "text/plain": [
       "0.8289438736915182"
      ]
     },
     "execution_count": 38,
     "metadata": {},
     "output_type": "execute_result"
    }
   ],
   "source": [
    "scipy.special.ndtr(.95)"
   ]
  },
  {
   "cell_type": "markdown",
   "metadata": {},
   "source": [
    "https://towardsdatascience.com/hypothesis-testing-in-machine-learning-using-python-a0dc89e169ce"
   ]
  },
  {
   "cell_type": "code",
   "execution_count": null,
   "metadata": {},
   "outputs": [],
   "source": []
  }
 ],
 "metadata": {
  "kernelspec": {
   "display_name": "Python 3",
   "language": "python",
   "name": "python3"
  },
  "language_info": {
   "codemirror_mode": {
    "name": "ipython",
    "version": 3
   },
   "file_extension": ".py",
   "mimetype": "text/x-python",
   "name": "python",
   "nbconvert_exporter": "python",
   "pygments_lexer": "ipython3",
   "version": "3.8.3"
  }
 },
 "nbformat": 4,
 "nbformat_minor": 4
}
