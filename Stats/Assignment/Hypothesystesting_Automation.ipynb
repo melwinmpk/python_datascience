{
 "cells": [
  {
   "cell_type": "markdown",
   "metadata": {},
   "source": [
    "## Inputs That are required"
   ]
  },
  {
   "cell_type": "markdown",
   "metadata": {},
   "source": [
    "n => No of Sample Size (if N <= 30 then T test else Z or T test)<br> \n",
    "Std => Statdard Deviation <br>\n",
    "xbar => Mean<br>\n",
    "mu => <br>\n",
    "Alpha => default value take it as  0.05 <br>\n",
    "type of tale => 1 Rtight Tale, -1 Left Tale, 0 two tale <br>"
   ]
  },
  {
   "cell_type": "markdown",
   "metadata": {},
   "source": [
    "formula for the Hypothesis testing<br>\n",
    "\n",
    "z = (xbar-mu)/(std/sqrt(n))"
   ]
  },
  {
   "cell_type": "markdown",
   "metadata": {},
   "source": [
    "formula for the Population Propotion <br>\n",
    "z = (pbar - pNot)/(sqrt((pnot(1-pnot))/n)"
   ]
  },
  {
   "cell_type": "code",
   "execution_count": 88,
   "metadata": {},
   "outputs": [],
   "source": [
    "import math\n",
    "import numpy as np\n",
    "import matplotlib.pyplot as plt\n",
    "import scipy\n",
    "from scipy import stats, optimize, interpolate"
   ]
  },
  {
   "cell_type": "code",
   "execution_count": 92,
   "metadata": {},
   "outputs": [],
   "source": []
  },
  {
   "cell_type": "code",
   "execution_count": 156,
   "metadata": {
    "scrolled": false
   },
   "outputs": [
    {
     "name": "stdout",
     "output_type": "stream",
     "text": [
      "----------------------------------Step 1 ----------------------------------------------------\n",
      "Ho => mu = 6\n",
      "Ha => mu != 6\n",
      "----------------------------------Step 2------------------------------------------------------\n",
      "level of significance. Alpha = 0.03\n",
      "----------------------------------Step 3 ------------------------------------------------------\n",
      "Test statistic. Value is z-score = 2.74\n",
      "Value Z(0.985) of = 2.17\n",
      "As we see Ho Hypothesys is Rejected\n"
     ]
    },
    {
     "data": {
      "image/png": "[encoded data removed]",
      "text/plain": [
       "<Figure size 432x288 with 1 Axes>"
      ]
     },
     "metadata": {
      "needs_background": "light"
     },
     "output_type": "display_data"
    },
    {
     "name": "stdout",
     "output_type": "stream",
     "text": [
      "----------------------------------Step 4 ------------------------------------------------------\n",
      "Cumulative probability of the Score = 0.9969\n",
      "P value = 0.0062\n",
      "As Reject 0.0062 < 0.5 the H0 Hypothesys\n"
     ]
    }
   ],
   "source": [
    "# n     = float(input(\"Enter the No of the Size of the Sample:\"))\n",
    "# Std   = float(input(\"Enter the Standard Deviation of the Sapmle:\"))\n",
    "# xbar  = float(input(\"Enter the Mean of the Sample:\"))\n",
    "# mu    = float(input(\"Enter the Expected Mean Mu :\"))\n",
    "# Alpha = float(input(\"Enter the Value of Alpha:\"))\n",
    "# tale  = float(input(\"Enter the Type of tale => 1=Rtight Tale, -1=Left Tale, 0=two tale:\"))\n",
    "def draw_z_score(x, cond, mu, sigma, title, cond2):\n",
    "    y = scipy.stats.norm.pdf(x, mu, sigma)\n",
    "    z = x[cond]\n",
    "    z1 = x[cond2]\n",
    "    plt.plot(x, y)\n",
    "    plt.fill_between(z, 0, scipy.stats.norm.pdf(z, mu, sigma),color=\"red\")\n",
    "    plt.fill_between(z1, 0, scipy.stats.norm.pdf(z1, mu, sigma),color=\"yellow\")\n",
    "    plt.title(title)\n",
    "    plt.show()\n",
    "    \n",
    "n      = 30\n",
    "Std    = 0.2\n",
    "xbar   = 6.1\n",
    "mu     = 6\n",
    "Alpha  = .03\n",
    "\n",
    "''' if (mu <= value then 1) \n",
    "    if (mu >= value then -1) \n",
    "    if (mu != value then 0)\n",
    "'''\n",
    "tale   = 0   \n",
    "t_test = False   # True n <= 30 else False   \n",
    "zscore = (xbar-mu)/(Std/math.sqrt(n))     \n",
    "\n",
    "print(\"----------------------------------Step 1 ----------------------------------------------------\")\n",
    "print(f'Ho => {(\"mu = \"+str(mu)) if tale == 0 else ( (\"mu <= \"+str(mu)) if tale == 1 else (\"mu >= \"+str(mu))) }')\n",
    "print(f'Ha => {(\"mu != \"+str(mu)) if tale == 0 else ( (\"mu > \"+str(mu)) if tale == 1 else (\"mu < \"+str(mu))) }')\n",
    "\n",
    "print(\"----------------------------------Step 2------------------------------------------------------\")\n",
    "print(f'level of significance. Alpha = {Alpha}')\n",
    "\n",
    "print(\"----------------------------------Step 3 ------------------------------------------------------\")\n",
    "\n",
    "print(f'Test statistic. Value is {\"t-score\" if t_test else \"z-score\"} = {round(zscore,2)}') \n",
    "x = np.arange(-3,3,0.001)\n",
    "z0 = round(z_alpha,2)\n",
    "\n",
    "print(f'Value {(\"N=\"+str(n)+\" \"+\"T\") if t_test else \"Z\"}({ 1 - Alpha/2 if tale == 0 else 1 - Alpha  }) of = {round(z_alpha,2)}')\n",
    "\n",
    "if tale == 1: # right Tail\n",
    "    print(f'As we see Ho Hypothesys is {(\"Accepted \"+str(round(z_alpha,2)) +\" > \" + str(round(zscore,2))) if z_alpha > zscore else (\"Rejected \"+str(round(z_alpha,2)) +\" < \" + str(round(zscore,2))) } ')\n",
    "    p_value = (1 - Cum_probability)\n",
    "    draw_z_score(x, x>z0, 0, 1, 'z>'+str(z0), x>zscore)\n",
    "elif tale == -1: # left Tail\n",
    "    print(f'As we see Ho Hypothesys is {(\"Accepted \"+str(round(z_alpha,2)) +\" < \" + str(round(zscore,2))) if abs(z_alpha) > abs(zscore) else (\"Rejected \"+str(round(z_alpha,2)) +\" > \" + str(round(zscore,2))) } ')\n",
    "    p_value = (1 - Cum_probability)\n",
    "#     draw_z_score(x, x<z0, 0, 1, 'z<'+str(z0))\n",
    "    draw_z_score(x, x<z0, 0, 1, 'z<'+str(z0), x<zscore)\n",
    "else: # two Tail\n",
    "    print(f'As we see Ho Hypothesys is {(\"Accepted \") if abs(z_alpha) > abs(zscore) else (\"Rejected\")}')\n",
    "    p_value = 2*(1 - Cum_probability) # as its a two tale test we need to multiply the value by 2\n",
    "    if not(abs(z_alpha) > abs(zscore)):\n",
    "        draw_z_score(x, (-z0 < x) & (x < z0), 0, 1, str(-z0)+'<z<'+str(z0),((x < zscore) if abs(z_alpha) >= zscore else (x > zscore)) )\n",
    "    \n",
    "print(\"----------------------------------Step 4 ------------------------------------------------------\")   \n",
    "if t_test: # T -Statstics\n",
    "    z_alpha = scipy.stats.t.ppf(1 - Alpha/2,n-1)  if tale == 0 else scipy.stats.t.ppf(1 - Alpha,n-1)\n",
    "else:  # Z -Statics \n",
    "    z_alpha = scipy.stats.norm.ppf(1 - Alpha/2)  if tale == 0 else scipy.stats.norm.ppf(1 - Alpha) \n",
    "Cum_probability = scipy.special.ndtr(zscore)\n",
    "print(f'Cumulative probability of the Score = {round(Cum_probability,4)}')\n",
    "print(f'P value = {round(p_value,4)}')\n",
    "print(f'As {(\"Accept \"+str(round(p_value,4))+\" > \"+str(Alpha) ) if p_value > 0.5 else (\"Reject \"+str(round(p_value,4))+\" < 0.5\" ) } the H0 Hypothesys')\n"
   ]
  },
  {
   "cell_type": "code",
   "execution_count": 122,
   "metadata": {},
   "outputs": [],
   "source": [
    "def draw_z_score(x, cond, mu, sigma, title):\n",
    "    y = norm.pdf(x, mu, sigma)\n",
    "    z = x[cond]\n",
    "    plt.plot(x, y)\n",
    "    plt.fill_between(z, 0, norm.pdf(z, mu, sigma))\n",
    "    plt.title(title)\n",
    "    plt.show()"
   ]
  },
  {
   "cell_type": "code",
   "execution_count": 13,
   "metadata": {},
   "outputs": [
    {
     "data": {
      "text/plain": [
       "0.0030849496602721716"
      ]
     },
     "execution_count": 13,
     "metadata": {},
     "output_type": "execute_result"
    }
   ],
   "source": [
    "scipy.stats.norm.sf(abs(Hypothesystesting(n,Std,xbar,mu,Alpha)))"
   ]
  },
  {
   "cell_type": "code",
   "execution_count": 14,
   "metadata": {},
   "outputs": [
    {
     "data": {
      "text/plain": [
       "1.6448536269514722"
      ]
     },
     "execution_count": 14,
     "metadata": {},
     "output_type": "execute_result"
    }
   ],
   "source": [
    "scipy.stats.norm.ppf(.95)"
   ]
  },
  {
   "cell_type": "code",
   "execution_count": 15,
   "metadata": {},
   "outputs": [
    {
     "data": {
      "text/plain": [
       "1.959963984540054"
      ]
     },
     "execution_count": 15,
     "metadata": {},
     "output_type": "execute_result"
    }
   ],
   "source": [
    "scipy.stats.norm.ppf(.975)"
   ]
  },
  {
   "cell_type": "code",
   "execution_count": 16,
   "metadata": {},
   "outputs": [
    {
     "data": {
      "text/plain": [
       "0.0030849496602721738"
      ]
     },
     "execution_count": 16,
     "metadata": {},
     "output_type": "execute_result"
    }
   ],
   "source": [
    "p_values = 1 - scipy.special.ndtr(Hypothesystesting(n,Std,xbar,mu,Alpha))\n",
    "p_values"
   ]
  },
  {
   "cell_type": "code",
   "execution_count": 17,
   "metadata": {},
   "outputs": [
    {
     "data": {
      "text/plain": [
       "0.8289438736915182"
      ]
     },
     "execution_count": 17,
     "metadata": {},
     "output_type": "execute_result"
    }
   ],
   "source": [
    "scipy.special.ndtr(.95)"
   ]
  },
  {
   "cell_type": "markdown",
   "metadata": {},
   "source": [
    "https://towardsdatascience.com/hypothesis-testing-in-machine-learning-using-python-a0dc89e169ce"
   ]
  },
  {
   "cell_type": "code",
   "execution_count": 36,
   "metadata": {},
   "outputs": [
    {
     "data": {
      "text/plain": [
       "2.045229642132703"
      ]
     },
     "execution_count": 36,
     "metadata": {},
     "output_type": "execute_result"
    }
   ],
   "source": [
    "stats.t.ppf(1-0.025, n-1)"
   ]
  },
  {
   "cell_type": "code",
   "execution_count": null,
   "metadata": {},
   "outputs": [],
   "source": [
    "#Studnt, n=999, p<0.05, 2-tail\n",
    "#equivalent to Excel TINV(0.05,999)\n",
    "print stats.t.ppf(1-0.025, 999)\n",
    "\n",
    "#Studnt, n=999, p<0.05%, Single tail\n",
    "#equivalent to Excel TINV(2*0.05,999)\n",
    "print stats.t.ppf(1-0.05, 999)"
   ]
  },
  {
   "cell_type": "code",
   "execution_count": 51,
   "metadata": {},
   "outputs": [
    {
     "data": {
      "text/plain": [
       "2.17009037758456"
      ]
     },
     "execution_count": 51,
     "metadata": {},
     "output_type": "execute_result"
    }
   ],
   "source": [
    "scipy.stats.norm.ppf(1 - Alpha/2)  if tale == 0 else scipy.stats.norm.ppf(1 - Alpha) "
   ]
  },
  {
   "cell_type": "code",
   "execution_count": 60,
   "metadata": {},
   "outputs": [
    {
     "data": {
      "text/plain": [
       "0.016947426762344623"
      ]
     },
     "execution_count": 60,
     "metadata": {},
     "output_type": "execute_result"
    }
   ],
   "source": [
    "scipy.special.ndtr(zscore)"
   ]
  },
  {
   "cell_type": "code",
   "execution_count": null,
   "metadata": {},
   "outputs": [],
   "source": []
  }
 ],
 "metadata": {
  "kernelspec": {
   "display_name": "Python 3",
   "language": "python",
   "name": "python3"
  },
  "language_info": {
   "codemirror_mode": {
    "name": "ipython",
    "version": 3
   },
   "file_extension": ".py",
   "mimetype": "text/x-python",
   "name": "python",
   "nbconvert_exporter": "python",
   "pygments_lexer": "ipython3",
   "version": "3.8.3"
  }
 },
 "nbformat": 4,
 "nbformat_minor": 4
}
