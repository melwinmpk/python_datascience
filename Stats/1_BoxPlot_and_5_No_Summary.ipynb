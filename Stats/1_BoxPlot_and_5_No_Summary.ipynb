{
 "cells": [
  {
   "cell_type": "markdown",
   "metadata": {},
   "source": [
    "# 5 No Summary"
   ]
  },
  {
   "cell_type": "markdown",
   "metadata": {},
   "source": [
    "1) The minimum.<br>\n",
    "2) Q1 (the first quartile, or the 25% mark).<br>\n",
    "3) Q2 i.e The median.<br>\n",
    "4) Q3 (the third quartile, or the 75% mark).<br>\n",
    "5) The maximum.<br>"
   ]
  },
  {
   "cell_type": "markdown",
   "metadata": {},
   "source": [
    "## How to Find a Five-Number Summary: Steps"
   ]
  },
  {
   "cell_type": "markdown",
   "metadata": {},
   "source": [
    "<b>Step 1</b>: Put your numbers in ascending order (from smallest to largest). For this particular data set, the order is:<br>\n",
    "Example: 1, 2, 5, 6, 7, 9, 12, 15, 18, 19, 27.<br>\n",
    "<b>Step 2</b>: Find the minimum and maximum for your data set. Now that your numbers are in order, this should be easy to spot.<br>\n",
    "In the example in step 1, the minimum (the smallest number) is 1 and the maximum (the largest number) is 27.<br>\n",
    "<b>Step 3</b>: Find the median. The median is the middle number. If you aren’t sure how to find the median, see: How to find the mean mode and median.<br>\n",
    "<b>Step 4</b>: Place parentheses around the numbers above and below the median.<br>\n",
    "(This is not technically necessary, but it makes Q1 and Q3 easier to find).<br>\n",
    "(1, 2, 5, 6, 7), 9, (12, 15, 18, 19, 27).<br>\n",
    "<b>Step 5</b>: Find Q1 and Q3. Q1 can be thought of as a median in the lower half of the data, and Q3 can be thought of as a median for the upper half of data.<br>\n",
    "(1, 2, 5, 6, 7),  9, ( 12, 15,18,19,27).<br>\n",
    "<b>Step 6</b>: Write down your summary found in the above steps.<br>\n",
    "minimum = 1,  Q1 = 5, median = 9,  Q3 = 18, and maximum = 27.<br>"
   ]
  },
  {
   "cell_type": "markdown",
   "metadata": {},
   "source": [
    "for example check here https://www.mathsisfun.com/data/quartiles.html"
   ]
  },
  {
   "cell_type": "markdown",
   "metadata": {},
   "source": [
    "# Box Plot"
   ]
  },
  {
   "cell_type": "markdown",
   "metadata": {},
   "source": [
    "1) Box Plot is also known as Whisker Plot<br>\n",
    "2) You can get Easily the 5 No summary in the Box Plot <br>\n",
    "3) Box Plot is Nothing but similar to Normal Distribution graph but Box Plot is much more clearer in understanding the it"
   ]
  },
  {
   "cell_type": "markdown",
   "metadata": {},
   "source": [
    "<img src=\"https://www.simplypsychology.org/boxplot.jpg?ezimgfmt=rs:382x196/rscb24/ng:webp/ngcb24\"></img>"
   ]
  },
  {
   "cell_type": "markdown",
   "metadata": {},
   "source": [
    "<img src=\"https://miro.medium.com/max/18000/1*2c21SkzJMf3frPXPAR_gZA.png\"></img>"
   ]
  },
  {
   "cell_type": "markdown",
   "metadata": {},
   "source": [
    "4) As you see in the graph by looking at the Graph we can understand wheather the data is skewed or not by the position of the mediean i.e Q2 "
   ]
  },
  {
   "cell_type": "markdown",
   "metadata": {},
   "source": [
    "<img src=\"https://blog.bioturing.com/wp-content/uploads/2018/11/right-skewed-and-left-skewed-box-plots-biovinci.png\"></img>"
   ]
  },
  {
   "cell_type": "markdown",
   "metadata": {},
   "source": [
    "### what is IQR?"
   ]
  },
  {
   "cell_type": "markdown",
   "metadata": {},
   "source": [
    "<b> InterQuartile Range (Q3 - Q2) </b><br>\n",
    "1) Its the region where more than 50% of data where it lies<br>\n",
    "2) its the Most Revelent Data in the Data Range<br>\n",
    "3) we will be getting the outliers removed data<br>"
   ]
  },
  {
   "cell_type": "markdown",
   "metadata": {},
   "source": [
    "### How to Set/Calculate the OutLiers in the Box plot"
   ]
  },
  {
   "cell_type": "markdown",
   "metadata": {},
   "source": [
    "IQR = Q3 – Q1<br>\n",
    "Lower Limit = Q1 – 1.5 IQR<br>\n",
    "Upper Limit = Q3 + 1.5 IQR<br>\n",
    "after these Limit all the values will be considered as <b>OutLiers</b>"
   ]
  },
  {
   "cell_type": "code",
   "execution_count": null,
   "metadata": {},
   "outputs": [],
   "source": []
  }
 ],
 "metadata": {
  "kernelspec": {
   "display_name": "Python 3",
   "language": "python",
   "name": "python3"
  },
  "language_info": {
   "codemirror_mode": {
    "name": "ipython",
    "version": 3
   },
   "file_extension": ".py",
   "mimetype": "text/x-python",
   "name": "python",
   "nbconvert_exporter": "python",
   "pygments_lexer": "ipython3",
   "version": "3.8.3"
  }
 },
 "nbformat": 4,
 "nbformat_minor": 4
}
