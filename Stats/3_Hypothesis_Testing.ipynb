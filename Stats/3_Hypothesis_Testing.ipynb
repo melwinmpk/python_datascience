{
 "cells": [
  {
   "cell_type": "markdown",
   "metadata": {},
   "source": [
    "## what is Hypothesis testing Used for ?"
   ]
  },
  {
   "cell_type": "markdown",
   "metadata": {},
   "source": [
    "<b>Hypothesis testing</b> can be used to determine whether\n",
    "a statement about the value of a population parameter\n",
    "should or should not be rejected. <br>\n",
    "The <b>null hypothesis</b>, denoted by H0 , is a tentative\n",
    "assumption about a population parameter.<br>\n",
    "The <b>alternative hypothesis</b>, denoted by Ha\n",
    ", is the opposite of what is stated in the null hypothesis.<br>\n",
    "The hypothesis testing procedure uses data from a\n",
    "sample to test the two competing statements\n",
    "indicated by H0 and Ha.<br>"
   ]
  },
  {
   "cell_type": "markdown",
   "metadata": {},
   "source": [
    "### Hypothesis Testing Examples (One Sample Z Test)"
   ]
  },
  {
   "cell_type": "markdown",
   "metadata": {},
   "source": [
    "<ul>\n",
    "<li>Step 1: State the Null hypothesis. The accepted fact is that the population mean is 100, so: H0: μ=100.</li>\n",
    "\n",
    "<li>Step 2: State the Alternate Hypothesis. The claim is that the students have above average IQ scores, so:\n",
    "H1: μ > 100.\n",
    "The fact that we are looking for scores “greater than” a certain point means that this is a one-tailed test.</li>\n",
    "\n",
    "<li>Step 3: Draw a picture to help you visualize the problem.\n",
    "\n",
    "\n",
    "hypothesis testing examples</li>\n",
    "<img src=\"https://www.statisticshowto.com/wp-content/uploads/2014/10/hypothesis-testing-example.jpg\"></img>\n",
    "\n",
    "<li>Step 4: State the alpha level. If you aren’t given an alpha level, use 5% (0.05).<li>\n",
    "\n",
    "<li>Step 5: Find the rejection region area (given by your alpha level above) from the z-table. An area of .05 is equal to a z-score of 1.645.</li>\n",
    "\n",
    "<li>Step 6: Find the test statistic using this formula:z score formula\n",
    "For this set of data: z= (112.5 – 100) / (15/√30) = 4.56.</li>\n",
    "<img src=\"https://www.statisticshowto.com/wp-content/uploads/2014/02/z-score-formula.jpg\"></img>\n",
    "<li>Step 6: If Step 6 is greater than Step 5, reject the null hypothesis. If it’s less than Step 5, you cannot reject the null hypothesis. In this case, it is greater (4.56 > 1.645), so you can reject the null.</li>\n",
    "<ul> \n",
    "<b>Melwin Remember we need to raw the graph after the calcluation of the z</b>    \n",
    "<img src=\"https://miro.medium.com/max/875/1*VXxdieFiYCgR6v7nUaq01g.jpeg\"></img>"
   ]
  },
  {
   "cell_type": "markdown",
   "metadata": {},
   "source": [
    "### Type I Error"
   ]
  },
  {
   "cell_type": "markdown",
   "metadata": {},
   "source": [
    "<ul>\n",
    "<li>    \n",
    "A <b>Type I</b> error is rejecting H0 when it is true<br>\n",
    "</li>\n",
    "<li>\n",
    "    The probability of making a Type I error when the\n",
    "null hypothesis is true as an equality is called the\n",
    "<b>level of significance</b>.<br>\n",
    "</li>\n",
    "<li>    \n",
    "    Applications of hypothesis testing that only control\n",
    "the Type I error are often called <b>significance tests</b>.\n",
    "</li>\n",
    "</ul>\n"
   ]
  },
  {
   "cell_type": "markdown",
   "metadata": {},
   "source": [
    "### Type II Error"
   ]
  },
  {
   "cell_type": "markdown",
   "metadata": {},
   "source": [
    "<ul>\n",
    "<li>A <b>Type II</b> error is accepting H0 when it is false.<br></li>\n",
    "<li>It is difficult to control for the probability of making\n",
    "a Type II error.</li>\n",
    "<li>Statisticians avoid the risk of making a Type II\n",
    "error by using “do not reject H0” and not “accept H0”.</li>\n",
    "\n",
    "</ul>"
   ]
  },
  {
   "cell_type": "markdown",
   "metadata": {},
   "source": [
    "Melwin Reffer this for depper Understanding about the <br>\n",
    "One Sampled t/z - test <br>\n",
    "two Sampled t/z - test <br>\n",
    "https://towardsdatascience.com/hypothesis-testing-in-machine-learning-using-python-a0dc89e169ce"
   ]
  },
  {
   "cell_type": "code",
   "execution_count": null,
   "metadata": {},
   "outputs": [],
   "source": []
  }
 ],
 "metadata": {
  "kernelspec": {
   "display_name": "Python 3",
   "language": "python",
   "name": "python3"
  },
  "language_info": {
   "codemirror_mode": {
    "name": "ipython",
    "version": 3
   },
   "file_extension": ".py",
   "mimetype": "text/x-python",
   "name": "python",
   "nbconvert_exporter": "python",
   "pygments_lexer": "ipython3",
   "version": "3.8.3"
  }
 },
 "nbformat": 4,
 "nbformat_minor": 4
}
