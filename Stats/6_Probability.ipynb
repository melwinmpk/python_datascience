{
 "cells": [
  {
   "cell_type": "markdown",
   "metadata": {},
   "source": [
    "## Types of Probability"
   ]
  },
  {
   "cell_type": "markdown",
   "metadata": {},
   "source": [
    "<ol>\n",
    "    <li>\n",
    "        <b>Priori classical probability:</b>\n",
    "        <ul>\n",
    "            <li>\n",
    "                the probability of an event is based\n",
    "            on prior knowledge of the process involved.\n",
    "            </li>\n",
    "            <li>\n",
    "                There are 'n' number of events and you can find the probability of the happening of an event by applying basic probability formulae. <br>For example - the probability of getting a head in a single toss of a coin is 1/2. <br>This is Classical Probability\n",
    "            </li>\n",
    "        </ul>\n",
    "    </li>\n",
    "    <br>\n",
    "    <li>\n",
    "        <b>Empirical classical probability:</b>\n",
    "        <ul>\n",
    "            <li>\n",
    "                the probability of an event is\n",
    "        based on observed data.\n",
    "            </li>\n",
    "            <li>\n",
    "                This type of probability is based on experiments. Say, we want to know that how many times a head will turn up if we toss a coin 1000 times. According to the Traditional approach, the answer should be 500. But according to Empirical approach, we'll first conduct an experiment in which we'll toss a coin 1000 times and then we can draw our answer based on the observations of our experiment.\n",
    "            </li>    \n",
    "        </ul>    \n",
    "    </li>\n",
    "    <br>\n",
    "    <li>\n",
    "        <b>Subjective probability:</b>\n",
    "        <ul>\n",
    "            <li>\n",
    "        the probability of an event is determined\n",
    "by an individual, based on that person’s past experience, personal\n",
    "opinion, and/or analysis of a particular situation.\n",
    "            </li>  \n",
    "            <li>\n",
    "                This is solely based on the intuition of a person. It is vague and rarely accurate. <br>For example - on a particular day, a person might feel that there is a 40% probability that it will rain on that day. There's no formula to calculate it. It's simply based on that person's intuition.<br>\n",
    "            </li>    \n",
    "        </ul>    \n",
    "    </li>\n",
    "</ol>    "
   ]
  },
  {
   "cell_type": "markdown",
   "metadata": {},
   "source": [
    "### Mutually Exclusive Events"
   ]
  },
  {
   "cell_type": "markdown",
   "metadata": {},
   "source": [
    "Mutually exclusive events are events that\n",
    "cannot occur together (simultaneously).<br>\n",
    "<b>example1</b>:<br>\n",
    "A = queen of diamonds; B = queen of clubs<br>\n",
    "Events A and B are mutually exclusive if only one\n",
    "card is selected<br>\n",
    "<b>example2</b>:<br>\n",
    "B = having a boy; G = having a girl<br>\n",
    "Events B and G are mutually exclusive if only one\n",
    "child is born"
   ]
  },
  {
   "cell_type": "markdown",
   "metadata": {},
   "source": [
    "### Collectively Exhaustive Events"
   ]
  },
  {
   "cell_type": "markdown",
   "metadata": {},
   "source": [
    "<ul>\n",
    "<li>One of the events must occur</li>\n",
    "<li>The <b>set of events covers the entire sample space</b></li>\n",
    "<li><b>example</b>:<br>\n",
    "    <ul>\n",
    "        <li>\n",
    "A = aces; B = black cards; C = diamonds; D = hearts<br>\n",
    "        </li>\n",
    "        <li>\n",
    "Events A, B, C and D are collectively exhaustive<br>\n",
    "(but not mutually exclusive – a selected ace may also\n",
    "be a heart)<br>\n",
    "        </li>\n",
    "        <li>\n",
    "Events B, C and D are collectively exhaustive and<br>\n",
    "also mutually exclusive\n",
    "        </li>    \n",
    "        </ul></li>\n",
    "<ul>\n",
    "   "
   ]
  },
  {
   "cell_type": "markdown",
   "metadata": {},
   "source": [
    "Further Understanding Reffer the PPt\n",
    "for <br>\n",
    "Conditional Probability<br>\n",
    "Multiplication Rules<br>"
   ]
  },
  {
   "cell_type": "code",
   "execution_count": null,
   "metadata": {},
   "outputs": [],
   "source": []
  }
 ],
 "metadata": {
  "kernelspec": {
   "display_name": "Python 3",
   "language": "python",
   "name": "python3"
  },
  "language_info": {
   "codemirror_mode": {
    "name": "ipython",
    "version": 3
   },
   "file_extension": ".py",
   "mimetype": "text/x-python",
   "name": "python",
   "nbconvert_exporter": "python",
   "pygments_lexer": "ipython3",
   "version": "3.8.3"
  }
 },
 "nbformat": 4,
 "nbformat_minor": 4
}
