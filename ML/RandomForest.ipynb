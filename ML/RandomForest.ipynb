{
 "cells": [
  {
   "cell_type": "markdown",
   "metadata": {},
   "source": [
    "### Random Forest"
   ]
  },
  {
   "cell_type": "markdown",
   "metadata": {},
   "source": [
    "Ensemble Technique<br>\n",
    "Involves constructing multitude of decision trees at training time<br>\n",
    "Prediction is based on mode for classification tree and mean for regression tree<br>\n",
    "Help reduce over-fitting – Note: there is possibility of high over-fitting at individual tree level but averaging removes the bias<br>"
   ]
  },
  {
   "cell_type": "markdown",
   "metadata": {},
   "source": [
    "<b>Ensemble :</b> use of multiple learning algorithms to obtain better predictive performance than could be obtained from any of the constituent learning algorithms"
   ]
  },
  {
   "cell_type": "markdown",
   "metadata": {},
   "source": [
    "### RF Algorithm"
   ]
  },
  {
   "cell_type": "markdown",
   "metadata": {},
   "source": [
    "<ul>\n",
    "<li>Step 1: Random Sampling with replacement <b>its also called as Bootstrap aggregating, also called bagging</b></li>\n",
    "<li>Step 2: Building the tree for each sample with only partial set of ‘m’ variable/colums being considered at each node <br>\n",
    "    m << M where M is total number of predictor variables</li>\n",
    "<li>Step 3: Classifying<br>\n",
    "    Based on ‘n’ samples… ‘n’ tree are built<br>\n",
    "Each records is classified based on the n tree<br>\n",
    "Final class for each record is decided based on voting</li>    \n",
    "</ul>    "
   ]
  },
  {
   "cell_type": "markdown",
   "metadata": {},
   "source": [
    "### OOB Out of Bag Error Rate "
   ]
  },
  {
   "cell_type": "markdown",
   "metadata": {},
   "source": [
    "average loss of each decission tree in a Random forest is Out of Bag error rate"
   ]
  },
  {
   "cell_type": "markdown",
   "metadata": {},
   "source": [
    "<b>with the help of OOB Out of Bag Error rate we can identify the No of Trees<b>"
   ]
  },
  {
   "cell_type": "code",
   "execution_count": null,
   "metadata": {},
   "outputs": [],
   "source": []
  }
 ],
 "metadata": {
  "kernelspec": {
   "display_name": "Python 3",
   "language": "python",
   "name": "python3"
  },
  "language_info": {
   "codemirror_mode": {
    "name": "ipython",
    "version": 3
   },
   "file_extension": ".py",
   "mimetype": "text/x-python",
   "name": "python",
   "nbconvert_exporter": "python",
   "pygments_lexer": "ipython3",
   "version": "3.8.3"
  }
 },
 "nbformat": 4,
 "nbformat_minor": 4
}
