{
 "cells": [
  {
   "cell_type": "markdown",
   "metadata": {},
   "source": [
    "### Random Forest"
   ]
  },
  {
   "cell_type": "markdown",
   "metadata": {},
   "source": [
    "Ensemble Technique<br>\n",
    "Involves constructing multitude of decision trees at training time<br>\n",
    "Prediction is based on mode for classification tree and mean for regression tree<br>\n",
    "Help reduce over-fitting – Note: there is possibility of high over-fitting at individual tree level but averaging removes the bias<br>"
   ]
  },
  {
   "cell_type": "markdown",
   "metadata": {},
   "source": [
    "<b>Ensemble :</b> use of multiple learning algorithms to obtain better predictive performance than could be obtained from any of the constituent learning algorithms"
   ]
  },
  {
   "cell_type": "markdown",
   "metadata": {},
   "source": [
    "### RF Algorithm"
   ]
  },
  {
   "cell_type": "markdown",
   "metadata": {},
   "source": [
    "<ul>\n",
    "<li>Step 1: Random Sampling with replacement <b>its also called as Bootstrap aggregating, also called bagging</b></li>\n",
    "<li>Step 2: Building the tree for each sample with only partial set of ‘m’ variable/colums being considered at each node <br>\n",
    "    m << M where M is total number of predictor variables</li>\n",
    "<li>Step 3: Classifying<br>\n",
    "    Based on ‘n’ samples… ‘n’ tree are built<br>\n",
    "Each records is classified based on the n tree<br>\n",
    "Final class for each record is decided based on voting</li>    \n",
    "</ul>    "
   ]
  },
  {
   "cell_type": "markdown",
   "metadata": {},
   "source": [
    "### OOB Out of Bag Error Rate "
   ]
  },
  {
   "cell_type": "markdown",
   "metadata": {},
   "source": [
    "average loss of each decission tree in a Random forest is Out of Bag error rate"
   ]
  },
  {
   "cell_type": "markdown",
   "metadata": {},
   "source": [
    "<b>with the help of OOB Out of Bag Error rate we can identify the No of Trees<b>"
   ]
  },
  {
   "cell_type": "markdown",
   "metadata": {},
   "source": [
    "#### What is Random forest ? (Interview point of view)"
   ]
  },
  {
   "cell_type": "markdown",
   "metadata": {},
   "source": [
    "<ul>\n",
    "    <li>Random forest is a Supervised learning technique.</li>\n",
    "    <li>That can be used for both classification and Regression problems</li>\n",
    "    <li>It is an Extension of decision tree. Decision tree will not be accurate if there is changes in sample over period of time. Random forrest is robust and is not affected by the changing ratio in target variable</li>\n",
    "    <li>Random Forest Classifier is an <b>ensemble algorithm</b>,(i.e use of multiple learning algorithms to obtain better predictive performance than could be obtained from any of the constituent learning algorithms)<br>\n",
    "        <ul>\n",
    "            <li>which creates a set of decision trees from a randomly selected subset of the training set, <br>\n",
    "                (randomly selecting sample method is known as <b>Bootstrap aggregating</b>(Random Sample with Replacement), also called <b>bagging</b>) <br></li>\n",
    "                <li>which then aggregates the votes from different decision trees to decide the final class of the testobject</li></ul>\n",
    "    </li>\n",
    "    <li>To decide the optimal no of the decision trees (i.e n_estimators) we have <b>Out-of-bag (OOB) error</b>  is a method of measuring the prediction error of random forests</li>\n",
    "    <li>There are parameters that have to be tuned to get the optimal value like max_depth, crierion, max_features we can use <b>GridSearchCV</b></li>\n",
    "    <li>Random Forest is Black technique box but useful in retail kind of applications where overall accuracy is more important</li>\n",
    "    <li>As its a Black Box technique its not easily explainable to the business team</li>\n",
    "</ul>"
   ]
  },
  {
   "cell_type": "code",
   "execution_count": null,
   "metadata": {},
   "outputs": [],
   "source": []
  }
 ],
 "metadata": {
  "kernelspec": {
   "display_name": "Python 3",
   "language": "python",
   "name": "python3"
  },
  "language_info": {
   "codemirror_mode": {
    "name": "ipython",
    "version": 3
   },
   "file_extension": ".py",
   "mimetype": "text/x-python",
   "name": "python",
   "nbconvert_exporter": "python",
   "pygments_lexer": "ipython3",
   "version": "3.8.3"
  }
 },
 "nbformat": 4,
 "nbformat_minor": 4
}
