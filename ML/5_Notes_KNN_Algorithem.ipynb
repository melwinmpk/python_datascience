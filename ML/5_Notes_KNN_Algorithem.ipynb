{
 "cells": [
  {
   "cell_type": "markdown",
   "metadata": {},
   "source": [
    "#### what is the KNN Algorithem ?"
   ]
  },
  {
   "cell_type": "markdown",
   "metadata": {},
   "source": [
    "<ul>\n",
    "<li>K-Nearest Neighbors is the supervised machine learning algorithm used for classification and regression</li>\n",
    "<li>KNN will label(classify) new data points based on the 'k' number of nearest data points </li>\n",
    "<ul>\n",
    "    <li>Initialize the K value.</li>\n",
    "    <li>Calculate the distance between test input and K trained nearest neighbors. <b>(Euclidian Distance, Manhattan distance)</b></li>\n",
    "    <li>Check class categories of nearest neighbors and determine the type in which test input falls.</li>\n",
    "    <li>Classification will be done by taking the majority of votes.</li>\n",
    "    <li>Return the class category.</li>\n",
    "</ul>    \n",
    "<li>to find the optimal K we use Derive a plot between error rate and K denoting values in a defined range. Then choose the K value as having a minimum error rate.  </li>\n",
    "<li>KNN is a lazy learning algorithm (We have to compute distances between test points and trained labels points. Updating distance metrics with every iteration is computationally expensive as a result its known as Lazy learning algorithem)</li>\n",
    "</ul>"
   ]
  },
  {
   "cell_type": "markdown",
   "metadata": {},
   "source": [
    "https://towardsdatascience.com/how-to-find-the-optimal-value-of-k-in-knn-35d936e554eb"
   ]
  },
  {
   "cell_type": "code",
   "execution_count": null,
   "metadata": {},
   "outputs": [],
   "source": []
  }
 ],
 "metadata": {
  "kernelspec": {
   "display_name": "Python 3",
   "language": "python",
   "name": "python3"
  },
  "language_info": {
   "codemirror_mode": {
    "name": "ipython",
    "version": 3
   },
   "file_extension": ".py",
   "mimetype": "text/x-python",
   "name": "python",
   "nbconvert_exporter": "python",
   "pygments_lexer": "ipython3",
   "version": "3.8.3"
  }
 },
 "nbformat": 4,
 "nbformat_minor": 4
}
