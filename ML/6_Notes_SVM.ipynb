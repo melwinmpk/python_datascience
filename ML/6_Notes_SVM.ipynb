{
 "cells": [
  {
   "cell_type": "markdown",
   "metadata": {},
   "source": [
    "### what is SVM ?"
   ]
  },
  {
   "cell_type": "markdown",
   "metadata": {},
   "source": [
    "<ul>\n",
    "    <li>Support Vector Machine is a supervised machine learning algorithm</li>\n",
    "    <li>SVM can be used for Both classification or regression challenges. However, it is mostly used in classification problems</li>\n",
    "    <li>SVM can be used for both Linearly Seperabely and Non Linearly Seperablely Data</li>\n",
    "    <li>For Linearly Seperabely Data <br>\n",
    "the SVM creates the Hyper Plane that has higest <b>Marginal Distance</b> to seperate the data</li>\n",
    "    <li>For Non Linearly Seperable Data <br>\n",
    "        SVM uses the <b>Kernal Method</b> to Increase the Diamension till the data is Linearly seperabel then its sets the Hyper plane with the higest <b> Marginal Distance </b> to Seperate the Data\n",
    "    </li>\n",
    "        <li>there are differnet Kernal methods <br> <b>Polynomial Kernel</b> – Non-Linear Data Classification <br> <b>Radial or RBF Kernel</b> – Non-Linear Data Classification <br>  <b>Linear Kernel</b> – Linear Data Classification</li>\n",
    "    <li>Hyper Parameter C (Regularization) & Gamma <br>\n",
    "        C represents the width of the\n",
    "margin for classification purpose <br>\n",
    "       gamma parameter defines how far\n",
    "the influence of a single training <br>\n",
    "        Optimal Value of gamma needs to be included\n",
    "otherwise Model can run into over fitting\n",
    "    </li>\n",
    "    <li>for the Optimal Value of the Hyper Parameter selection we use Gridsearch CV  </li>    \n",
    "    <li>SVM is Computationally Expensive</li>\n",
    "    <li>Its a Black Box Technique explanibility will be difficult to the Buisness team</li>\n",
    "</ul>"
   ]
  },
  {
   "cell_type": "markdown",
   "metadata": {},
   "source": [
    "https://www.youtube.com/watch?v=Js3GLb1xPhc&list=PLZoTAELRMXVPBTrWtJkn3wWQxZkmTXGwe&index=84"
   ]
  },
  {
   "cell_type": "code",
   "execution_count": null,
   "metadata": {},
   "outputs": [],
   "source": []
  }
 ],
 "metadata": {
  "kernelspec": {
   "display_name": "Python 3",
   "language": "python",
   "name": "python3"
  },
  "language_info": {
   "codemirror_mode": {
    "name": "ipython",
    "version": 3
   },
   "file_extension": ".py",
   "mimetype": "text/x-python",
   "name": "python",
   "nbconvert_exporter": "python",
   "pygments_lexer": "ipython3",
   "version": "3.8.3"
  }
 },
 "nbformat": 4,
 "nbformat_minor": 4
}
