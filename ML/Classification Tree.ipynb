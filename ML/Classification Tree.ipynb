{
 "cells": [
  {
   "cell_type": "markdown",
   "metadata": {},
   "source": [
    "### CLASSIFICATION AND REGRESSION TREES (CART)"
   ]
  },
  {
   "cell_type": "markdown",
   "metadata": {},
   "source": [
    "<b>CLASSIFICATION AND REGRESSION TREES (CART)</b> are binary decision trees, which split a single variable at each node.<br>\n",
    "–The CART algorithm recursively goes though an exhaustive search of all variables and split values to find the optimal splitting rule for each node."
   ]
  },
  {
   "cell_type": "markdown",
   "metadata": {},
   "source": [
    "### CART Splitting Criteria"
   ]
  },
  {
   "cell_type": "markdown",
   "metadata": {},
   "source": [
    "https://towardsdatascience.com/get-your-decision-tree-model-moving-by-cart-82765d59ae09"
   ]
  },
  {
   "cell_type": "markdown",
   "metadata": {},
   "source": [
    "CART uses the Gini Index as measure of impurity"
   ]
  },
  {
   "cell_type": "markdown",
   "metadata": {},
   "source": [
    "<img src=\"https://miro.medium.com/max/700/1*jRf8Rw3NZewXp3us7aPb8Q.png\"></img>"
   ]
  },
  {
   "cell_type": "markdown",
   "metadata": {},
   "source": [
    "<ul>\n",
    "<li>p(Ck|t) is the probability of a node t being the category Ck.</li>\n",
    "<li>The Gini coefficient of the node t is 1 minus the sum of the probability of all the categories.</li>\n",
    "</ul>"
   ]
  },
  {
   "cell_type": "markdown",
   "metadata": {},
   "source": [
    "#### Gini Gain = Gini (Overall) – Gini (selected_Colum)\n",
    "reffer the Utkarsh PPt for more understanding"
   ]
  },
  {
   "cell_type": "markdown",
   "metadata": {},
   "source": [
    "#### Gini Index"
   ]
  },
  {
   "cell_type": "markdown",
   "metadata": {},
   "source": [
    "<img src=\"http://www.learnbymarketing.com/wp-content/uploads/2016/02/gini-index-formula.png\"></img>"
   ]
  },
  {
   "cell_type": "markdown",
   "metadata": {},
   "source": [
    "<ul>\n",
    "<li>Favors larger partitions.</li>\n",
    "<li>Uses squared proportion of classes.</li>\n",
    "<li>Perfectly classified, Gini Index would be zero.</li>\n",
    "<li>Evenly distributed would be 1 – (1/# Classes).</li>\n",
    "<li/>You want a variable split that has a low Gini Index.</li>\n",
    "<li>The algorithm works as 1 – ( P(class1)^2 + P(class2)^2 + … + P(classN)^2)</li>\n",
    "</ul>"
   ]
  },
  {
   "cell_type": "code",
   "execution_count": null,
   "metadata": {},
   "outputs": [],
   "source": []
  }
 ],
 "metadata": {
  "kernelspec": {
   "display_name": "Python 3",
   "language": "python",
   "name": "python3"
  },
  "language_info": {
   "codemirror_mode": {
    "name": "ipython",
    "version": 3
   },
   "file_extension": ".py",
   "mimetype": "text/x-python",
   "name": "python",
   "nbconvert_exporter": "python",
   "pygments_lexer": "ipython3",
   "version": "3.8.3"
  }
 },
 "nbformat": 4,
 "nbformat_minor": 4
}
