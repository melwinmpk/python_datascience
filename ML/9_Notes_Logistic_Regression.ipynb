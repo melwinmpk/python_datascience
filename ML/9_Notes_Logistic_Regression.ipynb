{
 "cells": [
  {
   "cell_type": "markdown",
   "metadata": {},
   "source": [
    "### What is Logestic Regression in Ontervierw point of view ?"
   ]
  },
  {
   "cell_type": "markdown",
   "metadata": {},
   "source": [
    "<ul>\n",
    "    <li>Logistic Regression is a Supervised Machine Learning Algorithem</li>\n",
    "    <li>Logistic Regression can be used for Classification Problem </li>\n",
    "    <li>Logistic regression becomes a classification technique only when a decision threshold is brought into the picture.</li>\n",
    "    <li>weight caluclation is done by Odds Ration which is done  y = w1x1 + w2x2 + w3x3 ...</li>\n",
    "    <li>odds =  probability/(1-probability)  =  p/q </li>\n",
    "    <li>Logistic Regression uses Sigmoid Function (known as activation function) some liberary uses Softmax Function </li>\n",
    "    <li><span>Sigmoid Function:</span><img src=\"https://www.gstatic.com/education/formulas2/355397047/en/sigmoid_function.svg\"></img></li>\n",
    "    <li>From Sigmoid function we decide the threshold based on the data (for some example Data is used for) to decide 0 or 1 (in case of Binary Clasificartion )</li>\n",
    "    <li>Standardization isn't required for logistic regression</li>\n",
    "    <li>works best on binary classification problems, although it can be used on multi-class classification problems through the “one vs. all” method</li>\n",
    "</ul>"
   ]
  },
  {
   "cell_type": "code",
   "execution_count": null,
   "metadata": {},
   "outputs": [],
   "source": []
  }
 ],
 "metadata": {
  "kernelspec": {
   "display_name": "Python 3",
   "language": "python",
   "name": "python3"
  },
  "language_info": {
   "codemirror_mode": {
    "name": "ipython",
    "version": 3
   },
   "file_extension": ".py",
   "mimetype": "text/x-python",
   "name": "python",
   "nbconvert_exporter": "python",
   "pygments_lexer": "ipython3",
   "version": "3.8.3"
  }
 },
 "nbformat": 4,
 "nbformat_minor": 4
}
