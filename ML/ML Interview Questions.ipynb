{
 "cells": [
  {
   "cell_type": "markdown",
   "metadata": {},
   "source": [
    "### How does the Dicision tree works ? or\n",
    "### How does the Gini Calcluation works ?"
   ]
  },
  {
   "cell_type": "markdown",
   "metadata": {},
   "source": [
    "its a metholidigy which help us to decide which must be the first split as per the Gini Gain Value of the respective colum <br>\n",
    "Higher thr Gini gain among the frist colum that will be the first split <br>\n",
    "Melwin remember the table show the Calcluation <br>\n",
    "Recursive partesioning Method \n"
   ]
  },
  {
   "cell_type": "markdown",
   "metadata": {},
   "source": [
    "why we call the Dicision tree calles as Recursive partesioning Method ?"
   ]
  },
  {
   "cell_type": "markdown",
   "metadata": {},
   "source": [
    "### How are you going to make the Gini gain in the continuous Values ?"
   ]
  },
  {
   "cell_type": "markdown",
   "metadata": {},
   "source": [
    "we use bucketing in this scenation for the example<br>\n",
    "for the salary we shall set the salary a range and split into buckets then we start to calcluate<br>\n",
    "\n",
    "how are we doing this in the code ?"
   ]
  },
  {
   "cell_type": "markdown",
   "metadata": {},
   "source": [
    "### During which scenarious Tranning Accuracy % and the Test Accuracy % Varies a Lot ?"
   ]
  },
  {
   "cell_type": "markdown",
   "metadata": {},
   "source": [
    "There two scenarious \n",
    "<ul>\n",
    "<li><b>Case 1:</b> If all the Outliers are present in the Test Sample</li>\n",
    "<li><b>Case 2:</b> It Could be the reason for the Over fitting of the Model</li>    \n",
    "</ul>\n",
    "<ul>\n",
    "<li><b>Solution for the Case 1:</b> <br>\n",
    "    Data has to be resampled properly its has to be distributed and it should represent the entire population </li>\n",
    "<li><b>Solution for the case 2:</b>(Fitst two methods are for avoiding the OverFitting)<br>\n",
    "    <b>Stopping Rule:</b> don’t expand a node if the impurity reduction of the best split is below some threshold<br> \n",
    "    <b>Pruning:</b> grow a very large tree and merge back nodes<br>\n",
    "    reduces the size of decision trees by removing sections of the tree that are non-critical and redundant to classify instances.<br>\n",
    "    <b>Cross Validation:</b>Method to see how well the model performs to unseen data<br>\n",
    "</li>\n",
    "</ul>    "
   ]
  },
  {
   "cell_type": "markdown",
   "metadata": {},
   "source": [
    "### What is Overfitting ?"
   ]
  },
  {
   "cell_type": "markdown",
   "metadata": {},
   "source": [
    "Overfitting is a modeling error that occurs when a function is too closely fit to a limited set of data points.<br>\n",
    "as a result It fails to fit additional data or predict future observations reliably"
   ]
  },
  {
   "cell_type": "markdown",
   "metadata": {},
   "source": [
    "### Which is preffered Accuracy or Area Under the Curve ?"
   ]
  },
  {
   "cell_type": "markdown",
   "metadata": {},
   "source": [
    "It depends on Industry  to Industry <br>\n",
    "For example in the medical field they preffer Area Under the Curve <br>\n",
    "Predecting the Desease as desease is very Important even then there must minimum levelof the accuracy<br>\n",
    "In Case of the Retail shop they would have preffered over the Accuracy <br>\n",
    "\n"
   ]
  },
  {
   "cell_type": "markdown",
   "metadata": {},
   "source": [
    "### What is the one Hot Encoding ?"
   ]
  },
  {
   "cell_type": "code",
   "execution_count": null,
   "metadata": {},
   "outputs": [],
   "source": [
    "melwin remember creating the matri"
   ]
  },
  {
   "cell_type": "markdown",
   "metadata": {},
   "source": [
    "### why the Randome Forest uses the sample with replacement  ?"
   ]
  },
  {
   "cell_type": "markdown",
   "metadata": {},
   "source": [
    "If its sample with replacement\n",
    "<ul>\n",
    "    <li>There are possibility of infinite no of sample</li>\n",
    "    <li>There will be equal probability of each observations appearing in to data set</li>\n",
    "</ul>"
   ]
  },
  {
   "cell_type": "markdown",
   "metadata": {},
   "source": [
    "### Is the Random Forest a Black box technique ?"
   ]
  },
  {
   "cell_type": "markdown",
   "metadata": {},
   "source": [
    "Yes the Random forest is a Black Box technique <br>\n",
    "you will not be knowing which rows and colums are selected in which Sample <br>\n",
    "It Gives a final out put you will not be able to explain to the Buisness team how the how did the final out has arrived"
   ]
  },
  {
   "cell_type": "markdown",
   "metadata": {},
   "source": [
    "### Which is better Decision Tree or Randome Forest ?"
   ]
  },
  {
   "cell_type": "markdown",
   "metadata": {},
   "source": [
    "It Depends on Buisness to buisness \n",
    "<ul>\n",
    "    <ul>\n",
    "        <li> Random Forest are more Robest <br>\n",
    "            for the Random forest is a Black box technique as a result It will be dificultto explain what output you are getting\n",
    "        </li>\n",
    "        <li>\n",
    "            with the decision tree diagram its easier to explain and make the buisness understand\n",
    "        </li>\n",
    "    </ul>\n",
    "    <ul>\n",
    "        <li> If the Buisness needs understanding of the decision making then Go for the Decision Tree </li>\n",
    "        <li> if the buisness needs good accuracy , AUC and robestness then go for the Random forest  </li>\n",
    "    </ul>\n",
    "</ul>\n"
   ]
  },
  {
   "cell_type": "markdown",
   "metadata": {},
   "source": [
    "### what is the difference between the R square and Adjsted R ? in Randome forest "
   ]
  },
  {
   "cell_type": "markdown",
   "metadata": {},
   "source": [
    "### How to Identify what must be the No of Cluster ?"
   ]
  },
  {
   "cell_type": "markdown",
   "metadata": {},
   "source": [
    "### How to Handel the Categorical data for the Clustering ?"
   ]
  },
  {
   "cell_type": "markdown",
   "metadata": {},
   "source": [
    "### What is the difference between KNN and K means?"
   ]
  },
  {
   "cell_type": "markdown",
   "metadata": {},
   "source": [
    "### What are the simalarities between KNN and K means ?"
   ]
  },
  {
   "cell_type": "markdown",
   "metadata": {},
   "source": [
    "### What is Simalirity ? "
   ]
  },
  {
   "cell_type": "markdown",
   "metadata": {},
   "source": [
    "simalirity = 1/d     (d i.e distance between two data points)"
   ]
  },
  {
   "cell_type": "code",
   "execution_count": null,
   "metadata": {},
   "outputs": [],
   "source": []
  }
 ],
 "metadata": {
  "kernelspec": {
   "display_name": "Python 3",
   "language": "python",
   "name": "python3"
  },
  "language_info": {
   "codemirror_mode": {
    "name": "ipython",
    "version": 3
   },
   "file_extension": ".py",
   "mimetype": "text/x-python",
   "name": "python",
   "nbconvert_exporter": "python",
   "pygments_lexer": "ipython3",
   "version": "3.8.3"
  }
 },
 "nbformat": 4,
 "nbformat_minor": 4
}
