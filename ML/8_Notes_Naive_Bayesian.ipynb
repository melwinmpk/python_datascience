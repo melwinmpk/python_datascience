{
 "cells": [
  {
   "cell_type": "markdown",
   "metadata": {},
   "source": [
    "### Why this calssifier is called as Naive for Naive Bayesian Classifier ?"
   ]
  },
  {
   "cell_type": "markdown",
   "metadata": {},
   "source": [
    "Its Because we will be Caluclating the Each Column/Variable Probability Indipendentely "
   ]
  },
  {
   "cell_type": "markdown",
   "metadata": {},
   "source": [
    "### What formula is used in the NBC ?"
   ]
  },
  {
   "cell_type": "markdown",
   "metadata": {},
   "source": [
    "<img src=\"https://www.analyticsvidhya.com/wp-content/uploads/2015/09/Bayes_rule-300x172-300x172.png\"></img>"
   ]
  },
  {
   "cell_type": "markdown",
   "metadata": {},
   "source": [
    "Above,\n",
    "<ul>\n",
    "<li>P(c|x) is the posterior probability of class (c, target) given predictor (x, attributes).</li>\n",
    "<li>P(c) is the prior probability of class.</li>\n",
    "<li>P(x|c) is the likelihood which is the probability of predictor given class.</li>\n",
    "<li>P(x) is the prior probability of predictor.</li>\n",
    "</ul>"
   ]
  },
  {
   "cell_type": "markdown",
   "metadata": {},
   "source": [
    "https://www.analyticsvidhya.com/blog/2017/09/naive-bayes-explained/ "
   ]
  },
  {
   "cell_type": "markdown",
   "metadata": {},
   "source": [
    "### What is Naive Bayesian Classifier ? (Interview point of View)"
   ]
  },
  {
   "cell_type": "markdown",
   "metadata": {},
   "source": [
    "<ul>\n",
    "    <li>Naive Bayesian Classifier(NBC) is a supervised machine learning algorithm</li>\n",
    "    <li>NBC can be used for Both classification or regression challenges. However, it is mostly used in classification problems</li>\n",
    "    <li>It is a classification technique based on Bayes' Theorem with an <b>assumption of independence among predictors.</b><br>Naive Bayes classifier assumes that the presence of a particular feature in a class is unrelated to the presence of any other feature.</li>\n",
    "    <li>NBC does not effect with the Out liers or Coorilation</li>\n",
    "    <li>NBC Uses the Formuls.<br>\n",
    "        <img src=\"https://www.analyticsvidhya.com/wp-content/uploads/2015/09/Bayes_rule-300x172-300x172.png\"></img>\n",
    "        <ul>\n",
    "            <li>P(c|x) is the posterior probability of class (c, target) given predictor (x, attributes).</li>\n",
    "            <li>P(c) is the prior probability of class.</li>\n",
    "            <li>P(x|c) is the likelihood which is the probability of predictor given class.</li>\n",
    "            <li>P(x) is the prior probability of predictor.</li>\n",
    "        </ul>\n",
    "    </li>\n",
    "    <li>In NBC we caluclate using this formula for eact attribute and multiply we caluclate when the target is 0 and the tagrt is 1 higest probability among these we assign the clasification</li>\n",
    "    <li> Naive Bayes classifiers mostly used in text classification (due to better result in multi class problems and independence rule) have higher success rate as compared to other algorithms. </li>\n",
    "</ul>"
   ]
  },
  {
   "cell_type": "code",
   "execution_count": null,
   "metadata": {},
   "outputs": [],
   "source": []
  }
 ],
 "metadata": {
  "kernelspec": {
   "display_name": "Python 3",
   "language": "python",
   "name": "python3"
  },
  "language_info": {
   "codemirror_mode": {
    "name": "ipython",
    "version": 3
   },
   "file_extension": ".py",
   "mimetype": "text/x-python",
   "name": "python",
   "nbconvert_exporter": "python",
   "pygments_lexer": "ipython3",
   "version": "3.8.3"
  }
 },
 "nbformat": 4,
 "nbformat_minor": 4
}
