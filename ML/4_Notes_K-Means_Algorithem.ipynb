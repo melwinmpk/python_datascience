{
 "cells": [
  {
   "cell_type": "markdown",
   "metadata": {},
   "source": [
    "### what is Clustering ?"
   ]
  },
  {
   "cell_type": "code",
   "execution_count": null,
   "metadata": {},
   "outputs": [],
   "source": []
  },
  {
   "cell_type": "code",
   "execution_count": null,
   "metadata": {},
   "outputs": [],
   "source": []
  },
  {
   "cell_type": "markdown",
   "metadata": {},
   "source": [
    "### What is K Means Algorithem ?"
   ]
  },
  {
   "cell_type": "markdown",
   "metadata": {},
   "source": [
    "<ul>\n",
    "<li>K - Means is a Unsupervised Clustering Learning Algorithem</li>\n",
    "<li>K - Means Algorithem tries to partition a set of points into K sets (clusters) such that the points in each cluster tend to be near each other.</li>\n",
    "<li> Algorithem Steps:</li>\n",
    "    <ul>\n",
    "        <li>1.Assume K Centroids (for K Clusters)</li> \n",
    "        <li>2.Compute Eucledian distance of each objects with these Centroids.</li>\n",
    "        <li>3.Assign the objects to clusters with shortest distance </li>\n",
    "        <li>4.Compute the new centroid (mean) of each cluster based on the objects assigned to each clusters.<br> The K number of means obtained will become the new centroids for each cluster\n",
    "        <li>5.Repeat step 2 to 4 till there is convergence</li>\n",
    "        <li>-i.e. there is no movement of objects from one cluster to another</li> \n",
    "        <li>-Or threshold number of iterations have occurred</li>\n",
    "    </ul>  \n",
    "<li>To Use the Optimal No of Cluster we can use <b>Elbo Curve or WSS Plot</b> ( For each value of k we then compute the <b>sum of squared errors (SSE)</b> and add both into a line plot. We want to choose k so that we have a small SSE, but as we increase k the SSE tends to decrease towards 0  ) </li>\n",
    "<li>K-Means clustering method considers two assumptions regarding the clusters</li>\n",
    "<ul>– first that the clusters are spherical and second that the clusters are of similar size.<br> Spherical assumption helps in separating the clusters when the algorithm works on the data and forms clusters</ul>    \n",
    "<ul>"
   ]
  },
  {
   "cell_type": "code",
   "execution_count": null,
   "metadata": {},
   "outputs": [],
   "source": [
    "<>"
   ]
  }
 ],
 "metadata": {
  "kernelspec": {
   "display_name": "Python 3",
   "language": "python",
   "name": "python3"
  },
  "language_info": {
   "codemirror_mode": {
    "name": "ipython",
    "version": 3
   },
   "file_extension": ".py",
   "mimetype": "text/x-python",
   "name": "python",
   "nbconvert_exporter": "python",
   "pygments_lexer": "ipython3",
   "version": "3.8.3"
  }
 },
 "nbformat": 4,
 "nbformat_minor": 4
}
