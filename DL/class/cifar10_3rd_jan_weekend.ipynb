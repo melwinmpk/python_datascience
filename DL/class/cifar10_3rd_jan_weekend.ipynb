{
  "nbformat": 4,
  "nbformat_minor": 0,
  "metadata": {
    "colab": {
      "name": "cifar10_3rd_jan_weekend.ipynb",
      "provenance": []
    },
    "kernelspec": {
      "name": "python3",
      "display_name": "Python 3"
    },
    "language_info": {
      "name": "python"
    },
    "accelerator": "GPU"
  },
  "cells": [
    {
      "cell_type": "code",
      "metadata": {
        "id": "QHyu6S1ijM2J"
      },
      "source": [
        "# import all the important libraries\n",
        "import tensorflow as tf\n",
        "import numpy as np\n",
        "import pandas as pd\n",
        "from tensorflow.keras.datasets import mnist\n",
        "from tensorflow.keras.models import Sequential\n",
        "from tensorflow.keras.layers import Dense, Dropout, Conv2D, MaxPool2D, Flatten\n",
        "import matplotlib.pyplot as plt\n"
      ],
      "execution_count": 6,
      "outputs": []
    },
    {
      "cell_type": "code",
      "metadata": {
        "colab": {
          "base_uri": "https://localhost:8080/"
        },
        "id": "Yqv6JaDfmF-2",
        "outputId": "c5ee6ee6-4a33-4b1f-d5f4-1f5945e66df9"
      },
      "source": [
        "# loading a dataset\n",
        "(X_train , y_train) , (X_test , y_test ) = cifar10.load_data(,)"
      ],
      "execution_count": 3,
      "outputs": [
        {
          "output_type": "stream",
          "text": [
            "Downloading data from https://www.cs.toronto.edu/~kriz/cifar-10-python.tar.gz\n",
            "170500096/170498071 [==============================] - 2s 0us/step\n"
          ],
          "name": "stdout"
        }
      ]
    },
    {
      "cell_type": "code",
      "metadata": {
        "colab": {
          "base_uri": "https://localhost:8080/"
        },
        "id": "N3h4pJdpmbDe",
        "outputId": "de2cf8c8-749b-4def-ae06-ddd966889b59"
      },
      "source": [
        "# (number_of_images , height , width , channel)\n",
        "X_train.shape\n"
      ],
      "execution_count": 4,
      "outputs": [
        {
          "output_type": "execute_result",
          "data": {
            "text/plain": [
              "(50000, 32, 32, 3)"
            ]
          },
          "metadata": {
            "tags": []
          },
          "execution_count": 4
        }
      ]
    },
    {
      "cell_type": "code",
      "metadata": {
        "colab": {
          "base_uri": "https://localhost:8080/"
        },
        "id": "Znu2f6K-pbQZ",
        "outputId": "609ae31d-f013-423a-eb5d-d6a0545d9a61"
      },
      "source": [
        "X_test.shape"
      ],
      "execution_count": 21,
      "outputs": [
        {
          "output_type": "execute_result",
          "data": {
            "text/plain": [
              "(10000, 32, 32, 3)"
            ]
          },
          "metadata": {
            "tags": []
          },
          "execution_count": 21
        }
      ]
    },
    {
      "cell_type": "code",
      "metadata": {
        "id": "S2b7c1VJmfzU"
      },
      "source": [
        "# naming all the classes\n",
        "classes = ['airplane' , 'automobile' , 'bird' , 'cat' , 'deer' , 'dog' , 'frog', ' horse' , 'ship' , 'truck']"
      ],
      "execution_count": 5,
      "outputs": []
    },
    {
      "cell_type": "code",
      "metadata": {
        "colab": {
          "base_uri": "https://localhost:8080/",
          "height": 283
        },
        "id": "mf80ZHTjm5u3",
        "outputId": "fd4dc1b1-b62a-40ad-a082-691eeef48d57"
      },
      "source": [
        "# visualising the data\n",
        "class_number = 100\n",
        "plt.imshow(X_train[class_number])\n",
        "classes[y_train[class_number][0]]"
      ],
      "execution_count": 20,
      "outputs": [
        {
          "output_type": "execute_result",
          "data": {
            "application/vnd.google.colaboratory.intrinsic+json": {
              "type": "string"
            },
            "text/plain": [
              "'ship'"
            ]
          },
          "metadata": {
            "tags": []
          },
          "execution_count": 20
        },
        {
          "output_type": "display_data",
          "data": {
            "image/png": "[encoded data removed]",
            "text/plain": [
              "<Figure size 432x288 with 1 Axes>"
            ]
          },
          "metadata": {
            "tags": [],
            "needs_background": "light"
          }
        }
      ]
    },
    {
      "cell_type": "code",
      "metadata": {
        "id": "0GAiN2xeovul"
      },
      "source": [
        "# Normalising the data\n",
        "X_train, X_test = X_train/255.0 , X_test/255.0"
      ],
      "execution_count": 22,
      "outputs": []
    },
    {
      "cell_type": "code",
      "metadata": {
        "id": "OH6lVhWXprvJ"
      },
      "source": [
        "# Training \n",
        "\n",
        "# 1. model bulding\n",
        "# 2. compile\n",
        "# 3. fit"
      ],
      "execution_count": null,
      "outputs": []
    },
    {
      "cell_type": "code",
      "metadata": {
        "id": "coSWUlTmp4oT"
      },
      "source": [
        "# Model building\n",
        "\n",
        "model = Sequential()\n",
        "\n",
        "# conv layer 1\n",
        "model.add(Conv2D(36, (3,3), activation='relu', kernel_initializer='he_uniform',))\n",
        "model.add(MaxPool2D())\n",
        "\n",
        "# conv layer 2\n",
        "model.add(Conv2D(72, (3,3), activation='relu', kernel_initializer='he_uniform',))\n",
        "model.add(MaxPool2D())\n",
        "\n",
        "# conv layer 3\n",
        "model.add(Conv2D(144, (3,3), activation='relu', kernel_initializer='he_uniform',))\n",
        "model.add(MaxPool2D())\n",
        "\n",
        "model.add(Flatten())\n",
        "\n",
        "# fully connected layer\n",
        "\n",
        "# hidden layer 1\n",
        "model.add(Dense(128, activation='relu', kernel_initializer='he_uniform'))\n",
        "model.add(Dropout(0.2))\n",
        "\n",
        "# hidden layer 2\n",
        "model.add(Dense(64, activation='sigmoid'))\n",
        "model.add(Dropout(0.2))\n",
        "\n",
        "# hidden layer 3\n",
        "model.add(Dense(32, activation='relu', kernel_initializer='he_uniform'))\n",
        "model.add(Dropout(0.2))\n",
        "\n",
        "# output layer\n",
        "model.add(Dense(10, activation='softmax'))"
      ],
      "execution_count": 23,
      "outputs": []
    },
    {
      "cell_type": "code",
      "metadata": {
        "id": "TfyQRC8AvH8t"
      },
      "source": [
        "# compile\n",
        "model.compile(optimizer='adam', loss = tf.keras.losses.sparse_categorical_crossentropy, metrics=['accuracy'])"
      ],
      "execution_count": 30,
      "outputs": []
    },
    {
      "cell_type": "code",
      "metadata": {
        "colab": {
          "base_uri": "https://localhost:8080/"
        },
        "id": "jHsI8R-evY7r",
        "outputId": "7e4cde6c-77aa-400a-d616-ce4c32bd4fe1"
      },
      "source": [
        "# fit\n",
        "model.fit(X_train , y_train , epochs=50, batch_size=32)"
      ],
      "execution_count": 31,
      "outputs": [
        {
          "output_type": "stream",
          "text": [
            "Epoch 1/50\n",
            "1563/1563 [==============================] - 7s 4ms/step - loss: 0.9202 - accuracy: 0.6900\n",
            "Epoch 2/50\n",
            "1563/1563 [==============================] - 6s 4ms/step - loss: 0.8432 - accuracy: 0.7168\n",
            "Epoch 3/50\n",
            "1563/1563 [==============================] - 6s 4ms/step - loss: 0.7752 - accuracy: 0.7390\n",
            "Epoch 4/50\n",
            "1563/1563 [==============================] - 6s 4ms/step - loss: 0.7195 - accuracy: 0.7595\n",
            "Epoch 5/50\n",
            "1563/1563 [==============================] - 6s 4ms/step - loss: 0.6695 - accuracy: 0.7772\n",
            "Epoch 6/50\n",
            "1563/1563 [==============================] - 6s 4ms/step - loss: 0.6247 - accuracy: 0.7920\n",
            "Epoch 7/50\n",
            "1563/1563 [==============================] - 6s 4ms/step - loss: 0.5858 - accuracy: 0.8067\n",
            "Epoch 8/50\n",
            "1563/1563 [==============================] - 6s 4ms/step - loss: 0.5488 - accuracy: 0.8190\n",
            "Epoch 9/50\n",
            "1563/1563 [==============================] - 6s 4ms/step - loss: 0.5146 - accuracy: 0.8305\n",
            "Epoch 10/50\n",
            "1563/1563 [==============================] - 6s 4ms/step - loss: 0.4859 - accuracy: 0.8391\n",
            "Epoch 11/50\n",
            "1563/1563 [==============================] - 6s 4ms/step - loss: 0.4599 - accuracy: 0.8470\n",
            "Epoch 12/50\n",
            "1563/1563 [==============================] - 6s 4ms/step - loss: 0.4400 - accuracy: 0.8565\n",
            "Epoch 13/50\n",
            "1563/1563 [==============================] - 6s 4ms/step - loss: 0.4139 - accuracy: 0.8628\n",
            "Epoch 14/50\n",
            "1563/1563 [==============================] - 6s 4ms/step - loss: 0.3987 - accuracy: 0.8690\n",
            "Epoch 15/50\n",
            "1563/1563 [==============================] - 6s 4ms/step - loss: 0.3745 - accuracy: 0.8778\n",
            "Epoch 16/50\n",
            "1563/1563 [==============================] - 6s 4ms/step - loss: 0.3595 - accuracy: 0.8816\n",
            "Epoch 17/50\n",
            "1563/1563 [==============================] - 6s 4ms/step - loss: 0.3451 - accuracy: 0.8856\n",
            "Epoch 18/50\n",
            "1563/1563 [==============================] - 6s 4ms/step - loss: 0.3319 - accuracy: 0.8923\n",
            "Epoch 19/50\n",
            "1563/1563 [==============================] - 6s 4ms/step - loss: 0.3220 - accuracy: 0.8952\n",
            "Epoch 20/50\n",
            "1563/1563 [==============================] - 6s 4ms/step - loss: 0.3093 - accuracy: 0.8991\n",
            "Epoch 21/50\n",
            "1563/1563 [==============================] - 6s 4ms/step - loss: 0.2973 - accuracy: 0.9029\n",
            "Epoch 22/50\n",
            "1563/1563 [==============================] - 6s 4ms/step - loss: 0.2817 - accuracy: 0.9090\n",
            "Epoch 23/50\n",
            "1563/1563 [==============================] - 6s 4ms/step - loss: 0.2740 - accuracy: 0.9116\n",
            "Epoch 24/50\n",
            "1563/1563 [==============================] - 6s 4ms/step - loss: 0.2618 - accuracy: 0.9155\n",
            "Epoch 25/50\n",
            "1563/1563 [==============================] - 6s 4ms/step - loss: 0.2639 - accuracy: 0.9141\n",
            "Epoch 26/50\n",
            "1563/1563 [==============================] - 6s 4ms/step - loss: 0.2494 - accuracy: 0.9196\n",
            "Epoch 27/50\n",
            "1563/1563 [==============================] - 6s 4ms/step - loss: 0.2448 - accuracy: 0.9211\n",
            "Epoch 28/50\n",
            "1563/1563 [==============================] - 6s 4ms/step - loss: 0.2368 - accuracy: 0.9247\n",
            "Epoch 29/50\n",
            "1563/1563 [==============================] - 6s 4ms/step - loss: 0.2296 - accuracy: 0.9274\n",
            "Epoch 30/50\n",
            "1563/1563 [==============================] - 6s 4ms/step - loss: 0.2238 - accuracy: 0.9283\n",
            "Epoch 31/50\n",
            "1563/1563 [==============================] - 6s 4ms/step - loss: 0.2204 - accuracy: 0.9310\n",
            "Epoch 32/50\n",
            "1563/1563 [==============================] - 6s 4ms/step - loss: 0.2181 - accuracy: 0.9317\n",
            "Epoch 33/50\n",
            "1563/1563 [==============================] - 6s 4ms/step - loss: 0.2117 - accuracy: 0.9341\n",
            "Epoch 34/50\n",
            "1563/1563 [==============================] - 6s 4ms/step - loss: 0.2069 - accuracy: 0.9347\n",
            "Epoch 35/50\n",
            "1563/1563 [==============================] - 6s 4ms/step - loss: 0.2031 - accuracy: 0.9358\n",
            "Epoch 36/50\n",
            "1563/1563 [==============================] - 6s 4ms/step - loss: 0.2036 - accuracy: 0.9359\n",
            "Epoch 37/50\n",
            "1563/1563 [==============================] - 6s 4ms/step - loss: 0.2006 - accuracy: 0.9381\n",
            "Epoch 38/50\n",
            "1563/1563 [==============================] - 6s 4ms/step - loss: 0.1834 - accuracy: 0.9431\n",
            "Epoch 39/50\n",
            "1563/1563 [==============================] - 6s 4ms/step - loss: 0.1971 - accuracy: 0.9399\n",
            "Epoch 40/50\n",
            "1563/1563 [==============================] - 6s 4ms/step - loss: 0.1821 - accuracy: 0.9435\n",
            "Epoch 41/50\n",
            "1563/1563 [==============================] - 6s 4ms/step - loss: 0.1873 - accuracy: 0.9417\n",
            "Epoch 42/50\n",
            "1563/1563 [==============================] - 6s 4ms/step - loss: 0.1827 - accuracy: 0.9452\n",
            "Epoch 43/50\n",
            "1563/1563 [==============================] - 6s 4ms/step - loss: 0.1749 - accuracy: 0.9476\n",
            "Epoch 44/50\n",
            "1563/1563 [==============================] - 6s 4ms/step - loss: 0.1800 - accuracy: 0.9447\n",
            "Epoch 45/50\n",
            "1563/1563 [==============================] - 6s 4ms/step - loss: 0.1696 - accuracy: 0.9499\n",
            "Epoch 46/50\n",
            "1563/1563 [==============================] - 6s 4ms/step - loss: 0.1724 - accuracy: 0.9485\n",
            "Epoch 47/50\n",
            "1563/1563 [==============================] - 6s 4ms/step - loss: 0.1685 - accuracy: 0.9492\n",
            "Epoch 48/50\n",
            "1563/1563 [==============================] - 6s 4ms/step - loss: 0.1683 - accuracy: 0.9490\n",
            "Epoch 49/50\n",
            "1563/1563 [==============================] - 6s 4ms/step - loss: 0.1688 - accuracy: 0.9500\n",
            "Epoch 50/50\n",
            "1563/1563 [==============================] - 6s 4ms/step - loss: 0.1584 - accuracy: 0.9530\n"
          ],
          "name": "stdout"
        },
        {
          "output_type": "execute_result",
          "data": {
            "text/plain": [
              "<tensorflow.python.keras.callbacks.History at 0x7f4f2a0a1c90>"
            ]
          },
          "metadata": {
            "tags": []
          },
          "execution_count": 31
        }
      ]
    },
    {
      "cell_type": "code",
      "metadata": {
        "colab": {
          "base_uri": "https://localhost:8080/"
        },
        "id": "o7A6x__6yP8F",
        "outputId": "032a2be7-e2ce-480b-bbf5-fbed150018bf"
      },
      "source": [
        "model.evaluate(X_test , y_test)"
      ],
      "execution_count": 32,
      "outputs": [
        {
          "output_type": "stream",
          "text": [
            "313/313 [==============================] - 1s 3ms/step - loss: 1.4464 - accuracy: 0.7224\n"
          ],
          "name": "stdout"
        },
        {
          "output_type": "execute_result",
          "data": {
            "text/plain": [
              "[1.4464389085769653, 0.7224000096321106]"
            ]
          },
          "metadata": {
            "tags": []
          },
          "execution_count": 32
        }
      ]
    },
    {
      "cell_type": "code",
      "metadata": {
        "id": "x3mr85fUylvC"
      },
      "source": [
        "y_pred = model.predict(X_test)"
      ],
      "execution_count": 33,
      "outputs": []
    },
    {
      "cell_type": "code",
      "metadata": {
        "id": "MlcG04wAzuws"
      },
      "source": [
        "class_number = 100"
      ],
      "execution_count": 41,
      "outputs": []
    },
    {
      "cell_type": "code",
      "metadata": {
        "colab": {
          "base_uri": "https://localhost:8080/",
          "height": 34
        },
        "id": "fpVAGkMwy3bA",
        "outputId": "66bf5fe0-1931-4151-eedb-2a15190f91d6"
      },
      "source": [
        "classes[np.argmax(y_pred[class_number])]"
      ],
      "execution_count": 42,
      "outputs": [
        {
          "output_type": "execute_result",
          "data": {
            "application/vnd.google.colaboratory.intrinsic+json": {
              "type": "string"
            },
            "text/plain": [
              "'deer'"
            ]
          },
          "metadata": {
            "tags": []
          },
          "execution_count": 42
        }
      ]
    },
    {
      "cell_type": "code",
      "metadata": {
        "colab": {
          "base_uri": "https://localhost:8080/",
          "height": 283
        },
        "id": "7l7eiQPPzPJ_",
        "outputId": "df09b311-8d4e-4cc0-9b27-c49305f7f312"
      },
      "source": [
        "# class_number = 1\n",
        "plt.imshow(X_test[class_number])\n",
        "classes[y_test[class_number][0]]"
      ],
      "execution_count": 43,
      "outputs": [
        {
          "output_type": "execute_result",
          "data": {
            "application/vnd.google.colaboratory.intrinsic+json": {
              "type": "string"
            },
            "text/plain": [
              "'deer'"
            ]
          },
          "metadata": {
            "tags": []
          },
          "execution_count": 43
        },
        {
          "output_type": "display_data",
          "data": {
            "image/png": "[encoded data removed]",
            "text/plain": [
              "<Figure size 432x288 with 1 Axes>"
            ]
          },
          "metadata": {
            "tags": [],
            "needs_background": "light"
          }
        }
      ]
    },
    {
      "cell_type": "markdown",
      "metadata": {
        "id": "Yh-MTVIrwEFx"
      },
      "source": [
        "whenever your target varibale is in label encoding encoding format - sparse_categorical_crossentropy\n",
        "\n",
        "whenever your target varibale is in on hot encoding format - categorical_crossentropy"
      ]
    }
  ]
}