{
 "cells": [
  {
   "cell_type": "code",
   "execution_count": 34,
   "metadata": {
    "colab": {
     "base_uri": "https://localhost:8080/",
     "height": 34
    },
    "id": "26obNsg8hix0",
    "outputId": "9647c9d5-2243-4a38-cc53-410a2149dae1"
   },
   "outputs": [
    {
     "data": {
      "application/vnd.google.colaboratory.intrinsic+json": {
       "type": "string"
      },
      "text/plain": [
       "'/content/drive/My Drive'"
      ]
     },
     "execution_count": 34,
     "metadata": {
      "tags": []
     },
     "output_type": "execute_result"
    }
   ],
   "source": [
    "pwd"
   ]
  },
  {
   "cell_type": "code",
   "execution_count": null,
   "metadata": {
    "id": "3qP8CJlsiAX8"
   },
   "outputs": [],
   "source": [
    "ls"
   ]
  },
  {
   "cell_type": "code",
   "execution_count": null,
   "metadata": {
    "id": "dS3I7r7_iD47"
   },
   "outputs": [],
   "source": [
    "cd drive/MyDrive/"
   ]
  },
  {
   "cell_type": "code",
   "execution_count": 4,
   "metadata": {
    "id": "2Hvc55i_rtFd"
   },
   "outputs": [],
   "source": [
    "import tensorflow"
   ]
  },
  {
   "cell_type": "code",
   "execution_count": null,
   "metadata": {
    "id": "8iE5eUz1r6-n"
   },
   "outputs": [],
   "source": [
    "tensorflow.__version__"
   ]
  },
  {
   "cell_type": "code",
   "execution_count": 45,
   "metadata": {
    "id": "VueIIeawsJwN"
   },
   "outputs": [],
   "source": [
    "import pandas as pd\n",
    "import numpy as np\n",
    "\n",
    "from sklearn.model_selection import train_test_split\n",
    "from sklearn.preprocessing import StandardScaler\n",
    "from sklearn.metrics import confusion_matrix\n",
    "\n",
    "\n",
    "# importing tensoflow libraries\n",
    "import tensorflow as tf\n",
    "from tensorflow.keras.models import Sequential\n",
    "from tensorflow.keras.layers import Dense , Dropout"
   ]
  },
  {
   "cell_type": "code",
   "execution_count": null,
   "metadata": {
    "id": "7bb3yoPmtDfU"
   },
   "outputs": [],
   "source": [
    "# load the data\n",
    "!ls"
   ]
  },
  {
   "cell_type": "code",
   "execution_count": 9,
   "metadata": {
    "id": "6D83emlxtxK_"
   },
   "outputs": [],
   "source": [
    "df = pd.read_csv('Churn_Modelling.csv')"
   ]
  },
  {
   "cell_type": "code",
   "execution_count": null,
   "metadata": {
    "id": "F1Pgzxe5t6tW"
   },
   "outputs": [],
   "source": [
    "df"
   ]
  },
  {
   "cell_type": "code",
   "execution_count": null,
   "metadata": {
    "id": "GjU4E_3gt7WY"
   },
   "outputs": [],
   "source": [
    "df.columns"
   ]
  },
  {
   "cell_type": "code",
   "execution_count": null,
   "metadata": {
    "id": "0m-vWoRfiwZd"
   },
   "outputs": [],
   "source": [
    "df.info()"
   ]
  },
  {
   "cell_type": "code",
   "execution_count": 12,
   "metadata": {
    "id": "6URXuQ9hiy3D"
   },
   "outputs": [],
   "source": [
    "# split into dependent and independ varibales\n",
    "X = df.iloc[: , 3:13]\n",
    "y = df.iloc[: , 13]"
   ]
  },
  {
   "cell_type": "code",
   "execution_count": null,
   "metadata": {
    "id": "32Elkf0ki6YL"
   },
   "outputs": [],
   "source": [
    "X.info()"
   ]
  },
  {
   "cell_type": "code",
   "execution_count": 14,
   "metadata": {
    "id": "r777HNiWi69j"
   },
   "outputs": [],
   "source": [
    "# on hot encoding\n",
    "geography = pd.get_dummies(X['Geography'], drop_first = True)\n",
    "gender = pd.get_dummies(X['Gender'] , drop_first= True)"
   ]
  },
  {
   "cell_type": "code",
   "execution_count": null,
   "metadata": {
    "id": "Ux8qgjQLl3fg"
   },
   "outputs": [],
   "source": [
    "geography"
   ]
  },
  {
   "cell_type": "code",
   "execution_count": 15,
   "metadata": {
    "id": "PK0NvLGzi7jX"
   },
   "outputs": [],
   "source": [
    "# merging to df\n",
    "X = pd.concat([X ,geography, gender], axis = 1)"
   ]
  },
  {
   "cell_type": "code",
   "execution_count": 17,
   "metadata": {
    "id": "C9YkSsfsj6yR"
   },
   "outputs": [],
   "source": [
    "# dropping the \n",
    "X = X.drop(columns=['Geography','Gender'], axis = 1)"
   ]
  },
  {
   "cell_type": "code",
   "execution_count": 20,
   "metadata": {
    "id": "PNsvUaDlj7cP"
   },
   "outputs": [],
   "source": [
    "X_train, X_test, y_train, y_test = train_test_split(X , y ,   test_size = 0.2, random_state = 101)"
   ]
  },
  {
   "cell_type": "code",
   "execution_count": 21,
   "metadata": {
    "colab": {
     "base_uri": "https://localhost:8080/",
     "height": 416
    },
    "id": "JtPxPKMnkLh3",
    "outputId": "3dbd410a-9fbd-425b-d650-b95e700a3e5c"
   },
   "outputs": [
    {
     "data": {
      "text/html": [
       "<div>\n",
       "<style scoped>\n",
       "    .dataframe tbody tr th:only-of-type {\n",
       "        vertical-align: middle;\n",
       "    }\n",
       "\n",
       "    .dataframe tbody tr th {\n",
       "        vertical-align: top;\n",
       "    }\n",
       "\n",
       "    .dataframe thead th {\n",
       "        text-align: right;\n",
       "    }\n",
       "</style>\n",
       "<table border=\"1\" class=\"dataframe\">\n",
       "  <thead>\n",
       "    <tr style=\"text-align: right;\">\n",
       "      <th></th>\n",
       "      <th>CreditScore</th>\n",
       "      <th>Age</th>\n",
       "      <th>Tenure</th>\n",
       "      <th>Balance</th>\n",
       "      <th>NumOfProducts</th>\n",
       "      <th>HasCrCard</th>\n",
       "      <th>IsActiveMember</th>\n",
       "      <th>EstimatedSalary</th>\n",
       "      <th>Germany</th>\n",
       "      <th>Spain</th>\n",
       "      <th>Male</th>\n",
       "    </tr>\n",
       "  </thead>\n",
       "  <tbody>\n",
       "    <tr>\n",
       "      <th>6861</th>\n",
       "      <td>605</td>\n",
       "      <td>41</td>\n",
       "      <td>5</td>\n",
       "      <td>103154.66</td>\n",
       "      <td>1</td>\n",
       "      <td>0</td>\n",
       "      <td>0</td>\n",
       "      <td>143203.78</td>\n",
       "      <td>0</td>\n",
       "      <td>1</td>\n",
       "      <td>1</td>\n",
       "    </tr>\n",
       "    <tr>\n",
       "      <th>9881</th>\n",
       "      <td>687</td>\n",
       "      <td>40</td>\n",
       "      <td>1</td>\n",
       "      <td>0.00</td>\n",
       "      <td>2</td>\n",
       "      <td>1</td>\n",
       "      <td>0</td>\n",
       "      <td>8207.36</td>\n",
       "      <td>0</td>\n",
       "      <td>1</td>\n",
       "      <td>0</td>\n",
       "    </tr>\n",
       "    <tr>\n",
       "      <th>4536</th>\n",
       "      <td>642</td>\n",
       "      <td>55</td>\n",
       "      <td>7</td>\n",
       "      <td>0.00</td>\n",
       "      <td>2</td>\n",
       "      <td>1</td>\n",
       "      <td>1</td>\n",
       "      <td>101515.76</td>\n",
       "      <td>0</td>\n",
       "      <td>0</td>\n",
       "      <td>0</td>\n",
       "    </tr>\n",
       "    <tr>\n",
       "      <th>8430</th>\n",
       "      <td>612</td>\n",
       "      <td>38</td>\n",
       "      <td>7</td>\n",
       "      <td>110615.47</td>\n",
       "      <td>1</td>\n",
       "      <td>1</td>\n",
       "      <td>1</td>\n",
       "      <td>193502.93</td>\n",
       "      <td>0</td>\n",
       "      <td>0</td>\n",
       "      <td>0</td>\n",
       "    </tr>\n",
       "    <tr>\n",
       "      <th>6765</th>\n",
       "      <td>461</td>\n",
       "      <td>40</td>\n",
       "      <td>7</td>\n",
       "      <td>0.00</td>\n",
       "      <td>2</td>\n",
       "      <td>1</td>\n",
       "      <td>0</td>\n",
       "      <td>176547.80</td>\n",
       "      <td>0</td>\n",
       "      <td>0</td>\n",
       "      <td>0</td>\n",
       "    </tr>\n",
       "    <tr>\n",
       "      <th>...</th>\n",
       "      <td>...</td>\n",
       "      <td>...</td>\n",
       "      <td>...</td>\n",
       "      <td>...</td>\n",
       "      <td>...</td>\n",
       "      <td>...</td>\n",
       "      <td>...</td>\n",
       "      <td>...</td>\n",
       "      <td>...</td>\n",
       "      <td>...</td>\n",
       "      <td>...</td>\n",
       "    </tr>\n",
       "    <tr>\n",
       "      <th>599</th>\n",
       "      <td>484</td>\n",
       "      <td>34</td>\n",
       "      <td>4</td>\n",
       "      <td>148249.54</td>\n",
       "      <td>1</td>\n",
       "      <td>0</td>\n",
       "      <td>1</td>\n",
       "      <td>33738.27</td>\n",
       "      <td>1</td>\n",
       "      <td>0</td>\n",
       "      <td>0</td>\n",
       "    </tr>\n",
       "    <tr>\n",
       "      <th>5695</th>\n",
       "      <td>787</td>\n",
       "      <td>46</td>\n",
       "      <td>7</td>\n",
       "      <td>117685.31</td>\n",
       "      <td>2</td>\n",
       "      <td>1</td>\n",
       "      <td>1</td>\n",
       "      <td>93360.35</td>\n",
       "      <td>0</td>\n",
       "      <td>0</td>\n",
       "      <td>1</td>\n",
       "    </tr>\n",
       "    <tr>\n",
       "      <th>8006</th>\n",
       "      <td>716</td>\n",
       "      <td>41</td>\n",
       "      <td>8</td>\n",
       "      <td>126145.54</td>\n",
       "      <td>2</td>\n",
       "      <td>1</td>\n",
       "      <td>1</td>\n",
       "      <td>138051.19</td>\n",
       "      <td>1</td>\n",
       "      <td>0</td>\n",
       "      <td>1</td>\n",
       "    </tr>\n",
       "    <tr>\n",
       "      <th>1361</th>\n",
       "      <td>578</td>\n",
       "      <td>32</td>\n",
       "      <td>4</td>\n",
       "      <td>0.00</td>\n",
       "      <td>2</td>\n",
       "      <td>1</td>\n",
       "      <td>1</td>\n",
       "      <td>141822.80</td>\n",
       "      <td>0</td>\n",
       "      <td>0</td>\n",
       "      <td>1</td>\n",
       "    </tr>\n",
       "    <tr>\n",
       "      <th>1547</th>\n",
       "      <td>653</td>\n",
       "      <td>30</td>\n",
       "      <td>2</td>\n",
       "      <td>88243.29</td>\n",
       "      <td>2</td>\n",
       "      <td>1</td>\n",
       "      <td>1</td>\n",
       "      <td>96658.26</td>\n",
       "      <td>0</td>\n",
       "      <td>1</td>\n",
       "      <td>0</td>\n",
       "    </tr>\n",
       "  </tbody>\n",
       "</table>\n",
       "<p>8000 rows × 11 columns</p>\n",
       "</div>"
      ],
      "text/plain": [
       "      CreditScore  Age  Tenure  ...  Germany  Spain  Male\n",
       "6861          605   41       5  ...        0      1     1\n",
       "9881          687   40       1  ...        0      1     0\n",
       "4536          642   55       7  ...        0      0     0\n",
       "8430          612   38       7  ...        0      0     0\n",
       "6765          461   40       7  ...        0      0     0\n",
       "...           ...  ...     ...  ...      ...    ...   ...\n",
       "599           484   34       4  ...        1      0     0\n",
       "5695          787   46       7  ...        0      0     1\n",
       "8006          716   41       8  ...        1      0     1\n",
       "1361          578   32       4  ...        0      0     1\n",
       "1547          653   30       2  ...        0      1     0\n",
       "\n",
       "[8000 rows x 11 columns]"
      ]
     },
     "execution_count": 21,
     "metadata": {
      "tags": []
     },
     "output_type": "execute_result"
    }
   ],
   "source": [
    "X_train"
   ]
  },
  {
   "cell_type": "code",
   "execution_count": 24,
   "metadata": {
    "id": "oswf2xmzocn2"
   },
   "outputs": [],
   "source": [
    "# feature scaling\n",
    "sc= StandardScaler()\n",
    "X_train = sc.fit_transform(X_train)  \n",
    "X_test = sc.transform(X_test)"
   ]
  },
  {
   "cell_type": "markdown",
   "metadata": {
    "id": "_hpCCLV1sG9o"
   },
   "source": [
    "# model building and training is always done in 3 phase\n",
    "\n",
    "1. model architecture\n",
    "2. model compilation\n",
    "3. model fit (training the model)"
   ]
  },
  {
   "cell_type": "code",
   "execution_count": 31,
   "metadata": {
    "id": "QPsRAxEvrttj"
   },
   "outputs": [],
   "source": [
    "# creation of model\n",
    "model = Sequential(\n",
    "    [\n",
    "     Dense(100, activation='sigmoid'),  # hidden layer 1\n",
    "\n",
    "     Dense(50 , activation='relu' , kernel_initializer='he_uniform'),  # hidden layer 2\n",
    "\n",
    "     Dense(25, activation='sigmoid'),  # hidden layer 3\n",
    "\n",
    "     Dense(1 , activation='sigmoid')\n",
    "    ]\n",
    ")"
   ]
  },
  {
   "cell_type": "code",
   "execution_count": null,
   "metadata": {
    "id": "SM5GfSYzxlju"
   },
   "outputs": [],
   "source": [
    "# important link for optimizers - https://towardsdatascience.com/optimizers-for-training-neural-network-59450d71caf6\n",
    "\n",
    "# github - https://github.com/Afsaan/Keras-tuner/blob/master/keras_tuner_ANN.py"
   ]
  },
  {
   "cell_type": "code",
   "execution_count": 48,
   "metadata": {
    "id": "uEPeM4AAuR26"
   },
   "outputs": [],
   "source": [
    "# model compilation\n",
    "model.compile(optimizer=tf.keras.optimizers.SGD(learning_rate=0.1), loss='binary_crossentropy', metrics=['accuracy'])"
   ]
  },
  {
   "cell_type": "code",
   "execution_count": null,
   "metadata": {
    "id": "6YsmRxR0yggg"
   },
   "outputs": [],
   "source": [
    "X_train.shape"
   ]
  },
  {
   "cell_type": "code",
   "execution_count": 50,
   "metadata": {
    "colab": {
     "base_uri": "https://localhost:8080/"
    },
    "id": "NC0aTZpjyIdO",
    "outputId": "c4323745-0e29-4dcc-d909-e91c43ab9736"
   },
   "outputs": [
    {
     "name": "stdout",
     "output_type": "stream",
     "text": [
      "Epoch 1/100\n",
      "200/200 [==============================] - 0s 2ms/step - loss: 0.3243 - accuracy: 0.8656 - val_loss: 0.3422 - val_accuracy: 0.8612\n",
      "Epoch 2/100\n",
      "200/200 [==============================] - 0s 1ms/step - loss: 0.3254 - accuracy: 0.8647 - val_loss: 0.3401 - val_accuracy: 0.8644\n",
      "Epoch 3/100\n",
      "200/200 [==============================] - 0s 2ms/step - loss: 0.3260 - accuracy: 0.8658 - val_loss: 0.3362 - val_accuracy: 0.8687\n",
      "Epoch 4/100\n",
      "200/200 [==============================] - 0s 1ms/step - loss: 0.3239 - accuracy: 0.8673 - val_loss: 0.3389 - val_accuracy: 0.8681\n",
      "Epoch 5/100\n",
      "200/200 [==============================] - 0s 2ms/step - loss: 0.3248 - accuracy: 0.8661 - val_loss: 0.3475 - val_accuracy: 0.8612\n",
      "Epoch 6/100\n",
      "200/200 [==============================] - 0s 1ms/step - loss: 0.3243 - accuracy: 0.8689 - val_loss: 0.3494 - val_accuracy: 0.8550\n",
      "Epoch 7/100\n",
      "200/200 [==============================] - 0s 1ms/step - loss: 0.3236 - accuracy: 0.8675 - val_loss: 0.3485 - val_accuracy: 0.8606\n",
      "Epoch 8/100\n",
      "200/200 [==============================] - 0s 2ms/step - loss: 0.3264 - accuracy: 0.8648 - val_loss: 0.3445 - val_accuracy: 0.8612\n",
      "Epoch 9/100\n",
      "200/200 [==============================] - 0s 2ms/step - loss: 0.3236 - accuracy: 0.8662 - val_loss: 0.3373 - val_accuracy: 0.8694\n",
      "Epoch 10/100\n",
      "200/200 [==============================] - 0s 1ms/step - loss: 0.3238 - accuracy: 0.8667 - val_loss: 0.3428 - val_accuracy: 0.8600\n",
      "Epoch 11/100\n",
      "200/200 [==============================] - 0s 1ms/step - loss: 0.3231 - accuracy: 0.8656 - val_loss: 0.3421 - val_accuracy: 0.8637\n",
      "Epoch 12/100\n",
      "200/200 [==============================] - 0s 2ms/step - loss: 0.3233 - accuracy: 0.8656 - val_loss: 0.3429 - val_accuracy: 0.8644\n",
      "Epoch 13/100\n",
      "200/200 [==============================] - 0s 2ms/step - loss: 0.3228 - accuracy: 0.8681 - val_loss: 0.3345 - val_accuracy: 0.8675\n",
      "Epoch 14/100\n",
      "200/200 [==============================] - 0s 2ms/step - loss: 0.3231 - accuracy: 0.8652 - val_loss: 0.3448 - val_accuracy: 0.8619\n",
      "Epoch 15/100\n",
      "200/200 [==============================] - 0s 2ms/step - loss: 0.3225 - accuracy: 0.8661 - val_loss: 0.3425 - val_accuracy: 0.8656\n",
      "Epoch 16/100\n",
      "200/200 [==============================] - 0s 1ms/step - loss: 0.3229 - accuracy: 0.8659 - val_loss: 0.3454 - val_accuracy: 0.8650\n",
      "Epoch 17/100\n",
      "200/200 [==============================] - 0s 2ms/step - loss: 0.3215 - accuracy: 0.8677 - val_loss: 0.3512 - val_accuracy: 0.8619\n",
      "Epoch 18/100\n",
      "200/200 [==============================] - 0s 2ms/step - loss: 0.3219 - accuracy: 0.8686 - val_loss: 0.3429 - val_accuracy: 0.8612\n",
      "Epoch 19/100\n",
      "200/200 [==============================] - 0s 2ms/step - loss: 0.3208 - accuracy: 0.8667 - val_loss: 0.3434 - val_accuracy: 0.8631\n",
      "Epoch 20/100\n",
      "200/200 [==============================] - 0s 2ms/step - loss: 0.3225 - accuracy: 0.8669 - val_loss: 0.3452 - val_accuracy: 0.8644\n",
      "Epoch 21/100\n",
      "200/200 [==============================] - 0s 2ms/step - loss: 0.3219 - accuracy: 0.8680 - val_loss: 0.3466 - val_accuracy: 0.8637\n",
      "Epoch 22/100\n",
      "200/200 [==============================] - 0s 1ms/step - loss: 0.3207 - accuracy: 0.8680 - val_loss: 0.3432 - val_accuracy: 0.8637\n",
      "Epoch 23/100\n",
      "200/200 [==============================] - 0s 1ms/step - loss: 0.3216 - accuracy: 0.8681 - val_loss: 0.3414 - val_accuracy: 0.8687\n",
      "Epoch 24/100\n",
      "200/200 [==============================] - 0s 1ms/step - loss: 0.3189 - accuracy: 0.8681 - val_loss: 0.3483 - val_accuracy: 0.8562\n",
      "Epoch 25/100\n",
      "200/200 [==============================] - 0s 2ms/step - loss: 0.3195 - accuracy: 0.8681 - val_loss: 0.3510 - val_accuracy: 0.8600\n",
      "Epoch 26/100\n",
      "200/200 [==============================] - 0s 2ms/step - loss: 0.3209 - accuracy: 0.8659 - val_loss: 0.3460 - val_accuracy: 0.8637\n",
      "Epoch 27/100\n",
      "200/200 [==============================] - 0s 1ms/step - loss: 0.3193 - accuracy: 0.8664 - val_loss: 0.3422 - val_accuracy: 0.8637\n",
      "Epoch 28/100\n",
      "200/200 [==============================] - 0s 2ms/step - loss: 0.3193 - accuracy: 0.8680 - val_loss: 0.3394 - val_accuracy: 0.8706\n",
      "Epoch 29/100\n",
      "200/200 [==============================] - 0s 2ms/step - loss: 0.3208 - accuracy: 0.8691 - val_loss: 0.3454 - val_accuracy: 0.8594\n",
      "Epoch 30/100\n",
      "200/200 [==============================] - 0s 1ms/step - loss: 0.3194 - accuracy: 0.8717 - val_loss: 0.3383 - val_accuracy: 0.8712\n",
      "Epoch 31/100\n",
      "200/200 [==============================] - 0s 2ms/step - loss: 0.3206 - accuracy: 0.8650 - val_loss: 0.3520 - val_accuracy: 0.8612\n",
      "Epoch 32/100\n",
      "200/200 [==============================] - 0s 2ms/step - loss: 0.3183 - accuracy: 0.8698 - val_loss: 0.3493 - val_accuracy: 0.8625\n",
      "Epoch 33/100\n",
      "200/200 [==============================] - 0s 1ms/step - loss: 0.3195 - accuracy: 0.8675 - val_loss: 0.3416 - val_accuracy: 0.8694\n",
      "Epoch 34/100\n",
      "200/200 [==============================] - 0s 2ms/step - loss: 0.3194 - accuracy: 0.8695 - val_loss: 0.3448 - val_accuracy: 0.8631\n",
      "Epoch 35/100\n",
      "200/200 [==============================] - 0s 1ms/step - loss: 0.3184 - accuracy: 0.8706 - val_loss: 0.3470 - val_accuracy: 0.8625\n",
      "Epoch 36/100\n",
      "200/200 [==============================] - 0s 2ms/step - loss: 0.3186 - accuracy: 0.8703 - val_loss: 0.3543 - val_accuracy: 0.8581\n",
      "Epoch 37/100\n",
      "200/200 [==============================] - 0s 1ms/step - loss: 0.3185 - accuracy: 0.8708 - val_loss: 0.3514 - val_accuracy: 0.8631\n",
      "Epoch 38/100\n",
      "200/200 [==============================] - 0s 2ms/step - loss: 0.3197 - accuracy: 0.8692 - val_loss: 0.3467 - val_accuracy: 0.8644\n",
      "Epoch 39/100\n",
      "200/200 [==============================] - 0s 2ms/step - loss: 0.3180 - accuracy: 0.8702 - val_loss: 0.3404 - val_accuracy: 0.8681\n",
      "Epoch 40/100\n",
      "200/200 [==============================] - 0s 2ms/step - loss: 0.3185 - accuracy: 0.8703 - val_loss: 0.3460 - val_accuracy: 0.8644\n",
      "Epoch 41/100\n",
      "200/200 [==============================] - 0s 2ms/step - loss: 0.3181 - accuracy: 0.8709 - val_loss: 0.3453 - val_accuracy: 0.8612\n",
      "Epoch 42/100\n",
      "200/200 [==============================] - 0s 1ms/step - loss: 0.3179 - accuracy: 0.8681 - val_loss: 0.3426 - val_accuracy: 0.8687\n",
      "Epoch 43/100\n",
      "200/200 [==============================] - 0s 1ms/step - loss: 0.3161 - accuracy: 0.8733 - val_loss: 0.3491 - val_accuracy: 0.8650\n",
      "Epoch 44/100\n",
      "200/200 [==============================] - 0s 2ms/step - loss: 0.3174 - accuracy: 0.8675 - val_loss: 0.3682 - val_accuracy: 0.8537\n",
      "Epoch 45/100\n",
      "200/200 [==============================] - 0s 1ms/step - loss: 0.3176 - accuracy: 0.8689 - val_loss: 0.3561 - val_accuracy: 0.8556\n",
      "Epoch 46/100\n",
      "200/200 [==============================] - 0s 1ms/step - loss: 0.3161 - accuracy: 0.8697 - val_loss: 0.3540 - val_accuracy: 0.8625\n",
      "Epoch 47/100\n",
      "200/200 [==============================] - 0s 2ms/step - loss: 0.3167 - accuracy: 0.8691 - val_loss: 0.3441 - val_accuracy: 0.8675\n",
      "Epoch 48/100\n",
      "200/200 [==============================] - 0s 1ms/step - loss: 0.3157 - accuracy: 0.8694 - val_loss: 0.3562 - val_accuracy: 0.8550\n",
      "Epoch 49/100\n",
      "200/200 [==============================] - 0s 2ms/step - loss: 0.3159 - accuracy: 0.8697 - val_loss: 0.3467 - val_accuracy: 0.8644\n",
      "Epoch 50/100\n",
      "200/200 [==============================] - 0s 2ms/step - loss: 0.3163 - accuracy: 0.8678 - val_loss: 0.3520 - val_accuracy: 0.8594\n",
      "Epoch 51/100\n",
      "200/200 [==============================] - 0s 1ms/step - loss: 0.3173 - accuracy: 0.8691 - val_loss: 0.3489 - val_accuracy: 0.8625\n",
      "Epoch 52/100\n",
      "200/200 [==============================] - 0s 1ms/step - loss: 0.3162 - accuracy: 0.8706 - val_loss: 0.3414 - val_accuracy: 0.8650\n",
      "Epoch 53/100\n",
      "200/200 [==============================] - 0s 1ms/step - loss: 0.3145 - accuracy: 0.8708 - val_loss: 0.3676 - val_accuracy: 0.8556\n",
      "Epoch 54/100\n",
      "200/200 [==============================] - 0s 1ms/step - loss: 0.3148 - accuracy: 0.8703 - val_loss: 0.3501 - val_accuracy: 0.8606\n",
      "Epoch 55/100\n",
      "200/200 [==============================] - 0s 1ms/step - loss: 0.3154 - accuracy: 0.8680 - val_loss: 0.3490 - val_accuracy: 0.8644\n",
      "Epoch 56/100\n",
      "200/200 [==============================] - 0s 1ms/step - loss: 0.3147 - accuracy: 0.8698 - val_loss: 0.3424 - val_accuracy: 0.8675\n",
      "Epoch 57/100\n",
      "200/200 [==============================] - 0s 2ms/step - loss: 0.3143 - accuracy: 0.8681 - val_loss: 0.3535 - val_accuracy: 0.8625\n",
      "Epoch 58/100\n",
      "200/200 [==============================] - 0s 2ms/step - loss: 0.3167 - accuracy: 0.8733 - val_loss: 0.3561 - val_accuracy: 0.8587\n",
      "Epoch 59/100\n",
      "200/200 [==============================] - 0s 2ms/step - loss: 0.3129 - accuracy: 0.8706 - val_loss: 0.3607 - val_accuracy: 0.8581\n",
      "Epoch 60/100\n",
      "200/200 [==============================] - 0s 2ms/step - loss: 0.3154 - accuracy: 0.8680 - val_loss: 0.3544 - val_accuracy: 0.8575\n",
      "Epoch 61/100\n",
      "200/200 [==============================] - 0s 2ms/step - loss: 0.3128 - accuracy: 0.8714 - val_loss: 0.3469 - val_accuracy: 0.8644\n",
      "Epoch 62/100\n",
      "200/200 [==============================] - 0s 2ms/step - loss: 0.3138 - accuracy: 0.8681 - val_loss: 0.3478 - val_accuracy: 0.8669\n",
      "Epoch 63/100\n",
      "200/200 [==============================] - 0s 2ms/step - loss: 0.3139 - accuracy: 0.8706 - val_loss: 0.3584 - val_accuracy: 0.8556\n",
      "Epoch 64/100\n",
      "200/200 [==============================] - 0s 2ms/step - loss: 0.3138 - accuracy: 0.8705 - val_loss: 0.3482 - val_accuracy: 0.8637\n",
      "Epoch 65/100\n",
      "200/200 [==============================] - 0s 2ms/step - loss: 0.3141 - accuracy: 0.8697 - val_loss: 0.3453 - val_accuracy: 0.8612\n",
      "Epoch 66/100\n",
      "200/200 [==============================] - 0s 2ms/step - loss: 0.3119 - accuracy: 0.8723 - val_loss: 0.3573 - val_accuracy: 0.8650\n",
      "Epoch 67/100\n",
      "200/200 [==============================] - 0s 1ms/step - loss: 0.3126 - accuracy: 0.8716 - val_loss: 0.3559 - val_accuracy: 0.8594\n",
      "Epoch 68/100\n",
      "200/200 [==============================] - 0s 2ms/step - loss: 0.3118 - accuracy: 0.8733 - val_loss: 0.3495 - val_accuracy: 0.8637\n",
      "Epoch 69/100\n",
      "200/200 [==============================] - 0s 1ms/step - loss: 0.3123 - accuracy: 0.8706 - val_loss: 0.3506 - val_accuracy: 0.8619\n",
      "Epoch 70/100\n",
      "200/200 [==============================] - 0s 2ms/step - loss: 0.3130 - accuracy: 0.8700 - val_loss: 0.3563 - val_accuracy: 0.8550\n",
      "Epoch 71/100\n",
      "200/200 [==============================] - 0s 1ms/step - loss: 0.3129 - accuracy: 0.8689 - val_loss: 0.3488 - val_accuracy: 0.8625\n",
      "Epoch 72/100\n",
      "200/200 [==============================] - 0s 2ms/step - loss: 0.3108 - accuracy: 0.8728 - val_loss: 0.3573 - val_accuracy: 0.8600\n",
      "Epoch 73/100\n",
      "200/200 [==============================] - 0s 2ms/step - loss: 0.3106 - accuracy: 0.8714 - val_loss: 0.3567 - val_accuracy: 0.8606\n",
      "Epoch 74/100\n",
      "200/200 [==============================] - 0s 2ms/step - loss: 0.3102 - accuracy: 0.8727 - val_loss: 0.3579 - val_accuracy: 0.8587\n",
      "Epoch 75/100\n",
      "200/200 [==============================] - 0s 2ms/step - loss: 0.3111 - accuracy: 0.8722 - val_loss: 0.3476 - val_accuracy: 0.8637\n",
      "Epoch 76/100\n",
      "200/200 [==============================] - 0s 2ms/step - loss: 0.3089 - accuracy: 0.8741 - val_loss: 0.3541 - val_accuracy: 0.8637\n",
      "Epoch 77/100\n",
      "200/200 [==============================] - 0s 2ms/step - loss: 0.3113 - accuracy: 0.8719 - val_loss: 0.3495 - val_accuracy: 0.8650\n",
      "Epoch 78/100\n",
      "200/200 [==============================] - 0s 2ms/step - loss: 0.3110 - accuracy: 0.8711 - val_loss: 0.3554 - val_accuracy: 0.8594\n",
      "Epoch 79/100\n",
      "200/200 [==============================] - 0s 1ms/step - loss: 0.3097 - accuracy: 0.8733 - val_loss: 0.3509 - val_accuracy: 0.8662\n",
      "Epoch 80/100\n",
      "200/200 [==============================] - 0s 1ms/step - loss: 0.3098 - accuracy: 0.8723 - val_loss: 0.3663 - val_accuracy: 0.8544\n",
      "Epoch 81/100\n",
      "200/200 [==============================] - 0s 2ms/step - loss: 0.3101 - accuracy: 0.8720 - val_loss: 0.3510 - val_accuracy: 0.8637\n",
      "Epoch 82/100\n",
      "200/200 [==============================] - 0s 2ms/step - loss: 0.3092 - accuracy: 0.8709 - val_loss: 0.3484 - val_accuracy: 0.8644\n",
      "Epoch 83/100\n",
      "200/200 [==============================] - 0s 2ms/step - loss: 0.3084 - accuracy: 0.8720 - val_loss: 0.3501 - val_accuracy: 0.8700\n",
      "Epoch 84/100\n",
      "200/200 [==============================] - 0s 1ms/step - loss: 0.3080 - accuracy: 0.8728 - val_loss: 0.3666 - val_accuracy: 0.8512\n",
      "Epoch 85/100\n",
      "200/200 [==============================] - 0s 2ms/step - loss: 0.3077 - accuracy: 0.8723 - val_loss: 0.3550 - val_accuracy: 0.8637\n",
      "Epoch 86/100\n",
      "200/200 [==============================] - 0s 2ms/step - loss: 0.3080 - accuracy: 0.8736 - val_loss: 0.3582 - val_accuracy: 0.8587\n",
      "Epoch 87/100\n",
      "200/200 [==============================] - 0s 2ms/step - loss: 0.3080 - accuracy: 0.8758 - val_loss: 0.3537 - val_accuracy: 0.8606\n",
      "Epoch 88/100\n",
      "200/200 [==============================] - 0s 2ms/step - loss: 0.3087 - accuracy: 0.8742 - val_loss: 0.3564 - val_accuracy: 0.8606\n",
      "Epoch 89/100\n",
      "200/200 [==============================] - 0s 2ms/step - loss: 0.3086 - accuracy: 0.8722 - val_loss: 0.3616 - val_accuracy: 0.8525\n",
      "Epoch 90/100\n",
      "200/200 [==============================] - 0s 2ms/step - loss: 0.3083 - accuracy: 0.8734 - val_loss: 0.3542 - val_accuracy: 0.8556\n",
      "Epoch 91/100\n",
      "200/200 [==============================] - 0s 2ms/step - loss: 0.3069 - accuracy: 0.8720 - val_loss: 0.3555 - val_accuracy: 0.8581\n",
      "Epoch 92/100\n",
      "200/200 [==============================] - 0s 2ms/step - loss: 0.3064 - accuracy: 0.8763 - val_loss: 0.3578 - val_accuracy: 0.8625\n",
      "Epoch 93/100\n",
      "200/200 [==============================] - 0s 2ms/step - loss: 0.3070 - accuracy: 0.8752 - val_loss: 0.3545 - val_accuracy: 0.8606\n",
      "Epoch 94/100\n",
      "200/200 [==============================] - 0s 2ms/step - loss: 0.3078 - accuracy: 0.8709 - val_loss: 0.3581 - val_accuracy: 0.8544\n",
      "Epoch 95/100\n",
      "200/200 [==============================] - 0s 2ms/step - loss: 0.3064 - accuracy: 0.8775 - val_loss: 0.3568 - val_accuracy: 0.8637\n",
      "Epoch 96/100\n",
      "200/200 [==============================] - 0s 2ms/step - loss: 0.3055 - accuracy: 0.8734 - val_loss: 0.3594 - val_accuracy: 0.8550\n",
      "Epoch 97/100\n",
      "200/200 [==============================] - 0s 1ms/step - loss: 0.3061 - accuracy: 0.8750 - val_loss: 0.3644 - val_accuracy: 0.8544\n",
      "Epoch 98/100\n",
      "200/200 [==============================] - 0s 2ms/step - loss: 0.3060 - accuracy: 0.8731 - val_loss: 0.3595 - val_accuracy: 0.8606\n",
      "Epoch 99/100\n",
      "200/200 [==============================] - 0s 2ms/step - loss: 0.3056 - accuracy: 0.8733 - val_loss: 0.3635 - val_accuracy: 0.8600\n",
      "Epoch 100/100\n",
      "200/200 [==============================] - 0s 2ms/step - loss: 0.3047 - accuracy: 0.8752 - val_loss: 0.3556 - val_accuracy: 0.8587\n"
     ]
    }
   ],
   "source": [
    "# model training\n",
    "history = model.fit(X_train, y_train, epochs = 100 , batch_size = 32, validation_split=0.2)"
   ]
  },
  {
   "cell_type": "code",
   "execution_count": 54,
   "metadata": {
    "colab": {
     "base_uri": "https://localhost:8080/"
    },
    "id": "kVipHQJJ3v7V",
    "outputId": "8c87c78a-21b6-4580-a888-69ca00210149"
   },
   "outputs": [
    {
     "data": {
      "text/plain": [
       "dict_keys(['loss', 'accuracy', 'val_loss', 'val_accuracy'])"
      ]
     },
     "execution_count": 54,
     "metadata": {
      "tags": []
     },
     "output_type": "execute_result"
    }
   ],
   "source": [
    "history.history.keys()"
   ]
  },
  {
   "cell_type": "code",
   "execution_count": 58,
   "metadata": {
    "colab": {
     "base_uri": "https://localhost:8080/",
     "height": 295
    },
    "id": "xcwOBl9C3klN",
    "outputId": "4d0760b3-ee29-487f-f2e5-690024a7d0fc"
   },
   "outputs": [
    {
     "data": {
      "image/png": "[encoded data removed]",
      "text/plain": [
       "<Figure size 432x288 with 1 Axes>"
      ]
     },
     "metadata": {
      "needs_background": "light",
      "tags": []
     },
     "output_type": "display_data"
    }
   ],
   "source": [
    "import matplotlib.pyplot as plt\n",
    "\n",
    "plt.plot(history.history['accuracy'], label = 'train')\n",
    "plt.plot(history.history['val_accuracy'], label = 'valid')\n",
    "plt.title('model accruacy')\n",
    "plt.ylabel('accruacy')\n",
    "plt.xlabel('epochs')\n",
    "plt.legend()\n",
    "plt.show()\n",
    "\n"
   ]
  },
  {
   "cell_type": "code",
   "execution_count": 94,
   "metadata": {
    "colab": {
     "base_uri": "https://localhost:8080/",
     "height": 295
    },
    "id": "J2QLuJDEBtmf",
    "outputId": "641bbfd7-efa5-44ae-a8de-9e14e1cac444"
   },
   "outputs": [
    {
     "data": {
      "image/png": "[encoded data removed]",
      "text/plain": [
       "<Figure size 432x288 with 1 Axes>"
      ]
     },
     "metadata": {
      "needs_background": "light",
      "tags": []
     },
     "output_type": "display_data"
    }
   ],
   "source": [
    "# plt.plot(history.history['loss'], label = 'train')\n",
    "plt.plot(history.history['val_loss'], label = 'valid')\n",
    "plt.title('model loss')\n",
    "plt.ylabel('loss')\n",
    "plt.xlabel('epochs')\n",
    "plt.legend()\n",
    "plt.show()"
   ]
  },
  {
   "cell_type": "code",
   "execution_count": 93,
   "metadata": {
    "colab": {
     "base_uri": "https://localhost:8080/",
     "height": 295
    },
    "id": "2w0aQ57j4sPG",
    "outputId": "c630433a-0e68-47e3-8c04-904743e9ecf9"
   },
   "outputs": [
    {
     "data": {
      "image/png": "[encoded data removed]",
      "text/plain": [
       "<Figure size 432x288 with 1 Axes>"
      ]
     },
     "metadata": {
      "needs_background": "light",
      "tags": []
     },
     "output_type": "display_data"
    }
   ],
   "source": [
    "plt.plot(history.history['loss'], label = 'train')\n",
    "# plt.plot(history.history['val_loss'], label = 'valid')\n",
    "plt.title('model loss')\n",
    "plt.ylabel('loss')\n",
    "plt.xlabel('epochs')\n",
    "plt.legend()\n",
    "plt.show()"
   ]
  },
  {
   "cell_type": "code",
   "execution_count": 95,
   "metadata": {
    "colab": {
     "base_uri": "https://localhost:8080/",
     "height": 295
    },
    "id": "xfUuwDqWByYH",
    "outputId": "6b4bd0d4-6b6f-4f80-dd6e-381197c95e90"
   },
   "outputs": [
    {
     "data": {
      "image/png": "[encoded data removed]",
      "text/plain": [
       "<Figure size 432x288 with 1 Axes>"
      ]
     },
     "metadata": {
      "needs_background": "light",
      "tags": []
     },
     "output_type": "display_data"
    }
   ],
   "source": [
    "plt.plot(history.history['loss'], label = 'train')\n",
    "plt.plot(history.history['val_loss'], label = 'valid')\n",
    "plt.title('model loss')\n",
    "plt.ylabel('loss')\n",
    "plt.xlabel('epochs')\n",
    "plt.legend()\n",
    "plt.show()"
   ]
  },
  {
   "cell_type": "code",
   "execution_count": null,
   "metadata": {
    "id": "O_ps3RtU0H7W"
   },
   "outputs": [],
   "source": [
    "# hyperparemter tuning\n",
    "\n",
    "- number of hidden layers\n",
    "- units\n",
    "- activation\n",
    "- kernel init\n",
    "- optimizer\n",
    "- loss\n",
    "- epochs\n",
    "- batch_size"
   ]
  },
  {
   "cell_type": "code",
   "execution_count": 73,
   "metadata": {
    "colab": {
     "base_uri": "https://localhost:8080/"
    },
    "id": "JmPQc_cq47v8",
    "outputId": "20dc5c8b-e1d8-453d-fc8a-9fb963fa9cc5"
   },
   "outputs": [
    {
     "data": {
      "text/plain": [
       "array([[False],\n",
       "       [False],\n",
       "       [ True],\n",
       "       ...,\n",
       "       [False],\n",
       "       [False],\n",
       "       [False]])"
      ]
     },
     "execution_count": 73,
     "metadata": {
      "tags": []
     },
     "output_type": "execute_result"
    }
   ],
   "source": [
    "# tesing the model\n",
    "\n",
    "y_pred = model.predict(X_test )\n",
    "y_pred_prob = (y_pred >= 0.7)\n",
    "y_pred_prob"
   ]
  },
  {
   "cell_type": "code",
   "execution_count": 74,
   "metadata": {
    "colab": {
     "base_uri": "https://localhost:8080/"
    },
    "id": "bVdJPYXQ5PUR",
    "outputId": "7544236e-fef1-42cc-9d75-77aab068a037"
   },
   "outputs": [
    {
     "data": {
      "text/plain": [
       "array([[0.07066891],\n",
       "       [0.02244675],\n",
       "       [0.8362652 ],\n",
       "       ...,\n",
       "       [0.01596341],\n",
       "       [0.1594196 ],\n",
       "       [0.68644917]], dtype=float32)"
      ]
     },
     "execution_count": 74,
     "metadata": {
      "tags": []
     },
     "output_type": "execute_result"
    }
   ],
   "source": [
    "y_pred"
   ]
  },
  {
   "cell_type": "code",
   "execution_count": 75,
   "metadata": {
    "id": "5dLsaEct5bpA"
   },
   "outputs": [],
   "source": [
    "from sklearn.metrics import confusion_matrix, accuracy_score"
   ]
  },
  {
   "cell_type": "code",
   "execution_count": 76,
   "metadata": {
    "colab": {
     "base_uri": "https://localhost:8080/"
    },
    "id": "vmPv6Tmx6Muf",
    "outputId": "b0fd613d-ad67-48a4-8ef7-91e69d8d6aed"
   },
   "outputs": [
    {
     "data": {
      "text/plain": [
       "array([[1544,  255],\n",
       "       [  33,  168]])"
      ]
     },
     "execution_count": 76,
     "metadata": {
      "tags": []
     },
     "output_type": "execute_result"
    }
   ],
   "source": [
    "confusion_matrix(y_pred_prob , y_test)"
   ]
  },
  {
   "cell_type": "code",
   "execution_count": 77,
   "metadata": {
    "colab": {
     "base_uri": "https://localhost:8080/"
    },
    "id": "WqNJqApC6QCU",
    "outputId": "817bfa8d-a057-4fe8-8400-63bc223bf609"
   },
   "outputs": [
    {
     "data": {
      "text/plain": [
       "0.856"
      ]
     },
     "execution_count": 77,
     "metadata": {
      "tags": []
     },
     "output_type": "execute_result"
    }
   ],
   "source": [
    "accuracy_score(y_pred_prob , y_test)"
   ]
  },
  {
   "cell_type": "code",
   "execution_count": 92,
   "metadata": {
    "colab": {
     "base_uri": "https://localhost:8080/"
    },
    "id": "pjCABFZW6eQt",
    "outputId": "6cf7254e-aed5-406d-d2a6-bb1d85381143"
   },
   "outputs": [
    {
     "data": {
      "text/plain": [
       "['feature_scaling_model.pkl']"
      ]
     },
     "execution_count": 92,
     "metadata": {
      "tags": []
     },
     "output_type": "execute_result"
    }
   ],
   "source": [
    "# saving\n",
    "model.save('churn_model.h5')\n",
    "\n",
    "joblib.dump(sc , 'feature_scaling_model.pkl')"
   ]
  },
  {
   "cell_type": "code",
   "execution_count": 80,
   "metadata": {
    "colab": {
     "base_uri": "https://localhost:8080/"
    },
    "id": "l8pJy-gb8eoD",
    "outputId": "406501b9-8f10-4de8-e5d2-6153c39e5780"
   },
   "outputs": [
    {
     "name": "stdout",
     "output_type": "stream",
     "text": [
      " churn_model.h5             feature_scaling_model.pkl   \u001b[0m\u001b[01;34mppts\u001b[0m/\n",
      " Churn_Modelling.csv        \u001b[01;34mlearnbay\u001b[0m/                   \u001b[01;34mPresentation\u001b[0m/\n",
      "\u001b[01;34m'Colab Notebooks'\u001b[0m/         \u001b[01;34m'learnbay classes'\u001b[0m/         'Project session.gsheet'\n",
      "\u001b[01;34m'computer backup'\u001b[0m/          \u001b[01;34mmodel\u001b[0m/                     \u001b[01;34m'upwork project'\u001b[0m/\n",
      "'Data science facts.gdoc'   Payement.gsheet\n"
     ]
    }
   ],
   "source": [
    "ls"
   ]
  },
  {
   "cell_type": "code",
   "execution_count": 81,
   "metadata": {
    "id": "0uVIOQYb8fB0"
   },
   "outputs": [],
   "source": [
    "from tensorflow.keras.models import load_model"
   ]
  },
  {
   "cell_type": "code",
   "execution_count": 89,
   "metadata": {
    "colab": {
     "base_uri": "https://localhost:8080/"
    },
    "id": "2sIi-m2i9p6Y",
    "outputId": "7eb256fa-40e2-45ac-8650-a3848f0dd92b"
   },
   "outputs": [
    {
     "name": "stdout",
     "output_type": "stream",
     "text": [
      " churn_model.h5             feature_scaling_model.pkl   \u001b[0m\u001b[01;34mppts\u001b[0m/\n",
      " Churn_Modelling.csv        \u001b[01;34mlearnbay\u001b[0m/                   \u001b[01;34mPresentation\u001b[0m/\n",
      "\u001b[01;34m'Colab Notebooks'\u001b[0m/         \u001b[01;34m'learnbay classes'\u001b[0m/         'Project session.gsheet'\n",
      "\u001b[01;34m'computer backup'\u001b[0m/          \u001b[01;34mmodel\u001b[0m/                     \u001b[01;34m'upwork project'\u001b[0m/\n",
      "'Data science facts.gdoc'   Payement.gsheet\n"
     ]
    }
   ],
   "source": [
    "ls"
   ]
  },
  {
   "cell_type": "code",
   "execution_count": 82,
   "metadata": {
    "id": "_DmYUz5a8qO3"
   },
   "outputs": [],
   "source": [
    "loaded_model = load_model('churn_model.h5')"
   ]
  },
  {
   "cell_type": "code",
   "execution_count": 90,
   "metadata": {
    "colab": {
     "base_uri": "https://localhost:8080/"
    },
    "id": "ksRinobB8wY-",
    "outputId": "1f15f93f-c0ec-49ae-dafe-d3e4c7f5c8c7"
   },
   "outputs": [
    {
     "data": {
      "text/plain": [
       "array([False])"
      ]
     },
     "execution_count": 90,
     "metadata": {
      "tags": []
     },
     "output_type": "execute_result"
    }
   ],
   "source": [
    "sc  = joblib.load('feature_scaling_model.pkl')\n",
    "data = sc.transform([[5,2,1,100,1,1,1,8,1,1,9]])\n",
    "a = loaded_model.predict(data)\n",
    "a[0] > 0.7"
   ]
  },
  {
   "cell_type": "code",
   "execution_count": 86,
   "metadata": {
    "colab": {
     "base_uri": "https://localhost:8080/"
    },
    "id": "to-oEIh39ADM",
    "outputId": "a48ced9d-a40e-4e9a-db1e-b59e3cc2cc68"
   },
   "outputs": [
    {
     "data": {
      "text/plain": [
       "False"
      ]
     },
     "execution_count": 86,
     "metadata": {
      "tags": []
     },
     "output_type": "execute_result"
    }
   ],
   "source": [
    "a = (a[0] > 0.7)[0]"
   ]
  },
  {
   "cell_type": "code",
   "execution_count": null,
   "metadata": {
    "id": "MOPld8pz9Gl0"
   },
   "outputs": [],
   "source": [
    "if a == false:\n",
    "  print('he will not leave')\n",
    "else:\n",
    "  print('he will lrave')"
   ]
  },
  {
   "cell_type": "code",
   "execution_count": 91,
   "metadata": {
    "colab": {
     "base_uri": "https://localhost:8080/"
    },
    "id": "ivyuurwT-rJi",
    "outputId": "ecfe88cc-c8da-4099-e5e2-9c6e88be2881"
   },
   "outputs": [
    {
     "name": "stdout",
     "output_type": "stream",
     "text": [
      "Model: \"sequential\"\n",
      "_________________________________________________________________\n",
      "Layer (type)                 Output Shape              Param #   \n",
      "=================================================================\n",
      "dense (Dense)                (None, 100)               1200      \n",
      "_________________________________________________________________\n",
      "dense_1 (Dense)              (None, 50)                5050      \n",
      "_________________________________________________________________\n",
      "dense_2 (Dense)              (None, 25)                1275      \n",
      "_________________________________________________________________\n",
      "dense_3 (Dense)              (None, 1)                 26        \n",
      "=================================================================\n",
      "Total params: 7,551\n",
      "Trainable params: 7,551\n",
      "Non-trainable params: 0\n",
      "_________________________________________________________________\n"
     ]
    }
   ],
   "source": [
    "model.summary()"
   ]
  },
  {
   "cell_type": "code",
   "execution_count": null,
   "metadata": {
    "id": "yrPg8eq2-sv3"
   },
   "outputs": [],
   "source": []
  }
 ],
 "metadata": {
  "colab": {
   "collapsed_sections": [],
   "name": "churn modelling_3rd_jan_weekend.ipynb",
   "provenance": []
  },
  "kernelspec": {
   "display_name": "Python 3 (ipykernel)",
   "language": "python",
   "name": "python3"
  },
  "language_info": {
   "codemirror_mode": {
    "name": "ipython",
    "version": 3
   },
   "file_extension": ".py",
   "mimetype": "text/x-python",
   "name": "python",
   "nbconvert_exporter": "python",
   "pygments_lexer": "ipython3",
   "version": "3.8.12"
  }
 },
 "nbformat": 4,
 "nbformat_minor": 1
}
