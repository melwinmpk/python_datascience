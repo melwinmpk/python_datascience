{
  "nbformat": 4,
  "nbformat_minor": 0,
  "metadata": {
    "colab": {
      "name": "Cat_dog_classifier.ipynb",
      "provenance": []
    },
    "kernelspec": {
      "name": "python3",
      "display_name": "Python 3"
    },
    "language_info": {
      "name": "python"
    },
    "accelerator": "GPU"
  },
  "cells": [
    {
      "cell_type": "code",
      "metadata": {
        "colab": {
          "base_uri": "https://localhost:8080/"
        },
        "id": "CcX2B72TcoI5",
        "outputId": "42f68877-0f4d-43c1-838d-218da137c786"
      },
      "source": [
        "cd /content/drive/MyDrive/Colab Notebooks/learnbay_deep_learning/dataset"
      ],
      "execution_count": 1,
      "outputs": [
        {
          "output_type": "stream",
          "text": [
            "/content/drive/MyDrive/Colab Notebooks/learnbay_deep_learning/dataset\n"
          ],
          "name": "stdout"
        }
      ]
    },
    {
      "cell_type": "code",
      "metadata": {
        "colab": {
          "base_uri": "https://localhost:8080/",
          "height": 34
        },
        "id": "iE51BaRhfmtZ",
        "outputId": "a6fa11b7-8d08-45d1-b6fc-cf179ef2194b"
      },
      "source": [
        "pwd"
      ],
      "execution_count": 2,
      "outputs": [
        {
          "output_type": "execute_result",
          "data": {
            "application/vnd.google.colaboratory.intrinsic+json": {
              "type": "string"
            },
            "text/plain": [
              "'/content/drive/MyDrive/Colab Notebooks/learnbay_deep_learning/dataset'"
            ]
          },
          "metadata": {
            "tags": []
          },
          "execution_count": 2
        }
      ]
    },
    {
      "cell_type": "code",
      "metadata": {
        "colab": {
          "base_uri": "https://localhost:8080/"
        },
        "id": "eq2IV7CnfnRJ",
        "outputId": "be334991-5066-40ba-c127-4c84e1ec1e04"
      },
      "source": [
        "ls"
      ],
      "execution_count": 3,
      "outputs": [
        {
          "output_type": "stream",
          "text": [
            "\u001b[0m\u001b[01;34mcat_dog_data\u001b[0m/  cat_dog_data.zip  Churn_Modelling.csv\n"
          ],
          "name": "stdout"
        }
      ]
    },
    {
      "cell_type": "code",
      "metadata": {
        "colab": {
          "base_uri": "https://localhost:8080/"
        },
        "id": "f4shROV_fqkQ",
        "outputId": "3b8c8343-2d7e-4565-f652-f35a04a35f6d"
      },
      "source": [
        "# unzipping of the file\n",
        "!unzip cat_dog_data.zip"
      ],
      "execution_count": 4,
      "outputs": [
        {
          "output_type": "stream",
          "text": [
            "Archive:  cat_dog_data.zip\n",
            "   creating: dataset/\n",
            "   creating: dataset/single_prediction/\n",
            "  inflating: dataset/single_prediction/cat_or_dog_1.jpg  \n",
            "  inflating: dataset/single_prediction/cat_or_dog_2.jpg  \n",
            "   creating: dataset/test_set/\n",
            "  inflating: dataset/test_set/.DS_Store  \n",
            "   creating: dataset/test_set/cats/\n",
            "  inflating: dataset/test_set/cats/.DS_Store  \n",
            "  inflating: dataset/test_set/cats/cat.4001.jpg  \n",
            "  inflating: dataset/test_set/cats/cat.4002.jpg  \n",
            "  inflating: dataset/test_set/cats/cat.4003.jpg  \n",
            "  inflating: dataset/test_set/cats/cat.4004.jpg  \n",
            "  inflating: dataset/test_set/cats/cat.4005.jpg  \n",
            "  inflating: dataset/test_set/cats/cat.4006.jpg  \n",
            "  inflating: dataset/test_set/cats/cat.4007.jpg  \n",
            "  inflating: dataset/test_set/cats/cat.4008.jpg  \n",
            "  inflating: dataset/test_set/cats/cat.4009.jpg  \n",
            "  inflating: dataset/test_set/cats/cat.4010.jpg  \n",
            "  inflating: dataset/test_set/cats/cat.4011.jpg  \n",
            "  inflating: dataset/test_set/cats/cat.4012.jpg  \n",
            "  inflating: dataset/test_set/cats/cat.4013.jpg  \n",
            "  inflating: dataset/test_set/cats/cat.4014.jpg  \n",
            "  inflating: dataset/test_set/cats/cat.4015.jpg  \n",
            "  inflating: dataset/test_set/cats/cat.4016.jpg  \n",
            "  inflating: dataset/test_set/cats/cat.4017.jpg  \n",
            "  inflating: dataset/test_set/cats/cat.4018.jpg  \n",
            "  inflating: dataset/test_set/cats/cat.4019.jpg  \n",
            "  inflating: dataset/test_set/cats/cat.4020.jpg  \n",
            "  inflating: dataset/test_set/cats/cat.4021.jpg  \n",
            "  inflating: dataset/test_set/cats/cat.4022.jpg  \n",
            "  inflating: dataset/test_set/cats/cat.4023.jpg  \n",
            "  inflating: dataset/test_set/cats/cat.4024.jpg  \n",
            "  inflating: dataset/test_set/cats/cat.4025.jpg  \n",
            "  inflating: dataset/test_set/cats/cat.4026.jpg  \n",
            "  inflating: dataset/test_set/cats/cat.4027.jpg  \n",
            "  inflating: dataset/test_set/cats/cat.4028.jpg  \n",
            "  inflating: dataset/test_set/cats/cat.4029.jpg  \n",
            "  inflating: dataset/test_set/cats/cat.4030.jpg  \n",
            "  inflating: dataset/test_set/cats/cat.4031.jpg  \n",
            "  inflating: dataset/test_set/cats/cat.4032.jpg  \n",
            "  inflating: dataset/test_set/cats/cat.4033.jpg  \n",
            "  inflating: dataset/test_set/cats/cat.4034.jpg  \n",
            "  inflating: dataset/test_set/cats/cat.4035.jpg  \n",
            "  inflating: dataset/test_set/cats/cat.4036.jpg  \n",
            "  inflating: dataset/test_set/cats/cat.4037.jpg  \n",
            "  inflating: dataset/test_set/cats/cat.4038.jpg  \n",
            "  inflating: dataset/test_set/cats/cat.4039.jpg  \n",
            "  inflating: dataset/test_set/cats/cat.4040.jpg  \n",
            "  inflating: dataset/test_set/cats/cat.4041.jpg  \n",
            "  inflating: dataset/test_set/cats/cat.4042.jpg  \n",
            "  inflating: dataset/test_set/cats/cat.4043.jpg  \n",
            "  inflating: dataset/test_set/cats/cat.4044.jpg  \n",
            "  inflating: dataset/test_set/cats/cat.4045.jpg  \n",
            "  inflating: dataset/test_set/cats/cat.4046.jpg  \n",
            "  inflating: dataset/test_set/cats/cat.4047.jpg  \n",
            "  inflating: dataset/test_set/cats/cat.4048.jpg  \n",
            "  inflating: dataset/test_set/cats/cat.4049.jpg  \n",
            "  inflating: dataset/test_set/cats/cat.4050.jpg  \n",
            "  inflating: dataset/test_set/cats/cat.4051.jpg  \n",
            "  inflating: dataset/test_set/cats/cat.4052.jpg  \n",
            "  inflating: dataset/test_set/cats/cat.4053.jpg  \n",
            "  inflating: dataset/test_set/cats/cat.4054.jpg  \n",
            "  inflating: dataset/test_set/cats/cat.4055.jpg  \n",
            "  inflating: dataset/test_set/cats/cat.4056.jpg  \n",
            "  inflating: dataset/test_set/cats/cat.4057.jpg  \n",
            "  inflating: dataset/test_set/cats/cat.4058.jpg  \n",
            "  inflating: dataset/test_set/cats/cat.4059.jpg  \n",
            "  inflating: dataset/test_set/cats/cat.4060.jpg  \n",
            "  inflating: dataset/test_set/cats/cat.4061.jpg  \n",
            "  inflating: dataset/test_set/cats/cat.4062.jpg  \n",
            "  inflating: dataset/test_set/cats/cat.4063.jpg  \n",
            "  inflating: dataset/test_set/cats/cat.4064.jpg  \n",
            "  inflating: dataset/test_set/cats/cat.4065.jpg  \n",
            "  inflating: dataset/test_set/cats/cat.4066.jpg  \n",
            "  inflating: dataset/test_set/cats/cat.4067.jpg  \n",
            "  inflating: dataset/test_set/cats/cat.4068.jpg  \n",
            "  inflating: dataset/test_set/cats/cat.4069.jpg  \n",
            "  inflating: dataset/test_set/cats/cat.4070.jpg  \n",
            "  inflating: dataset/test_set/cats/cat.4071.jpg  \n",
            "  inflating: dataset/test_set/cats/cat.4072.jpg  \n",
            "  inflating: dataset/test_set/cats/cat.4073.jpg  \n",
            "  inflating: dataset/test_set/cats/cat.4074.jpg  \n",
            "  inflating: dataset/test_set/cats/cat.4075.jpg  \n",
            "  inflating: dataset/test_set/cats/cat.4076.jpg  \n",
            "  inflating: dataset/test_set/cats/cat.4077.jpg  \n",
            "  inflating: dataset/test_set/cats/cat.4078.jpg  \n",
            "  inflating: dataset/test_set/cats/cat.4079.jpg  \n",
            "  inflating: dataset/test_set/cats/cat.4080.jpg  \n",
            "  inflating: dataset/test_set/cats/cat.4081.jpg  \n",
            "  inflating: dataset/test_set/cats/cat.4082.jpg  \n",
            "  inflating: dataset/test_set/cats/cat.4083.jpg  \n",
            "  inflating: dataset/test_set/cats/cat.4084.jpg  \n",
            "  inflating: dataset/test_set/cats/cat.4085.jpg  \n",
            "  inflating: dataset/test_set/cats/cat.4086.jpg  \n",
            "  inflating: dataset/test_set/cats/cat.4087.jpg  \n",
            "  inflating: dataset/test_set/cats/cat.4088.jpg  \n",
            "  inflating: dataset/test_set/cats/cat.4089.jpg  \n",
            "  inflating: dataset/test_set/cats/cat.4090.jpg  \n",
            "  inflating: dataset/test_set/cats/cat.4091.jpg  \n",
            "  inflating: dataset/test_set/cats/cat.4092.jpg  \n",
            "  inflating: dataset/test_set/cats/cat.4093.jpg  \n",
            "  inflating: dataset/test_set/cats/cat.4094.jpg  \n",
            "  inflating: dataset/test_set/cats/cat.4095.jpg  \n",
            "  inflating: dataset/test_set/cats/cat.4096.jpg  \n",
            "  inflating: dataset/test_set/cats/cat.4097.jpg  \n",
            "  inflating: dataset/test_set/cats/cat.4098.jpg  \n",
            "  inflating: dataset/test_set/cats/cat.4099.jpg  \n",
            "  inflating: dataset/test_set/cats/cat.4100.jpg  \n",
            "  inflating: dataset/test_set/cats/cat.4101.jpg  \n",
            "  inflating: dataset/test_set/cats/cat.4102.jpg  \n",
            "  inflating: dataset/test_set/cats/cat.4103.jpg  \n",
            "  inflating: dataset/test_set/cats/cat.4104.jpg  \n",
            "  inflating: dataset/test_set/cats/cat.4105.jpg  \n",
            "  inflating: dataset/test_set/cats/cat.4106.jpg  \n",
            "  inflating: dataset/test_set/cats/cat.4107.jpg  \n",
            "  inflating: dataset/test_set/cats/cat.4108.jpg  \n",
            "  inflating: dataset/test_set/cats/cat.4109.jpg  \n",
            "  inflating: dataset/test_set/cats/cat.4110.jpg  \n",
            "  inflating: dataset/test_set/cats/cat.4111.jpg  \n",
            "  inflating: dataset/test_set/cats/cat.4112.jpg  \n",
            "  inflating: dataset/test_set/cats/cat.4113.jpg  \n",
            "  inflating: dataset/test_set/cats/cat.4114.jpg  \n",
            "  inflating: dataset/test_set/cats/cat.4115.jpg  \n",
            "  inflating: dataset/test_set/cats/cat.4116.jpg  \n",
            "  inflating: dataset/test_set/cats/cat.4117.jpg  \n",
            "  inflating: dataset/test_set/cats/cat.4118.jpg  \n",
            "  inflating: dataset/test_set/cats/cat.4119.jpg  \n",
            "  inflating: dataset/test_set/cats/cat.4120.jpg  \n",
            "  inflating: dataset/test_set/cats/cat.4121.jpg  \n",
            "  inflating: dataset/test_set/cats/cat.4122.jpg  \n",
            "  inflating: dataset/test_set/cats/cat.4123.jpg  \n",
            "  inflating: dataset/test_set/cats/cat.4124.jpg  \n",
            "  inflating: dataset/test_set/cats/cat.4125.jpg  \n",
            "  inflating: dataset/test_set/cats/cat.4126.jpg  "
          ],
          "name": "stdout"
        }
      ]
    },
    {
      "cell_type": "code",
      "metadata": {
        "id": "bpLoEScvgdTS"
      },
      "source": [
        "import numpy as np\n",
        "from tensorflow.keras.models import Sequential\n",
        "from tensorflow.keras.layers import Conv2D, MaxPooling2D, Flatten, Dense, Dropout\n",
        "from tensorflow.keras.preprocessing import image\n",
        "from tensorflow.keras.preprocessing.image import ImageDataGenerator"
      ],
      "execution_count": 5,
      "outputs": []
    },
    {
      "cell_type": "code",
      "metadata": {
        "id": "I6V8ECqEiw1s"
      },
      "source": [
        "# define the paths\n",
        "training_path = '/content/drive/MyDrive/Colab Notebooks/learnbay_deep_learning/dataset/cat_dog_data/training_set'\n",
        "testing_path = '/content/drive/MyDrive/Colab Notebooks/learnbay_deep_learning/dataset/cat_dog_data/test_set'\n",
        "prediction_image_path = '/content/drive/MyDrive/Colab Notebooks/learnbay_deep_learning/dataset/cat_dog_data/single_prediction'"
      ],
      "execution_count": 7,
      "outputs": []
    },
    {
      "cell_type": "code",
      "metadata": {
        "id": "B1mmkqjIj9Xl"
      },
      "source": [
        "train_datagen = ImageDataGenerator(rescale = 1./255, # All the pixel value would be 0 - 1\n",
        "                                   shear_range = 0.2, # roates the image by given angle\n",
        "                                   zoom_range = 0.2,\n",
        "                                   horizontal_flip = True,) \n",
        "\n",
        "test_datagen = ImageDataGenerator(rescale=1./255)"
      ],
      "execution_count": 9,
      "outputs": []
    },
    {
      "cell_type": "code",
      "metadata": {
        "colab": {
          "base_uri": "https://localhost:8080/"
        },
        "id": "_g3_kObgmtJm",
        "outputId": "371b33f8-5bcf-40b8-e9f3-12a105d56431"
      },
      "source": [
        "training_set = train_datagen.flow_from_directory(training_path,\n",
        "                                                 target_size = (64,64),\n",
        "                                                 batch_size = 32,\n",
        "                                                 class_mode = 'binary',)\n",
        "\n",
        "test_set = test_datagen.flow_from_directory(testing_path,\n",
        "                                                 target_size = (64,64),\n",
        "                                                 batch_size = 32,\n",
        "                                                 class_mode = 'binary')"
      ],
      "execution_count": 10,
      "outputs": [
        {
          "output_type": "stream",
          "text": [
            "Found 8000 images belonging to 2 classes.\n",
            "Found 2000 images belonging to 2 classes.\n"
          ],
          "name": "stdout"
        }
      ]
    },
    {
      "cell_type": "code",
      "metadata": {
        "colab": {
          "base_uri": "https://localhost:8080/"
        },
        "id": "x-YIsLRYpHxA",
        "outputId": "9db0affb-30c9-4901-d8f2-323943351af1"
      },
      "source": [
        "training_set"
      ],
      "execution_count": 11,
      "outputs": [
        {
          "output_type": "execute_result",
          "data": {
            "text/plain": [
              "<tensorflow.python.keras.preprocessing.image.DirectoryIterator at 0x7f1b140bb750>"
            ]
          },
          "metadata": {
            "tags": []
          },
          "execution_count": 11
        }
      ]
    },
    {
      "cell_type": "code",
      "metadata": {
        "id": "Oifpy7WapIa6"
      },
      "source": [
        "training_data = next(training_set)"
      ],
      "execution_count": 12,
      "outputs": []
    },
    {
      "cell_type": "code",
      "metadata": {
        "colab": {
          "base_uri": "https://localhost:8080/"
        },
        "id": "phPwaGCypd7l",
        "outputId": "1aa82c4b-98b9-4ac9-964f-882c82deef36"
      },
      "source": [
        "type(training_data) # tuple (array(images) , array(labels)) ---< (X , y)"
      ],
      "execution_count": 15,
      "outputs": [
        {
          "output_type": "execute_result",
          "data": {
            "text/plain": [
              "tuple"
            ]
          },
          "metadata": {
            "tags": []
          },
          "execution_count": 15
        }
      ]
    },
    {
      "cell_type": "code",
      "metadata": {
        "colab": {
          "base_uri": "https://localhost:8080/"
        },
        "id": "EOX5iJuKpgFf",
        "outputId": "d7f97ea7-8ae8-4cfb-b846-d1b7da282309"
      },
      "source": [
        "training_data[0].shape"
      ],
      "execution_count": 17,
      "outputs": [
        {
          "output_type": "execute_result",
          "data": {
            "text/plain": [
              "(32, 64, 64, 3)"
            ]
          },
          "metadata": {
            "tags": []
          },
          "execution_count": 17
        }
      ]
    },
    {
      "cell_type": "code",
      "metadata": {
        "colab": {
          "base_uri": "https://localhost:8080/"
        },
        "id": "Er5jDM3AprwX",
        "outputId": "690fbdbe-1187-413a-826b-ba95c8dfc422"
      },
      "source": [
        "training_data[1].shape"
      ],
      "execution_count": 18,
      "outputs": [
        {
          "output_type": "execute_result",
          "data": {
            "text/plain": [
              "(32,)"
            ]
          },
          "metadata": {
            "tags": []
          },
          "execution_count": 18
        }
      ]
    },
    {
      "cell_type": "code",
      "metadata": {
        "colab": {
          "base_uri": "https://localhost:8080/"
        },
        "id": "vGpd281kp7dy",
        "outputId": "691d3ad1-6ced-4f26-9097-69f60038bba8"
      },
      "source": [
        "training_data[1]"
      ],
      "execution_count": 19,
      "outputs": [
        {
          "output_type": "execute_result",
          "data": {
            "text/plain": [
              "array([1., 1., 0., 1., 0., 1., 0., 0., 1., 1., 1., 1., 1., 1., 0., 0., 1.,\n",
              "       1., 0., 1., 1., 1., 0., 1., 1., 0., 1., 1., 0., 1., 1., 0.],\n",
              "      dtype=float32)"
            ]
          },
          "metadata": {
            "tags": []
          },
          "execution_count": 19
        }
      ]
    },
    {
      "cell_type": "code",
      "metadata": {
        "id": "lBRrBNBRqhMX"
      },
      "source": [
        "# steps\n",
        "\n",
        "# 1. define architecture\n",
        "# 2. compile\n",
        "# 3. fit"
      ],
      "execution_count": null,
      "outputs": []
    },
    {
      "cell_type": "code",
      "metadata": {
        "id": "gvcnbbP8q2LD"
      },
      "source": [
        "classifier = Sequential()\n",
        "\n",
        "classifier.add(Conv2D(32,(3,3),activation='relu'))\n",
        "classifier.add(MaxPooling2D((2,2)))\n",
        "\n",
        "classifier.add(Conv2D(64,(3,3),activation='relu'))\n",
        "classifier.add(MaxPooling2D((2,2)))\n",
        "\n",
        "\n",
        "classifier.add(Flatten())\n",
        "\n",
        "classifier.add(Dense(128 , activation='relu'))\n",
        "classifier.add(Dense(1 , activation='sigmoid'))"
      ],
      "execution_count": 21,
      "outputs": []
    },
    {
      "cell_type": "code",
      "metadata": {
        "id": "m5jTI7O4r31L"
      },
      "source": [
        "# compilation\n",
        "classifier.compile('adam' , loss='binary_crossentropy', metrics=['accuracy'])"
      ],
      "execution_count": 22,
      "outputs": []
    },
    {
      "cell_type": "code",
      "metadata": {
        "colab": {
          "base_uri": "https://localhost:8080/",
          "height": 378
        },
        "id": "eTH77DRksGUV",
        "outputId": "d2c4158b-e3da-4947-9682-958214abc234"
      },
      "source": [
        "# traning\n",
        "classifier.fit(training_set , epochs = 10, validation_data=test_set)"
      ],
      "execution_count": 23,
      "outputs": [
        {
          "output_type": "stream",
          "text": [
            "Epoch 1/10\n",
            " 37/250 [===>..........................] - ETA: 26:47 - loss: 0.6982 - accuracy: 0.5144"
          ],
          "name": "stdout"
        },
        {
          "output_type": "error",
          "ename": "KeyboardInterrupt",
          "evalue": "ignored",
          "traceback": [
            "\u001b[0;31m---------------------------------------------------------------------------\u001b[0m",
            "\u001b[0;31mKeyboardInterrupt\u001b[0m                         Traceback (most recent call last)",
            "\u001b[0;32m<ipython-input-23-1459767f64e2>\u001b[0m in \u001b[0;36m<module>\u001b[0;34m()\u001b[0m\n\u001b[1;32m      1\u001b[0m \u001b[0;31m# traning\u001b[0m\u001b[0;34m\u001b[0m\u001b[0;34m\u001b[0m\u001b[0;34m\u001b[0m\u001b[0m\n\u001b[0;32m----> 2\u001b[0;31m \u001b[0mclassifier\u001b[0m\u001b[0;34m.\u001b[0m\u001b[0mfit\u001b[0m\u001b[0;34m(\u001b[0m\u001b[0mtraining_set\u001b[0m \u001b[0;34m,\u001b[0m \u001b[0mepochs\u001b[0m \u001b[0;34m=\u001b[0m \u001b[0;36m10\u001b[0m\u001b[0;34m,\u001b[0m \u001b[0mvalidation_data\u001b[0m\u001b[0;34m=\u001b[0m\u001b[0mtest_set\u001b[0m\u001b[0;34m)\u001b[0m\u001b[0;34m\u001b[0m\u001b[0;34m\u001b[0m\u001b[0m\n\u001b[0m",
            "\u001b[0;32m/usr/local/lib/python3.7/dist-packages/tensorflow/python/keras/engine/training.py\u001b[0m in \u001b[0;36mfit\u001b[0;34m(self, x, y, batch_size, epochs, verbose, callbacks, validation_split, validation_data, shuffle, class_weight, sample_weight, initial_epoch, steps_per_epoch, validation_steps, validation_batch_size, validation_freq, max_queue_size, workers, use_multiprocessing)\u001b[0m\n\u001b[1;32m   1181\u001b[0m                 _r=1):\n\u001b[1;32m   1182\u001b[0m               \u001b[0mcallbacks\u001b[0m\u001b[0;34m.\u001b[0m\u001b[0mon_train_batch_begin\u001b[0m\u001b[0;34m(\u001b[0m\u001b[0mstep\u001b[0m\u001b[0;34m)\u001b[0m\u001b[0;34m\u001b[0m\u001b[0;34m\u001b[0m\u001b[0m\n\u001b[0;32m-> 1183\u001b[0;31m               \u001b[0mtmp_logs\u001b[0m \u001b[0;34m=\u001b[0m \u001b[0mself\u001b[0m\u001b[0;34m.\u001b[0m\u001b[0mtrain_function\u001b[0m\u001b[0;34m(\u001b[0m\u001b[0miterator\u001b[0m\u001b[0;34m)\u001b[0m\u001b[0;34m\u001b[0m\u001b[0;34m\u001b[0m\u001b[0m\n\u001b[0m\u001b[1;32m   1184\u001b[0m               \u001b[0;32mif\u001b[0m \u001b[0mdata_handler\u001b[0m\u001b[0;34m.\u001b[0m\u001b[0mshould_sync\u001b[0m\u001b[0;34m:\u001b[0m\u001b[0;34m\u001b[0m\u001b[0;34m\u001b[0m\u001b[0m\n\u001b[1;32m   1185\u001b[0m                 \u001b[0mcontext\u001b[0m\u001b[0;34m.\u001b[0m\u001b[0masync_wait\u001b[0m\u001b[0;34m(\u001b[0m\u001b[0;34m)\u001b[0m\u001b[0;34m\u001b[0m\u001b[0;34m\u001b[0m\u001b[0m\n",
            "\u001b[0;32m/usr/local/lib/python3.7/dist-packages/tensorflow/python/eager/def_function.py\u001b[0m in \u001b[0;36m__call__\u001b[0;34m(self, *args, **kwds)\u001b[0m\n\u001b[1;32m    887\u001b[0m \u001b[0;34m\u001b[0m\u001b[0m\n\u001b[1;32m    888\u001b[0m       \u001b[0;32mwith\u001b[0m \u001b[0mOptionalXlaContext\u001b[0m\u001b[0;34m(\u001b[0m\u001b[0mself\u001b[0m\u001b[0;34m.\u001b[0m\u001b[0m_jit_compile\u001b[0m\u001b[0;34m)\u001b[0m\u001b[0;34m:\u001b[0m\u001b[0;34m\u001b[0m\u001b[0;34m\u001b[0m\u001b[0m\n\u001b[0;32m--> 889\u001b[0;31m         \u001b[0mresult\u001b[0m \u001b[0;34m=\u001b[0m \u001b[0mself\u001b[0m\u001b[0;34m.\u001b[0m\u001b[0m_call\u001b[0m\u001b[0;34m(\u001b[0m\u001b[0;34m*\u001b[0m\u001b[0margs\u001b[0m\u001b[0;34m,\u001b[0m \u001b[0;34m**\u001b[0m\u001b[0mkwds\u001b[0m\u001b[0;34m)\u001b[0m\u001b[0;34m\u001b[0m\u001b[0;34m\u001b[0m\u001b[0m\n\u001b[0m\u001b[1;32m    890\u001b[0m \u001b[0;34m\u001b[0m\u001b[0m\n\u001b[1;32m    891\u001b[0m       \u001b[0mnew_tracing_count\u001b[0m \u001b[0;34m=\u001b[0m \u001b[0mself\u001b[0m\u001b[0;34m.\u001b[0m\u001b[0mexperimental_get_tracing_count\u001b[0m\u001b[0;34m(\u001b[0m\u001b[0;34m)\u001b[0m\u001b[0;34m\u001b[0m\u001b[0;34m\u001b[0m\u001b[0m\n",
            "\u001b[0;32m/usr/local/lib/python3.7/dist-packages/tensorflow/python/eager/def_function.py\u001b[0m in \u001b[0;36m_call\u001b[0;34m(self, *args, **kwds)\u001b[0m\n\u001b[1;32m    915\u001b[0m       \u001b[0;31m# In this case we have created variables on the first call, so we run the\u001b[0m\u001b[0;34m\u001b[0m\u001b[0;34m\u001b[0m\u001b[0;34m\u001b[0m\u001b[0m\n\u001b[1;32m    916\u001b[0m       \u001b[0;31m# defunned version which is guaranteed to never create variables.\u001b[0m\u001b[0;34m\u001b[0m\u001b[0;34m\u001b[0m\u001b[0;34m\u001b[0m\u001b[0m\n\u001b[0;32m--> 917\u001b[0;31m       \u001b[0;32mreturn\u001b[0m \u001b[0mself\u001b[0m\u001b[0;34m.\u001b[0m\u001b[0m_stateless_fn\u001b[0m\u001b[0;34m(\u001b[0m\u001b[0;34m*\u001b[0m\u001b[0margs\u001b[0m\u001b[0;34m,\u001b[0m \u001b[0;34m**\u001b[0m\u001b[0mkwds\u001b[0m\u001b[0;34m)\u001b[0m  \u001b[0;31m# pylint: disable=not-callable\u001b[0m\u001b[0;34m\u001b[0m\u001b[0;34m\u001b[0m\u001b[0m\n\u001b[0m\u001b[1;32m    918\u001b[0m     \u001b[0;32melif\u001b[0m \u001b[0mself\u001b[0m\u001b[0;34m.\u001b[0m\u001b[0m_stateful_fn\u001b[0m \u001b[0;32mis\u001b[0m \u001b[0;32mnot\u001b[0m \u001b[0;32mNone\u001b[0m\u001b[0;34m:\u001b[0m\u001b[0;34m\u001b[0m\u001b[0;34m\u001b[0m\u001b[0m\n\u001b[1;32m    919\u001b[0m       \u001b[0;31m# Release the lock early so that multiple threads can perform the call\u001b[0m\u001b[0;34m\u001b[0m\u001b[0;34m\u001b[0m\u001b[0;34m\u001b[0m\u001b[0m\n",
            "\u001b[0;32m/usr/local/lib/python3.7/dist-packages/tensorflow/python/eager/function.py\u001b[0m in \u001b[0;36m__call__\u001b[0;34m(self, *args, **kwargs)\u001b[0m\n\u001b[1;32m   3022\u001b[0m        filtered_flat_args) = self._maybe_define_function(args, kwargs)\n\u001b[1;32m   3023\u001b[0m     return graph_function._call_flat(\n\u001b[0;32m-> 3024\u001b[0;31m         filtered_flat_args, captured_inputs=graph_function.captured_inputs)  # pylint: disable=protected-access\n\u001b[0m\u001b[1;32m   3025\u001b[0m \u001b[0;34m\u001b[0m\u001b[0m\n\u001b[1;32m   3026\u001b[0m   \u001b[0;34m@\u001b[0m\u001b[0mproperty\u001b[0m\u001b[0;34m\u001b[0m\u001b[0;34m\u001b[0m\u001b[0m\n",
            "\u001b[0;32m/usr/local/lib/python3.7/dist-packages/tensorflow/python/eager/function.py\u001b[0m in \u001b[0;36m_call_flat\u001b[0;34m(self, args, captured_inputs, cancellation_manager)\u001b[0m\n\u001b[1;32m   1959\u001b[0m       \u001b[0;31m# No tape is watching; skip to running the function.\u001b[0m\u001b[0;34m\u001b[0m\u001b[0;34m\u001b[0m\u001b[0;34m\u001b[0m\u001b[0m\n\u001b[1;32m   1960\u001b[0m       return self._build_call_outputs(self._inference_function.call(\n\u001b[0;32m-> 1961\u001b[0;31m           ctx, args, cancellation_manager=cancellation_manager))\n\u001b[0m\u001b[1;32m   1962\u001b[0m     forward_backward = self._select_forward_and_backward_functions(\n\u001b[1;32m   1963\u001b[0m         \u001b[0margs\u001b[0m\u001b[0;34m,\u001b[0m\u001b[0;34m\u001b[0m\u001b[0;34m\u001b[0m\u001b[0m\n",
            "\u001b[0;32m/usr/local/lib/python3.7/dist-packages/tensorflow/python/eager/function.py\u001b[0m in \u001b[0;36mcall\u001b[0;34m(self, ctx, args, cancellation_manager)\u001b[0m\n\u001b[1;32m    594\u001b[0m               \u001b[0minputs\u001b[0m\u001b[0;34m=\u001b[0m\u001b[0margs\u001b[0m\u001b[0;34m,\u001b[0m\u001b[0;34m\u001b[0m\u001b[0;34m\u001b[0m\u001b[0m\n\u001b[1;32m    595\u001b[0m               \u001b[0mattrs\u001b[0m\u001b[0;34m=\u001b[0m\u001b[0mattrs\u001b[0m\u001b[0;34m,\u001b[0m\u001b[0;34m\u001b[0m\u001b[0;34m\u001b[0m\u001b[0m\n\u001b[0;32m--> 596\u001b[0;31m               ctx=ctx)\n\u001b[0m\u001b[1;32m    597\u001b[0m         \u001b[0;32melse\u001b[0m\u001b[0;34m:\u001b[0m\u001b[0;34m\u001b[0m\u001b[0;34m\u001b[0m\u001b[0m\n\u001b[1;32m    598\u001b[0m           outputs = execute.execute_with_cancellation(\n",
            "\u001b[0;32m/usr/local/lib/python3.7/dist-packages/tensorflow/python/eager/execute.py\u001b[0m in \u001b[0;36mquick_execute\u001b[0;34m(op_name, num_outputs, inputs, attrs, ctx, name)\u001b[0m\n\u001b[1;32m     58\u001b[0m     \u001b[0mctx\u001b[0m\u001b[0;34m.\u001b[0m\u001b[0mensure_initialized\u001b[0m\u001b[0;34m(\u001b[0m\u001b[0;34m)\u001b[0m\u001b[0;34m\u001b[0m\u001b[0;34m\u001b[0m\u001b[0m\n\u001b[1;32m     59\u001b[0m     tensors = pywrap_tfe.TFE_Py_Execute(ctx._handle, device_name, op_name,\n\u001b[0;32m---> 60\u001b[0;31m                                         inputs, attrs, num_outputs)\n\u001b[0m\u001b[1;32m     61\u001b[0m   \u001b[0;32mexcept\u001b[0m \u001b[0mcore\u001b[0m\u001b[0;34m.\u001b[0m\u001b[0m_NotOkStatusException\u001b[0m \u001b[0;32mas\u001b[0m \u001b[0me\u001b[0m\u001b[0;34m:\u001b[0m\u001b[0;34m\u001b[0m\u001b[0;34m\u001b[0m\u001b[0m\n\u001b[1;32m     62\u001b[0m     \u001b[0;32mif\u001b[0m \u001b[0mname\u001b[0m \u001b[0;32mis\u001b[0m \u001b[0;32mnot\u001b[0m \u001b[0;32mNone\u001b[0m\u001b[0;34m:\u001b[0m\u001b[0;34m\u001b[0m\u001b[0;34m\u001b[0m\u001b[0m\n",
            "\u001b[0;31mKeyboardInterrupt\u001b[0m: "
          ]
        }
      ]
    },
    {
      "cell_type": "code",
      "metadata": {
        "id": "lHbjIPdqthG4"
      },
      "source": [
        "# saving the model\n",
        "\n",
        "classifier.save('path/filename.h5')"
      ],
      "execution_count": null,
      "outputs": []
    },
    {
      "cell_type": "code",
      "metadata": {
        "colab": {
          "base_uri": "https://localhost:8080/"
        },
        "id": "gj_H_JAftqcP",
        "outputId": "613f9864-f31a-4db4-9a83-7ae150f5180c"
      },
      "source": [
        "test_image = image.load_img(f'{prediction_image_path}/cat_or_dog_2.jpg' , target_size=(64,64))\n",
        "test_image = image.img_to_array(test_image)\n",
        "test_image = test_image.reshape(1,64,64,3)\n",
        "result = classifier.predict(test_image)\n",
        "\n",
        "if result[0][0] == 1:\n",
        "  print('dog')\n",
        "else:\n",
        "  print('cat')"
      ],
      "execution_count": 33,
      "outputs": [
        {
          "output_type": "stream",
          "text": [
            "cat\n"
          ],
          "name": "stdout"
        }
      ]
    },
    {
      "cell_type": "code",
      "metadata": {
        "colab": {
          "base_uri": "https://localhost:8080/"
        },
        "id": "xlyI26VPuc1f",
        "outputId": "583d167d-5ef1-4874-8aa3-f0f351fe8562"
      },
      "source": [
        "# save weights\n",
        "\n",
        "# saving model"
      ],
      "execution_count": 32,
      "outputs": [
        {
          "output_type": "execute_result",
          "data": {
            "text/plain": [
              "1.0"
            ]
          },
          "metadata": {
            "tags": []
          },
          "execution_count": 32
        }
      ]
    },
    {
      "cell_type": "code",
      "metadata": {
        "id": "HbLJQ30LvXJn"
      },
      "source": [
        ""
      ],
      "execution_count": null,
      "outputs": []
    }
  ]
}