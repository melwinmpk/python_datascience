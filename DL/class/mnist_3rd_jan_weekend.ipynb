{
  "nbformat": 4,
  "nbformat_minor": 0,
  "metadata": {
    "colab": {
      "name": "mnist_3rd_jan_weekend.ipynb",
      "provenance": []
    },
    "kernelspec": {
      "name": "python3",
      "display_name": "Python 3"
    },
    "language_info": {
      "name": "python"
    }
  },
  "cells": [
    {
      "cell_type": "code",
      "metadata": {
        "id": "K-xAF47h3sM0"
      },
      "source": [
        "# import all the important libraries\n",
        "import tensorflow as tf\n",
        "import numpy as np\n",
        "import pandas as pd\n",
        "from tensorflow.keras.datasets import mnist\n",
        "from tensorflow.keras.models import Sequential\n",
        "from tensorflow.keras.layers import Dense, Dropout, Conv2D, MaxPool2D, Flatten\n",
        "import matplotlib.pyplot as plt"
      ],
      "execution_count": 1,
      "outputs": []
    },
    {
      "cell_type": "code",
      "metadata": {
        "colab": {
          "base_uri": "https://localhost:8080/"
        },
        "id": "VdrnpCPp3uRc",
        "outputId": "26ebf3d3-e53c-4745-f6c4-23a9741d23d8"
      },
      "source": [
        "# loading a dataset\n",
        "(X_train , y_train) , (X_test , y_test ) = mnist.load_data()"
      ],
      "execution_count": 2,
      "outputs": [
        {
          "output_type": "stream",
          "text": [
            "Downloading data from https://storage.googleapis.com/tensorflow/tf-keras-datasets/mnist.npz\n",
            "11493376/11490434 [==============================] - 0s 0us/step\n"
          ],
          "name": "stdout"
        }
      ]
    },
    {
      "cell_type": "code",
      "metadata": {
        "id": "--3oCUa234Yc"
      },
      "source": [
        "X_train = X_train.reshape(60000,28,28,1)\n",
        "X_test = X_test.reshape(10000,28,28,1)"
      ],
      "execution_count": 8,
      "outputs": []
    },
    {
      "cell_type": "code",
      "metadata": {
        "colab": {
          "base_uri": "https://localhost:8080/",
          "height": 282
        },
        "id": "sDAsyCRL36Sd",
        "outputId": "97596efc-fcab-420d-dc80-43115b189b57"
      },
      "source": [
        "# visualising the data\n",
        "class_number = 2\n",
        "plt.imshow(X_train.reshape(60000,28,28)[class_number])\n",
        "y_train[class_number]"
      ],
      "execution_count": 12,
      "outputs": [
        {
          "output_type": "execute_result",
          "data": {
            "text/plain": [
              "4"
            ]
          },
          "metadata": {
            "tags": []
          },
          "execution_count": 12
        },
        {
          "output_type": "display_data",
          "data": {
            "image/png": "[encoded data removed]",
            "text/plain": [
              "<Figure size 432x288 with 1 Axes>"
            ]
          },
          "metadata": {
            "tags": [],
            "needs_background": "light"
          }
        }
      ]
    },
    {
      "cell_type": "code",
      "metadata": {
        "id": "3XUvKDiP37jI"
      },
      "source": [
        "# Normalising the data\n",
        "X_train, X_test = X_train/255.0 , X_test/255.0"
      ],
      "execution_count": 14,
      "outputs": []
    },
    {
      "cell_type": "code",
      "metadata": {
        "id": "EbIArKPh476G"
      },
      "source": [
        "# Model building\n",
        "\n",
        "model = Sequential()\n",
        "\n",
        "# conv layer 1\n",
        "model.add(Conv2D(36, (3,3), activation='relu', kernel_initializer='he_uniform',))\n",
        "model.add(MaxPool2D())\n",
        "\n",
        "# conv layer 2\n",
        "model.add(Conv2D(72, (3,3), activation='relu', kernel_initializer='he_uniform',))\n",
        "model.add(MaxPool2D())\n",
        "\n",
        "# conv layer 3\n",
        "model.add(Conv2D(144, (3,3), activation='relu', kernel_initializer='he_uniform',))\n",
        "model.add(MaxPool2D())\n",
        "\n",
        "model.add(Flatten())\n",
        "\n",
        "# fully connected layer\n",
        "\n",
        "# hidden layer 1\n",
        "model.add(Dense(128, activation='relu', kernel_initializer='he_uniform'))\n",
        "model.add(Dropout(0.2))\n",
        "\n",
        "# hidden layer 2\n",
        "model.add(Dense(64, activation='sigmoid'))\n",
        "model.add(Dropout(0.2))\n",
        "\n",
        "# hidden layer 3\n",
        "model.add(Dense(32, activation='relu', kernel_initializer='he_uniform'))\n",
        "model.add(Dropout(0.2))\n",
        "\n",
        "# output layer\n",
        "model.add(Dense(10, activation='softmax'))"
      ],
      "execution_count": 15,
      "outputs": []
    },
    {
      "cell_type": "code",
      "metadata": {
        "id": "XMygWFYm5Ao2"
      },
      "source": [
        "# compile\n",
        "model.compile(optimizer='adam', loss = tf.keras.losses.sparse_categorical_crossentropy, metrics=['accuracy'])"
      ],
      "execution_count": 16,
      "outputs": []
    },
    {
      "cell_type": "code",
      "metadata": {
        "colab": {
          "base_uri": "https://localhost:8080/"
        },
        "id": "zm5A2A1i5D0y",
        "outputId": "e4b4ca2f-27a8-47f5-de5d-6658be35eeaa"
      },
      "source": [
        "# fit\n",
        "model.fit(X_train , y_train , epochs=50, batch_size=32)"
      ],
      "execution_count": null,
      "outputs": [
        {
          "output_type": "stream",
          "text": [
            "Epoch 1/50\n",
            " 125/1875 [=>............................] - ETA: 1:06 - loss: 0.2719 - accuracy: 0.9255"
          ],
          "name": "stdout"
        }
      ]
    }
  ]
}