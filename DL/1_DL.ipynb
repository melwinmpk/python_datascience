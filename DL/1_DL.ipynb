{
 "cells": [
  {
   "cell_type": "markdown",
   "id": "ec1b7ee7",
   "metadata": {},
   "source": [
    "### What is the DL ?\n",
    "<p>Its the Technique to mimicking the human brain where we end up inventing the Perceptron </p>\n",
    "<p>Even In Perceptron there are many draw back. later Jeffrey Hinton had invented the BackPropogation which was a game changer in the DeepLearning field </p>\n",
    "\n",
    "<img src=\"https://upload.wikimedia.org/wikipedia/commons/thumb/9/99/Neural_network_example.svg/640px-Neural_network_example.svg.png\" width=\"300px\"></img>"
   ]
  },
  {
   "cell_type": "markdown",
   "id": "a325d801",
   "metadata": {},
   "source": [
    "## What are Activation Function ?\n",
    "<p>The activation function defines the output of a neuron / node given an input or set of input (output of multiple neurons). It's the mimic of the stimulation of a biological neuron.</p>\n",
    "\n",
    "https://towardsdatascience.com/what-is-activation-function-1464a629cdca"
   ]
  },
  {
   "cell_type": "markdown",
   "id": "c0f17217",
   "metadata": {},
   "source": [
    "### BackPropogation\n",
    "### Optmizer\n",
    "\n",
    "https://towardsdatascience.com/optimizers-for-training-neural-network-59450d71caf6\n",
    "\n",
    "\n",
    "### Chainrule in BackPropogation\n",
    "### Vanishing Gradient Problem\n",
    "### Exploding Gradient Problem"
   ]
  },
  {
   "cell_type": "markdown",
   "id": "4abfccba",
   "metadata": {},
   "source": [
    "#### What is the Loss function used for the Clasifiation\n",
    "#### What is the Loss function used for the Regression\n",
    "\n",
    "https://keras.io/api/losses/"
   ]
  },
  {
   "cell_type": "markdown",
   "id": "008348ab",
   "metadata": {},
   "source": [
    "#### How to understand weather the Model is Predecting well by looking the trail and Valid"
   ]
  },
  {
   "cell_type": "code",
   "execution_count": null,
   "id": "bff9b405",
   "metadata": {},
   "outputs": [],
   "source": []
  }
 ],
 "metadata": {
  "kernelspec": {
   "display_name": "Python 3 (ipykernel)",
   "language": "python",
   "name": "python3"
  },
  "language_info": {
   "codemirror_mode": {
    "name": "ipython",
    "version": 3
   },
   "file_extension": ".py",
   "mimetype": "text/x-python",
   "name": "python",
   "nbconvert_exporter": "python",
   "pygments_lexer": "ipython3",
   "version": "3.8.12"
  }
 },
 "nbformat": 4,
 "nbformat_minor": 5
}
