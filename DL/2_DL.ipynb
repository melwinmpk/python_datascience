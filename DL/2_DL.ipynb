{
 "cells": [
  {
   "attachments": {},
   "cell_type": "markdown",
   "id": "d8249b24",
   "metadata": {},
   "source": [
    "## CNN\n",
    "\n",
    "<p>Convolutional Neural Network(CNN or ConvNet)is a class of deep neural networks <br>\n",
    "   which is mostly used to do image recognition, image classification, object detection, etc</p>\n",
    "<p>Google uses it for photo search, Facebook for their automatic tagging algorithms, <br>\n",
    "   Amazon for their product recommendations, and the list goes on and on</p>"
   ]
  },
  {
   "cell_type": "markdown",
   "id": "02810b6c",
   "metadata": {},
   "source": [
    "Source \n",
    "\n",
    "https://towardsdatascience.com/a-comprehensive-guide-to-convolutional-neural-networks-the-eli5-way-3bd2b1164a53\n",
    "\n",
    "https://towardsdatascience.com/a-comprehensive-guide-to-convolutional-neural-networks-the-eli5-way-3bd2b1164a53"
   ]
  },
  {
   "cell_type": "markdown",
   "id": "0fce5d0a",
   "metadata": {},
   "source": [
    "## why are we applying the Pooling in the CNN\n",
    "\n",
    "to decrease the computation power as you reduce the size of the image it will be easier to compute"
   ]
  },
  {
   "cell_type": "markdown",
   "id": "b228da0d",
   "metadata": {},
   "source": [
    "## learn Soft max function "
   ]
  },
  {
   "cell_type": "markdown",
   "id": "80bc76bd",
   "metadata": {},
   "source": [
    "in CNN we increase the Filters "
   ]
  },
  {
   "cell_type": "code",
   "execution_count": null,
   "id": "eaa8c5b6",
   "metadata": {},
   "outputs": [],
   "source": []
  }
 ],
 "metadata": {
  "kernelspec": {
   "display_name": "Python 3 (ipykernel)",
   "language": "python",
   "name": "python3"
  },
  "language_info": {
   "codemirror_mode": {
    "name": "ipython",
    "version": 3
   },
   "file_extension": ".py",
   "mimetype": "text/x-python",
   "name": "python",
   "nbconvert_exporter": "python",
   "pygments_lexer": "ipython3",
   "version": "3.8.12"
  }
 },
 "nbformat": 4,
 "nbformat_minor": 5
}
