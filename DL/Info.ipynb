{
 "cells": [
  {
   "cell_type": "markdown",
   "id": "c0c084b4",
   "metadata": {},
   "source": [
    "## Activation Functions in Neural Networks\n",
    "https://towardsdatascience.com/activation-functions-neural-networks-1cbd9f8d91d6"
   ]
  },
  {
   "cell_type": "markdown",
   "id": "1cb9304c",
   "metadata": {},
   "source": [
    "## Bias vs Variance tradeoff Graph\n",
    "https://towardsdatascience.com/understanding-the-bias-variance-tradeoff-165e6942b229"
   ]
  },
  {
   "cell_type": "markdown",
   "id": "400227e1",
   "metadata": {},
   "source": [
    "### Neural network can get into the overfitting to reduce that we are supposed to use the Dropout"
   ]
  },
  {
   "cell_type": "markdown",
   "id": "f3430b9e",
   "metadata": {},
   "source": [
    "## The intuition behind bias and variance\n",
    "<img src=\"https://miro.medium.com/max/1400/1*8sV6Sr9uc0Ef39YBivLzrw.jpeg\"></img>\n",
    "https://towardsdatascience.com/bias-and-variance-but-what-are-they-really-ac539817e171"
   ]
  },
  {
   "cell_type": "markdown",
   "id": "7a95d50a",
   "metadata": {},
   "source": [
    "## Vanishing Gradient Problem\n",
    "\n",
    "https://www.youtube.com/embed/JIWXbzRXk1I"
   ]
  },
  {
   "cell_type": "code",
   "execution_count": null,
   "id": "20c2d1f2",
   "metadata": {},
   "outputs": [],
   "source": []
  }
 ],
 "metadata": {
  "kernelspec": {
   "display_name": "Python 3 (ipykernel)",
   "language": "python",
   "name": "python3"
  },
  "language_info": {
   "codemirror_mode": {
    "name": "ipython",
    "version": 3
   },
   "file_extension": ".py",
   "mimetype": "text/x-python",
   "name": "python",
   "nbconvert_exporter": "python",
   "pygments_lexer": "ipython3",
   "version": "3.8.12"
  }
 },
 "nbformat": 4,
 "nbformat_minor": 5
}
