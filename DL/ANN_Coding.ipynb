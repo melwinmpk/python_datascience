{
  "nbformat": 4,
  "nbformat_minor": 0,
  "metadata": {
    "colab": {
      "name": "2_DL.ipynb",
      "provenance": []
    },
    "kernelspec": {
      "name": "python3",
      "display_name": "Python 3"
    },
    "language_info": {
      "name": "python"
    }
  },
  "cells": [
    {
      "cell_type": "markdown",
      "source": [
        "Melwin First Mount the Google Drive in the Colab \n",
        "\n",
        "Open the Folder icon in the left side you will see the Google drive Folder Icon click on that allow the permission \n",
        "\n",
        "Then continue as below"
      ],
      "metadata": {
        "id": "f8ZYeo2794dk"
      }
    },
    {
      "cell_type": "code",
      "source": [
        "pwd"
      ],
      "metadata": {
        "colab": {
          "base_uri": "https://localhost:8080/",
          "height": 35
        },
        "id": "I2h8PCOH9XwZ",
        "outputId": "08225cc0-0c2a-4d6e-bd35-07fc08b3da93"
      },
      "execution_count": 1,
      "outputs": [
        {
          "output_type": "execute_result",
          "data": {
            "text/plain": [
              "'/content'"
            ],
            "application/vnd.google.colaboratory.intrinsic+json": {
              "type": "string"
            }
          },
          "metadata": {},
          "execution_count": 1
        }
      ]
    },
    {
      "cell_type": "code",
      "source": [
        "ls"
      ],
      "metadata": {
        "colab": {
          "base_uri": "https://localhost:8080/"
        },
        "id": "BSfCrboq9gFH",
        "outputId": "73fab77e-21bb-485d-a0c7-f7e8f2bf0cc1"
      },
      "execution_count": 2,
      "outputs": [
        {
          "output_type": "stream",
          "name": "stdout",
          "text": [
            "\u001b[0m\u001b[01;34mdrive\u001b[0m/  \u001b[01;34msample_data\u001b[0m/\n"
          ]
        }
      ]
    },
    {
      "cell_type": "code",
      "source": [
        "cd /content/drive/MyDrive/Colab_Notebooks"
      ],
      "metadata": {
        "colab": {
          "base_uri": "https://localhost:8080/"
        },
        "id": "pLFA-JyO9i04",
        "outputId": "83a48240-6b6d-4440-92a9-2cdb84ba4533"
      },
      "execution_count": 3,
      "outputs": [
        {
          "output_type": "stream",
          "name": "stdout",
          "text": [
            "/content/drive/MyDrive/Colab_Notebooks\n"
          ]
        }
      ]
    },
    {
      "cell_type": "code",
      "source": [
        "ls"
      ],
      "metadata": {
        "colab": {
          "base_uri": "https://localhost:8080/"
        },
        "id": "wvVNWPx9-lBI",
        "outputId": "02fbe112-2597-4106-9e18-07aeb29f1d90"
      },
      "execution_count": 4,
      "outputs": [
        {
          "output_type": "stream",
          "name": "stdout",
          "text": [
            "1_DL.ipynb  churn_model.h5       feature_scaling_model.pkl\n",
            "2_DL.ipynb  Churn_Modelling.csv\n"
          ]
        }
      ]
    },
    {
      "cell_type": "code",
      "execution_count": 5,
      "metadata": {
        "id": "UegwL9pATSzv"
      },
      "outputs": [],
      "source": [
        "import tensorflow"
      ]
    },
    {
      "cell_type": "code",
      "source": [
        "tensorflow.__version__"
      ],
      "metadata": {
        "colab": {
          "base_uri": "https://localhost:8080/",
          "height": 35
        },
        "id": "XND7YdzdTYoe",
        "outputId": "d0c23039-e59a-4baa-d76f-66df809578e2"
      },
      "execution_count": 6,
      "outputs": [
        {
          "output_type": "execute_result",
          "data": {
            "text/plain": [
              "'2.8.0'"
            ],
            "application/vnd.google.colaboratory.intrinsic+json": {
              "type": "string"
            }
          },
          "metadata": {},
          "execution_count": 6
        }
      ]
    },
    {
      "cell_type": "code",
      "source": [
        "import pandas as pd\n",
        "import numpy as np\n",
        "\n",
        "from sklearn.model_selection import train_test_split\n",
        "from sklearn.preprocessing import StandardScaler\n",
        "from sklearn.metrics import confusion_matrix\n",
        "\n",
        "\n",
        "# importing tensoflow libraries\n",
        "import tensorflow as tf\n",
        "from tensorflow.keras.models import Sequential\n",
        "from tensorflow.keras.layers import Dense , Dropout"
      ],
      "metadata": {
        "id": "mT94HWGYTco_"
      },
      "execution_count": 7,
      "outputs": []
    },
    {
      "cell_type": "code",
      "source": [
        "import pandas as pd\n",
        " \n",
        "df = pd.read_csv('Churn_Modelling.csv')"
      ],
      "metadata": {
        "id": "16wBmzIUTyg7"
      },
      "execution_count": 8,
      "outputs": []
    },
    {
      "cell_type": "code",
      "source": [
        "df.head(5)"
      ],
      "metadata": {
        "colab": {
          "base_uri": "https://localhost:8080/",
          "height": 270
        },
        "id": "jVn_bSlaT9uu",
        "outputId": "aec522f2-b6cc-40ae-b62c-c2949674d092"
      },
      "execution_count": 9,
      "outputs": [
        {
          "output_type": "execute_result",
          "data": {
            "text/plain": [
              "   RowNumber  CustomerId   Surname  CreditScore Geography  Gender  Age  \\\n",
              "0          1    15634602  Hargrave          619    France  Female   42   \n",
              "1          2    15647311      Hill          608     Spain  Female   41   \n",
              "2          3    15619304      Onio          502    France  Female   42   \n",
              "3          4    15701354      Boni          699    France  Female   39   \n",
              "4          5    15737888  Mitchell          850     Spain  Female   43   \n",
              "\n",
              "   Tenure    Balance  NumOfProducts  HasCrCard  IsActiveMember  \\\n",
              "0       2       0.00              1          1               1   \n",
              "1       1   83807.86              1          0               1   \n",
              "2       8  159660.80              3          1               0   \n",
              "3       1       0.00              2          0               0   \n",
              "4       2  125510.82              1          1               1   \n",
              "\n",
              "   EstimatedSalary  Exited  \n",
              "0        101348.88       1  \n",
              "1        112542.58       0  \n",
              "2        113931.57       1  \n",
              "3         93826.63       0  \n",
              "4         79084.10       0  "
            ],
            "text/html": [
              "\n",
              "  <div id=\"df-537b3305-e6ba-4805-8c96-53b775c67f79\">\n",
              "    <div class=\"colab-df-container\">\n",
              "      <div>\n",
              "<style scoped>\n",
              "    .dataframe tbody tr th:only-of-type {\n",
              "        vertical-align: middle;\n",
              "    }\n",
              "\n",
              "    .dataframe tbody tr th {\n",
              "        vertical-align: top;\n",
              "    }\n",
              "\n",
              "    .dataframe thead th {\n",
              "        text-align: right;\n",
              "    }\n",
              "</style>\n",
              "<table border=\"1\" class=\"dataframe\">\n",
              "  <thead>\n",
              "    <tr style=\"text-align: right;\">\n",
              "      <th></th>\n",
              "      <th>RowNumber</th>\n",
              "      <th>CustomerId</th>\n",
              "      <th>Surname</th>\n",
              "      <th>CreditScore</th>\n",
              "      <th>Geography</th>\n",
              "      <th>Gender</th>\n",
              "      <th>Age</th>\n",
              "      <th>Tenure</th>\n",
              "      <th>Balance</th>\n",
              "      <th>NumOfProducts</th>\n",
              "      <th>HasCrCard</th>\n",
              "      <th>IsActiveMember</th>\n",
              "      <th>EstimatedSalary</th>\n",
              "      <th>Exited</th>\n",
              "    </tr>\n",
              "  </thead>\n",
              "  <tbody>\n",
              "    <tr>\n",
              "      <th>0</th>\n",
              "      <td>1</td>\n",
              "      <td>15634602</td>\n",
              "      <td>Hargrave</td>\n",
              "      <td>619</td>\n",
              "      <td>France</td>\n",
              "      <td>Female</td>\n",
              "      <td>42</td>\n",
              "      <td>2</td>\n",
              "      <td>0.00</td>\n",
              "      <td>1</td>\n",
              "      <td>1</td>\n",
              "      <td>1</td>\n",
              "      <td>101348.88</td>\n",
              "      <td>1</td>\n",
              "    </tr>\n",
              "    <tr>\n",
              "      <th>1</th>\n",
              "      <td>2</td>\n",
              "      <td>15647311</td>\n",
              "      <td>Hill</td>\n",
              "      <td>608</td>\n",
              "      <td>Spain</td>\n",
              "      <td>Female</td>\n",
              "      <td>41</td>\n",
              "      <td>1</td>\n",
              "      <td>83807.86</td>\n",
              "      <td>1</td>\n",
              "      <td>0</td>\n",
              "      <td>1</td>\n",
              "      <td>112542.58</td>\n",
              "      <td>0</td>\n",
              "    </tr>\n",
              "    <tr>\n",
              "      <th>2</th>\n",
              "      <td>3</td>\n",
              "      <td>15619304</td>\n",
              "      <td>Onio</td>\n",
              "      <td>502</td>\n",
              "      <td>France</td>\n",
              "      <td>Female</td>\n",
              "      <td>42</td>\n",
              "      <td>8</td>\n",
              "      <td>159660.80</td>\n",
              "      <td>3</td>\n",
              "      <td>1</td>\n",
              "      <td>0</td>\n",
              "      <td>113931.57</td>\n",
              "      <td>1</td>\n",
              "    </tr>\n",
              "    <tr>\n",
              "      <th>3</th>\n",
              "      <td>4</td>\n",
              "      <td>15701354</td>\n",
              "      <td>Boni</td>\n",
              "      <td>699</td>\n",
              "      <td>France</td>\n",
              "      <td>Female</td>\n",
              "      <td>39</td>\n",
              "      <td>1</td>\n",
              "      <td>0.00</td>\n",
              "      <td>2</td>\n",
              "      <td>0</td>\n",
              "      <td>0</td>\n",
              "      <td>93826.63</td>\n",
              "      <td>0</td>\n",
              "    </tr>\n",
              "    <tr>\n",
              "      <th>4</th>\n",
              "      <td>5</td>\n",
              "      <td>15737888</td>\n",
              "      <td>Mitchell</td>\n",
              "      <td>850</td>\n",
              "      <td>Spain</td>\n",
              "      <td>Female</td>\n",
              "      <td>43</td>\n",
              "      <td>2</td>\n",
              "      <td>125510.82</td>\n",
              "      <td>1</td>\n",
              "      <td>1</td>\n",
              "      <td>1</td>\n",
              "      <td>79084.10</td>\n",
              "      <td>0</td>\n",
              "    </tr>\n",
              "  </tbody>\n",
              "</table>\n",
              "</div>\n",
              "      <button class=\"colab-df-convert\" onclick=\"convertToInteractive('df-537b3305-e6ba-4805-8c96-53b775c67f79')\"\n",
              "              title=\"Convert this dataframe to an interactive table.\"\n",
              "              style=\"display:none;\">\n",
              "        \n",
              "  <svg xmlns=\"http://www.w3.org/2000/svg\" height=\"24px\"viewBox=\"0 0 24 24\"\n",
              "       width=\"24px\">\n",
              "    <path d=\"M0 0h24v24H0V0z\" fill=\"none\"/>\n",
              "    <path d=\"M18.56 5.44l.94 2.06.94-2.06 2.06-.94-2.06-.94-.94-2.06-.94 2.06-2.06.94zm-11 1L8.5 8.5l.94-2.06 2.06-.94-2.06-.94L8.5 2.5l-.94 2.06-2.06.94zm10 10l.94 2.06.94-2.06 2.06-.94-2.06-.94-.94-2.06-.94 2.06-2.06.94z\"/><path d=\"M17.41 7.96l-1.37-1.37c-.4-.4-.92-.59-1.43-.59-.52 0-1.04.2-1.43.59L10.3 9.45l-7.72 7.72c-.78.78-.78 2.05 0 2.83L4 21.41c.39.39.9.59 1.41.59.51 0 1.02-.2 1.41-.59l7.78-7.78 2.81-2.81c.8-.78.8-2.07 0-2.86zM5.41 20L4 18.59l7.72-7.72 1.47 1.35L5.41 20z\"/>\n",
              "  </svg>\n",
              "      </button>\n",
              "      \n",
              "  <style>\n",
              "    .colab-df-container {\n",
              "      display:flex;\n",
              "      flex-wrap:wrap;\n",
              "      gap: 12px;\n",
              "    }\n",
              "\n",
              "    .colab-df-convert {\n",
              "      background-color: #E8F0FE;\n",
              "      border: none;\n",
              "      border-radius: 50%;\n",
              "      cursor: pointer;\n",
              "      display: none;\n",
              "      fill: #1967D2;\n",
              "      height: 32px;\n",
              "      padding: 0 0 0 0;\n",
              "      width: 32px;\n",
              "    }\n",
              "\n",
              "    .colab-df-convert:hover {\n",
              "      background-color: #E2EBFA;\n",
              "      box-shadow: 0px 1px 2px rgba(60, 64, 67, 0.3), 0px 1px 3px 1px rgba(60, 64, 67, 0.15);\n",
              "      fill: #174EA6;\n",
              "    }\n",
              "\n",
              "    [theme=dark] .colab-df-convert {\n",
              "      background-color: #3B4455;\n",
              "      fill: #D2E3FC;\n",
              "    }\n",
              "\n",
              "    [theme=dark] .colab-df-convert:hover {\n",
              "      background-color: #434B5C;\n",
              "      box-shadow: 0px 1px 3px 1px rgba(0, 0, 0, 0.15);\n",
              "      filter: drop-shadow(0px 1px 2px rgba(0, 0, 0, 0.3));\n",
              "      fill: #FFFFFF;\n",
              "    }\n",
              "  </style>\n",
              "\n",
              "      <script>\n",
              "        const buttonEl =\n",
              "          document.querySelector('#df-537b3305-e6ba-4805-8c96-53b775c67f79 button.colab-df-convert');\n",
              "        buttonEl.style.display =\n",
              "          google.colab.kernel.accessAllowed ? 'block' : 'none';\n",
              "\n",
              "        async function convertToInteractive(key) {\n",
              "          const element = document.querySelector('#df-537b3305-e6ba-4805-8c96-53b775c67f79');\n",
              "          const dataTable =\n",
              "            await google.colab.kernel.invokeFunction('convertToInteractive',\n",
              "                                                     [key], {});\n",
              "          if (!dataTable) return;\n",
              "\n",
              "          const docLinkHtml = 'Like what you see? Visit the ' +\n",
              "            '<a target=\"_blank\" href=https://colab.research.google.com/notebooks/data_table.ipynb>data table notebook</a>'\n",
              "            + ' to learn more about interactive tables.';\n",
              "          element.innerHTML = '';\n",
              "          dataTable['output_type'] = 'display_data';\n",
              "          await google.colab.output.renderOutput(dataTable, element);\n",
              "          const docLink = document.createElement('div');\n",
              "          docLink.innerHTML = docLinkHtml;\n",
              "          element.appendChild(docLink);\n",
              "        }\n",
              "      </script>\n",
              "    </div>\n",
              "  </div>\n",
              "  "
            ]
          },
          "metadata": {},
          "execution_count": 9
        }
      ]
    },
    {
      "cell_type": "code",
      "source": [
        "df.describe()"
      ],
      "metadata": {
        "colab": {
          "base_uri": "https://localhost:8080/",
          "height": 364
        },
        "id": "0YB4C5hh-jld",
        "outputId": "6462ea3c-2cbd-406b-c537-34b8d89144d5"
      },
      "execution_count": 10,
      "outputs": [
        {
          "output_type": "execute_result",
          "data": {
            "text/plain": [
              "         RowNumber    CustomerId   CreditScore           Age        Tenure  \\\n",
              "count  10000.00000  1.000000e+04  10000.000000  10000.000000  10000.000000   \n",
              "mean    5000.50000  1.569094e+07    650.528800     38.921800      5.012800   \n",
              "std     2886.89568  7.193619e+04     96.653299     10.487806      2.892174   \n",
              "min        1.00000  1.556570e+07    350.000000     18.000000      0.000000   \n",
              "25%     2500.75000  1.562853e+07    584.000000     32.000000      3.000000   \n",
              "50%     5000.50000  1.569074e+07    652.000000     37.000000      5.000000   \n",
              "75%     7500.25000  1.575323e+07    718.000000     44.000000      7.000000   \n",
              "max    10000.00000  1.581569e+07    850.000000     92.000000     10.000000   \n",
              "\n",
              "             Balance  NumOfProducts    HasCrCard  IsActiveMember  \\\n",
              "count   10000.000000   10000.000000  10000.00000    10000.000000   \n",
              "mean    76485.889288       1.530200      0.70550        0.515100   \n",
              "std     62397.405202       0.581654      0.45584        0.499797   \n",
              "min         0.000000       1.000000      0.00000        0.000000   \n",
              "25%         0.000000       1.000000      0.00000        0.000000   \n",
              "50%     97198.540000       1.000000      1.00000        1.000000   \n",
              "75%    127644.240000       2.000000      1.00000        1.000000   \n",
              "max    250898.090000       4.000000      1.00000        1.000000   \n",
              "\n",
              "       EstimatedSalary        Exited  \n",
              "count     10000.000000  10000.000000  \n",
              "mean     100090.239881      0.203700  \n",
              "std       57510.492818      0.402769  \n",
              "min          11.580000      0.000000  \n",
              "25%       51002.110000      0.000000  \n",
              "50%      100193.915000      0.000000  \n",
              "75%      149388.247500      0.000000  \n",
              "max      199992.480000      1.000000  "
            ],
            "text/html": [
              "\n",
              "  <div id=\"df-0a3e0e84-2ca7-42e1-88be-4ed769555fae\">\n",
              "    <div class=\"colab-df-container\">\n",
              "      <div>\n",
              "<style scoped>\n",
              "    .dataframe tbody tr th:only-of-type {\n",
              "        vertical-align: middle;\n",
              "    }\n",
              "\n",
              "    .dataframe tbody tr th {\n",
              "        vertical-align: top;\n",
              "    }\n",
              "\n",
              "    .dataframe thead th {\n",
              "        text-align: right;\n",
              "    }\n",
              "</style>\n",
              "<table border=\"1\" class=\"dataframe\">\n",
              "  <thead>\n",
              "    <tr style=\"text-align: right;\">\n",
              "      <th></th>\n",
              "      <th>RowNumber</th>\n",
              "      <th>CustomerId</th>\n",
              "      <th>CreditScore</th>\n",
              "      <th>Age</th>\n",
              "      <th>Tenure</th>\n",
              "      <th>Balance</th>\n",
              "      <th>NumOfProducts</th>\n",
              "      <th>HasCrCard</th>\n",
              "      <th>IsActiveMember</th>\n",
              "      <th>EstimatedSalary</th>\n",
              "      <th>Exited</th>\n",
              "    </tr>\n",
              "  </thead>\n",
              "  <tbody>\n",
              "    <tr>\n",
              "      <th>count</th>\n",
              "      <td>10000.00000</td>\n",
              "      <td>1.000000e+04</td>\n",
              "      <td>10000.000000</td>\n",
              "      <td>10000.000000</td>\n",
              "      <td>10000.000000</td>\n",
              "      <td>10000.000000</td>\n",
              "      <td>10000.000000</td>\n",
              "      <td>10000.00000</td>\n",
              "      <td>10000.000000</td>\n",
              "      <td>10000.000000</td>\n",
              "      <td>10000.000000</td>\n",
              "    </tr>\n",
              "    <tr>\n",
              "      <th>mean</th>\n",
              "      <td>5000.50000</td>\n",
              "      <td>1.569094e+07</td>\n",
              "      <td>650.528800</td>\n",
              "      <td>38.921800</td>\n",
              "      <td>5.012800</td>\n",
              "      <td>76485.889288</td>\n",
              "      <td>1.530200</td>\n",
              "      <td>0.70550</td>\n",
              "      <td>0.515100</td>\n",
              "      <td>100090.239881</td>\n",
              "      <td>0.203700</td>\n",
              "    </tr>\n",
              "    <tr>\n",
              "      <th>std</th>\n",
              "      <td>2886.89568</td>\n",
              "      <td>7.193619e+04</td>\n",
              "      <td>96.653299</td>\n",
              "      <td>10.487806</td>\n",
              "      <td>2.892174</td>\n",
              "      <td>62397.405202</td>\n",
              "      <td>0.581654</td>\n",
              "      <td>0.45584</td>\n",
              "      <td>0.499797</td>\n",
              "      <td>57510.492818</td>\n",
              "      <td>0.402769</td>\n",
              "    </tr>\n",
              "    <tr>\n",
              "      <th>min</th>\n",
              "      <td>1.00000</td>\n",
              "      <td>1.556570e+07</td>\n",
              "      <td>350.000000</td>\n",
              "      <td>18.000000</td>\n",
              "      <td>0.000000</td>\n",
              "      <td>0.000000</td>\n",
              "      <td>1.000000</td>\n",
              "      <td>0.00000</td>\n",
              "      <td>0.000000</td>\n",
              "      <td>11.580000</td>\n",
              "      <td>0.000000</td>\n",
              "    </tr>\n",
              "    <tr>\n",
              "      <th>25%</th>\n",
              "      <td>2500.75000</td>\n",
              "      <td>1.562853e+07</td>\n",
              "      <td>584.000000</td>\n",
              "      <td>32.000000</td>\n",
              "      <td>3.000000</td>\n",
              "      <td>0.000000</td>\n",
              "      <td>1.000000</td>\n",
              "      <td>0.00000</td>\n",
              "      <td>0.000000</td>\n",
              "      <td>51002.110000</td>\n",
              "      <td>0.000000</td>\n",
              "    </tr>\n",
              "    <tr>\n",
              "      <th>50%</th>\n",
              "      <td>5000.50000</td>\n",
              "      <td>1.569074e+07</td>\n",
              "      <td>652.000000</td>\n",
              "      <td>37.000000</td>\n",
              "      <td>5.000000</td>\n",
              "      <td>97198.540000</td>\n",
              "      <td>1.000000</td>\n",
              "      <td>1.00000</td>\n",
              "      <td>1.000000</td>\n",
              "      <td>100193.915000</td>\n",
              "      <td>0.000000</td>\n",
              "    </tr>\n",
              "    <tr>\n",
              "      <th>75%</th>\n",
              "      <td>7500.25000</td>\n",
              "      <td>1.575323e+07</td>\n",
              "      <td>718.000000</td>\n",
              "      <td>44.000000</td>\n",
              "      <td>7.000000</td>\n",
              "      <td>127644.240000</td>\n",
              "      <td>2.000000</td>\n",
              "      <td>1.00000</td>\n",
              "      <td>1.000000</td>\n",
              "      <td>149388.247500</td>\n",
              "      <td>0.000000</td>\n",
              "    </tr>\n",
              "    <tr>\n",
              "      <th>max</th>\n",
              "      <td>10000.00000</td>\n",
              "      <td>1.581569e+07</td>\n",
              "      <td>850.000000</td>\n",
              "      <td>92.000000</td>\n",
              "      <td>10.000000</td>\n",
              "      <td>250898.090000</td>\n",
              "      <td>4.000000</td>\n",
              "      <td>1.00000</td>\n",
              "      <td>1.000000</td>\n",
              "      <td>199992.480000</td>\n",
              "      <td>1.000000</td>\n",
              "    </tr>\n",
              "  </tbody>\n",
              "</table>\n",
              "</div>\n",
              "      <button class=\"colab-df-convert\" onclick=\"convertToInteractive('df-0a3e0e84-2ca7-42e1-88be-4ed769555fae')\"\n",
              "              title=\"Convert this dataframe to an interactive table.\"\n",
              "              style=\"display:none;\">\n",
              "        \n",
              "  <svg xmlns=\"http://www.w3.org/2000/svg\" height=\"24px\"viewBox=\"0 0 24 24\"\n",
              "       width=\"24px\">\n",
              "    <path d=\"M0 0h24v24H0V0z\" fill=\"none\"/>\n",
              "    <path d=\"M18.56 5.44l.94 2.06.94-2.06 2.06-.94-2.06-.94-.94-2.06-.94 2.06-2.06.94zm-11 1L8.5 8.5l.94-2.06 2.06-.94-2.06-.94L8.5 2.5l-.94 2.06-2.06.94zm10 10l.94 2.06.94-2.06 2.06-.94-2.06-.94-.94-2.06-.94 2.06-2.06.94z\"/><path d=\"M17.41 7.96l-1.37-1.37c-.4-.4-.92-.59-1.43-.59-.52 0-1.04.2-1.43.59L10.3 9.45l-7.72 7.72c-.78.78-.78 2.05 0 2.83L4 21.41c.39.39.9.59 1.41.59.51 0 1.02-.2 1.41-.59l7.78-7.78 2.81-2.81c.8-.78.8-2.07 0-2.86zM5.41 20L4 18.59l7.72-7.72 1.47 1.35L5.41 20z\"/>\n",
              "  </svg>\n",
              "      </button>\n",
              "      \n",
              "  <style>\n",
              "    .colab-df-container {\n",
              "      display:flex;\n",
              "      flex-wrap:wrap;\n",
              "      gap: 12px;\n",
              "    }\n",
              "\n",
              "    .colab-df-convert {\n",
              "      background-color: #E8F0FE;\n",
              "      border: none;\n",
              "      border-radius: 50%;\n",
              "      cursor: pointer;\n",
              "      display: none;\n",
              "      fill: #1967D2;\n",
              "      height: 32px;\n",
              "      padding: 0 0 0 0;\n",
              "      width: 32px;\n",
              "    }\n",
              "\n",
              "    .colab-df-convert:hover {\n",
              "      background-color: #E2EBFA;\n",
              "      box-shadow: 0px 1px 2px rgba(60, 64, 67, 0.3), 0px 1px 3px 1px rgba(60, 64, 67, 0.15);\n",
              "      fill: #174EA6;\n",
              "    }\n",
              "\n",
              "    [theme=dark] .colab-df-convert {\n",
              "      background-color: #3B4455;\n",
              "      fill: #D2E3FC;\n",
              "    }\n",
              "\n",
              "    [theme=dark] .colab-df-convert:hover {\n",
              "      background-color: #434B5C;\n",
              "      box-shadow: 0px 1px 3px 1px rgba(0, 0, 0, 0.15);\n",
              "      filter: drop-shadow(0px 1px 2px rgba(0, 0, 0, 0.3));\n",
              "      fill: #FFFFFF;\n",
              "    }\n",
              "  </style>\n",
              "\n",
              "      <script>\n",
              "        const buttonEl =\n",
              "          document.querySelector('#df-0a3e0e84-2ca7-42e1-88be-4ed769555fae button.colab-df-convert');\n",
              "        buttonEl.style.display =\n",
              "          google.colab.kernel.accessAllowed ? 'block' : 'none';\n",
              "\n",
              "        async function convertToInteractive(key) {\n",
              "          const element = document.querySelector('#df-0a3e0e84-2ca7-42e1-88be-4ed769555fae');\n",
              "          const dataTable =\n",
              "            await google.colab.kernel.invokeFunction('convertToInteractive',\n",
              "                                                     [key], {});\n",
              "          if (!dataTable) return;\n",
              "\n",
              "          const docLinkHtml = 'Like what you see? Visit the ' +\n",
              "            '<a target=\"_blank\" href=https://colab.research.google.com/notebooks/data_table.ipynb>data table notebook</a>'\n",
              "            + ' to learn more about interactive tables.';\n",
              "          element.innerHTML = '';\n",
              "          dataTable['output_type'] = 'display_data';\n",
              "          await google.colab.output.renderOutput(dataTable, element);\n",
              "          const docLink = document.createElement('div');\n",
              "          docLink.innerHTML = docLinkHtml;\n",
              "          element.appendChild(docLink);\n",
              "        }\n",
              "      </script>\n",
              "    </div>\n",
              "  </div>\n",
              "  "
            ]
          },
          "metadata": {},
          "execution_count": 10
        }
      ]
    },
    {
      "cell_type": "code",
      "source": [
        "df.info()"
      ],
      "metadata": {
        "id": "mMf61vi3XWd5",
        "colab": {
          "base_uri": "https://localhost:8080/"
        },
        "outputId": "f97f52af-c0f8-432b-cbff-7e01e2533db5"
      },
      "execution_count": 11,
      "outputs": [
        {
          "output_type": "stream",
          "name": "stdout",
          "text": [
            "<class 'pandas.core.frame.DataFrame'>\n",
            "RangeIndex: 10000 entries, 0 to 9999\n",
            "Data columns (total 14 columns):\n",
            " #   Column           Non-Null Count  Dtype  \n",
            "---  ------           --------------  -----  \n",
            " 0   RowNumber        10000 non-null  int64  \n",
            " 1   CustomerId       10000 non-null  int64  \n",
            " 2   Surname          10000 non-null  object \n",
            " 3   CreditScore      10000 non-null  int64  \n",
            " 4   Geography        10000 non-null  object \n",
            " 5   Gender           10000 non-null  object \n",
            " 6   Age              10000 non-null  int64  \n",
            " 7   Tenure           10000 non-null  int64  \n",
            " 8   Balance          10000 non-null  float64\n",
            " 9   NumOfProducts    10000 non-null  int64  \n",
            " 10  HasCrCard        10000 non-null  int64  \n",
            " 11  IsActiveMember   10000 non-null  int64  \n",
            " 12  EstimatedSalary  10000 non-null  float64\n",
            " 13  Exited           10000 non-null  int64  \n",
            "dtypes: float64(2), int64(9), object(3)\n",
            "memory usage: 1.1+ MB\n"
          ]
        }
      ]
    },
    {
      "cell_type": "code",
      "source": [
        "# split into dependent and independ varibales\n",
        "X = df.iloc[: , 3:13]\n",
        "y = df.iloc[: , 13]"
      ],
      "metadata": {
        "id": "JX5CGzk0_GAJ"
      },
      "execution_count": 12,
      "outputs": []
    },
    {
      "cell_type": "code",
      "source": [
        "X.info()"
      ],
      "metadata": {
        "colab": {
          "base_uri": "https://localhost:8080/"
        },
        "id": "DFqQxv7i_jBY",
        "outputId": "85a3b7df-dc81-4db4-fb2d-fdf8b1d2df55"
      },
      "execution_count": 13,
      "outputs": [
        {
          "output_type": "stream",
          "name": "stdout",
          "text": [
            "<class 'pandas.core.frame.DataFrame'>\n",
            "RangeIndex: 10000 entries, 0 to 9999\n",
            "Data columns (total 10 columns):\n",
            " #   Column           Non-Null Count  Dtype  \n",
            "---  ------           --------------  -----  \n",
            " 0   CreditScore      10000 non-null  int64  \n",
            " 1   Geography        10000 non-null  object \n",
            " 2   Gender           10000 non-null  object \n",
            " 3   Age              10000 non-null  int64  \n",
            " 4   Tenure           10000 non-null  int64  \n",
            " 5   Balance          10000 non-null  float64\n",
            " 6   NumOfProducts    10000 non-null  int64  \n",
            " 7   HasCrCard        10000 non-null  int64  \n",
            " 8   IsActiveMember   10000 non-null  int64  \n",
            " 9   EstimatedSalary  10000 non-null  float64\n",
            "dtypes: float64(2), int64(6), object(2)\n",
            "memory usage: 781.4+ KB\n"
          ]
        }
      ]
    },
    {
      "cell_type": "code",
      "source": [
        "# on hot encoding\n",
        "geography = pd.get_dummies(X['Geography'], drop_first = True)\n",
        "gender = pd.get_dummies(X['Gender'] , drop_first= True)"
      ],
      "metadata": {
        "id": "-KM9XW1K_5wB"
      },
      "execution_count": 14,
      "outputs": []
    },
    {
      "cell_type": "code",
      "source": [
        "# merging to df\n",
        "X = pd.concat([X ,geography, gender], axis = 1)"
      ],
      "metadata": {
        "id": "iExc0G-W_-0g"
      },
      "execution_count": 15,
      "outputs": []
    },
    {
      "cell_type": "code",
      "source": [
        "X.head(5)"
      ],
      "metadata": {
        "colab": {
          "base_uri": "https://localhost:8080/",
          "height": 270
        },
        "id": "l2hPfEDKACoi",
        "outputId": "c05f021b-5afb-470e-eb5c-cc814e1296fd"
      },
      "execution_count": 16,
      "outputs": [
        {
          "output_type": "execute_result",
          "data": {
            "text/plain": [
              "   CreditScore Geography  Gender  Age  Tenure    Balance  NumOfProducts  \\\n",
              "0          619    France  Female   42       2       0.00              1   \n",
              "1          608     Spain  Female   41       1   83807.86              1   \n",
              "2          502    France  Female   42       8  159660.80              3   \n",
              "3          699    France  Female   39       1       0.00              2   \n",
              "4          850     Spain  Female   43       2  125510.82              1   \n",
              "\n",
              "   HasCrCard  IsActiveMember  EstimatedSalary  Germany  Spain  Male  \n",
              "0          1               1        101348.88        0      0     0  \n",
              "1          0               1        112542.58        0      1     0  \n",
              "2          1               0        113931.57        0      0     0  \n",
              "3          0               0         93826.63        0      0     0  \n",
              "4          1               1         79084.10        0      1     0  "
            ],
            "text/html": [
              "\n",
              "  <div id=\"df-9c185628-4e63-45d4-bdec-4fcde0dd8900\">\n",
              "    <div class=\"colab-df-container\">\n",
              "      <div>\n",
              "<style scoped>\n",
              "    .dataframe tbody tr th:only-of-type {\n",
              "        vertical-align: middle;\n",
              "    }\n",
              "\n",
              "    .dataframe tbody tr th {\n",
              "        vertical-align: top;\n",
              "    }\n",
              "\n",
              "    .dataframe thead th {\n",
              "        text-align: right;\n",
              "    }\n",
              "</style>\n",
              "<table border=\"1\" class=\"dataframe\">\n",
              "  <thead>\n",
              "    <tr style=\"text-align: right;\">\n",
              "      <th></th>\n",
              "      <th>CreditScore</th>\n",
              "      <th>Geography</th>\n",
              "      <th>Gender</th>\n",
              "      <th>Age</th>\n",
              "      <th>Tenure</th>\n",
              "      <th>Balance</th>\n",
              "      <th>NumOfProducts</th>\n",
              "      <th>HasCrCard</th>\n",
              "      <th>IsActiveMember</th>\n",
              "      <th>EstimatedSalary</th>\n",
              "      <th>Germany</th>\n",
              "      <th>Spain</th>\n",
              "      <th>Male</th>\n",
              "    </tr>\n",
              "  </thead>\n",
              "  <tbody>\n",
              "    <tr>\n",
              "      <th>0</th>\n",
              "      <td>619</td>\n",
              "      <td>France</td>\n",
              "      <td>Female</td>\n",
              "      <td>42</td>\n",
              "      <td>2</td>\n",
              "      <td>0.00</td>\n",
              "      <td>1</td>\n",
              "      <td>1</td>\n",
              "      <td>1</td>\n",
              "      <td>101348.88</td>\n",
              "      <td>0</td>\n",
              "      <td>0</td>\n",
              "      <td>0</td>\n",
              "    </tr>\n",
              "    <tr>\n",
              "      <th>1</th>\n",
              "      <td>608</td>\n",
              "      <td>Spain</td>\n",
              "      <td>Female</td>\n",
              "      <td>41</td>\n",
              "      <td>1</td>\n",
              "      <td>83807.86</td>\n",
              "      <td>1</td>\n",
              "      <td>0</td>\n",
              "      <td>1</td>\n",
              "      <td>112542.58</td>\n",
              "      <td>0</td>\n",
              "      <td>1</td>\n",
              "      <td>0</td>\n",
              "    </tr>\n",
              "    <tr>\n",
              "      <th>2</th>\n",
              "      <td>502</td>\n",
              "      <td>France</td>\n",
              "      <td>Female</td>\n",
              "      <td>42</td>\n",
              "      <td>8</td>\n",
              "      <td>159660.80</td>\n",
              "      <td>3</td>\n",
              "      <td>1</td>\n",
              "      <td>0</td>\n",
              "      <td>113931.57</td>\n",
              "      <td>0</td>\n",
              "      <td>0</td>\n",
              "      <td>0</td>\n",
              "    </tr>\n",
              "    <tr>\n",
              "      <th>3</th>\n",
              "      <td>699</td>\n",
              "      <td>France</td>\n",
              "      <td>Female</td>\n",
              "      <td>39</td>\n",
              "      <td>1</td>\n",
              "      <td>0.00</td>\n",
              "      <td>2</td>\n",
              "      <td>0</td>\n",
              "      <td>0</td>\n",
              "      <td>93826.63</td>\n",
              "      <td>0</td>\n",
              "      <td>0</td>\n",
              "      <td>0</td>\n",
              "    </tr>\n",
              "    <tr>\n",
              "      <th>4</th>\n",
              "      <td>850</td>\n",
              "      <td>Spain</td>\n",
              "      <td>Female</td>\n",
              "      <td>43</td>\n",
              "      <td>2</td>\n",
              "      <td>125510.82</td>\n",
              "      <td>1</td>\n",
              "      <td>1</td>\n",
              "      <td>1</td>\n",
              "      <td>79084.10</td>\n",
              "      <td>0</td>\n",
              "      <td>1</td>\n",
              "      <td>0</td>\n",
              "    </tr>\n",
              "  </tbody>\n",
              "</table>\n",
              "</div>\n",
              "      <button class=\"colab-df-convert\" onclick=\"convertToInteractive('df-9c185628-4e63-45d4-bdec-4fcde0dd8900')\"\n",
              "              title=\"Convert this dataframe to an interactive table.\"\n",
              "              style=\"display:none;\">\n",
              "        \n",
              "  <svg xmlns=\"http://www.w3.org/2000/svg\" height=\"24px\"viewBox=\"0 0 24 24\"\n",
              "       width=\"24px\">\n",
              "    <path d=\"M0 0h24v24H0V0z\" fill=\"none\"/>\n",
              "    <path d=\"M18.56 5.44l.94 2.06.94-2.06 2.06-.94-2.06-.94-.94-2.06-.94 2.06-2.06.94zm-11 1L8.5 8.5l.94-2.06 2.06-.94-2.06-.94L8.5 2.5l-.94 2.06-2.06.94zm10 10l.94 2.06.94-2.06 2.06-.94-2.06-.94-.94-2.06-.94 2.06-2.06.94z\"/><path d=\"M17.41 7.96l-1.37-1.37c-.4-.4-.92-.59-1.43-.59-.52 0-1.04.2-1.43.59L10.3 9.45l-7.72 7.72c-.78.78-.78 2.05 0 2.83L4 21.41c.39.39.9.59 1.41.59.51 0 1.02-.2 1.41-.59l7.78-7.78 2.81-2.81c.8-.78.8-2.07 0-2.86zM5.41 20L4 18.59l7.72-7.72 1.47 1.35L5.41 20z\"/>\n",
              "  </svg>\n",
              "      </button>\n",
              "      \n",
              "  <style>\n",
              "    .colab-df-container {\n",
              "      display:flex;\n",
              "      flex-wrap:wrap;\n",
              "      gap: 12px;\n",
              "    }\n",
              "\n",
              "    .colab-df-convert {\n",
              "      background-color: #E8F0FE;\n",
              "      border: none;\n",
              "      border-radius: 50%;\n",
              "      cursor: pointer;\n",
              "      display: none;\n",
              "      fill: #1967D2;\n",
              "      height: 32px;\n",
              "      padding: 0 0 0 0;\n",
              "      width: 32px;\n",
              "    }\n",
              "\n",
              "    .colab-df-convert:hover {\n",
              "      background-color: #E2EBFA;\n",
              "      box-shadow: 0px 1px 2px rgba(60, 64, 67, 0.3), 0px 1px 3px 1px rgba(60, 64, 67, 0.15);\n",
              "      fill: #174EA6;\n",
              "    }\n",
              "\n",
              "    [theme=dark] .colab-df-convert {\n",
              "      background-color: #3B4455;\n",
              "      fill: #D2E3FC;\n",
              "    }\n",
              "\n",
              "    [theme=dark] .colab-df-convert:hover {\n",
              "      background-color: #434B5C;\n",
              "      box-shadow: 0px 1px 3px 1px rgba(0, 0, 0, 0.15);\n",
              "      filter: drop-shadow(0px 1px 2px rgba(0, 0, 0, 0.3));\n",
              "      fill: #FFFFFF;\n",
              "    }\n",
              "  </style>\n",
              "\n",
              "      <script>\n",
              "        const buttonEl =\n",
              "          document.querySelector('#df-9c185628-4e63-45d4-bdec-4fcde0dd8900 button.colab-df-convert');\n",
              "        buttonEl.style.display =\n",
              "          google.colab.kernel.accessAllowed ? 'block' : 'none';\n",
              "\n",
              "        async function convertToInteractive(key) {\n",
              "          const element = document.querySelector('#df-9c185628-4e63-45d4-bdec-4fcde0dd8900');\n",
              "          const dataTable =\n",
              "            await google.colab.kernel.invokeFunction('convertToInteractive',\n",
              "                                                     [key], {});\n",
              "          if (!dataTable) return;\n",
              "\n",
              "          const docLinkHtml = 'Like what you see? Visit the ' +\n",
              "            '<a target=\"_blank\" href=https://colab.research.google.com/notebooks/data_table.ipynb>data table notebook</a>'\n",
              "            + ' to learn more about interactive tables.';\n",
              "          element.innerHTML = '';\n",
              "          dataTable['output_type'] = 'display_data';\n",
              "          await google.colab.output.renderOutput(dataTable, element);\n",
              "          const docLink = document.createElement('div');\n",
              "          docLink.innerHTML = docLinkHtml;\n",
              "          element.appendChild(docLink);\n",
              "        }\n",
              "      </script>\n",
              "    </div>\n",
              "  </div>\n",
              "  "
            ]
          },
          "metadata": {},
          "execution_count": 16
        }
      ]
    },
    {
      "cell_type": "code",
      "source": [
        "# dropping the \n",
        "X = X.drop(columns=['Geography','Gender'], axis = 1)"
      ],
      "metadata": {
        "id": "YjAc-nheAGZB"
      },
      "execution_count": 17,
      "outputs": []
    },
    {
      "cell_type": "code",
      "source": [
        "X.head(5)"
      ],
      "metadata": {
        "colab": {
          "base_uri": "https://localhost:8080/",
          "height": 250
        },
        "id": "oHQu22KYAbau",
        "outputId": "404b8b9f-61b7-4d0f-abbc-0d50d3375417"
      },
      "execution_count": 18,
      "outputs": [
        {
          "output_type": "execute_result",
          "data": {
            "text/plain": [
              "   CreditScore  Age  Tenure    Balance  NumOfProducts  HasCrCard  \\\n",
              "0          619   42       2       0.00              1          1   \n",
              "1          608   41       1   83807.86              1          0   \n",
              "2          502   42       8  159660.80              3          1   \n",
              "3          699   39       1       0.00              2          0   \n",
              "4          850   43       2  125510.82              1          1   \n",
              "\n",
              "   IsActiveMember  EstimatedSalary  Germany  Spain  Male  \n",
              "0               1        101348.88        0      0     0  \n",
              "1               1        112542.58        0      1     0  \n",
              "2               0        113931.57        0      0     0  \n",
              "3               0         93826.63        0      0     0  \n",
              "4               1         79084.10        0      1     0  "
            ],
            "text/html": [
              "\n",
              "  <div id=\"df-c320d0f4-61dd-452d-8d33-b6cbd97b5685\">\n",
              "    <div class=\"colab-df-container\">\n",
              "      <div>\n",
              "<style scoped>\n",
              "    .dataframe tbody tr th:only-of-type {\n",
              "        vertical-align: middle;\n",
              "    }\n",
              "\n",
              "    .dataframe tbody tr th {\n",
              "        vertical-align: top;\n",
              "    }\n",
              "\n",
              "    .dataframe thead th {\n",
              "        text-align: right;\n",
              "    }\n",
              "</style>\n",
              "<table border=\"1\" class=\"dataframe\">\n",
              "  <thead>\n",
              "    <tr style=\"text-align: right;\">\n",
              "      <th></th>\n",
              "      <th>CreditScore</th>\n",
              "      <th>Age</th>\n",
              "      <th>Tenure</th>\n",
              "      <th>Balance</th>\n",
              "      <th>NumOfProducts</th>\n",
              "      <th>HasCrCard</th>\n",
              "      <th>IsActiveMember</th>\n",
              "      <th>EstimatedSalary</th>\n",
              "      <th>Germany</th>\n",
              "      <th>Spain</th>\n",
              "      <th>Male</th>\n",
              "    </tr>\n",
              "  </thead>\n",
              "  <tbody>\n",
              "    <tr>\n",
              "      <th>0</th>\n",
              "      <td>619</td>\n",
              "      <td>42</td>\n",
              "      <td>2</td>\n",
              "      <td>0.00</td>\n",
              "      <td>1</td>\n",
              "      <td>1</td>\n",
              "      <td>1</td>\n",
              "      <td>101348.88</td>\n",
              "      <td>0</td>\n",
              "      <td>0</td>\n",
              "      <td>0</td>\n",
              "    </tr>\n",
              "    <tr>\n",
              "      <th>1</th>\n",
              "      <td>608</td>\n",
              "      <td>41</td>\n",
              "      <td>1</td>\n",
              "      <td>83807.86</td>\n",
              "      <td>1</td>\n",
              "      <td>0</td>\n",
              "      <td>1</td>\n",
              "      <td>112542.58</td>\n",
              "      <td>0</td>\n",
              "      <td>1</td>\n",
              "      <td>0</td>\n",
              "    </tr>\n",
              "    <tr>\n",
              "      <th>2</th>\n",
              "      <td>502</td>\n",
              "      <td>42</td>\n",
              "      <td>8</td>\n",
              "      <td>159660.80</td>\n",
              "      <td>3</td>\n",
              "      <td>1</td>\n",
              "      <td>0</td>\n",
              "      <td>113931.57</td>\n",
              "      <td>0</td>\n",
              "      <td>0</td>\n",
              "      <td>0</td>\n",
              "    </tr>\n",
              "    <tr>\n",
              "      <th>3</th>\n",
              "      <td>699</td>\n",
              "      <td>39</td>\n",
              "      <td>1</td>\n",
              "      <td>0.00</td>\n",
              "      <td>2</td>\n",
              "      <td>0</td>\n",
              "      <td>0</td>\n",
              "      <td>93826.63</td>\n",
              "      <td>0</td>\n",
              "      <td>0</td>\n",
              "      <td>0</td>\n",
              "    </tr>\n",
              "    <tr>\n",
              "      <th>4</th>\n",
              "      <td>850</td>\n",
              "      <td>43</td>\n",
              "      <td>2</td>\n",
              "      <td>125510.82</td>\n",
              "      <td>1</td>\n",
              "      <td>1</td>\n",
              "      <td>1</td>\n",
              "      <td>79084.10</td>\n",
              "      <td>0</td>\n",
              "      <td>1</td>\n",
              "      <td>0</td>\n",
              "    </tr>\n",
              "  </tbody>\n",
              "</table>\n",
              "</div>\n",
              "      <button class=\"colab-df-convert\" onclick=\"convertToInteractive('df-c320d0f4-61dd-452d-8d33-b6cbd97b5685')\"\n",
              "              title=\"Convert this dataframe to an interactive table.\"\n",
              "              style=\"display:none;\">\n",
              "        \n",
              "  <svg xmlns=\"http://www.w3.org/2000/svg\" height=\"24px\"viewBox=\"0 0 24 24\"\n",
              "       width=\"24px\">\n",
              "    <path d=\"M0 0h24v24H0V0z\" fill=\"none\"/>\n",
              "    <path d=\"M18.56 5.44l.94 2.06.94-2.06 2.06-.94-2.06-.94-.94-2.06-.94 2.06-2.06.94zm-11 1L8.5 8.5l.94-2.06 2.06-.94-2.06-.94L8.5 2.5l-.94 2.06-2.06.94zm10 10l.94 2.06.94-2.06 2.06-.94-2.06-.94-.94-2.06-.94 2.06-2.06.94z\"/><path d=\"M17.41 7.96l-1.37-1.37c-.4-.4-.92-.59-1.43-.59-.52 0-1.04.2-1.43.59L10.3 9.45l-7.72 7.72c-.78.78-.78 2.05 0 2.83L4 21.41c.39.39.9.59 1.41.59.51 0 1.02-.2 1.41-.59l7.78-7.78 2.81-2.81c.8-.78.8-2.07 0-2.86zM5.41 20L4 18.59l7.72-7.72 1.47 1.35L5.41 20z\"/>\n",
              "  </svg>\n",
              "      </button>\n",
              "      \n",
              "  <style>\n",
              "    .colab-df-container {\n",
              "      display:flex;\n",
              "      flex-wrap:wrap;\n",
              "      gap: 12px;\n",
              "    }\n",
              "\n",
              "    .colab-df-convert {\n",
              "      background-color: #E8F0FE;\n",
              "      border: none;\n",
              "      border-radius: 50%;\n",
              "      cursor: pointer;\n",
              "      display: none;\n",
              "      fill: #1967D2;\n",
              "      height: 32px;\n",
              "      padding: 0 0 0 0;\n",
              "      width: 32px;\n",
              "    }\n",
              "\n",
              "    .colab-df-convert:hover {\n",
              "      background-color: #E2EBFA;\n",
              "      box-shadow: 0px 1px 2px rgba(60, 64, 67, 0.3), 0px 1px 3px 1px rgba(60, 64, 67, 0.15);\n",
              "      fill: #174EA6;\n",
              "    }\n",
              "\n",
              "    [theme=dark] .colab-df-convert {\n",
              "      background-color: #3B4455;\n",
              "      fill: #D2E3FC;\n",
              "    }\n",
              "\n",
              "    [theme=dark] .colab-df-convert:hover {\n",
              "      background-color: #434B5C;\n",
              "      box-shadow: 0px 1px 3px 1px rgba(0, 0, 0, 0.15);\n",
              "      filter: drop-shadow(0px 1px 2px rgba(0, 0, 0, 0.3));\n",
              "      fill: #FFFFFF;\n",
              "    }\n",
              "  </style>\n",
              "\n",
              "      <script>\n",
              "        const buttonEl =\n",
              "          document.querySelector('#df-c320d0f4-61dd-452d-8d33-b6cbd97b5685 button.colab-df-convert');\n",
              "        buttonEl.style.display =\n",
              "          google.colab.kernel.accessAllowed ? 'block' : 'none';\n",
              "\n",
              "        async function convertToInteractive(key) {\n",
              "          const element = document.querySelector('#df-c320d0f4-61dd-452d-8d33-b6cbd97b5685');\n",
              "          const dataTable =\n",
              "            await google.colab.kernel.invokeFunction('convertToInteractive',\n",
              "                                                     [key], {});\n",
              "          if (!dataTable) return;\n",
              "\n",
              "          const docLinkHtml = 'Like what you see? Visit the ' +\n",
              "            '<a target=\"_blank\" href=https://colab.research.google.com/notebooks/data_table.ipynb>data table notebook</a>'\n",
              "            + ' to learn more about interactive tables.';\n",
              "          element.innerHTML = '';\n",
              "          dataTable['output_type'] = 'display_data';\n",
              "          await google.colab.output.renderOutput(dataTable, element);\n",
              "          const docLink = document.createElement('div');\n",
              "          docLink.innerHTML = docLinkHtml;\n",
              "          element.appendChild(docLink);\n",
              "        }\n",
              "      </script>\n",
              "    </div>\n",
              "  </div>\n",
              "  "
            ]
          },
          "metadata": {},
          "execution_count": 18
        }
      ]
    },
    {
      "cell_type": "code",
      "source": [
        "X_train, X_test, y_train, y_test = train_test_split(X , y ,   test_size = 0.2, random_state = 101)"
      ],
      "metadata": {
        "id": "F8nXUvVsAdJK"
      },
      "execution_count": 19,
      "outputs": []
    },
    {
      "cell_type": "code",
      "source": [
        "# feature scaling\n",
        "sc= StandardScaler()\n",
        "X_train = sc.fit_transform(X_train)  \n",
        "X_test = sc.transform(X_test) # all the data should be in the Train data range"
      ],
      "metadata": {
        "id": "0lOFD34jBd_3"
      },
      "execution_count": 20,
      "outputs": []
    },
    {
      "cell_type": "markdown",
      "source": [
        "### Melwin Remember You are supposed to save the sc as Pickel as well because you are supposed to transform the scale as per the train data"
      ],
      "metadata": {
        "id": "gH_E0GHtDTVW"
      }
    },
    {
      "cell_type": "code",
      "source": [
        "import joblib\n",
        "\n",
        "joblib.dump(sc, 'feature_scaling_model.pkl')"
      ],
      "metadata": {
        "colab": {
          "base_uri": "https://localhost:8080/"
        },
        "id": "AZxjzq3BD6f3",
        "outputId": "cb75e681-5d17-47c8-c95d-0346751ece4d"
      },
      "execution_count": 21,
      "outputs": [
        {
          "output_type": "execute_result",
          "data": {
            "text/plain": [
              "['feature_scaling_model.pkl']"
            ]
          },
          "metadata": {},
          "execution_count": 21
        }
      ]
    },
    {
      "cell_type": "code",
      "source": [
        "feautre_scaling = joblib.load('feature_scaling_model.pkl')"
      ],
      "metadata": {
        "id": "ifd6jJBmEE-1"
      },
      "execution_count": 22,
      "outputs": []
    },
    {
      "cell_type": "code",
      "source": [
        "feautre_scaling.transform([[1,1,1,1,1,1,1,11,1,1,1]]) # processed_data"
      ],
      "metadata": {
        "colab": {
          "base_uri": "https://localhost:8080/"
        },
        "id": "RqSW5A8JEPAH",
        "outputId": "1a4d6633-2dc2-40d1-b39a-4b6e8ad3548b"
      },
      "execution_count": 23,
      "outputs": [
        {
          "output_type": "stream",
          "name": "stderr",
          "text": [
            "/usr/local/lib/python3.7/dist-packages/sklearn/base.py:451: UserWarning: X does not have valid feature names, but StandardScaler was fitted with feature names\n",
            "  \"X does not have valid feature names, but\"\n"
          ]
        },
        {
          "output_type": "execute_result",
          "data": {
            "text/plain": [
              "array([[-6.73144033, -3.60067182, -1.3775003 , -1.23349423, -0.90767172,\n",
              "         0.64492573,  0.97848147, -1.73804438,  1.73900686,  1.74954671,\n",
              "         0.91393836]])"
            ]
          },
          "metadata": {},
          "execution_count": 23
        }
      ]
    },
    {
      "cell_type": "markdown",
      "source": [
        "# model building and training is always done in 3 phase\n",
        "\n",
        "1. model architecture\n",
        "2. model compilation\n",
        "3. model fit (training the model)"
      ],
      "metadata": {
        "id": "z-JKth9dCIbv"
      }
    },
    {
      "cell_type": "code",
      "source": [
        ""
      ],
      "metadata": {
        "id": "UEElAnbjEEHN"
      },
      "execution_count": null,
      "outputs": []
    },
    {
      "cell_type": "code",
      "source": [
        "# creation of model\n",
        "model = Sequential(\n",
        "    [\n",
        "     Dense(100, activation='sigmoid', kernel_initializer='glorot_uniform'),  # hidden layer 1\n",
        "     Dropout(0.2),\n",
        "     Dense(50 , activation='relu' , kernel_initializer='he_uniform'),  # hidden layer 2\n",
        "     Dropout(0.2),\n",
        "     Dense(25, activation='sigmoid'),  # hidden layer 3 Default kernel_initializer is 'glorot_uniform'\n",
        "     Dropout(0.2),\n",
        "     Dense(1 , activation='sigmoid')\n",
        "    ]\n",
        ")"
      ],
      "metadata": {
        "id": "IXFx4Bj_Bx01"
      },
      "execution_count": 24,
      "outputs": []
    },
    {
      "cell_type": "code",
      "source": [
        "# important link for optimizers - https://towardsdatascience.com/optimizers-for-training-neural-network-59450d71caf6\n",
        "\n",
        "# for the optmizer generall ADAM & RMSPROP gives the best result compared to others\n",
        "\n",
        "# github - https://github.com/Afsaan/Keras-tuner/blob/master/keras_tuner_ANN.py"
      ],
      "metadata": {
        "id": "NLD97YAQCf4h"
      },
      "execution_count": 25,
      "outputs": []
    },
    {
      "cell_type": "code",
      "source": [
        "# model compilation\n",
        "model.compile(\n",
        "    optimizer=tf.keras.optimizers.SGD(learning_rate=0.1), \n",
        "    loss='binary_crossentropy', \n",
        "    metrics=['accuracy']\n",
        "    )"
      ],
      "metadata": {
        "id": "wlkYjAJDCozJ"
      },
      "execution_count": 26,
      "outputs": []
    },
    {
      "cell_type": "code",
      "source": [
        "X_train.shape"
      ],
      "metadata": {
        "colab": {
          "base_uri": "https://localhost:8080/"
        },
        "id": "AFoay2qrIr_Y",
        "outputId": "2afe50c9-e091-4200-bb0a-66505cd2ae85"
      },
      "execution_count": 27,
      "outputs": [
        {
          "output_type": "execute_result",
          "data": {
            "text/plain": [
              "(8000, 11)"
            ]
          },
          "metadata": {},
          "execution_count": 27
        }
      ]
    },
    {
      "cell_type": "code",
      "source": [
        "8000/32"
      ],
      "metadata": {
        "colab": {
          "base_uri": "https://localhost:8080/"
        },
        "id": "VBDDRpw1M5Ws",
        "outputId": "ed05d823-4ebc-4265-d30f-6ff618b7859b"
      },
      "execution_count": 28,
      "outputs": [
        {
          "output_type": "execute_result",
          "data": {
            "text/plain": [
              "250.0"
            ]
          },
          "metadata": {},
          "execution_count": 28
        }
      ]
    },
    {
      "cell_type": "code",
      "source": [
        "# model training\n",
        "history = model.fit(X_train, y_train, epochs = 200 , batch_size = 32, validation_split=0.2)\n",
        "# validation_split => you are spliting the train data for the validation in the \n",
        "# after every epochs if the loss decreases and accuracy Increases that means our model is running properly\n",
        "# in epochs check last 10 data weather the loss and the accuracy stabilized or not \n",
        "# if its stablized we can stop the ephocs"
      ],
      "metadata": {
        "colab": {
          "base_uri": "https://localhost:8080/"
        },
        "id": "UvbljtiPItU_",
        "outputId": "efda4303-27ac-475d-f977-4b477fb199d5"
      },
      "execution_count": 29,
      "outputs": [
        {
          "output_type": "stream",
          "name": "stdout",
          "text": [
            "Epoch 1/200\n",
            "200/200 [==============================] - 1s 3ms/step - loss: 0.5170 - accuracy: 0.7930 - val_loss: 0.4926 - val_accuracy: 0.8037\n",
            "Epoch 2/200\n",
            "200/200 [==============================] - 0s 2ms/step - loss: 0.5055 - accuracy: 0.7967 - val_loss: 0.4834 - val_accuracy: 0.8037\n",
            "Epoch 3/200\n",
            "200/200 [==============================] - 0s 2ms/step - loss: 0.4906 - accuracy: 0.7969 - val_loss: 0.4718 - val_accuracy: 0.8037\n",
            "Epoch 4/200\n",
            "200/200 [==============================] - 0s 2ms/step - loss: 0.4841 - accuracy: 0.7970 - val_loss: 0.4454 - val_accuracy: 0.8037\n",
            "Epoch 5/200\n",
            "200/200 [==============================] - 0s 2ms/step - loss: 0.4705 - accuracy: 0.7984 - val_loss: 0.4332 - val_accuracy: 0.8069\n",
            "Epoch 6/200\n",
            "200/200 [==============================] - 0s 2ms/step - loss: 0.4647 - accuracy: 0.7998 - val_loss: 0.4241 - val_accuracy: 0.8106\n",
            "Epoch 7/200\n",
            "200/200 [==============================] - 0s 2ms/step - loss: 0.4578 - accuracy: 0.7980 - val_loss: 0.4174 - val_accuracy: 0.8100\n",
            "Epoch 8/200\n",
            "200/200 [==============================] - 0s 2ms/step - loss: 0.4549 - accuracy: 0.8006 - val_loss: 0.4181 - val_accuracy: 0.8050\n",
            "Epoch 9/200\n",
            "200/200 [==============================] - 0s 2ms/step - loss: 0.4514 - accuracy: 0.8008 - val_loss: 0.4232 - val_accuracy: 0.8050\n",
            "Epoch 10/200\n",
            "200/200 [==============================] - 0s 2ms/step - loss: 0.4539 - accuracy: 0.7994 - val_loss: 0.4171 - val_accuracy: 0.8175\n",
            "Epoch 11/200\n",
            "200/200 [==============================] - 0s 2ms/step - loss: 0.4514 - accuracy: 0.7994 - val_loss: 0.4263 - val_accuracy: 0.8037\n",
            "Epoch 12/200\n",
            "200/200 [==============================] - 0s 2ms/step - loss: 0.4481 - accuracy: 0.7998 - val_loss: 0.4120 - val_accuracy: 0.8213\n",
            "Epoch 13/200\n",
            "200/200 [==============================] - 0s 2ms/step - loss: 0.4495 - accuracy: 0.8000 - val_loss: 0.4127 - val_accuracy: 0.8106\n",
            "Epoch 14/200\n",
            "200/200 [==============================] - 0s 2ms/step - loss: 0.4488 - accuracy: 0.7991 - val_loss: 0.4137 - val_accuracy: 0.8075\n",
            "Epoch 15/200\n",
            "200/200 [==============================] - 0s 2ms/step - loss: 0.4462 - accuracy: 0.8006 - val_loss: 0.4117 - val_accuracy: 0.8181\n",
            "Epoch 16/200\n",
            "200/200 [==============================] - 0s 2ms/step - loss: 0.4478 - accuracy: 0.8006 - val_loss: 0.4137 - val_accuracy: 0.8075\n",
            "Epoch 17/200\n",
            "200/200 [==============================] - 0s 2ms/step - loss: 0.4465 - accuracy: 0.8033 - val_loss: 0.4108 - val_accuracy: 0.8138\n",
            "Epoch 18/200\n",
            "200/200 [==============================] - 0s 2ms/step - loss: 0.4436 - accuracy: 0.7992 - val_loss: 0.4116 - val_accuracy: 0.8131\n",
            "Epoch 19/200\n",
            "200/200 [==============================] - 0s 2ms/step - loss: 0.4416 - accuracy: 0.8030 - val_loss: 0.4107 - val_accuracy: 0.8250\n",
            "Epoch 20/200\n",
            "200/200 [==============================] - 0s 2ms/step - loss: 0.4438 - accuracy: 0.8017 - val_loss: 0.4113 - val_accuracy: 0.8156\n",
            "Epoch 21/200\n",
            "200/200 [==============================] - 0s 2ms/step - loss: 0.4437 - accuracy: 0.8019 - val_loss: 0.4105 - val_accuracy: 0.8163\n",
            "Epoch 22/200\n",
            "200/200 [==============================] - 0s 2ms/step - loss: 0.4405 - accuracy: 0.8067 - val_loss: 0.4089 - val_accuracy: 0.8263\n",
            "Epoch 23/200\n",
            "200/200 [==============================] - 0s 2ms/step - loss: 0.4403 - accuracy: 0.8069 - val_loss: 0.4097 - val_accuracy: 0.8225\n",
            "Epoch 24/200\n",
            "200/200 [==============================] - 0s 2ms/step - loss: 0.4380 - accuracy: 0.8072 - val_loss: 0.4105 - val_accuracy: 0.8231\n",
            "Epoch 25/200\n",
            "200/200 [==============================] - 0s 2ms/step - loss: 0.4379 - accuracy: 0.8058 - val_loss: 0.4065 - val_accuracy: 0.8181\n",
            "Epoch 26/200\n",
            "200/200 [==============================] - 0s 2ms/step - loss: 0.4398 - accuracy: 0.8053 - val_loss: 0.4076 - val_accuracy: 0.8250\n",
            "Epoch 27/200\n",
            "200/200 [==============================] - 0s 2ms/step - loss: 0.4388 - accuracy: 0.8098 - val_loss: 0.4116 - val_accuracy: 0.8100\n",
            "Epoch 28/200\n",
            "200/200 [==============================] - 0s 2ms/step - loss: 0.4413 - accuracy: 0.8027 - val_loss: 0.4086 - val_accuracy: 0.8238\n",
            "Epoch 29/200\n",
            "200/200 [==============================] - 0s 2ms/step - loss: 0.4348 - accuracy: 0.8092 - val_loss: 0.4072 - val_accuracy: 0.8263\n",
            "Epoch 30/200\n",
            "200/200 [==============================] - 0s 2ms/step - loss: 0.4382 - accuracy: 0.8061 - val_loss: 0.4061 - val_accuracy: 0.8256\n",
            "Epoch 31/200\n",
            "200/200 [==============================] - 0s 2ms/step - loss: 0.4384 - accuracy: 0.8070 - val_loss: 0.4066 - val_accuracy: 0.8275\n",
            "Epoch 32/200\n",
            "200/200 [==============================] - 0s 2ms/step - loss: 0.4360 - accuracy: 0.8111 - val_loss: 0.4058 - val_accuracy: 0.8256\n",
            "Epoch 33/200\n",
            "200/200 [==============================] - 0s 2ms/step - loss: 0.4362 - accuracy: 0.8086 - val_loss: 0.4065 - val_accuracy: 0.8250\n",
            "Epoch 34/200\n",
            "200/200 [==============================] - 0s 2ms/step - loss: 0.4369 - accuracy: 0.8098 - val_loss: 0.4092 - val_accuracy: 0.8250\n",
            "Epoch 35/200\n",
            "200/200 [==============================] - 0s 2ms/step - loss: 0.4355 - accuracy: 0.8136 - val_loss: 0.4064 - val_accuracy: 0.8231\n",
            "Epoch 36/200\n",
            "200/200 [==============================] - 0s 2ms/step - loss: 0.4369 - accuracy: 0.8095 - val_loss: 0.4067 - val_accuracy: 0.8269\n",
            "Epoch 37/200\n",
            "200/200 [==============================] - 0s 2ms/step - loss: 0.4342 - accuracy: 0.8092 - val_loss: 0.4044 - val_accuracy: 0.8269\n",
            "Epoch 38/200\n",
            "200/200 [==============================] - 0s 2ms/step - loss: 0.4358 - accuracy: 0.8109 - val_loss: 0.4059 - val_accuracy: 0.8281\n",
            "Epoch 39/200\n",
            "200/200 [==============================] - 0s 2ms/step - loss: 0.4336 - accuracy: 0.8127 - val_loss: 0.4017 - val_accuracy: 0.8225\n",
            "Epoch 40/200\n",
            "200/200 [==============================] - 0s 2ms/step - loss: 0.4357 - accuracy: 0.8122 - val_loss: 0.4016 - val_accuracy: 0.8231\n",
            "Epoch 41/200\n",
            "200/200 [==============================] - 0s 2ms/step - loss: 0.4326 - accuracy: 0.8155 - val_loss: 0.4012 - val_accuracy: 0.8238\n",
            "Epoch 42/200\n",
            "200/200 [==============================] - 0s 2ms/step - loss: 0.4342 - accuracy: 0.8159 - val_loss: 0.4025 - val_accuracy: 0.8294\n",
            "Epoch 43/200\n",
            "200/200 [==============================] - 0s 2ms/step - loss: 0.4318 - accuracy: 0.8167 - val_loss: 0.4027 - val_accuracy: 0.8281\n",
            "Epoch 44/200\n",
            "200/200 [==============================] - 0s 2ms/step - loss: 0.4323 - accuracy: 0.8163 - val_loss: 0.4000 - val_accuracy: 0.8275\n",
            "Epoch 45/200\n",
            "200/200 [==============================] - 0s 2ms/step - loss: 0.4335 - accuracy: 0.8161 - val_loss: 0.4022 - val_accuracy: 0.8288\n",
            "Epoch 46/200\n",
            "200/200 [==============================] - 0s 2ms/step - loss: 0.4321 - accuracy: 0.8172 - val_loss: 0.4021 - val_accuracy: 0.8306\n",
            "Epoch 47/200\n",
            "200/200 [==============================] - 0s 2ms/step - loss: 0.4289 - accuracy: 0.8181 - val_loss: 0.4010 - val_accuracy: 0.8294\n",
            "Epoch 48/200\n",
            "200/200 [==============================] - 0s 2ms/step - loss: 0.4292 - accuracy: 0.8177 - val_loss: 0.3974 - val_accuracy: 0.8294\n",
            "Epoch 49/200\n",
            "200/200 [==============================] - 0s 2ms/step - loss: 0.4330 - accuracy: 0.8186 - val_loss: 0.4007 - val_accuracy: 0.8288\n",
            "Epoch 50/200\n",
            "200/200 [==============================] - 0s 2ms/step - loss: 0.4293 - accuracy: 0.8197 - val_loss: 0.3991 - val_accuracy: 0.8306\n",
            "Epoch 51/200\n",
            "200/200 [==============================] - 0s 2ms/step - loss: 0.4269 - accuracy: 0.8183 - val_loss: 0.3948 - val_accuracy: 0.8344\n",
            "Epoch 52/200\n",
            "200/200 [==============================] - 0s 2ms/step - loss: 0.4270 - accuracy: 0.8234 - val_loss: 0.3968 - val_accuracy: 0.8306\n",
            "Epoch 53/200\n",
            "200/200 [==============================] - 0s 2ms/step - loss: 0.4276 - accuracy: 0.8192 - val_loss: 0.3962 - val_accuracy: 0.8300\n",
            "Epoch 54/200\n",
            "200/200 [==============================] - 0s 2ms/step - loss: 0.4296 - accuracy: 0.8180 - val_loss: 0.3973 - val_accuracy: 0.8300\n",
            "Epoch 55/200\n",
            "200/200 [==============================] - 0s 2ms/step - loss: 0.4231 - accuracy: 0.8261 - val_loss: 0.3947 - val_accuracy: 0.8325\n",
            "Epoch 56/200\n",
            "200/200 [==============================] - 0s 2ms/step - loss: 0.4273 - accuracy: 0.8239 - val_loss: 0.3974 - val_accuracy: 0.8313\n",
            "Epoch 57/200\n",
            "200/200 [==============================] - 0s 2ms/step - loss: 0.4267 - accuracy: 0.8197 - val_loss: 0.3964 - val_accuracy: 0.8319\n",
            "Epoch 58/200\n",
            "200/200 [==============================] - 0s 2ms/step - loss: 0.4222 - accuracy: 0.8244 - val_loss: 0.3928 - val_accuracy: 0.8338\n",
            "Epoch 59/200\n",
            "200/200 [==============================] - 0s 2ms/step - loss: 0.4273 - accuracy: 0.8228 - val_loss: 0.3947 - val_accuracy: 0.8344\n",
            "Epoch 60/200\n",
            "200/200 [==============================] - 0s 2ms/step - loss: 0.4226 - accuracy: 0.8236 - val_loss: 0.3929 - val_accuracy: 0.8375\n",
            "Epoch 61/200\n",
            "200/200 [==============================] - 0s 2ms/step - loss: 0.4243 - accuracy: 0.8233 - val_loss: 0.3960 - val_accuracy: 0.8319\n",
            "Epoch 62/200\n",
            "200/200 [==============================] - 0s 2ms/step - loss: 0.4204 - accuracy: 0.8259 - val_loss: 0.3892 - val_accuracy: 0.8400\n",
            "Epoch 63/200\n",
            "200/200 [==============================] - 0s 2ms/step - loss: 0.4235 - accuracy: 0.8228 - val_loss: 0.3887 - val_accuracy: 0.8400\n",
            "Epoch 64/200\n",
            "200/200 [==============================] - 0s 2ms/step - loss: 0.4176 - accuracy: 0.8269 - val_loss: 0.3898 - val_accuracy: 0.8388\n",
            "Epoch 65/200\n",
            "200/200 [==============================] - 0s 2ms/step - loss: 0.4201 - accuracy: 0.8244 - val_loss: 0.3933 - val_accuracy: 0.8413\n",
            "Epoch 66/200\n",
            "200/200 [==============================] - 0s 2ms/step - loss: 0.4227 - accuracy: 0.8247 - val_loss: 0.3908 - val_accuracy: 0.8363\n",
            "Epoch 67/200\n",
            "200/200 [==============================] - 0s 2ms/step - loss: 0.4205 - accuracy: 0.8250 - val_loss: 0.3887 - val_accuracy: 0.8394\n",
            "Epoch 68/200\n",
            "200/200 [==============================] - 0s 2ms/step - loss: 0.4199 - accuracy: 0.8270 - val_loss: 0.3888 - val_accuracy: 0.8369\n",
            "Epoch 69/200\n",
            "200/200 [==============================] - 0s 2ms/step - loss: 0.4223 - accuracy: 0.8269 - val_loss: 0.3882 - val_accuracy: 0.8381\n",
            "Epoch 70/200\n",
            "200/200 [==============================] - 0s 2ms/step - loss: 0.4167 - accuracy: 0.8288 - val_loss: 0.3831 - val_accuracy: 0.8406\n",
            "Epoch 71/200\n",
            "200/200 [==============================] - 0s 2ms/step - loss: 0.4182 - accuracy: 0.8291 - val_loss: 0.3898 - val_accuracy: 0.8375\n",
            "Epoch 72/200\n",
            "200/200 [==============================] - 0s 2ms/step - loss: 0.4182 - accuracy: 0.8284 - val_loss: 0.3832 - val_accuracy: 0.8406\n",
            "Epoch 73/200\n",
            "200/200 [==============================] - 0s 2ms/step - loss: 0.4187 - accuracy: 0.8288 - val_loss: 0.3824 - val_accuracy: 0.8431\n",
            "Epoch 74/200\n",
            "200/200 [==============================] - 0s 2ms/step - loss: 0.4174 - accuracy: 0.8295 - val_loss: 0.3928 - val_accuracy: 0.8281\n",
            "Epoch 75/200\n",
            "200/200 [==============================] - 0s 2ms/step - loss: 0.4164 - accuracy: 0.8280 - val_loss: 0.3822 - val_accuracy: 0.8438\n",
            "Epoch 76/200\n",
            "200/200 [==============================] - 0s 2ms/step - loss: 0.4193 - accuracy: 0.8258 - val_loss: 0.3832 - val_accuracy: 0.8400\n",
            "Epoch 77/200\n",
            "200/200 [==============================] - 0s 2ms/step - loss: 0.4182 - accuracy: 0.8250 - val_loss: 0.3802 - val_accuracy: 0.8419\n",
            "Epoch 78/200\n",
            "200/200 [==============================] - 0s 2ms/step - loss: 0.4118 - accuracy: 0.8302 - val_loss: 0.3849 - val_accuracy: 0.8350\n",
            "Epoch 79/200\n",
            "200/200 [==============================] - 0s 2ms/step - loss: 0.4077 - accuracy: 0.8342 - val_loss: 0.3786 - val_accuracy: 0.8406\n",
            "Epoch 80/200\n",
            "200/200 [==============================] - 0s 2ms/step - loss: 0.4134 - accuracy: 0.8272 - val_loss: 0.3771 - val_accuracy: 0.8425\n",
            "Epoch 81/200\n",
            "200/200 [==============================] - 0s 2ms/step - loss: 0.4072 - accuracy: 0.8319 - val_loss: 0.3714 - val_accuracy: 0.8512\n",
            "Epoch 82/200\n",
            "200/200 [==============================] - 0s 2ms/step - loss: 0.4089 - accuracy: 0.8317 - val_loss: 0.3705 - val_accuracy: 0.8487\n",
            "Epoch 83/200\n",
            "200/200 [==============================] - 0s 2ms/step - loss: 0.4031 - accuracy: 0.8356 - val_loss: 0.3658 - val_accuracy: 0.8525\n",
            "Epoch 84/200\n",
            "200/200 [==============================] - 0s 2ms/step - loss: 0.3968 - accuracy: 0.8345 - val_loss: 0.3613 - val_accuracy: 0.8537\n",
            "Epoch 85/200\n",
            "200/200 [==============================] - 0s 2ms/step - loss: 0.3994 - accuracy: 0.8378 - val_loss: 0.3573 - val_accuracy: 0.8531\n",
            "Epoch 86/200\n",
            "200/200 [==============================] - 0s 2ms/step - loss: 0.3955 - accuracy: 0.8364 - val_loss: 0.3492 - val_accuracy: 0.8575\n",
            "Epoch 87/200\n",
            "200/200 [==============================] - 0s 2ms/step - loss: 0.3885 - accuracy: 0.8408 - val_loss: 0.3517 - val_accuracy: 0.8512\n",
            "Epoch 88/200\n",
            "200/200 [==============================] - 0s 2ms/step - loss: 0.3881 - accuracy: 0.8419 - val_loss: 0.3512 - val_accuracy: 0.8500\n",
            "Epoch 89/200\n",
            "200/200 [==============================] - 0s 2ms/step - loss: 0.3866 - accuracy: 0.8386 - val_loss: 0.3459 - val_accuracy: 0.8594\n",
            "Epoch 90/200\n",
            "200/200 [==============================] - 0s 2ms/step - loss: 0.3807 - accuracy: 0.8447 - val_loss: 0.3390 - val_accuracy: 0.8606\n",
            "Epoch 91/200\n",
            "200/200 [==============================] - 0s 2ms/step - loss: 0.3852 - accuracy: 0.8394 - val_loss: 0.3403 - val_accuracy: 0.8612\n",
            "Epoch 92/200\n",
            "200/200 [==============================] - 0s 2ms/step - loss: 0.3807 - accuracy: 0.8436 - val_loss: 0.3473 - val_accuracy: 0.8512\n",
            "Epoch 93/200\n",
            "200/200 [==============================] - 0s 2ms/step - loss: 0.3729 - accuracy: 0.8452 - val_loss: 0.3319 - val_accuracy: 0.8656\n",
            "Epoch 94/200\n",
            "200/200 [==============================] - 0s 2ms/step - loss: 0.3770 - accuracy: 0.8444 - val_loss: 0.3412 - val_accuracy: 0.8594\n",
            "Epoch 95/200\n",
            "200/200 [==============================] - 0s 2ms/step - loss: 0.3697 - accuracy: 0.8483 - val_loss: 0.3313 - val_accuracy: 0.8631\n",
            "Epoch 96/200\n",
            "200/200 [==============================] - 0s 2ms/step - loss: 0.3724 - accuracy: 0.8475 - val_loss: 0.3342 - val_accuracy: 0.8631\n",
            "Epoch 97/200\n",
            "200/200 [==============================] - 0s 2ms/step - loss: 0.3702 - accuracy: 0.8466 - val_loss: 0.3373 - val_accuracy: 0.8656\n",
            "Epoch 98/200\n",
            "200/200 [==============================] - 0s 2ms/step - loss: 0.3720 - accuracy: 0.8509 - val_loss: 0.3362 - val_accuracy: 0.8619\n",
            "Epoch 99/200\n",
            "200/200 [==============================] - 0s 2ms/step - loss: 0.3713 - accuracy: 0.8473 - val_loss: 0.3323 - val_accuracy: 0.8644\n",
            "Epoch 100/200\n",
            "200/200 [==============================] - 0s 2ms/step - loss: 0.3718 - accuracy: 0.8455 - val_loss: 0.3351 - val_accuracy: 0.8631\n",
            "Epoch 101/200\n",
            "200/200 [==============================] - 1s 4ms/step - loss: 0.3705 - accuracy: 0.8453 - val_loss: 0.3332 - val_accuracy: 0.8631\n",
            "Epoch 102/200\n",
            "200/200 [==============================] - 0s 2ms/step - loss: 0.3686 - accuracy: 0.8495 - val_loss: 0.3342 - val_accuracy: 0.8644\n",
            "Epoch 103/200\n",
            "200/200 [==============================] - 0s 2ms/step - loss: 0.3687 - accuracy: 0.8487 - val_loss: 0.3344 - val_accuracy: 0.8606\n",
            "Epoch 104/200\n",
            "200/200 [==============================] - 0s 2ms/step - loss: 0.3728 - accuracy: 0.8477 - val_loss: 0.3330 - val_accuracy: 0.8637\n",
            "Epoch 105/200\n",
            "200/200 [==============================] - 0s 2ms/step - loss: 0.3682 - accuracy: 0.8480 - val_loss: 0.3403 - val_accuracy: 0.8581\n",
            "Epoch 106/200\n",
            "200/200 [==============================] - 0s 2ms/step - loss: 0.3664 - accuracy: 0.8514 - val_loss: 0.3299 - val_accuracy: 0.8656\n",
            "Epoch 107/200\n",
            "200/200 [==============================] - 0s 2ms/step - loss: 0.3654 - accuracy: 0.8491 - val_loss: 0.3335 - val_accuracy: 0.8625\n",
            "Epoch 108/200\n",
            "200/200 [==============================] - 0s 2ms/step - loss: 0.3666 - accuracy: 0.8472 - val_loss: 0.3371 - val_accuracy: 0.8625\n",
            "Epoch 109/200\n",
            "200/200 [==============================] - 0s 2ms/step - loss: 0.3632 - accuracy: 0.8539 - val_loss: 0.3341 - val_accuracy: 0.8631\n",
            "Epoch 110/200\n",
            "200/200 [==============================] - 0s 2ms/step - loss: 0.3622 - accuracy: 0.8505 - val_loss: 0.3360 - val_accuracy: 0.8612\n",
            "Epoch 111/200\n",
            "200/200 [==============================] - 0s 2ms/step - loss: 0.3627 - accuracy: 0.8539 - val_loss: 0.3382 - val_accuracy: 0.8612\n",
            "Epoch 112/200\n",
            "200/200 [==============================] - 0s 2ms/step - loss: 0.3621 - accuracy: 0.8503 - val_loss: 0.3367 - val_accuracy: 0.8594\n",
            "Epoch 113/200\n",
            "200/200 [==============================] - 0s 2ms/step - loss: 0.3651 - accuracy: 0.8506 - val_loss: 0.3343 - val_accuracy: 0.8662\n",
            "Epoch 114/200\n",
            "200/200 [==============================] - 0s 2ms/step - loss: 0.3620 - accuracy: 0.8530 - val_loss: 0.3351 - val_accuracy: 0.8650\n",
            "Epoch 115/200\n",
            "200/200 [==============================] - 0s 2ms/step - loss: 0.3674 - accuracy: 0.8473 - val_loss: 0.3338 - val_accuracy: 0.8637\n",
            "Epoch 116/200\n",
            "200/200 [==============================] - 0s 2ms/step - loss: 0.3642 - accuracy: 0.8484 - val_loss: 0.3339 - val_accuracy: 0.8675\n",
            "Epoch 117/200\n",
            "200/200 [==============================] - 0s 2ms/step - loss: 0.3664 - accuracy: 0.8509 - val_loss: 0.3331 - val_accuracy: 0.8625\n",
            "Epoch 118/200\n",
            "200/200 [==============================] - 0s 2ms/step - loss: 0.3588 - accuracy: 0.8553 - val_loss: 0.3331 - val_accuracy: 0.8612\n",
            "Epoch 119/200\n",
            "200/200 [==============================] - 0s 2ms/step - loss: 0.3637 - accuracy: 0.8506 - val_loss: 0.3359 - val_accuracy: 0.8625\n",
            "Epoch 120/200\n",
            "200/200 [==============================] - 0s 2ms/step - loss: 0.3596 - accuracy: 0.8536 - val_loss: 0.3314 - val_accuracy: 0.8650\n",
            "Epoch 121/200\n",
            "200/200 [==============================] - 0s 2ms/step - loss: 0.3624 - accuracy: 0.8512 - val_loss: 0.3334 - val_accuracy: 0.8631\n",
            "Epoch 122/200\n",
            "200/200 [==============================] - 0s 2ms/step - loss: 0.3649 - accuracy: 0.8500 - val_loss: 0.3311 - val_accuracy: 0.8631\n",
            "Epoch 123/200\n",
            "200/200 [==============================] - 0s 2ms/step - loss: 0.3611 - accuracy: 0.8495 - val_loss: 0.3330 - val_accuracy: 0.8644\n",
            "Epoch 124/200\n",
            "200/200 [==============================] - 0s 2ms/step - loss: 0.3609 - accuracy: 0.8550 - val_loss: 0.3297 - val_accuracy: 0.8662\n",
            "Epoch 125/200\n",
            "200/200 [==============================] - 0s 2ms/step - loss: 0.3621 - accuracy: 0.8512 - val_loss: 0.3329 - val_accuracy: 0.8675\n",
            "Epoch 126/200\n",
            "200/200 [==============================] - 0s 2ms/step - loss: 0.3612 - accuracy: 0.8541 - val_loss: 0.3318 - val_accuracy: 0.8650\n",
            "Epoch 127/200\n",
            "200/200 [==============================] - 0s 2ms/step - loss: 0.3608 - accuracy: 0.8527 - val_loss: 0.3327 - val_accuracy: 0.8631\n",
            "Epoch 128/200\n",
            "200/200 [==============================] - 0s 2ms/step - loss: 0.3607 - accuracy: 0.8541 - val_loss: 0.3374 - val_accuracy: 0.8619\n",
            "Epoch 129/200\n",
            "200/200 [==============================] - 0s 2ms/step - loss: 0.3559 - accuracy: 0.8602 - val_loss: 0.3325 - val_accuracy: 0.8637\n",
            "Epoch 130/200\n",
            "200/200 [==============================] - 0s 2ms/step - loss: 0.3550 - accuracy: 0.8516 - val_loss: 0.3331 - val_accuracy: 0.8606\n",
            "Epoch 131/200\n",
            "200/200 [==============================] - 0s 2ms/step - loss: 0.3560 - accuracy: 0.8534 - val_loss: 0.3310 - val_accuracy: 0.8644\n",
            "Epoch 132/200\n",
            "200/200 [==============================] - 0s 2ms/step - loss: 0.3573 - accuracy: 0.8550 - val_loss: 0.3326 - val_accuracy: 0.8650\n",
            "Epoch 133/200\n",
            "200/200 [==============================] - 0s 2ms/step - loss: 0.3608 - accuracy: 0.8511 - val_loss: 0.3328 - val_accuracy: 0.8619\n",
            "Epoch 134/200\n",
            "200/200 [==============================] - 0s 2ms/step - loss: 0.3571 - accuracy: 0.8550 - val_loss: 0.3392 - val_accuracy: 0.8619\n",
            "Epoch 135/200\n",
            "200/200 [==============================] - 0s 2ms/step - loss: 0.3547 - accuracy: 0.8531 - val_loss: 0.3368 - val_accuracy: 0.8606\n",
            "Epoch 136/200\n",
            "200/200 [==============================] - 0s 2ms/step - loss: 0.3547 - accuracy: 0.8550 - val_loss: 0.3323 - val_accuracy: 0.8650\n",
            "Epoch 137/200\n",
            "200/200 [==============================] - 0s 2ms/step - loss: 0.3584 - accuracy: 0.8523 - val_loss: 0.3353 - val_accuracy: 0.8625\n",
            "Epoch 138/200\n",
            "200/200 [==============================] - 0s 2ms/step - loss: 0.3537 - accuracy: 0.8520 - val_loss: 0.3356 - val_accuracy: 0.8612\n",
            "Epoch 139/200\n",
            "200/200 [==============================] - 0s 2ms/step - loss: 0.3566 - accuracy: 0.8534 - val_loss: 0.3351 - val_accuracy: 0.8625\n",
            "Epoch 140/200\n",
            "200/200 [==============================] - 0s 2ms/step - loss: 0.3552 - accuracy: 0.8573 - val_loss: 0.3316 - val_accuracy: 0.8669\n",
            "Epoch 141/200\n",
            "200/200 [==============================] - 0s 2ms/step - loss: 0.3600 - accuracy: 0.8545 - val_loss: 0.3348 - val_accuracy: 0.8631\n",
            "Epoch 142/200\n",
            "200/200 [==============================] - 0s 2ms/step - loss: 0.3584 - accuracy: 0.8527 - val_loss: 0.3339 - val_accuracy: 0.8619\n",
            "Epoch 143/200\n",
            "200/200 [==============================] - 0s 2ms/step - loss: 0.3554 - accuracy: 0.8536 - val_loss: 0.3335 - val_accuracy: 0.8637\n",
            "Epoch 144/200\n",
            "200/200 [==============================] - 0s 2ms/step - loss: 0.3532 - accuracy: 0.8548 - val_loss: 0.3325 - val_accuracy: 0.8644\n",
            "Epoch 145/200\n",
            "200/200 [==============================] - 0s 2ms/step - loss: 0.3586 - accuracy: 0.8547 - val_loss: 0.3361 - val_accuracy: 0.8625\n",
            "Epoch 146/200\n",
            "200/200 [==============================] - 0s 2ms/step - loss: 0.3548 - accuracy: 0.8553 - val_loss: 0.3326 - val_accuracy: 0.8625\n",
            "Epoch 147/200\n",
            "200/200 [==============================] - 0s 2ms/step - loss: 0.3528 - accuracy: 0.8533 - val_loss: 0.3312 - val_accuracy: 0.8650\n",
            "Epoch 148/200\n",
            "200/200 [==============================] - 0s 2ms/step - loss: 0.3579 - accuracy: 0.8527 - val_loss: 0.3316 - val_accuracy: 0.8625\n",
            "Epoch 149/200\n",
            "200/200 [==============================] - 0s 2ms/step - loss: 0.3534 - accuracy: 0.8534 - val_loss: 0.3343 - val_accuracy: 0.8606\n",
            "Epoch 150/200\n",
            "200/200 [==============================] - 0s 2ms/step - loss: 0.3545 - accuracy: 0.8528 - val_loss: 0.3324 - val_accuracy: 0.8656\n",
            "Epoch 151/200\n",
            "200/200 [==============================] - 0s 2ms/step - loss: 0.3511 - accuracy: 0.8559 - val_loss: 0.3320 - val_accuracy: 0.8656\n",
            "Epoch 152/200\n",
            "200/200 [==============================] - 0s 2ms/step - loss: 0.3515 - accuracy: 0.8591 - val_loss: 0.3330 - val_accuracy: 0.8637\n",
            "Epoch 153/200\n",
            "200/200 [==============================] - 0s 2ms/step - loss: 0.3524 - accuracy: 0.8569 - val_loss: 0.3292 - val_accuracy: 0.8675\n",
            "Epoch 154/200\n",
            "200/200 [==============================] - 0s 2ms/step - loss: 0.3539 - accuracy: 0.8544 - val_loss: 0.3289 - val_accuracy: 0.8669\n",
            "Epoch 155/200\n",
            "200/200 [==============================] - 0s 2ms/step - loss: 0.3603 - accuracy: 0.8561 - val_loss: 0.3337 - val_accuracy: 0.8637\n",
            "Epoch 156/200\n",
            "200/200 [==============================] - 0s 2ms/step - loss: 0.3503 - accuracy: 0.8561 - val_loss: 0.3315 - val_accuracy: 0.8644\n",
            "Epoch 157/200\n",
            "200/200 [==============================] - 0s 2ms/step - loss: 0.3525 - accuracy: 0.8556 - val_loss: 0.3313 - val_accuracy: 0.8650\n",
            "Epoch 158/200\n",
            "200/200 [==============================] - 0s 2ms/step - loss: 0.3562 - accuracy: 0.8523 - val_loss: 0.3329 - val_accuracy: 0.8631\n",
            "Epoch 159/200\n",
            "200/200 [==============================] - 0s 2ms/step - loss: 0.3549 - accuracy: 0.8558 - val_loss: 0.3342 - val_accuracy: 0.8625\n",
            "Epoch 160/200\n",
            "200/200 [==============================] - 0s 2ms/step - loss: 0.3565 - accuracy: 0.8530 - val_loss: 0.3366 - val_accuracy: 0.8612\n",
            "Epoch 161/200\n",
            "200/200 [==============================] - 0s 2ms/step - loss: 0.3519 - accuracy: 0.8580 - val_loss: 0.3345 - val_accuracy: 0.8637\n",
            "Epoch 162/200\n",
            "200/200 [==============================] - 0s 2ms/step - loss: 0.3504 - accuracy: 0.8566 - val_loss: 0.3328 - val_accuracy: 0.8656\n",
            "Epoch 163/200\n",
            "200/200 [==============================] - 0s 2ms/step - loss: 0.3537 - accuracy: 0.8505 - val_loss: 0.3365 - val_accuracy: 0.8625\n",
            "Epoch 164/200\n",
            "200/200 [==============================] - 1s 4ms/step - loss: 0.3527 - accuracy: 0.8595 - val_loss: 0.3318 - val_accuracy: 0.8650\n",
            "Epoch 165/200\n",
            "200/200 [==============================] - 1s 3ms/step - loss: 0.3516 - accuracy: 0.8562 - val_loss: 0.3384 - val_accuracy: 0.8587\n",
            "Epoch 166/200\n",
            "200/200 [==============================] - 0s 2ms/step - loss: 0.3528 - accuracy: 0.8580 - val_loss: 0.3343 - val_accuracy: 0.8631\n",
            "Epoch 167/200\n",
            "200/200 [==============================] - 0s 2ms/step - loss: 0.3551 - accuracy: 0.8533 - val_loss: 0.3334 - val_accuracy: 0.8656\n",
            "Epoch 168/200\n",
            "200/200 [==============================] - 0s 2ms/step - loss: 0.3542 - accuracy: 0.8575 - val_loss: 0.3371 - val_accuracy: 0.8619\n",
            "Epoch 169/200\n",
            "200/200 [==============================] - 0s 2ms/step - loss: 0.3487 - accuracy: 0.8594 - val_loss: 0.3310 - val_accuracy: 0.8656\n",
            "Epoch 170/200\n",
            "200/200 [==============================] - 0s 2ms/step - loss: 0.3525 - accuracy: 0.8528 - val_loss: 0.3315 - val_accuracy: 0.8644\n",
            "Epoch 171/200\n",
            "200/200 [==============================] - 0s 2ms/step - loss: 0.3544 - accuracy: 0.8537 - val_loss: 0.3348 - val_accuracy: 0.8625\n",
            "Epoch 172/200\n",
            "200/200 [==============================] - 0s 2ms/step - loss: 0.3544 - accuracy: 0.8537 - val_loss: 0.3394 - val_accuracy: 0.8625\n",
            "Epoch 173/200\n",
            "200/200 [==============================] - 0s 2ms/step - loss: 0.3504 - accuracy: 0.8580 - val_loss: 0.3338 - val_accuracy: 0.8637\n",
            "Epoch 174/200\n",
            "200/200 [==============================] - 0s 2ms/step - loss: 0.3487 - accuracy: 0.8578 - val_loss: 0.3338 - val_accuracy: 0.8650\n",
            "Epoch 175/200\n",
            "200/200 [==============================] - 0s 2ms/step - loss: 0.3546 - accuracy: 0.8537 - val_loss: 0.3359 - val_accuracy: 0.8656\n",
            "Epoch 176/200\n",
            "200/200 [==============================] - 0s 2ms/step - loss: 0.3516 - accuracy: 0.8556 - val_loss: 0.3349 - val_accuracy: 0.8637\n",
            "Epoch 177/200\n",
            "200/200 [==============================] - 0s 2ms/step - loss: 0.3497 - accuracy: 0.8592 - val_loss: 0.3331 - val_accuracy: 0.8644\n",
            "Epoch 178/200\n",
            "200/200 [==============================] - 0s 2ms/step - loss: 0.3491 - accuracy: 0.8584 - val_loss: 0.3340 - val_accuracy: 0.8619\n",
            "Epoch 179/200\n",
            "200/200 [==============================] - 0s 2ms/step - loss: 0.3507 - accuracy: 0.8552 - val_loss: 0.3300 - val_accuracy: 0.8662\n",
            "Epoch 180/200\n",
            "200/200 [==============================] - 0s 2ms/step - loss: 0.3517 - accuracy: 0.8558 - val_loss: 0.3368 - val_accuracy: 0.8619\n",
            "Epoch 181/200\n",
            "200/200 [==============================] - 0s 2ms/step - loss: 0.3525 - accuracy: 0.8558 - val_loss: 0.3369 - val_accuracy: 0.8612\n",
            "Epoch 182/200\n",
            "200/200 [==============================] - 0s 2ms/step - loss: 0.3471 - accuracy: 0.8559 - val_loss: 0.3329 - val_accuracy: 0.8644\n",
            "Epoch 183/200\n",
            "200/200 [==============================] - 0s 2ms/step - loss: 0.3448 - accuracy: 0.8586 - val_loss: 0.3365 - val_accuracy: 0.8619\n",
            "Epoch 184/200\n",
            "200/200 [==============================] - 0s 2ms/step - loss: 0.3490 - accuracy: 0.8552 - val_loss: 0.3332 - val_accuracy: 0.8625\n",
            "Epoch 185/200\n",
            "200/200 [==============================] - 0s 2ms/step - loss: 0.3489 - accuracy: 0.8573 - val_loss: 0.3362 - val_accuracy: 0.8619\n",
            "Epoch 186/200\n",
            "200/200 [==============================] - 0s 2ms/step - loss: 0.3518 - accuracy: 0.8552 - val_loss: 0.3390 - val_accuracy: 0.8581\n",
            "Epoch 187/200\n",
            "200/200 [==============================] - 0s 2ms/step - loss: 0.3529 - accuracy: 0.8528 - val_loss: 0.3340 - val_accuracy: 0.8612\n",
            "Epoch 188/200\n",
            "200/200 [==============================] - 0s 2ms/step - loss: 0.3507 - accuracy: 0.8562 - val_loss: 0.3328 - val_accuracy: 0.8637\n",
            "Epoch 189/200\n",
            "200/200 [==============================] - 0s 2ms/step - loss: 0.3471 - accuracy: 0.8602 - val_loss: 0.3307 - val_accuracy: 0.8650\n",
            "Epoch 190/200\n",
            "200/200 [==============================] - 0s 2ms/step - loss: 0.3515 - accuracy: 0.8583 - val_loss: 0.3350 - val_accuracy: 0.8594\n",
            "Epoch 191/200\n",
            "200/200 [==============================] - 0s 2ms/step - loss: 0.3444 - accuracy: 0.8581 - val_loss: 0.3344 - val_accuracy: 0.8637\n",
            "Epoch 192/200\n",
            "200/200 [==============================] - 0s 2ms/step - loss: 0.3482 - accuracy: 0.8592 - val_loss: 0.3356 - val_accuracy: 0.8612\n",
            "Epoch 193/200\n",
            "200/200 [==============================] - 0s 2ms/step - loss: 0.3491 - accuracy: 0.8552 - val_loss: 0.3343 - val_accuracy: 0.8619\n",
            "Epoch 194/200\n",
            "200/200 [==============================] - 0s 2ms/step - loss: 0.3452 - accuracy: 0.8612 - val_loss: 0.3355 - val_accuracy: 0.8612\n",
            "Epoch 195/200\n",
            "200/200 [==============================] - 0s 2ms/step - loss: 0.3475 - accuracy: 0.8570 - val_loss: 0.3371 - val_accuracy: 0.8612\n",
            "Epoch 196/200\n",
            "200/200 [==============================] - 0s 2ms/step - loss: 0.3497 - accuracy: 0.8570 - val_loss: 0.3347 - val_accuracy: 0.8619\n",
            "Epoch 197/200\n",
            "200/200 [==============================] - 0s 2ms/step - loss: 0.3533 - accuracy: 0.8537 - val_loss: 0.3326 - val_accuracy: 0.8625\n",
            "Epoch 198/200\n",
            "200/200 [==============================] - 0s 2ms/step - loss: 0.3494 - accuracy: 0.8564 - val_loss: 0.3326 - val_accuracy: 0.8669\n",
            "Epoch 199/200\n",
            "200/200 [==============================] - 0s 2ms/step - loss: 0.3457 - accuracy: 0.8570 - val_loss: 0.3342 - val_accuracy: 0.8619\n",
            "Epoch 200/200\n",
            "200/200 [==============================] - 0s 2ms/step - loss: 0.3503 - accuracy: 0.8531 - val_loss: 0.3345 - val_accuracy: 0.8625\n"
          ]
        }
      ]
    },
    {
      "cell_type": "code",
      "source": [
        "history.history.keys()"
      ],
      "metadata": {
        "colab": {
          "base_uri": "https://localhost:8080/"
        },
        "id": "b6zp7vP3Izqf",
        "outputId": "e1a48dcc-1a68-4320-d7da-042c394fdacd"
      },
      "execution_count": 30,
      "outputs": [
        {
          "output_type": "execute_result",
          "data": {
            "text/plain": [
              "dict_keys(['loss', 'accuracy', 'val_loss', 'val_accuracy'])"
            ]
          },
          "metadata": {},
          "execution_count": 30
        }
      ]
    },
    {
      "cell_type": "code",
      "source": [
        "import matplotlib.pyplot as plt\n",
        "\n",
        "plt.plot(history.history['accuracy'], label = 'train')\n",
        "plt.plot(history.history['val_accuracy'], label = 'valid')\n",
        "plt.title('model accruacy')\n",
        "plt.ylabel('accruacy')\n",
        "plt.xlabel('epochs')\n",
        "plt.legend()\n",
        "plt.show()\n"
      ],
      "metadata": {
        "colab": {
          "base_uri": "https://localhost:8080/",
          "height": 295
        },
        "id": "soKhnbBpJOHb",
        "outputId": "2f166540-dcc2-413a-dd07-9d678162dbe7"
      },
      "execution_count": 31,
      "outputs": [
        {
          "output_type": "display_data",
          "data": {
            "text/plain": [
              "<Figure size 432x288 with 1 Axes>"
            ],
            "image/png": "[encoded data removed]"
          },
          "metadata": {
            "needs_background": "light"
          }
        }
      ]
    },
    {
      "cell_type": "code",
      "source": [
        "# plt.plot(history.history['loss'], label = 'train')\n",
        "plt.plot(history.history['val_loss'], label = 'valid')\n",
        "plt.title('model loss')\n",
        "plt.ylabel('loss')\n",
        "plt.xlabel('epochs')\n",
        "plt.legend()\n",
        "plt.show()"
      ],
      "metadata": {
        "colab": {
          "base_uri": "https://localhost:8080/",
          "height": 295
        },
        "id": "ZpjsUun8JSzV",
        "outputId": "99e91c81-168d-48f9-c879-2acd92c3e217"
      },
      "execution_count": 32,
      "outputs": [
        {
          "output_type": "display_data",
          "data": {
            "text/plain": [
              "<Figure size 432x288 with 1 Axes>"
            ],
            "image/png": "[encoded data removed]"
          },
          "metadata": {
            "needs_background": "light"
          }
        }
      ]
    },
    {
      "cell_type": "code",
      "source": [
        "plt.plot(history.history['loss'], label = 'train')\n",
        "# plt.plot(history.history['val_loss'], label = 'valid')\n",
        "plt.title('model loss')\n",
        "plt.ylabel('loss')\n",
        "plt.xlabel('epochs')\n",
        "plt.legend()\n",
        "plt.show()"
      ],
      "metadata": {
        "colab": {
          "base_uri": "https://localhost:8080/",
          "height": 295
        },
        "id": "hqe-LbHDJW8C",
        "outputId": "7bc6842f-7f05-4c17-ee39-567f7325168f"
      },
      "execution_count": 33,
      "outputs": [
        {
          "output_type": "display_data",
          "data": {
            "text/plain": [
              "<Figure size 432x288 with 1 Axes>"
            ],
            "image/png": "[encoded data removed]"
          },
          "metadata": {
            "needs_background": "light"
          }
        }
      ]
    },
    {
      "cell_type": "code",
      "source": [
        "plt.plot(history.history['loss'], label = 'train')\n",
        "plt.plot(history.history['val_loss'], label = 'valid')\n",
        "plt.title('model loss')\n",
        "plt.ylabel('loss')\n",
        "plt.xlabel('epochs')\n",
        "plt.legend()\n",
        "plt.show()"
      ],
      "metadata": {
        "colab": {
          "base_uri": "https://localhost:8080/",
          "height": 295
        },
        "id": "_5_851eIJZi5",
        "outputId": "c8431ee7-d1d1-4f3e-c7ba-e859ac8b01d9"
      },
      "execution_count": 34,
      "outputs": [
        {
          "output_type": "display_data",
          "data": {
            "text/plain": [
              "<Figure size 432x288 with 1 Axes>"
            ],
            "image/png": "[encoded data removed]"
          },
          "metadata": {
            "needs_background": "light"
          }
        }
      ]
    },
    {
      "cell_type": "markdown",
      "source": [
        "# hyperparemter tuning\n",
        "\n",
        "- number of hidden layers\n",
        "- units\n",
        "- activation\n",
        "- kernel init\n",
        "- optimizer\n",
        "- loss\n",
        "- epochs\n",
        "- batch_size"
      ],
      "metadata": {
        "id": "Lx2-JfulQdqg"
      }
    },
    {
      "cell_type": "code",
      "source": [
        "# tesing the model\n",
        "\n",
        "y_pred = model.predict(X_test )\n",
        "y_pred_prob = (y_pred >= 0.7)\n",
        "y_pred_prob"
      ],
      "metadata": {
        "colab": {
          "base_uri": "https://localhost:8080/"
        },
        "id": "wgM5i0iSQjLj",
        "outputId": "d07cbeb7-7565-44c3-88db-0301c908d9af"
      },
      "execution_count": null,
      "outputs": [
        {
          "output_type": "execute_result",
          "data": {
            "text/plain": [
              "array([[False],\n",
              "       [False],\n",
              "       [ True],\n",
              "       ...,\n",
              "       [False],\n",
              "       [False],\n",
              "       [ True]])"
            ]
          },
          "metadata": {},
          "execution_count": 44
        }
      ]
    },
    {
      "cell_type": "code",
      "source": [
        "y_pred"
      ],
      "metadata": {
        "colab": {
          "base_uri": "https://localhost:8080/"
        },
        "id": "qGHNcQ2BQkEf",
        "outputId": "b7775d56-a539-496a-bfeb-bcb98468a252"
      },
      "execution_count": null,
      "outputs": [
        {
          "output_type": "execute_result",
          "data": {
            "text/plain": [
              "array([[0.01402903],\n",
              "       [0.07479122],\n",
              "       [0.97932124],\n",
              "       ...,\n",
              "       [0.00388372],\n",
              "       [0.20299459],\n",
              "       [0.80004585]], dtype=float32)"
            ]
          },
          "metadata": {},
          "execution_count": 45
        }
      ]
    },
    {
      "cell_type": "code",
      "source": [
        "from sklearn.metrics import confusion_matrix, accuracy_score"
      ],
      "metadata": {
        "id": "uYrvC9rrQo61"
      },
      "execution_count": null,
      "outputs": []
    },
    {
      "cell_type": "code",
      "source": [
        "confusion_matrix(y_pred_prob , y_test)"
      ],
      "metadata": {
        "colab": {
          "base_uri": "https://localhost:8080/"
        },
        "id": "jOItVu2SQtOL",
        "outputId": "f154831d-57d8-416f-c3b6-16e365de9a74"
      },
      "execution_count": null,
      "outputs": [
        {
          "output_type": "execute_result",
          "data": {
            "text/plain": [
              "array([[1522,  238],\n",
              "       [  55,  185]])"
            ]
          },
          "metadata": {},
          "execution_count": 47
        }
      ]
    },
    {
      "cell_type": "code",
      "source": [
        "accuracy_score(y_pred_prob , y_test)"
      ],
      "metadata": {
        "colab": {
          "base_uri": "https://localhost:8080/"
        },
        "id": "GNFNNOukQvbO",
        "outputId": "99b28da8-8e1b-4680-fa43-d4a6eb882d84"
      },
      "execution_count": null,
      "outputs": [
        {
          "output_type": "execute_result",
          "data": {
            "text/plain": [
              "0.8535"
            ]
          },
          "metadata": {},
          "execution_count": 48
        }
      ]
    },
    {
      "cell_type": "markdown",
      "source": [
        "## Save the Model and use in other API"
      ],
      "metadata": {
        "id": "6d0xXbnYTy1J"
      }
    },
    {
      "cell_type": "code",
      "source": [
        "# saving\n",
        "model.save('churn_model.h5')\n",
        "\n",
        "joblib.dump(sc , 'feature_scaling_model.pkl')"
      ],
      "metadata": {
        "colab": {
          "base_uri": "https://localhost:8080/"
        },
        "id": "cy2ByXgYQzPl",
        "outputId": "e056c772-83a6-4ef4-f004-b5beb14e70c5"
      },
      "execution_count": null,
      "outputs": [
        {
          "output_type": "execute_result",
          "data": {
            "text/plain": [
              "['feature_scaling_model.pkl']"
            ]
          },
          "metadata": {},
          "execution_count": 49
        }
      ]
    },
    {
      "cell_type": "code",
      "source": [
        "ls"
      ],
      "metadata": {
        "colab": {
          "base_uri": "https://localhost:8080/"
        },
        "id": "kanWlOfBRpPx",
        "outputId": "50f123de-1025-445a-8058-477357b89a88"
      },
      "execution_count": null,
      "outputs": [
        {
          "output_type": "stream",
          "name": "stdout",
          "text": [
            "1_DL.ipynb  churn_model.h5       feature_scaling_model.pkl\n",
            "2_DL.ipynb  Churn_Modelling.csv\n"
          ]
        }
      ]
    },
    {
      "cell_type": "markdown",
      "source": [
        "## How to load the Model from the Saved model"
      ],
      "metadata": {
        "id": "BYwNhL_GR3Aj"
      }
    },
    {
      "cell_type": "code",
      "source": [
        "from tensorflow.keras.models import load_model"
      ],
      "metadata": {
        "id": "NtbvOS3aRrnO"
      },
      "execution_count": null,
      "outputs": []
    },
    {
      "cell_type": "code",
      "source": [
        "loaded_model = load_model('churn_model.h5')"
      ],
      "metadata": {
        "id": "yC_OEndKRzwX"
      },
      "execution_count": null,
      "outputs": []
    },
    {
      "cell_type": "code",
      "source": [
        "sc  = joblib.load('feature_scaling_model.pkl')\n",
        "data = sc.transform([[5,2,1,100,1,1,1,8,1,1,9]])\n",
        "a = loaded_model.predict(data)\n",
        "a[0] > 0.7"
      ],
      "metadata": {
        "colab": {
          "base_uri": "https://localhost:8080/"
        },
        "id": "zQ-UMV_SR2Lg",
        "outputId": "4552ece5-b088-4697-ff20-54165ce7b956"
      },
      "execution_count": null,
      "outputs": [
        {
          "output_type": "stream",
          "name": "stderr",
          "text": [
            "/usr/local/lib/python3.7/dist-packages/sklearn/base.py:451: UserWarning: X does not have valid feature names, but StandardScaler was fitted with feature names\n",
            "  \"X does not have valid feature names, but\"\n"
          ]
        },
        {
          "output_type": "execute_result",
          "data": {
            "text/plain": [
              "array([False])"
            ]
          },
          "metadata": {},
          "execution_count": 53
        }
      ]
    },
    {
      "cell_type": "code",
      "source": [
        "a = (a[0] > 0.7)[0]"
      ],
      "metadata": {
        "id": "vC0iHpM-SC60"
      },
      "execution_count": null,
      "outputs": []
    },
    {
      "cell_type": "code",
      "source": [
        "if a == False:\n",
        "  print('he will not leave')\n",
        "else:\n",
        "  print('he will lrave')"
      ],
      "metadata": {
        "colab": {
          "base_uri": "https://localhost:8080/"
        },
        "id": "FgCKPtGySNsX",
        "outputId": "00c533da-597c-419e-fa3e-59c4083a1ba0"
      },
      "execution_count": null,
      "outputs": [
        {
          "output_type": "stream",
          "name": "stdout",
          "text": [
            "he will not leave\n"
          ]
        }
      ]
    },
    {
      "cell_type": "code",
      "source": [
        "model.summary()"
      ],
      "metadata": {
        "colab": {
          "base_uri": "https://localhost:8080/"
        },
        "id": "_eHTWPnGSPR-",
        "outputId": "390e726e-a719-4aea-acb4-9d53e83ae306"
      },
      "execution_count": null,
      "outputs": [
        {
          "output_type": "stream",
          "name": "stdout",
          "text": [
            "Model: \"sequential_1\"\n",
            "_________________________________________________________________\n",
            " Layer (type)                Output Shape              Param #   \n",
            "=================================================================\n",
            " dense_4 (Dense)             (None, 100)               1200      \n",
            "                                                                 \n",
            " dense_5 (Dense)             (None, 50)                5050      \n",
            "                                                                 \n",
            " dense_6 (Dense)             (None, 25)                1275      \n",
            "                                                                 \n",
            " dense_7 (Dense)             (None, 1)                 26        \n",
            "                                                                 \n",
            "=================================================================\n",
            "Total params: 7,551\n",
            "Trainable params: 7,551\n",
            "Non-trainable params: 0\n",
            "_________________________________________________________________\n"
          ]
        }
      ]
    },
    {
      "cell_type": "code",
      "source": [
        ""
      ],
      "metadata": {
        "id": "Q2ZEMWciSTu6"
      },
      "execution_count": null,
      "outputs": []
    }
  ]
}