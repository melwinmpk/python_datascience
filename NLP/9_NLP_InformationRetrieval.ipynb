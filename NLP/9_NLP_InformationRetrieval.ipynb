{
 "cells": [
  {
   "cell_type": "markdown",
   "id": "d51fd415",
   "metadata": {},
   "source": [
    "## Information retrieval"
   ]
  },
  {
   "cell_type": "markdown",
   "id": "b1911473",
   "metadata": {},
   "source": [
    "learn how does the KDTree works"
   ]
  },
  {
   "cell_type": "markdown",
   "id": "85a027cd",
   "metadata": {},
   "source": [
    "KDTree is the advance version of the KNN"
   ]
  },
  {
   "cell_type": "code",
   "execution_count": 2,
   "id": "92326423",
   "metadata": {},
   "outputs": [],
   "source": [
    "import numpy as np\n",
    "import pandas as pd\n",
    "import nltk\n",
    "from sklearn.feature_extraction.text import CountVectorizer , TfidfVectorizer\n",
    "from sklearn.neighbors import KDTree\n",
    "import joblib"
   ]
  },
  {
   "cell_type": "code",
   "execution_count": 6,
   "id": "dcd0cbe2",
   "metadata": {},
   "outputs": [],
   "source": [
    "person = pd.read_csv(\"../dataset/famous_people.csv\")"
   ]
  },
  {
   "cell_type": "code",
   "execution_count": 7,
   "id": "979c530b",
   "metadata": {},
   "outputs": [
    {
     "data": {
      "text/html": [
       "<div>\n",
       "<style scoped>\n",
       "    .dataframe tbody tr th:only-of-type {\n",
       "        vertical-align: middle;\n",
       "    }\n",
       "\n",
       "    .dataframe tbody tr th {\n",
       "        vertical-align: top;\n",
       "    }\n",
       "\n",
       "    .dataframe thead th {\n",
       "        text-align: right;\n",
       "    }\n",
       "</style>\n",
       "<table border=\"1\" class=\"dataframe\">\n",
       "  <thead>\n",
       "    <tr style=\"text-align: right;\">\n",
       "      <th></th>\n",
       "      <th>Sno</th>\n",
       "      <th>URI</th>\n",
       "      <th>Name</th>\n",
       "      <th>Text</th>\n",
       "    </tr>\n",
       "  </thead>\n",
       "  <tbody>\n",
       "    <tr>\n",
       "      <th>0</th>\n",
       "      <td>1</td>\n",
       "      <td>https://en.wikipedia.org/wiki/Narendra_Modi</td>\n",
       "      <td>Narendra Modi</td>\n",
       "      <td>Narendra Damodardas Modi (Gujarati pronunciati...</td>\n",
       "    </tr>\n",
       "    <tr>\n",
       "      <th>1</th>\n",
       "      <td>2</td>\n",
       "      <td>https://en.wikipedia.org/wiki/Sania_Mirza</td>\n",
       "      <td>Sania Mirza</td>\n",
       "      <td>Sania Mirza (Hindustani pronunciation: [ˈsaːnɪ...</td>\n",
       "    </tr>\n",
       "    <tr>\n",
       "      <th>2</th>\n",
       "      <td>3</td>\n",
       "      <td>https://en.wikipedia.org/wiki/Virat_Kohli</td>\n",
       "      <td>Virat Kohli</td>\n",
       "      <td>Virat Kohli (About this soundpronunciation (he...</td>\n",
       "    </tr>\n",
       "    <tr>\n",
       "      <th>3</th>\n",
       "      <td>4</td>\n",
       "      <td>https://en.wikipedia.org/wiki/Miley_Cyrus</td>\n",
       "      <td>Miley Cyrus</td>\n",
       "      <td>Miley Ray Cyrus (born Destiny Hope Cyrus; Nove...</td>\n",
       "    </tr>\n",
       "    <tr>\n",
       "      <th>4</th>\n",
       "      <td>5</td>\n",
       "      <td>https://en.wikipedia.org/wiki/Leonardo_DiCaprio</td>\n",
       "      <td>Leonardo DiCaprio</td>\n",
       "      <td>Leonardo Wilhelm DiCaprio (/dɪˈkæprioʊ/, Itali...</td>\n",
       "    </tr>\n",
       "  </tbody>\n",
       "</table>\n",
       "</div>"
      ],
      "text/plain": [
       "   Sno                                              URI               Name  \\\n",
       "0    1      https://en.wikipedia.org/wiki/Narendra_Modi      Narendra Modi   \n",
       "1    2        https://en.wikipedia.org/wiki/Sania_Mirza        Sania Mirza   \n",
       "2    3        https://en.wikipedia.org/wiki/Virat_Kohli        Virat Kohli   \n",
       "3    4        https://en.wikipedia.org/wiki/Miley_Cyrus        Miley Cyrus   \n",
       "4    5  https://en.wikipedia.org/wiki/Leonardo_DiCaprio  Leonardo DiCaprio   \n",
       "\n",
       "                                                Text  \n",
       "0  Narendra Damodardas Modi (Gujarati pronunciati...  \n",
       "1  Sania Mirza (Hindustani pronunciation: [ˈsaːnɪ...  \n",
       "2  Virat Kohli (About this soundpronunciation (he...  \n",
       "3  Miley Ray Cyrus (born Destiny Hope Cyrus; Nove...  \n",
       "4  Leonardo Wilhelm DiCaprio (/dɪˈkæprioʊ/, Itali...  "
      ]
     },
     "execution_count": 7,
     "metadata": {},
     "output_type": "execute_result"
    }
   ],
   "source": [
    "person.head(5)"
   ]
  },
  {
   "cell_type": "code",
   "execution_count": null,
   "id": "864cd2d7",
   "metadata": {},
   "outputs": [],
   "source": [
    "stopwords , numbers  , ounctauys , @ - homework"
   ]
  },
  {
   "cell_type": "code",
   "execution_count": 8,
   "id": "9fce232e",
   "metadata": {},
   "outputs": [],
   "source": [
    "tfidf = TfidfVectorizer()\n",
    "train_tfidf = tfidf.fit_transform(person.Text).toarray()"
   ]
  },
  {
   "cell_type": "code",
   "execution_count": 9,
   "id": "cd29b2e6",
   "metadata": {},
   "outputs": [],
   "source": [
    "person['tfidf'] = list(train_tfidf)"
   ]
  },
  {
   "cell_type": "code",
   "execution_count": 10,
   "id": "f0952b1e",
   "metadata": {},
   "outputs": [],
   "source": [
    "kdtree = KDTree(train_tfidf)"
   ]
  },
  {
   "cell_type": "code",
   "execution_count": 11,
   "id": "d78ef735",
   "metadata": {},
   "outputs": [
    {
     "data": {
      "text/html": [
       "<div>\n",
       "<style scoped>\n",
       "    .dataframe tbody tr th:only-of-type {\n",
       "        vertical-align: middle;\n",
       "    }\n",
       "\n",
       "    .dataframe tbody tr th {\n",
       "        vertical-align: top;\n",
       "    }\n",
       "\n",
       "    .dataframe thead th {\n",
       "        text-align: right;\n",
       "    }\n",
       "</style>\n",
       "<table border=\"1\" class=\"dataframe\">\n",
       "  <thead>\n",
       "    <tr style=\"text-align: right;\">\n",
       "      <th></th>\n",
       "      <th>Sno</th>\n",
       "      <th>URI</th>\n",
       "      <th>Name</th>\n",
       "      <th>Text</th>\n",
       "      <th>tfidf</th>\n",
       "    </tr>\n",
       "  </thead>\n",
       "  <tbody>\n",
       "    <tr>\n",
       "      <th>0</th>\n",
       "      <td>1</td>\n",
       "      <td>https://en.wikipedia.org/wiki/Narendra_Modi</td>\n",
       "      <td>Narendra Modi</td>\n",
       "      <td>Narendra Damodardas Modi (Gujarati pronunciati...</td>\n",
       "      <td>[0.0, 0.01995272148110367, 0.0, 0.0, 0.0, 0.0,...</td>\n",
       "    </tr>\n",
       "    <tr>\n",
       "      <th>1</th>\n",
       "      <td>2</td>\n",
       "      <td>https://en.wikipedia.org/wiki/Sania_Mirza</td>\n",
       "      <td>Sania Mirza</td>\n",
       "      <td>Sania Mirza (Hindustani pronunciation: [ˈsaːnɪ...</td>\n",
       "      <td>[0.0, 0.021360626740151507, 0.0397332355455375...</td>\n",
       "    </tr>\n",
       "    <tr>\n",
       "      <th>2</th>\n",
       "      <td>3</td>\n",
       "      <td>https://en.wikipedia.org/wiki/Virat_Kohli</td>\n",
       "      <td>Virat Kohli</td>\n",
       "      <td>Virat Kohli (About this soundpronunciation (he...</td>\n",
       "      <td>[0.056544980688485104, 0.03773516689181673, 0....</td>\n",
       "    </tr>\n",
       "    <tr>\n",
       "      <th>3</th>\n",
       "      <td>4</td>\n",
       "      <td>https://en.wikipedia.org/wiki/Miley_Cyrus</td>\n",
       "      <td>Miley Cyrus</td>\n",
       "      <td>Miley Ray Cyrus (born Destiny Hope Cyrus; Nove...</td>\n",
       "      <td>[0.0, 0.0, 0.0499774026738914, 0.0, 0.0, 0.0, ...</td>\n",
       "    </tr>\n",
       "    <tr>\n",
       "      <th>4</th>\n",
       "      <td>5</td>\n",
       "      <td>https://en.wikipedia.org/wiki/Leonardo_DiCaprio</td>\n",
       "      <td>Leonardo DiCaprio</td>\n",
       "      <td>Leonardo Wilhelm DiCaprio (/dɪˈkæprioʊ/, Itali...</td>\n",
       "      <td>[0.0, 0.0, 0.025140418401138422, 0.02926714369...</td>\n",
       "    </tr>\n",
       "  </tbody>\n",
       "</table>\n",
       "</div>"
      ],
      "text/plain": [
       "   Sno                                              URI               Name  \\\n",
       "0    1      https://en.wikipedia.org/wiki/Narendra_Modi      Narendra Modi   \n",
       "1    2        https://en.wikipedia.org/wiki/Sania_Mirza        Sania Mirza   \n",
       "2    3        https://en.wikipedia.org/wiki/Virat_Kohli        Virat Kohli   \n",
       "3    4        https://en.wikipedia.org/wiki/Miley_Cyrus        Miley Cyrus   \n",
       "4    5  https://en.wikipedia.org/wiki/Leonardo_DiCaprio  Leonardo DiCaprio   \n",
       "\n",
       "                                                Text  \\\n",
       "0  Narendra Damodardas Modi (Gujarati pronunciati...   \n",
       "1  Sania Mirza (Hindustani pronunciation: [ˈsaːnɪ...   \n",
       "2  Virat Kohli (About this soundpronunciation (he...   \n",
       "3  Miley Ray Cyrus (born Destiny Hope Cyrus; Nove...   \n",
       "4  Leonardo Wilhelm DiCaprio (/dɪˈkæprioʊ/, Itali...   \n",
       "\n",
       "                                               tfidf  \n",
       "0  [0.0, 0.01995272148110367, 0.0, 0.0, 0.0, 0.0,...  \n",
       "1  [0.0, 0.021360626740151507, 0.0397332355455375...  \n",
       "2  [0.056544980688485104, 0.03773516689181673, 0....  \n",
       "3  [0.0, 0.0, 0.0499774026738914, 0.0, 0.0, 0.0, ...  \n",
       "4  [0.0, 0.0, 0.025140418401138422, 0.02926714369...  "
      ]
     },
     "execution_count": 11,
     "metadata": {},
     "output_type": "execute_result"
    }
   ],
   "source": [
    "person.head(5)"
   ]
  },
  {
   "cell_type": "code",
   "execution_count": 15,
   "id": "774b4930",
   "metadata": {},
   "outputs": [
    {
     "name": "stdout",
     "output_type": "stream",
     "text": [
      "Name : MS Dhoni\n",
      "Distance : 0.0\n",
      "URI : https://en.wikipedia.org/wiki/MS_Dhoni\n",
      "Name : Virat Kohli\n",
      "Distance : 0.8497822049958498\n",
      "URI : https://en.wikipedia.org/wiki/Virat_Kohli\n",
      "Name : Yuvraj Singh\n",
      "Distance : 0.9684791160176294\n",
      "URI : https://en.wikipedia.org/wiki/Yuvraj_Singh\n"
     ]
    }
   ],
   "source": [
    "distance , idx = kdtree.query(person.tfidf[24].reshape(1,-1) , k = 3)\n",
    "\n",
    "for i , value in list(enumerate(idx[0])):\n",
    "    print(\"Name : {}\".format(person['Name'][value]))\n",
    "    print(\"Distance : {}\".format(distance[0][i]))\n",
    "    print(\"URI : {}\".format(person['URI'][value]))        "
   ]
  },
  {
   "cell_type": "code",
   "execution_count": 16,
   "id": "a64b8651",
   "metadata": {},
   "outputs": [
    {
     "data": {
      "text/plain": [
       "(array([[0.        , 0.8497822 , 0.96847912]]),\n",
       " array([[24,  2, 10]], dtype=int64))"
      ]
     },
     "execution_count": 16,
     "metadata": {},
     "output_type": "execute_result"
    }
   ],
   "source": [
    "kdtree.query(person.tfidf[24].reshape(1,-1) , k = 3)"
   ]
  },
  {
   "cell_type": "code",
   "execution_count": 17,
   "id": "59a12a04",
   "metadata": {},
   "outputs": [
    {
     "data": {
      "text/plain": [
       "[(0, 24), (1, 2), (2, 10)]"
      ]
     },
     "execution_count": 17,
     "metadata": {},
     "output_type": "execute_result"
    }
   ],
   "source": [
    "list(enumerate(idx[0]))"
   ]
  },
  {
   "cell_type": "code",
   "execution_count": 18,
   "id": "3862fb88",
   "metadata": {},
   "outputs": [
    {
     "data": {
      "text/plain": [
       "['kdtree.pkl']"
      ]
     },
     "execution_count": 18,
     "metadata": {},
     "output_type": "execute_result"
    }
   ],
   "source": [
    "# models to save\n",
    "\n",
    "# 1. tfidf\n",
    "# 2. kdtree\n",
    "\n",
    "joblib.dump(tfidf , 'tfidf.pkl')\n",
    "joblib.dump(kdtree , 'kdtree.pkl')"
   ]
  },
  {
   "cell_type": "code",
   "execution_count": 19,
   "id": "25d96175",
   "metadata": {},
   "outputs": [],
   "source": [
    "# load the models\n",
    "\n",
    "vector = joblib.load('tfidf.pkl')\n",
    "kd_model = joblib.load('kdtree.pkl')"
   ]
  },
  {
   "cell_type": "code",
   "execution_count": 20,
   "id": "ebba77d6",
   "metadata": {},
   "outputs": [
    {
     "name": "stdout",
     "output_type": "stream",
     "text": [
      "Name : Narendra Modi\n",
      "Distance : 1.2713164927940788\n",
      "URI : https://en.wikipedia.org/wiki/Narendra_Modi\n",
      "Name : Kapil Sharma\n",
      "Distance : 1.3256162541432137\n",
      "URI : https://en.wikipedia.org/wiki/Kapil_Sharma_(comedian)\n",
      "Name : Yuvraj Singh\n",
      "Distance : 1.3599674553530987\n",
      "URI : https://en.wikipedia.org/wiki/Yuvraj_Singh\n"
     ]
    }
   ],
   "source": [
    "text = ['prime minister of india']\n",
    "\n",
    "data = vector.transform(text).toarray()\n",
    "\n",
    "\n",
    "\n",
    "distance , idx = kdtree.query(data , k = 3)\n",
    "\n",
    "for i , value in list(enumerate(idx[0])):\n",
    "    print(\"Name : {}\".format(person['Name'][value]))\n",
    "    print(\"Distance : {}\".format(distance[0][i]))\n",
    "    print(\"URI : {}\".format(person['URI'][value]))   "
   ]
  },
  {
   "cell_type": "code",
   "execution_count": null,
   "id": "7965a378",
   "metadata": {},
   "outputs": [],
   "source": [
    "flask app to "
   ]
  }
 ],
 "metadata": {
  "kernelspec": {
   "display_name": "Python 3 (ipykernel)",
   "language": "python",
   "name": "python3"
  },
  "language_info": {
   "codemirror_mode": {
    "name": "ipython",
    "version": 3
   },
   "file_extension": ".py",
   "mimetype": "text/x-python",
   "name": "python",
   "nbconvert_exporter": "python",
   "pygments_lexer": "ipython3",
   "version": "3.8.12"
  }
 },
 "nbformat": 4,
 "nbformat_minor": 5
}
