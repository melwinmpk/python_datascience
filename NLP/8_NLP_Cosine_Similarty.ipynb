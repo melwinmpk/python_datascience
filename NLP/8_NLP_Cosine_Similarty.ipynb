{
 "cells": [
  {
   "cell_type": "markdown",
   "id": "c7b61951",
   "metadata": {},
   "source": [
    "## Cosine Similaruty\n",
    "\n",
    "<p>Cosine similarity measures the similarity between two vectors by calculating the cosine of the angle between the two vectors.</p>\n",
    "\n",
    "<p>Cosine Similaruty values ranges between 0 to 1</p>\n",
    "\n",
    "<p> Close to 0 => they are not similar</p>\n",
    "<p> Close to 1 => they are similar</p>\n",
    "\n",
    "To find Cosimilarity that exist in a vector\n",
    "\n",
    "<img src=\"https://miro.medium.com/max/700/1*LfW66-WsYkFqWc4XYJbEJg.png\"></img>\n",
    "<a href=\"https://towardsdatascience.com/cosine-similarity-how-does-it-measure-the-similarity-maths-behind-and-usage-in-python-50ad30aad7db\">Source link</a>"
   ]
  },
  {
   "cell_type": "code",
   "execution_count": 1,
   "id": "98f84255",
   "metadata": {},
   "outputs": [
    {
     "data": {
      "image/png": "[encoded data removed]",
      "text/plain": [
       "<Figure size 432x288 with 1 Axes>"
      ]
     },
     "metadata": {
      "needs_background": "light"
     },
     "output_type": "display_data"
    },
    {
     "name": "stdout",
     "output_type": "stream",
     "text": [
      "Cosine Similarity between A and B:0.7241379310344827\n",
      "Cosine Distance between A and B:0.27586206896551735\n"
     ]
    }
   ],
   "source": [
    "import numpy as np\n",
    "import matplotlib.pyplot as plt\n",
    "# consider two vectors A and B in 2-D\n",
    "A=np.array([7,3])\n",
    "B=np.array([3,7])\n",
    "ax = plt.axes()\n",
    "\n",
    "ax.arrow(0.0, 0.0, A[0], A[1], head_width=0.4, head_length=0.5)\n",
    "plt.annotate(f\"A({A[0]},{A[1]})\", xy=(A[0], A[1]),xytext=(A[0]+0.5, A[1]))\n",
    "ax.arrow(0.0, 0.0, B[0], B[1], head_width=0.4, head_length=0.5)\n",
    "plt.annotate(f\"B({B[0]},{B[1]})\", xy=(B[0], B[1]),xytext=(B[0]+0.5, B[1]))\n",
    "plt.xlim(0,10)\n",
    "plt.ylim(0,10)\n",
    "plt.show()\n",
    "plt.close()\n",
    "\n",
    "# cosine similarity between A and B\n",
    "cos_sim=np.dot(A,B)/(np.linalg.norm(A)*np.linalg.norm(B))\n",
    "\n",
    "print (f\"Cosine Similarity between A and B:{cos_sim}\")\n",
    "print (f\"Cosine Distance between A and B:{1-cos_sim}\")"
   ]
  },
  {
   "cell_type": "code",
   "execution_count": 2,
   "id": "3ae71ec0",
   "metadata": {},
   "outputs": [],
   "source": [
    "from sklearn.metrics.pairwise import cosine_similarity"
   ]
  },
  {
   "cell_type": "code",
   "execution_count": 5,
   "id": "87e4f729",
   "metadata": {},
   "outputs": [
    {
     "name": "stdout",
     "output_type": "stream",
     "text": [
      "[[0.72413793]]\n"
     ]
    }
   ],
   "source": [
    "A=np.array([7,3])\n",
    "B=np.array([3,7])\n",
    "cos_sine = cosine_similarity(A.reshape(1,-1),B.reshape(1,-1))\n",
    "print(cos_sine)"
   ]
  },
  {
   "cell_type": "markdown",
   "id": "8e1b6f38",
   "metadata": {},
   "source": [
    "----"
   ]
  },
  {
   "cell_type": "code",
   "execution_count": 7,
   "id": "75343e49",
   "metadata": {},
   "outputs": [],
   "source": [
    "doc_trump = \"Mr. Trump became president after winning the political election. Though he lost the support \"\n",
    "doc_election = \"President Trump says Putin had no political interference is the election outcome. He says \"\n",
    "doc_putin = \"Post elections, Vladimir Putin became President of Russia. President Putin had served as the\"\n",
    "doc_afsan = 'He is the learnnay instructor and a ml engineer'\n",
    "documents = [doc_trump, doc_election, doc_putin, doc_afsan]"
   ]
  },
  {
   "cell_type": "code",
   "execution_count": 6,
   "id": "f4634c52",
   "metadata": {},
   "outputs": [],
   "source": [
    "from sklearn.feature_extraction.text import CountVectorizer\n",
    "import pandas as pd"
   ]
  },
  {
   "cell_type": "code",
   "execution_count": 9,
   "id": "9ecdaac5",
   "metadata": {},
   "outputs": [],
   "source": [
    "counter_vector_data = CountVectorizer(stop_words='english')\n",
    "sparse_matrix = counter_vector_data.fit_transform(documents)"
   ]
  },
  {
   "cell_type": "code",
   "execution_count": 13,
   "id": "b6abf0cd",
   "metadata": {},
   "outputs": [
    {
     "name": "stderr",
     "output_type": "stream",
     "text": [
      "C:\\Users\\Melwin\\.conda\\envs\\ds\\lib\\site-packages\\sklearn\\utils\\deprecation.py:87: FutureWarning: Function get_feature_names is deprecated; get_feature_names is deprecated in 1.0 and will be removed in 1.2. Please use get_feature_names_out instead.\n",
      "  warnings.warn(msg, category=FutureWarning)\n"
     ]
    },
    {
     "data": {
      "text/plain": [
       "['election',\n",
       " 'elections',\n",
       " 'engineer',\n",
       " 'instructor',\n",
       " 'interference',\n",
       " 'learnnay',\n",
       " 'lost',\n",
       " 'ml',\n",
       " 'mr',\n",
       " 'outcome',\n",
       " 'political',\n",
       " 'post',\n",
       " 'president',\n",
       " 'putin',\n",
       " 'russia',\n",
       " 'says',\n",
       " 'served',\n",
       " 'support',\n",
       " 'trump',\n",
       " 'vladimir',\n",
       " 'winning']"
      ]
     },
     "execution_count": 13,
     "metadata": {},
     "output_type": "execute_result"
    }
   ],
   "source": [
    "counter_vector_data.get_feature_names()"
   ]
  },
  {
   "cell_type": "code",
   "execution_count": 11,
   "id": "46b74d97",
   "metadata": {},
   "outputs": [
    {
     "data": {
      "text/plain": [
       "matrix([[1, 0, 0, 0, 0, 0, 1, 0, 1, 0, 1, 0, 1, 0, 0, 0, 0, 1, 1, 0, 1],\n",
       "        [1, 0, 0, 0, 1, 0, 0, 0, 0, 1, 1, 0, 1, 1, 0, 2, 0, 0, 1, 0, 0],\n",
       "        [0, 1, 0, 0, 0, 0, 0, 0, 0, 0, 0, 1, 2, 2, 1, 0, 1, 0, 0, 1, 0],\n",
       "        [0, 0, 1, 1, 0, 1, 0, 1, 0, 0, 0, 0, 0, 0, 0, 0, 0, 0, 0, 0, 0]],\n",
       "       dtype=int64)"
      ]
     },
     "execution_count": 11,
     "metadata": {},
     "output_type": "execute_result"
    }
   ],
   "source": [
    "sparse_matrix.todense()"
   ]
  },
  {
   "cell_type": "code",
   "execution_count": 12,
   "id": "1624d693",
   "metadata": {},
   "outputs": [
    {
     "name": "stderr",
     "output_type": "stream",
     "text": [
      "C:\\Users\\Melwin\\.conda\\envs\\ds\\lib\\site-packages\\sklearn\\utils\\deprecation.py:87: FutureWarning: Function get_feature_names is deprecated; get_feature_names is deprecated in 1.0 and will be removed in 1.2. Please use get_feature_names_out instead.\n",
      "  warnings.warn(msg, category=FutureWarning)\n"
     ]
    },
    {
     "data": {
      "text/html": [
       "<div>\n",
       "<style scoped>\n",
       "    .dataframe tbody tr th:only-of-type {\n",
       "        vertical-align: middle;\n",
       "    }\n",
       "\n",
       "    .dataframe tbody tr th {\n",
       "        vertical-align: top;\n",
       "    }\n",
       "\n",
       "    .dataframe thead th {\n",
       "        text-align: right;\n",
       "    }\n",
       "</style>\n",
       "<table border=\"1\" class=\"dataframe\">\n",
       "  <thead>\n",
       "    <tr style=\"text-align: right;\">\n",
       "      <th></th>\n",
       "      <th>election</th>\n",
       "      <th>elections</th>\n",
       "      <th>engineer</th>\n",
       "      <th>instructor</th>\n",
       "      <th>interference</th>\n",
       "      <th>learnnay</th>\n",
       "      <th>lost</th>\n",
       "      <th>ml</th>\n",
       "      <th>mr</th>\n",
       "      <th>outcome</th>\n",
       "      <th>...</th>\n",
       "      <th>post</th>\n",
       "      <th>president</th>\n",
       "      <th>putin</th>\n",
       "      <th>russia</th>\n",
       "      <th>says</th>\n",
       "      <th>served</th>\n",
       "      <th>support</th>\n",
       "      <th>trump</th>\n",
       "      <th>vladimir</th>\n",
       "      <th>winning</th>\n",
       "    </tr>\n",
       "  </thead>\n",
       "  <tbody>\n",
       "    <tr>\n",
       "      <th>doc_trump</th>\n",
       "      <td>1</td>\n",
       "      <td>0</td>\n",
       "      <td>0</td>\n",
       "      <td>0</td>\n",
       "      <td>0</td>\n",
       "      <td>0</td>\n",
       "      <td>1</td>\n",
       "      <td>0</td>\n",
       "      <td>1</td>\n",
       "      <td>0</td>\n",
       "      <td>...</td>\n",
       "      <td>0</td>\n",
       "      <td>1</td>\n",
       "      <td>0</td>\n",
       "      <td>0</td>\n",
       "      <td>0</td>\n",
       "      <td>0</td>\n",
       "      <td>1</td>\n",
       "      <td>1</td>\n",
       "      <td>0</td>\n",
       "      <td>1</td>\n",
       "    </tr>\n",
       "    <tr>\n",
       "      <th>doc_election</th>\n",
       "      <td>1</td>\n",
       "      <td>0</td>\n",
       "      <td>0</td>\n",
       "      <td>0</td>\n",
       "      <td>1</td>\n",
       "      <td>0</td>\n",
       "      <td>0</td>\n",
       "      <td>0</td>\n",
       "      <td>0</td>\n",
       "      <td>1</td>\n",
       "      <td>...</td>\n",
       "      <td>0</td>\n",
       "      <td>1</td>\n",
       "      <td>1</td>\n",
       "      <td>0</td>\n",
       "      <td>2</td>\n",
       "      <td>0</td>\n",
       "      <td>0</td>\n",
       "      <td>1</td>\n",
       "      <td>0</td>\n",
       "      <td>0</td>\n",
       "    </tr>\n",
       "    <tr>\n",
       "      <th>doc_putin</th>\n",
       "      <td>0</td>\n",
       "      <td>1</td>\n",
       "      <td>0</td>\n",
       "      <td>0</td>\n",
       "      <td>0</td>\n",
       "      <td>0</td>\n",
       "      <td>0</td>\n",
       "      <td>0</td>\n",
       "      <td>0</td>\n",
       "      <td>0</td>\n",
       "      <td>...</td>\n",
       "      <td>1</td>\n",
       "      <td>2</td>\n",
       "      <td>2</td>\n",
       "      <td>1</td>\n",
       "      <td>0</td>\n",
       "      <td>1</td>\n",
       "      <td>0</td>\n",
       "      <td>0</td>\n",
       "      <td>1</td>\n",
       "      <td>0</td>\n",
       "    </tr>\n",
       "    <tr>\n",
       "      <th>doc_afsan</th>\n",
       "      <td>0</td>\n",
       "      <td>0</td>\n",
       "      <td>1</td>\n",
       "      <td>1</td>\n",
       "      <td>0</td>\n",
       "      <td>1</td>\n",
       "      <td>0</td>\n",
       "      <td>1</td>\n",
       "      <td>0</td>\n",
       "      <td>0</td>\n",
       "      <td>...</td>\n",
       "      <td>0</td>\n",
       "      <td>0</td>\n",
       "      <td>0</td>\n",
       "      <td>0</td>\n",
       "      <td>0</td>\n",
       "      <td>0</td>\n",
       "      <td>0</td>\n",
       "      <td>0</td>\n",
       "      <td>0</td>\n",
       "      <td>0</td>\n",
       "    </tr>\n",
       "  </tbody>\n",
       "</table>\n",
       "<p>4 rows × 21 columns</p>\n",
       "</div>"
      ],
      "text/plain": [
       "              election  elections  engineer  instructor  interference  \\\n",
       "doc_trump            1          0         0           0             0   \n",
       "doc_election         1          0         0           0             1   \n",
       "doc_putin            0          1         0           0             0   \n",
       "doc_afsan            0          0         1           1             0   \n",
       "\n",
       "              learnnay  lost  ml  mr  outcome  ...  post  president  putin  \\\n",
       "doc_trump            0     1   0   1        0  ...     0          1      0   \n",
       "doc_election         0     0   0   0        1  ...     0          1      1   \n",
       "doc_putin            0     0   0   0        0  ...     1          2      2   \n",
       "doc_afsan            1     0   1   0        0  ...     0          0      0   \n",
       "\n",
       "              russia  says  served  support  trump  vladimir  winning  \n",
       "doc_trump          0     0       0        1      1         0        1  \n",
       "doc_election       0     2       0        0      1         0        0  \n",
       "doc_putin          1     0       1        0      0         1        0  \n",
       "doc_afsan          0     0       0        0      0         0        0  \n",
       "\n",
       "[4 rows x 21 columns]"
      ]
     },
     "execution_count": 12,
     "metadata": {},
     "output_type": "execute_result"
    }
   ],
   "source": [
    "df = pd.DataFrame(sparse_matrix.todense(), columns = counter_vector_data.get_feature_names(),\n",
    "                  index = ['doc_trump', 'doc_election', 'doc_putin', 'doc_afsan'])\n",
    "df"
   ]
  },
  {
   "cell_type": "code",
   "execution_count": 14,
   "id": "da25df24",
   "metadata": {},
   "outputs": [
    {
     "data": {
      "text/plain": [
       "array([[1.        , 0.42640143, 0.19611614, 0.        ],\n",
       "       [0.42640143, 1.        , 0.3344968 , 0.        ],\n",
       "       [0.19611614, 0.3344968 , 1.        , 0.        ],\n",
       "       [0.        , 0.        , 0.        , 1.        ]])"
      ]
     },
     "execution_count": 14,
     "metadata": {},
     "output_type": "execute_result"
    }
   ],
   "source": [
    "cosine_similarity(df, df)"
   ]
  },
  {
   "cell_type": "code",
   "execution_count": null,
   "id": "e931fa56",
   "metadata": {},
   "outputs": [],
   "source": []
  }
 ],
 "metadata": {
  "kernelspec": {
   "display_name": "Python 3 (ipykernel)",
   "language": "python",
   "name": "python3"
  },
  "language_info": {
   "codemirror_mode": {
    "name": "ipython",
    "version": 3
   },
   "file_extension": ".py",
   "mimetype": "text/x-python",
   "name": "python",
   "nbconvert_exporter": "python",
   "pygments_lexer": "ipython3",
   "version": "3.10.6"
  }
 },
 "nbformat": 4,
 "nbformat_minor": 5
}
