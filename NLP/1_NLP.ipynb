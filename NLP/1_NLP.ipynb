{
 "cells": [
  {
   "cell_type": "markdown",
   "id": "c25136b0",
   "metadata": {},
   "source": [
    "## Text Analytics/ Text Mining\n",
    "\n",
    "<p>It is processing of deriving the meaningfull information from the natural languages text</p>\n",
    "<p>Text Analytics is nothing but the preprocessing that is required before giving the data to the model</p>\n",
    "\n",
    "<p>In ML we have data preprocessing</p>\n",
    "<p>In NLP we called it as text analytics</p>"
   ]
  },
  {
   "cell_type": "markdown",
   "id": "aee3e891",
   "metadata": {},
   "source": [
    "## Tokenization \n",
    "\n",
    "<p>Tokenization is breaking the raw text into small chunks. Tokenization breaks the raw text into words, sentences called tokens. <br>\n",
    "    These tokens help in understanding the context or developing the model for the NLP. The tokenization helps in interpreting the meaning of the text by analyzing the sequence of the words.</p>\n",
    "\n",
    "\n",
    "### There are two parts\n",
    "\n",
    "<ul>\n",
    "<li>Sentance Tokenization</li>\n",
    "<li>Word Tokenization</li>\n",
    "</ul>"
   ]
  },
  {
   "cell_type": "code",
   "execution_count": 1,
   "id": "8762663f",
   "metadata": {},
   "outputs": [
    {
     "name": "stdout",
     "output_type": "stream",
     "text": [
      "Collecting nltk\n",
      "  Downloading nltk-3.7-py3-none-any.whl (1.5 MB)\n",
      "Collecting tqdm\n",
      "  Downloading tqdm-4.63.0-py2.py3-none-any.whl (76 kB)\n",
      "Collecting regex>=2021.8.3\n",
      "  Downloading regex-2022.3.2-cp39-cp39-win_amd64.whl (274 kB)\n",
      "Requirement already satisfied: joblib in c:\\users\\futurense\\anaconda3\\envs\\ds\\lib\\site-packages (from nltk) (1.1.0)\n",
      "Collecting click\n",
      "  Downloading click-8.0.4-py3-none-any.whl (97 kB)\n",
      "Requirement already satisfied: colorama in c:\\users\\futurense\\anaconda3\\envs\\ds\\lib\\site-packages (from click->nltk) (0.4.4)\n",
      "Installing collected packages: tqdm, regex, click, nltk\n",
      "Successfully installed click-8.0.4 nltk-3.7 regex-2022.3.2 tqdm-4.63.0\n"
     ]
    }
   ],
   "source": [
    "!pip install nltk"
   ]
  },
  {
   "cell_type": "code",
   "execution_count": 2,
   "id": "d09c90e9",
   "metadata": {},
   "outputs": [],
   "source": [
    "import nltk"
   ]
  },
  {
   "cell_type": "code",
   "execution_count": 3,
   "id": "ae7d804c",
   "metadata": {},
   "outputs": [],
   "source": [
    "data = \"India (Hindi: Bhārat), officially the Republic of India, is a country in South Asia. It is the seventh-largest country by area, the second-most populous country, and the most populous democracy in the world? Bounded by the Indian Ocean on the south, the Arabian Sea on the southwest, and the Bay of Bengal on the southeast, it shares land borders with Pakistan to the west; China, Nepal, and Bhutan to the north; and Bangladesh and Myanmar to the east. In the Indian Ocean, India is in the vicinity of Sri Lanka and the Maldives; its Andaman and Nicobar Islands share a maritime border with Thailand and Indonesia.\""
   ]
  },
  {
   "cell_type": "code",
   "execution_count": 5,
   "id": "dd9ff85a",
   "metadata": {
    "scrolled": false
   },
   "outputs": [
    {
     "name": "stderr",
     "output_type": "stream",
     "text": [
      "[nltk_data] Downloading package punkt to\n",
      "[nltk_data]     C:\\Users\\Futurense\\AppData\\Roaming\\nltk_data...\n",
      "[nltk_data]   Unzipping tokenizers\\punkt.zip.\n"
     ]
    },
    {
     "data": {
      "text/plain": [
       "True"
      ]
     },
     "execution_count": 5,
     "metadata": {},
     "output_type": "execute_result"
    }
   ],
   "source": [
    "# only for tokenization \n",
    "# one time process\n",
    "nltk.download('punkt')"
   ]
  },
  {
   "cell_type": "markdown",
   "id": "6ea7c828",
   "metadata": {},
   "source": [
    "### Sentance Tokenization"
   ]
  },
  {
   "cell_type": "code",
   "execution_count": 6,
   "id": "725560ad",
   "metadata": {
    "scrolled": true
   },
   "outputs": [
    {
     "data": {
      "text/plain": [
       "['India (Hindi: Bhārat), officially the Republic of India, is a country in South Asia.',\n",
       " 'It is the seventh-largest country by area, the second-most populous country, and the most populous democracy in the world?',\n",
       " 'Bounded by the Indian Ocean on the south, the Arabian Sea on the southwest, and the Bay of Bengal on the southeast, it shares land borders with Pakistan to the west; China, Nepal, and Bhutan to the north; and Bangladesh and Myanmar to the east.',\n",
       " 'In the Indian Ocean, India is in the vicinity of Sri Lanka and the Maldives; its Andaman and Nicobar Islands share a maritime border with Thailand and Indonesia.']"
      ]
     },
     "execution_count": 6,
     "metadata": {},
     "output_type": "execute_result"
    }
   ],
   "source": [
    "nltk.sent_tokenize(data)"
   ]
  },
  {
   "cell_type": "markdown",
   "id": "d48eff86",
   "metadata": {},
   "source": [
    "### Word Tokenization"
   ]
  },
  {
   "cell_type": "code",
   "execution_count": 7,
   "id": "85c8af3e",
   "metadata": {},
   "outputs": [
    {
     "data": {
      "text/plain": [
       "['India',\n",
       " '(',\n",
       " 'Hindi',\n",
       " ':',\n",
       " 'Bhārat',\n",
       " ')',\n",
       " ',',\n",
       " 'officially',\n",
       " 'the',\n",
       " 'Republic',\n",
       " 'of',\n",
       " 'India',\n",
       " ',',\n",
       " 'is',\n",
       " 'a',\n",
       " 'country',\n",
       " 'in',\n",
       " 'South',\n",
       " 'Asia',\n",
       " '.',\n",
       " 'It',\n",
       " 'is',\n",
       " 'the',\n",
       " 'seventh-largest',\n",
       " 'country',\n",
       " 'by',\n",
       " 'area',\n",
       " ',',\n",
       " 'the',\n",
       " 'second-most',\n",
       " 'populous',\n",
       " 'country',\n",
       " ',',\n",
       " 'and',\n",
       " 'the',\n",
       " 'most',\n",
       " 'populous',\n",
       " 'democracy',\n",
       " 'in',\n",
       " 'the',\n",
       " 'world',\n",
       " '?',\n",
       " 'Bounded',\n",
       " 'by',\n",
       " 'the',\n",
       " 'Indian',\n",
       " 'Ocean',\n",
       " 'on',\n",
       " 'the',\n",
       " 'south',\n",
       " ',',\n",
       " 'the',\n",
       " 'Arabian',\n",
       " 'Sea',\n",
       " 'on',\n",
       " 'the',\n",
       " 'southwest',\n",
       " ',',\n",
       " 'and',\n",
       " 'the',\n",
       " 'Bay',\n",
       " 'of',\n",
       " 'Bengal',\n",
       " 'on',\n",
       " 'the',\n",
       " 'southeast',\n",
       " ',',\n",
       " 'it',\n",
       " 'shares',\n",
       " 'land',\n",
       " 'borders',\n",
       " 'with',\n",
       " 'Pakistan',\n",
       " 'to',\n",
       " 'the',\n",
       " 'west',\n",
       " ';',\n",
       " 'China',\n",
       " ',',\n",
       " 'Nepal',\n",
       " ',',\n",
       " 'and',\n",
       " 'Bhutan',\n",
       " 'to',\n",
       " 'the',\n",
       " 'north',\n",
       " ';',\n",
       " 'and',\n",
       " 'Bangladesh',\n",
       " 'and',\n",
       " 'Myanmar',\n",
       " 'to',\n",
       " 'the',\n",
       " 'east',\n",
       " '.',\n",
       " 'In',\n",
       " 'the',\n",
       " 'Indian',\n",
       " 'Ocean',\n",
       " ',',\n",
       " 'India',\n",
       " 'is',\n",
       " 'in',\n",
       " 'the',\n",
       " 'vicinity',\n",
       " 'of',\n",
       " 'Sri',\n",
       " 'Lanka',\n",
       " 'and',\n",
       " 'the',\n",
       " 'Maldives',\n",
       " ';',\n",
       " 'its',\n",
       " 'Andaman',\n",
       " 'and',\n",
       " 'Nicobar',\n",
       " 'Islands',\n",
       " 'share',\n",
       " 'a',\n",
       " 'maritime',\n",
       " 'border',\n",
       " 'with',\n",
       " 'Thailand',\n",
       " 'and',\n",
       " 'Indonesia',\n",
       " '.']"
      ]
     },
     "execution_count": 7,
     "metadata": {},
     "output_type": "execute_result"
    }
   ],
   "source": [
    "nltk.word_tokenize(data)"
   ]
  },
  {
   "cell_type": "markdown",
   "id": "6fe98900",
   "metadata": {},
   "source": [
    "## Part of Speech Tag\n",
    "<p>there are main 9 Part of Speech</p>\n",
    "\n",
    "\n",
    "1.Noun\n",
    "- singular noun\n",
    "- plural noun\n",
    "- proper singular\n",
    "- proper plural\n",
    "\n"
   ]
  },
  {
   "cell_type": "code",
   "execution_count": 8,
   "id": "3f95de57",
   "metadata": {},
   "outputs": [
    {
     "name": "stderr",
     "output_type": "stream",
     "text": [
      "[nltk_data] Downloading package averaged_perceptron_tagger to\n",
      "[nltk_data]     C:\\Users\\Futurense\\AppData\\Roaming\\nltk_data...\n",
      "[nltk_data]   Unzipping taggers\\averaged_perceptron_tagger.zip.\n"
     ]
    },
    {
     "data": {
      "text/plain": [
       "True"
      ]
     },
     "execution_count": 8,
     "metadata": {},
     "output_type": "execute_result"
    }
   ],
   "source": [
    "# one time process\n",
    "nltk.download('averaged_perceptron_tagger')"
   ]
  },
  {
   "cell_type": "code",
   "execution_count": 9,
   "id": "cb7737ef",
   "metadata": {},
   "outputs": [
    {
     "data": {
      "text/plain": [
       "[('We', 'PRP'),\n",
       " ('will', 'MD'),\n",
       " ('!', '.'),\n",
       " ('see', 'VB'),\n",
       " ('an', 'DT'),\n",
       " ('example', 'NN'),\n",
       " ('of', 'IN'),\n",
       " ('POS', 'NNP'),\n",
       " ('tagging', 'VBG')]"
      ]
     },
     "execution_count": 9,
     "metadata": {},
     "output_type": "execute_result"
    }
   ],
   "source": [
    "data = 'We will! see an example of POS tagging'\n",
    "\n",
    "# word tokenization ----> pos tagger function\n",
    "\n",
    "word_token  = nltk.word_tokenize(data)\n",
    "pos = nltk.pos_tag(word_token)\n",
    "pos"
   ]
  },
  {
   "cell_type": "markdown",
   "id": "ac07cdf9",
   "metadata": {},
   "source": [
    "Abbrivation explanation link\n",
    "\n",
    "https://www.guru99.com/pos-tagging-chunking-nltk.html\n",
    "\n",
    "<table>\n",
    "<thead>\n",
    "<tr>\n",
    "<th>Abbreviation</th>\n",
    "<th>Meaning</th>\n",
    "</tr>\n",
    "</thead>\n",
    "<tbody>\n",
    "<tr>\n",
    "<td>CC</td>\n",
    "<td>coordinating conjunction</td>\n",
    "</tr>\n",
    "<tr>\n",
    "<td>CD</td>\n",
    "<td>cardinal digit</td>\n",
    "</tr>\n",
    "<tr>\n",
    "<td>DT</td>\n",
    "<td>determiner</td>\n",
    "</tr>\n",
    "<tr>\n",
    "<td>EX</td>\n",
    "<td>existential there</td>\n",
    "</tr>\n",
    "<tr>\n",
    "<td>FW</td>\n",
    "<td>foreign word</td>\n",
    "</tr>\n",
    "<tr>\n",
    "<td>IN</td>\n",
    "<td>preposition/subordinating conjunction</td>\n",
    "</tr>\n",
    "<tr>\n",
    "<td>JJ</td>\n",
    "<td>This NLTK POS Tag is an adjective (large)</td>\n",
    "</tr>\n",
    "<tr>\n",
    "<td>JJR</td>\n",
    "<td>adjective, comparative (larger)</td>\n",
    "</tr>\n",
    "<tr>\n",
    "<td>JJS</td>\n",
    "<td>adjective, superlative (largest)</td>\n",
    "</tr>\n",
    "<tr>\n",
    "<td>LS</td>\n",
    "<td>list market</td>\n",
    "</tr>\n",
    "<tr>\n",
    "<td>MD</td>\n",
    "<td>modal (could, will)</td>\n",
    "</tr>\n",
    "<tr>\n",
    "<td>NN</td>\n",
    "<td>noun, singular (cat, tree)</td>\n",
    "</tr>\n",
    "<tr>\n",
    "<td>NNS</td>\n",
    "<td>noun plural (desks)</td>\n",
    "</tr>\n",
    "<tr>\n",
    "<td>NNP</td>\n",
    "<td>proper noun, singular (sarah)</td>\n",
    "</tr>\n",
    "<tr>\n",
    "<td>NNPS</td>\n",
    "<td>proper noun, plural (indians or americans)</td>\n",
    "</tr>\n",
    "<tr>\n",
    "<td>PDT</td>\n",
    "<td>predeterminer (all, both, half)</td>\n",
    "</tr>\n",
    "<tr>\n",
    "<td>POS</td>\n",
    "<td>possessive ending  (parent\\ ‘s)</td>\n",
    "</tr>\n",
    "<tr>\n",
    "<td>PRP</td>\n",
    "<td>personal pronoun (hers, herself, him, himself)</td>\n",
    "</tr>\n",
    "<tr>\n",
    "<td>PRP$</td>\n",
    "<td>possessive pronoun (her, his, mine, my, our )</td>\n",
    "</tr>\n",
    "<tr>\n",
    "<td>RB</td>\n",
    "<td>adverb (occasionally, swiftly)</td>\n",
    "</tr>\n",
    "<tr>\n",
    "<td>RBR</td>\n",
    "<td>adverb, comparative (greater)</td>\n",
    "</tr>\n",
    "<tr>\n",
    "<td>RBS</td>\n",
    "<td>adverb, superlative (biggest)</td>\n",
    "</tr>\n",
    "<tr>\n",
    "<td>RP</td>\n",
    "<td>particle (about)</td>\n",
    "</tr>\n",
    "<tr>\n",
    "<td>TO</td>\n",
    "<td>infinite marker (to)</td>\n",
    "</tr>\n",
    "<tr>\n",
    "<td>UH</td>\n",
    "<td>interjection (goodbye)</td>\n",
    "</tr>\n",
    "<tr>\n",
    "<td>VB</td>\n",
    "<td>verb (ask)</td>\n",
    "</tr>\n",
    "<tr>\n",
    "<td>VBG</td>\n",
    "<td>verb gerund (judging)</td>\n",
    "</tr>\n",
    "<tr>\n",
    "<td>VBD</td>\n",
    "<td>verb past tense (pleaded)</td>\n",
    "</tr>\n",
    "<tr>\n",
    "<td>VBN</td>\n",
    "<td>verb past participle (reunified)</td>\n",
    "</tr>\n",
    "<tr>\n",
    "<td>VBP</td>\n",
    "<td>verb, present tense not 3rd person singular(wrap)</td>\n",
    "</tr>\n",
    "<tr>\n",
    "<td>VBZ</td>\n",
    "<td>verb, present tense with 3rd person singular (bases)</td>\n",
    "</tr>\n",
    "<tr>\n",
    "<td>WDT</td>\n",
    "<td>wh-determiner (that, what)</td>\n",
    "</tr>\n",
    "<tr>\n",
    "<td>WP</td>\n",
    "<td>wh- pronoun (who)</td>\n",
    "</tr>\n",
    "<tr>\n",
    "<td>WRB</td>\n",
    "<td>wh- adverb (how)</td>\n",
    "</tr>\n",
    "</tbody>\n",
    "</table>"
   ]
  },
  {
   "cell_type": "markdown",
   "id": "39512b43",
   "metadata": {},
   "source": [
    "## Remove Puncatuation "
   ]
  },
  {
   "cell_type": "code",
   "execution_count": 10,
   "id": "25cc49c9",
   "metadata": {},
   "outputs": [
    {
     "data": {
      "text/plain": [
       "'!\"#$%&\\'()*+,-./:;<=>?@[\\\\]^_`{|}~'"
      ]
     },
     "execution_count": 10,
     "metadata": {},
     "output_type": "execute_result"
    }
   ],
   "source": [
    "import string\n",
    "punct = string.punctuation\n",
    "punct"
   ]
  },
  {
   "cell_type": "code",
   "execution_count": 20,
   "id": "2fc1dd86",
   "metadata": {},
   "outputs": [],
   "source": [
    "# data - word token -- clean_data(remove puncttauin) --> pos_tag\n",
    "\n",
    "def word_token_rm_punct_pos(data):\n",
    "    clean_words = [ word for word in nltk.word_tokenize(data) if word not in string.punctuation ]\n",
    "    return nltk.pos_tag(clean_words)\n",
    "\n"
   ]
  },
  {
   "cell_type": "code",
   "execution_count": 21,
   "id": "b2bc444b",
   "metadata": {},
   "outputs": [
    {
     "name": "stdout",
     "output_type": "stream",
     "text": [
      "[('India', 'NNP'), ('Hindi', 'NNP'), ('Bhārat', 'NNP'), ('officially', 'RB'), ('the', 'DT'), ('Republic', 'NNP'), ('of', 'IN'), ('India', 'NNP'), ('is', 'VBZ'), ('a', 'DT'), ('country', 'NN'), ('in', 'IN'), ('South', 'NNP'), ('Asia', 'NNP'), ('It', 'PRP'), ('is', 'VBZ'), ('the', 'DT'), ('seventh-largest', 'JJ'), ('country', 'NN'), ('by', 'IN'), ('area', 'NN'), ('the', 'DT'), ('second-most', 'JJ'), ('populous', 'JJ'), ('country', 'NN'), ('and', 'CC'), ('the', 'DT'), ('most', 'RBS'), ('populous', 'JJ'), ('democracy', 'NN'), ('in', 'IN'), ('the', 'DT'), ('world', 'NN'), ('Bounded', 'VBN'), ('by', 'IN'), ('the', 'DT'), ('Indian', 'JJ'), ('Ocean', 'NNP'), ('on', 'IN'), ('the', 'DT'), ('south', 'JJ'), ('the', 'DT'), ('Arabian', 'JJ'), ('Sea', 'NNP'), ('on', 'IN'), ('the', 'DT'), ('southwest', 'NN'), ('and', 'CC'), ('the', 'DT'), ('Bay', 'NNP'), ('of', 'IN'), ('Bengal', 'NNP'), ('on', 'IN'), ('the', 'DT'), ('southeast', 'NN'), ('it', 'PRP'), ('shares', 'NNS'), ('land', 'VBZ'), ('borders', 'NNS'), ('with', 'IN'), ('Pakistan', 'NNP'), ('to', 'TO'), ('the', 'DT'), ('west', 'NN'), ('China', 'NNP'), ('Nepal', 'NNP'), ('and', 'CC'), ('Bhutan', 'NNP'), ('to', 'TO'), ('the', 'DT'), ('north', 'NN'), ('and', 'CC'), ('Bangladesh', 'NNP'), ('and', 'CC'), ('Myanmar', 'NNP'), ('to', 'TO'), ('the', 'DT'), ('east', 'NN'), ('In', 'IN'), ('the', 'DT'), ('Indian', 'JJ'), ('Ocean', 'NNP'), ('India', 'NNP'), ('is', 'VBZ'), ('in', 'IN'), ('the', 'DT'), ('vicinity', 'NN'), ('of', 'IN'), ('Sri', 'NNP'), ('Lanka', 'NNP'), ('and', 'CC'), ('the', 'DT'), ('Maldives', 'NNP'), ('its', 'PRP$'), ('Andaman', 'NNP'), ('and', 'CC'), ('Nicobar', 'NNP'), ('Islands', 'NNP'), ('share', 'NN'), ('a', 'DT'), ('maritime', 'NN'), ('border', 'NN'), ('with', 'IN'), ('Thailand', 'NNP'), ('and', 'CC'), ('Indonesia', 'NNP')]\n"
     ]
    }
   ],
   "source": [
    "data = \"India (Hindi: Bhārat), officially the Republic of India, is a country in South Asia. It is the seventh-largest country by area, the second-most populous country, and the most populous democracy in the world? Bounded by the Indian Ocean on the south, the Arabian Sea on the southwest, and the Bay of Bengal on the southeast, it shares land borders with Pakistan to the west; China, Nepal, and Bhutan to the north; and Bangladesh and Myanmar to the east. In the Indian Ocean, India is in the vicinity of Sri Lanka and the Maldives; its Andaman and Nicobar Islands share a maritime border with Thailand and Indonesia.\"\n",
    "pos_tag = word_token_rm_punct_pos(data)\n",
    "print(pos_tag)"
   ]
  },
  {
   "cell_type": "markdown",
   "id": "ccf4694a",
   "metadata": {},
   "source": [
    "## Stopwords\n",
    "\n",
    "Melwin remember don't blindly remove the stopwords some time the stop words is necessary for the meaning of the sentence\n",
    "\n",
    "for example <br>\n",
    "<b>\"I am not sad\"</b> meaning of the sentence is the person is happy <br>\n",
    "    in this statement <b>\"not\"</b> is a stop word if you remove that the meaning of the statement is changed "
   ]
  },
  {
   "cell_type": "code",
   "execution_count": 22,
   "id": "54a80f4b",
   "metadata": {},
   "outputs": [
    {
     "name": "stderr",
     "output_type": "stream",
     "text": [
      "[nltk_data] Downloading package stopwords to\n",
      "[nltk_data]     C:\\Users\\Futurense\\AppData\\Roaming\\nltk_data...\n",
      "[nltk_data]   Unzipping corpora\\stopwords.zip.\n"
     ]
    },
    {
     "data": {
      "text/plain": [
       "True"
      ]
     },
     "execution_count": 22,
     "metadata": {},
     "output_type": "execute_result"
    }
   ],
   "source": [
    "nltk.download('stopwords')"
   ]
  },
  {
   "cell_type": "code",
   "execution_count": 23,
   "id": "47567804",
   "metadata": {},
   "outputs": [
    {
     "name": "stdout",
     "output_type": "stream",
     "text": [
      "['i', 'me', 'my', 'myself', 'we', 'our', 'ours', 'ourselves', 'you', \"you're\", \"you've\", \"you'll\", \"you'd\", 'your', 'yours', 'yourself', 'yourselves', 'he', 'him', 'his', 'himself', 'she', \"she's\", 'her', 'hers', 'herself', 'it', \"it's\", 'its', 'itself', 'they', 'them', 'their', 'theirs', 'themselves', 'what', 'which', 'who', 'whom', 'this', 'that', \"that'll\", 'these', 'those', 'am', 'is', 'are', 'was', 'were', 'be', 'been', 'being', 'have', 'has', 'had', 'having', 'do', 'does', 'did', 'doing', 'a', 'an', 'the', 'and', 'but', 'if', 'or', 'because', 'as', 'until', 'while', 'of', 'at', 'by', 'for', 'with', 'about', 'against', 'between', 'into', 'through', 'during', 'before', 'after', 'above', 'below', 'to', 'from', 'up', 'down', 'in', 'out', 'on', 'off', 'over', 'under', 'again', 'further', 'then', 'once', 'here', 'there', 'when', 'where', 'why', 'how', 'all', 'any', 'both', 'each', 'few', 'more', 'most', 'other', 'some', 'such', 'no', 'nor', 'not', 'only', 'own', 'same', 'so', 'than', 'too', 'very', 's', 't', 'can', 'will', 'just', 'don', \"don't\", 'should', \"should've\", 'now', 'd', 'll', 'm', 'o', 're', 've', 'y', 'ain', 'aren', \"aren't\", 'couldn', \"couldn't\", 'didn', \"didn't\", 'doesn', \"doesn't\", 'hadn', \"hadn't\", 'hasn', \"hasn't\", 'haven', \"haven't\", 'isn', \"isn't\", 'ma', 'mightn', \"mightn't\", 'mustn', \"mustn't\", 'needn', \"needn't\", 'shan', \"shan't\", 'shouldn', \"shouldn't\", 'wasn', \"wasn't\", 'weren', \"weren't\", 'won', \"won't\", 'wouldn', \"wouldn't\"]\n"
     ]
    }
   ],
   "source": [
    "from nltk.corpus import stopwords\n",
    "\n",
    "stop_words = stopwords.words('english')\n",
    "print(stop_words)"
   ]
  },
  {
   "cell_type": "code",
   "execution_count": 28,
   "id": "4718b359",
   "metadata": {},
   "outputs": [],
   "source": [
    "# data--->lower---->word---->clean_data(punct and stop)\n",
    "\n",
    "def word_token_rm_punct_pos_stopwords(data):\n",
    "    clean_words = [ word.lower() for word in nltk.word_tokenize(data) if ((word not in string.punctuation) and (word not in stopwords.words('english')))  ]\n",
    "    return nltk.pos_tag(clean_words)"
   ]
  },
  {
   "cell_type": "code",
   "execution_count": 29,
   "id": "fa973ea2",
   "metadata": {},
   "outputs": [
    {
     "data": {
      "text/plain": [
       "[('india', 'NN'),\n",
       " ('hindi', 'NN'),\n",
       " ('bhārat', 'NN'),\n",
       " ('officially', 'RB'),\n",
       " ('republic', 'JJ'),\n",
       " ('india', 'JJ'),\n",
       " ('country', 'NN'),\n",
       " ('south', 'JJ'),\n",
       " ('asia', 'IN'),\n",
       " ('it', 'PRP'),\n",
       " ('seventh-largest', 'JJ'),\n",
       " ('country', 'NN'),\n",
       " ('area', 'NN'),\n",
       " ('second-most', 'RB'),\n",
       " ('populous', 'JJ'),\n",
       " ('country', 'NN'),\n",
       " ('populous', 'JJ'),\n",
       " ('democracy', 'NN'),\n",
       " ('world', 'NN'),\n",
       " ('bounded', 'VBD'),\n",
       " ('indian', 'JJ'),\n",
       " ('ocean', 'NN'),\n",
       " ('south', 'NN'),\n",
       " ('arabian', 'JJ'),\n",
       " ('sea', 'NN'),\n",
       " ('southwest', 'JJS'),\n",
       " ('bay', 'NN'),\n",
       " ('bengal', 'NN'),\n",
       " ('southeast', 'NN'),\n",
       " ('shares', 'NNS'),\n",
       " ('land', 'VBP'),\n",
       " ('borders', 'NNS'),\n",
       " ('pakistan', 'VBP'),\n",
       " ('west', 'JJS'),\n",
       " ('china', 'NN'),\n",
       " ('nepal', 'JJ'),\n",
       " ('bhutan', 'JJ'),\n",
       " ('north', 'NN'),\n",
       " ('bangladesh', 'JJ'),\n",
       " ('myanmar', 'NN'),\n",
       " ('east', 'NN'),\n",
       " ('in', 'IN'),\n",
       " ('indian', 'JJ'),\n",
       " ('ocean', 'JJ'),\n",
       " ('india', 'NN'),\n",
       " ('vicinity', 'NN'),\n",
       " ('sri', 'VBP'),\n",
       " ('lanka', 'NN'),\n",
       " ('maldives', 'NNS'),\n",
       " ('andaman', 'VBP'),\n",
       " ('nicobar', 'NN'),\n",
       " ('islands', 'NNS'),\n",
       " ('share', 'NN'),\n",
       " ('maritime', 'JJ'),\n",
       " ('border', 'NN'),\n",
       " ('thailand', 'NN'),\n",
       " ('indonesia', 'NN')]"
      ]
     },
     "execution_count": 29,
     "metadata": {},
     "output_type": "execute_result"
    }
   ],
   "source": [
    "data = \"India (Hindi: Bhārat), officially the Republic of India, is a country in South Asia. It is the seventh-largest country by area, the second-most populous country, and the most populous democracy in the world? Bounded by the Indian Ocean on the south, the Arabian Sea on the southwest, and the Bay of Bengal on the southeast, it shares land borders with Pakistan to the west; China, Nepal, and Bhutan to the north; and Bangladesh and Myanmar to the east. In the Indian Ocean, India is in the vicinity of Sri Lanka and the Maldives; its Andaman and Nicobar Islands share a maritime border with Thailand and Indonesia.\"\n",
    "word_token_rm_punct_pos_stopwords(data)"
   ]
  },
  {
   "cell_type": "markdown",
   "id": "9d2ab48b",
   "metadata": {},
   "source": []
  },
  {
   "cell_type": "markdown",
   "id": "92b93a95",
   "metadata": {},
   "source": []
  },
  {
   "cell_type": "markdown",
   "id": "4c3621cb",
   "metadata": {},
   "source": []
  },
  {
   "cell_type": "markdown",
   "id": "98cc4dd4",
   "metadata": {},
   "source": []
  },
  {
   "cell_type": "markdown",
   "id": "326527f4",
   "metadata": {},
   "source": []
  },
  {
   "cell_type": "code",
   "execution_count": null,
   "id": "3585287a",
   "metadata": {},
   "outputs": [],
   "source": []
  }
 ],
 "metadata": {
  "kernelspec": {
   "display_name": "Python 3 (ipykernel)",
   "language": "python",
   "name": "python3"
  },
  "language_info": {
   "codemirror_mode": {
    "name": "ipython",
    "version": 3
   },
   "file_extension": ".py",
   "mimetype": "text/x-python",
   "name": "python",
   "nbconvert_exporter": "python",
   "pygments_lexer": "ipython3",
   "version": "3.9.7"
  }
 },
 "nbformat": 4,
 "nbformat_minor": 5
}
