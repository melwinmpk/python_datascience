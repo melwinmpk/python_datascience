{
 "cells": [
  {
   "cell_type": "markdown",
   "id": "80edfe4c",
   "metadata": {},
   "source": [
    "# Spacy"
   ]
  },
  {
   "cell_type": "code",
   "execution_count": 1,
   "id": "abcb332e",
   "metadata": {},
   "outputs": [
    {
     "name": "stdout",
     "output_type": "stream",
     "text": [
      "Collecting spacy\n",
      "  Downloading spacy-3.2.3-cp39-cp39-win_amd64.whl (11.3 MB)\n",
      "Collecting pathy>=0.3.5\n",
      "  Downloading pathy-0.6.1-py3-none-any.whl (42 kB)\n",
      "Requirement already satisfied: jinja2 in c:\\users\\futurense\\anaconda3\\envs\\ds\\lib\\site-packages (from spacy) (3.0.2)\n",
      "Requirement already satisfied: requests<3.0.0,>=2.13.0 in c:\\users\\futurense\\anaconda3\\envs\\ds\\lib\\site-packages (from spacy) (2.27.1)\n",
      "Collecting thinc<8.1.0,>=8.0.12\n",
      "  Downloading thinc-8.0.14-cp39-cp39-win_amd64.whl (1.0 MB)\n",
      "Collecting spacy-loggers<2.0.0,>=1.0.0\n",
      "  Downloading spacy_loggers-1.0.1-py3-none-any.whl (7.0 kB)\n",
      "Collecting spacy-legacy<3.1.0,>=3.0.8\n",
      "  Downloading spacy_legacy-3.0.9-py2.py3-none-any.whl (20 kB)\n",
      "Collecting preshed<3.1.0,>=3.0.2\n",
      "  Downloading preshed-3.0.6-cp39-cp39-win_amd64.whl (112 kB)\n",
      "Collecting langcodes<4.0.0,>=3.2.0\n",
      "  Downloading langcodes-3.3.0-py3-none-any.whl (181 kB)\n",
      "Requirement already satisfied: numpy>=1.15.0 in c:\\users\\futurense\\anaconda3\\envs\\ds\\lib\\site-packages (from spacy) (1.21.4)\n",
      "Requirement already satisfied: packaging>=20.0 in c:\\users\\futurense\\anaconda3\\envs\\ds\\lib\\site-packages (from spacy) (21.3)\n",
      "Collecting srsly<3.0.0,>=2.4.1\n",
      "  Downloading srsly-2.4.2-cp39-cp39-win_amd64.whl (451 kB)\n",
      "Collecting blis<0.8.0,>=0.4.0\n",
      "  Downloading blis-0.7.6-cp39-cp39-win_amd64.whl (6.6 MB)\n",
      "Collecting wasabi<1.1.0,>=0.8.1\n",
      "  Downloading wasabi-0.9.0-py3-none-any.whl (25 kB)\n",
      "Collecting catalogue<2.1.0,>=2.0.6\n",
      "  Using cached catalogue-2.0.6-py3-none-any.whl (17 kB)\n",
      "Collecting pydantic!=1.8,!=1.8.1,<1.9.0,>=1.7.4\n",
      "  Downloading pydantic-1.8.2-cp39-cp39-win_amd64.whl (1.9 MB)\n",
      "Collecting typer<0.5.0,>=0.3.0\n",
      "  Downloading typer-0.4.0-py3-none-any.whl (27 kB)\n",
      "Requirement already satisfied: setuptools in c:\\users\\futurense\\anaconda3\\envs\\ds\\lib\\site-packages (from spacy) (58.0.4)\n",
      "Collecting murmurhash<1.1.0,>=0.28.0\n",
      "  Downloading murmurhash-1.0.6-cp39-cp39-win_amd64.whl (21 kB)\n",
      "Requirement already satisfied: tqdm<5.0.0,>=4.38.0 in c:\\users\\futurense\\anaconda3\\envs\\ds\\lib\\site-packages (from spacy) (4.63.0)\n",
      "Collecting cymem<2.1.0,>=2.0.2\n",
      "  Downloading cymem-2.0.6-cp39-cp39-win_amd64.whl (36 kB)\n",
      "Requirement already satisfied: pyparsing!=3.0.5,>=2.0.2 in c:\\users\\futurense\\anaconda3\\envs\\ds\\lib\\site-packages (from packaging>=20.0->spacy) (3.0.4)\n",
      "Collecting smart-open<6.0.0,>=5.0.0\n",
      "  Downloading smart_open-5.2.1-py3-none-any.whl (58 kB)\n",
      "Collecting typing-extensions>=3.7.4.3\n",
      "  Downloading typing_extensions-4.1.1-py3-none-any.whl (26 kB)\n",
      "Requirement already satisfied: charset-normalizer~=2.0.0 in c:\\users\\futurense\\anaconda3\\envs\\ds\\lib\\site-packages (from requests<3.0.0,>=2.13.0->spacy) (2.0.10)\n",
      "Requirement already satisfied: urllib3<1.27,>=1.21.1 in c:\\users\\futurense\\anaconda3\\envs\\ds\\lib\\site-packages (from requests<3.0.0,>=2.13.0->spacy) (1.26.8)\n",
      "Requirement already satisfied: idna<4,>=2.5 in c:\\users\\futurense\\anaconda3\\envs\\ds\\lib\\site-packages (from requests<3.0.0,>=2.13.0->spacy) (2.10)\n",
      "Requirement already satisfied: certifi>=2017.4.17 in c:\\users\\futurense\\anaconda3\\envs\\ds\\lib\\site-packages (from requests<3.0.0,>=2.13.0->spacy) (2021.10.8)\n",
      "Requirement already satisfied: colorama in c:\\users\\futurense\\anaconda3\\envs\\ds\\lib\\site-packages (from tqdm<5.0.0,>=4.38.0->spacy) (0.4.4)\n",
      "Requirement already satisfied: click<9.0.0,>=7.1.1 in c:\\users\\futurense\\anaconda3\\envs\\ds\\lib\\site-packages (from typer<0.5.0,>=0.3.0->spacy) (8.0.4)\n",
      "Requirement already satisfied: MarkupSafe>=2.0 in c:\\users\\futurense\\anaconda3\\envs\\ds\\lib\\site-packages (from jinja2->spacy) (2.0.1)\n",
      "Installing collected packages: typing-extensions, murmurhash, cymem, catalogue, wasabi, typer, srsly, smart-open, pydantic, preshed, blis, thinc, spacy-loggers, spacy-legacy, pathy, langcodes, spacy\n",
      "Successfully installed blis-0.7.6 catalogue-2.0.6 cymem-2.0.6 langcodes-3.3.0 murmurhash-1.0.6 pathy-0.6.1 preshed-3.0.6 pydantic-1.8.2 smart-open-5.2.1 spacy-3.2.3 spacy-legacy-3.0.9 spacy-loggers-1.0.1 srsly-2.4.2 thinc-8.0.14 typer-0.4.0 typing-extensions-4.1.1 wasabi-0.9.0\n"
     ]
    }
   ],
   "source": [
    "!pip install spacy"
   ]
  },
  {
   "cell_type": "code",
   "execution_count": 2,
   "id": "3fd50dff",
   "metadata": {},
   "outputs": [
    {
     "name": "stdout",
     "output_type": "stream",
     "text": [
      "Collecting en-core-web-sm==3.2.0\n",
      "  Downloading https://github.com/explosion/spacy-models/releases/download/en_core_web_sm-3.2.0/en_core_web_sm-3.2.0-py3-none-any.whl (13.9 MB)\n",
      "Requirement already satisfied: spacy<3.3.0,>=3.2.0 in c:\\users\\futurense\\anaconda3\\envs\\ds\\lib\\site-packages (from en-core-web-sm==3.2.0) (3.2.3)\n",
      "Requirement already satisfied: srsly<3.0.0,>=2.4.1 in c:\\users\\futurense\\anaconda3\\envs\\ds\\lib\\site-packages (from spacy<3.3.0,>=3.2.0->en-core-web-sm==3.2.0) (2.4.2)\n",
      "Requirement already satisfied: murmurhash<1.1.0,>=0.28.0 in c:\\users\\futurense\\anaconda3\\envs\\ds\\lib\\site-packages (from spacy<3.3.0,>=3.2.0->en-core-web-sm==3.2.0) (1.0.6)\n",
      "Requirement already satisfied: tqdm<5.0.0,>=4.38.0 in c:\\users\\futurense\\anaconda3\\envs\\ds\\lib\\site-packages (from spacy<3.3.0,>=3.2.0->en-core-web-sm==3.2.0) (4.63.0)\n",
      "Requirement already satisfied: spacy-legacy<3.1.0,>=3.0.8 in c:\\users\\futurense\\anaconda3\\envs\\ds\\lib\\site-packages (from spacy<3.3.0,>=3.2.0->en-core-web-sm==3.2.0) (3.0.9)\n",
      "Requirement already satisfied: spacy-loggers<2.0.0,>=1.0.0 in c:\\users\\futurense\\anaconda3\\envs\\ds\\lib\\site-packages (from spacy<3.3.0,>=3.2.0->en-core-web-sm==3.2.0) (1.0.1)\n",
      "Requirement already satisfied: typer<0.5.0,>=0.3.0 in c:\\users\\futurense\\anaconda3\\envs\\ds\\lib\\site-packages (from spacy<3.3.0,>=3.2.0->en-core-web-sm==3.2.0) (0.4.0)\n",
      "Requirement already satisfied: thinc<8.1.0,>=8.0.12 in c:\\users\\futurense\\anaconda3\\envs\\ds\\lib\\site-packages (from spacy<3.3.0,>=3.2.0->en-core-web-sm==3.2.0) (8.0.14)\n",
      "Requirement already satisfied: pathy>=0.3.5 in c:\\users\\futurense\\anaconda3\\envs\\ds\\lib\\site-packages (from spacy<3.3.0,>=3.2.0->en-core-web-sm==3.2.0) (0.6.1)\n",
      "Requirement already satisfied: wasabi<1.1.0,>=0.8.1 in c:\\users\\futurense\\anaconda3\\envs\\ds\\lib\\site-packages (from spacy<3.3.0,>=3.2.0->en-core-web-sm==3.2.0) (0.9.0)\n",
      "Requirement already satisfied: numpy>=1.15.0 in c:\\users\\futurense\\anaconda3\\envs\\ds\\lib\\site-packages (from spacy<3.3.0,>=3.2.0->en-core-web-sm==3.2.0) (1.21.4)\n",
      "Requirement already satisfied: blis<0.8.0,>=0.4.0 in c:\\users\\futurense\\anaconda3\\envs\\ds\\lib\\site-packages (from spacy<3.3.0,>=3.2.0->en-core-web-sm==3.2.0) (0.7.6)\n",
      "Requirement already satisfied: requests<3.0.0,>=2.13.0 in c:\\users\\futurense\\anaconda3\\envs\\ds\\lib\\site-packages (from spacy<3.3.0,>=3.2.0->en-core-web-sm==3.2.0) (2.27.1)\n",
      "Requirement already satisfied: jinja2 in c:\\users\\futurense\\anaconda3\\envs\\ds\\lib\\site-packages (from spacy<3.3.0,>=3.2.0->en-core-web-sm==3.2.0) (3.0.2)\n",
      "Requirement already satisfied: pydantic!=1.8,!=1.8.1,<1.9.0,>=1.7.4 in c:\\users\\futurense\\anaconda3\\envs\\ds\\lib\\site-packages (from spacy<3.3.0,>=3.2.0->en-core-web-sm==3.2.0) (1.8.2)\n",
      "Requirement already satisfied: langcodes<4.0.0,>=3.2.0 in c:\\users\\futurense\\anaconda3\\envs\\ds\\lib\\site-packages (from spacy<3.3.0,>=3.2.0->en-core-web-sm==3.2.0) (3.3.0)\n",
      "Requirement already satisfied: preshed<3.1.0,>=3.0.2 in c:\\users\\futurense\\anaconda3\\envs\\ds\\lib\\site-packages (from spacy<3.3.0,>=3.2.0->en-core-web-sm==3.2.0) (3.0.6)\n",
      "Requirement already satisfied: setuptools in c:\\users\\futurense\\anaconda3\\envs\\ds\\lib\\site-packages (from spacy<3.3.0,>=3.2.0->en-core-web-sm==3.2.0) (58.0.4)\n",
      "Requirement already satisfied: packaging>=20.0 in c:\\users\\futurense\\anaconda3\\envs\\ds\\lib\\site-packages (from spacy<3.3.0,>=3.2.0->en-core-web-sm==3.2.0) (21.3)\n",
      "Requirement already satisfied: cymem<2.1.0,>=2.0.2 in c:\\users\\futurense\\anaconda3\\envs\\ds\\lib\\site-packages (from spacy<3.3.0,>=3.2.0->en-core-web-sm==3.2.0) (2.0.6)\n",
      "Requirement already satisfied: catalogue<2.1.0,>=2.0.6 in c:\\users\\futurense\\anaconda3\\envs\\ds\\lib\\site-packages (from spacy<3.3.0,>=3.2.0->en-core-web-sm==3.2.0) (2.0.6)\n",
      "Requirement already satisfied: pyparsing!=3.0.5,>=2.0.2 in c:\\users\\futurense\\anaconda3\\envs\\ds\\lib\\site-packages (from packaging>=20.0->spacy<3.3.0,>=3.2.0->en-core-web-sm==3.2.0) (3.0.4)\n",
      "Requirement already satisfied: smart-open<6.0.0,>=5.0.0 in c:\\users\\futurense\\anaconda3\\envs\\ds\\lib\\site-packages (from pathy>=0.3.5->spacy<3.3.0,>=3.2.0->en-core-web-sm==3.2.0) (5.2.1)\n",
      "Requirement already satisfied: typing-extensions>=3.7.4.3 in c:\\users\\futurense\\anaconda3\\envs\\ds\\lib\\site-packages (from pydantic!=1.8,!=1.8.1,<1.9.0,>=1.7.4->spacy<3.3.0,>=3.2.0->en-core-web-sm==3.2.0) (4.1.1)\n",
      "Requirement already satisfied: certifi>=2017.4.17 in c:\\users\\futurense\\anaconda3\\envs\\ds\\lib\\site-packages (from requests<3.0.0,>=2.13.0->spacy<3.3.0,>=3.2.0->en-core-web-sm==3.2.0) (2021.10.8)\n",
      "Requirement already satisfied: charset-normalizer~=2.0.0 in c:\\users\\futurense\\anaconda3\\envs\\ds\\lib\\site-packages (from requests<3.0.0,>=2.13.0->spacy<3.3.0,>=3.2.0->en-core-web-sm==3.2.0) (2.0.10)\n",
      "Requirement already satisfied: idna<4,>=2.5 in c:\\users\\futurense\\anaconda3\\envs\\ds\\lib\\site-packages (from requests<3.0.0,>=2.13.0->spacy<3.3.0,>=3.2.0->en-core-web-sm==3.2.0) (2.10)\n",
      "Requirement already satisfied: urllib3<1.27,>=1.21.1 in c:\\users\\futurense\\anaconda3\\envs\\ds\\lib\\site-packages (from requests<3.0.0,>=2.13.0->spacy<3.3.0,>=3.2.0->en-core-web-sm==3.2.0) (1.26.8)\n",
      "Requirement already satisfied: colorama in c:\\users\\futurense\\anaconda3\\envs\\ds\\lib\\site-packages (from tqdm<5.0.0,>=4.38.0->spacy<3.3.0,>=3.2.0->en-core-web-sm==3.2.0) (0.4.4)\n",
      "Requirement already satisfied: click<9.0.0,>=7.1.1 in c:\\users\\futurense\\anaconda3\\envs\\ds\\lib\\site-packages (from typer<0.5.0,>=0.3.0->spacy<3.3.0,>=3.2.0->en-core-web-sm==3.2.0) (8.0.4)\n",
      "Requirement already satisfied: MarkupSafe>=2.0 in c:\\users\\futurense\\anaconda3\\envs\\ds\\lib\\site-packages (from jinja2->spacy<3.3.0,>=3.2.0->en-core-web-sm==3.2.0) (2.0.1)\n",
      "Installing collected packages: en-core-web-sm\n",
      "Successfully installed en-core-web-sm-3.2.0\n",
      "[+] Download and installation successful\n",
      "You can now load the package via spacy.load('en_core_web_sm')\n"
     ]
    }
   ],
   "source": [
    "!python -m spacy download en_core_web_sm"
   ]
  },
  {
   "cell_type": "code",
   "execution_count": 3,
   "id": "a1d7b313",
   "metadata": {},
   "outputs": [],
   "source": [
    "import spacy\n",
    "nlp = spacy.load('en_core_web_sm')"
   ]
  },
  {
   "cell_type": "code",
   "execution_count": 20,
   "id": "715b8e9c",
   "metadata": {},
   "outputs": [],
   "source": [
    "text = \"\"\" The Republican president is being challenged by Democratic \n",
    "Party nominee Joe Biden, who is best known as Barack Obama’s vice-president but has been in \n",
    "US politics since the 1970s.As election day approaches, pollingcompanies will be trying to gauge \n",
    "the mood of the nation by asking voters which candidate they prefer.\"\"\""
   ]
  },
  {
   "cell_type": "code",
   "execution_count": 21,
   "id": "6d5e88c6",
   "metadata": {},
   "outputs": [],
   "source": [
    "doc = nlp(text)"
   ]
  },
  {
   "cell_type": "code",
   "execution_count": 22,
   "id": "078862bb",
   "metadata": {},
   "outputs": [
    {
     "data": {
      "text/plain": [
       "spacy.tokens.doc.Doc"
      ]
     },
     "execution_count": 22,
     "metadata": {},
     "output_type": "execute_result"
    }
   ],
   "source": [
    "type(doc)"
   ]
  },
  {
   "cell_type": "code",
   "execution_count": 23,
   "id": "9325da21",
   "metadata": {},
   "outputs": [
    {
     "name": "stdout",
     "output_type": "stream",
     "text": [
      " The Republican president is being challenged by Democratic \n",
      "Party nominee Joe Biden, who is best known as Barack Obama’s vice-president but has been in \n",
      "US politics since the 1970s.As election day approaches, pollingcompanies will be trying to gauge \n",
      "the mood of the nation by asking voters which candidate they prefer.\n"
     ]
    }
   ],
   "source": [
    "print(doc)"
   ]
  },
  {
   "cell_type": "code",
   "execution_count": 8,
   "id": "c3ee13ae",
   "metadata": {},
   "outputs": [
    {
     "data": {
      "text/plain": [
       "[ The Republican president is being challenged by Democratic \n",
       " Party nominee Joe Biden, who is best known as Barack Obama’s vice-president but has been in \n",
       " US politics since the 1970s.,\n",
       " As election day approaches, pollingcompanies will be trying to gauge \n",
       " the mood of the nation by asking voters which candidate they prefer.]"
      ]
     },
     "execution_count": 8,
     "metadata": {},
     "output_type": "execute_result"
    }
   ],
   "source": [
    "# sentence tokenization\n",
    "list(doc.sents)"
   ]
  },
  {
   "cell_type": "code",
   "execution_count": 9,
   "id": "1afeee77",
   "metadata": {},
   "outputs": [
    {
     "name": "stdout",
     "output_type": "stream",
     "text": [
      " \n",
      "The\n",
      "Republican\n",
      "president\n",
      "is\n",
      "being\n",
      "challenged\n",
      "by\n",
      "Democratic\n",
      "\n",
      "\n",
      "Party\n",
      "nominee\n",
      "Joe\n",
      "Biden\n",
      ",\n",
      "who\n",
      "is\n",
      "best\n",
      "known\n",
      "as\n",
      "Barack\n",
      "Obama\n",
      "’s\n",
      "vice\n",
      "-\n",
      "president\n",
      "but\n",
      "has\n",
      "been\n",
      "in\n",
      "\n",
      "\n",
      "US\n",
      "politics\n",
      "since\n",
      "the\n",
      "1970s\n",
      ".\n",
      "As\n",
      "election\n",
      "day\n",
      "approaches\n",
      ",\n",
      "pollingcompanies\n",
      "will\n",
      "be\n",
      "trying\n",
      "to\n",
      "gauge\n",
      "\n",
      "\n",
      "the\n",
      "mood\n",
      "of\n",
      "the\n",
      "nation\n",
      "by\n",
      "asking\n",
      "voters\n",
      "which\n",
      "candidate\n",
      "they\n",
      "prefer\n",
      ".\n"
     ]
    }
   ],
   "source": [
    "# word tokenization\n",
    "\n",
    "for token in doc:\n",
    "    print(token)"
   ]
  },
  {
   "cell_type": "code",
   "execution_count": 10,
   "id": "e9250677",
   "metadata": {},
   "outputs": [],
   "source": [
    "# Stopwords\n",
    "\n",
    "stopwords = spacy.lang.en.stop_words.STOP_WORDS"
   ]
  },
  {
   "cell_type": "code",
   "execution_count": 11,
   "id": "c1c7e87d",
   "metadata": {},
   "outputs": [
    {
     "name": "stdout",
     "output_type": "stream",
     "text": [
      "{'eight', 'herein', 'all', 'via', 'just', 'will', 'to', 'still', 'only', '’d', 'herself', '‘d', 'whereas', 'nine', 'yourselves', 'one', 'yours', 'really', 'nobody', 'now', 'too', \"n't\", 'may', 'elsewhere', 'might', 'upon', 'sometime', 'each', 'amongst', 'almost', 'thru', 'per', 'does', 'twenty', '‘m', 'how', 'amount', 'side', 'thereupon', 'also', 'otherwise', 'once', 'them', \"'m\", 'hence', 'within', 'whereby', '‘s', 'would', 'last', 'is', 'your', 'than', 'she', 'fifty', 'three', 'others', 'their', 'whose', 'serious', 'back', 'hundred', 'everyone', 'not', \"'s\", 'but', 'he', 'thereafter', 'there', 'should', 'often', 'do', 'yet', 'moreover', 'anyway', 'latterly', 'former', 'same', '‘re', 'several', 'whole', 'latter', 'becomes', 'four', '’ve', 'i', 'why', 'for', 'hereby', 'rather', 'they', 'be', 'less', 'whereupon', 'across', 'among', 'could', 'though', 'neither', 'keep', 'this', 'many', 'n’t', 'itself', 'any', 'which', 'because', 'whenever', 'eleven', 'under', 'however', 'see', 'below', 'from', 'forty', 'whatever', 'into', 'six', 'down', 'whereafter', 'already', 'another', 'so', 'take', 'were', 'ours', 're', 'when', 'every', 'themselves', 'thus', 'whom', 'in', 'n‘t', 'everything', 'become', 'its', 'full', 'above', 'part', 'ourselves', 'us', 'after', 'well', 'more', 'along', 'beyond', 'except', 'thereby', 'seemed', 'until', 'beside', 'either', 'afterwards', 'indeed', 'ever', 'what', 'done', 'both', 'over', 'ten', 'if', 'various', \"'ll\", 'anyone', 'or', 'some', 'used', 'using', 'call', 'alone', 'give', 'least', 'very', 'yourself', 'anyhow', 'towards', 'third', 'myself', 'did', 'perhaps', 'of', 'seeming', 'then', 'five', 'together', 'bottom', 'throughout', 'please', 'formerly', 'therefore', 'without', 'twelve', 'next', 'here', 'somehow', 'own', 'say', '‘ll', 'up', 'am', \"'d\", 'our', '’re', 'due', 'put', 'first', \"'ve\", 'sometimes', 'cannot', 'always', 'ca', 'himself', 'we', 'most', 'someone', 'those', 'becoming', 'nothing', 'being', 'noone', 'made', 'namely', 'behind', 'have', 'hereupon', 'whoever', 'mine', 'must', 'else', 'was', 'became', 'whither', 'none', 'thence', 'top', 'go', 'onto', 'you', 'an', 'hereafter', 'even', 'such', 'wherein', 'had', 'through', 'at', '’s', 'nevertheless', 'hers', 'my', 'while', 'been', 'doing', 'him', 'by', 'show', 'toward', 'whether', \"'re\", 'whence', 'her', 'enough', 'something', 'few', 'the', 'can', 'out', '’ll', 'therein', 'again', 'seems', 'quite', 'with', 'move', 'no', 'are', 'who', 'somewhere', 'off', 'two', 'anything', 'since', '‘ve', 'although', 'unless', 'empty', 'before', 'everywhere', 'against', 'has', 'as', 'make', 'besides', 'where', 'nowhere', 'around', 'never', 'mostly', 'it', 'wherever', 'get', 'seem', 'and', 'his', 'during', 'about', 'front', 'anywhere', 'meanwhile', 'other', 'fifteen', 'regarding', 'nor', 'sixty', 'further', 'beforehand', 'between', 'these', 'on', 'me', 'a', 'that', 'much', 'name', '’m'}\n"
     ]
    }
   ],
   "source": [
    "print(stopwords)"
   ]
  },
  {
   "cell_type": "code",
   "execution_count": 12,
   "id": "93ef4c04",
   "metadata": {},
   "outputs": [],
   "source": [
    "# remove the stopwrods from the below text\n",
    "\n",
    "text = \"\"\" The Republican president is being challenged by Democratic Party \n",
    "nominee Joe Biden, who is best known as Barack Obama’s vice-president but has been in US \n",
    "politics since the 1970s.As election day approaches, pollingcompanies will be trying to gauge \n",
    "the mood of the nation by asking voters which candidate they prefer.\"\"\" "
   ]
  },
  {
   "cell_type": "code",
   "execution_count": 37,
   "id": "1656e9d1",
   "metadata": {},
   "outputs": [
    {
     "name": "stdout",
     "output_type": "stream",
     "text": [
      "  The Republican president is being challenged by Democratic \n",
      " Party nominee Joe Biden , who is best known as Barack Obama ’s vice - president but has been in \n",
      " US politics since the 1970s . As election day approaches , pollingcompanies will be trying to gauge \n",
      " the mood of the nation by asking voters which candidate they prefer .\n"
     ]
    }
   ],
   "source": [
    "result = (\" \").join([str(token) for token in doc if token not in stopwords])\n",
    "print(result)      "
   ]
  },
  {
   "cell_type": "code",
   "execution_count": 38,
   "id": "e53ef94d",
   "metadata": {},
   "outputs": [
    {
     "name": "stdout",
     "output_type": "stream",
     "text": [
      "  Republican president challenged Democratic \n",
      " Party nominee Joe Biden , best known Barack Obama vice - president \n",
      " politics 1970s . election day approaches , pollingcompanies trying gauge \n",
      " mood nation asking voters candidate prefer .\n"
     ]
    }
   ],
   "source": [
    "# using Spacy we can use .is_stop\n",
    "result = (\" \").join([str(token) for token in doc if not token.is_stop])\n",
    "print(result)   "
   ]
  },
  {
   "cell_type": "code",
   "execution_count": 39,
   "id": "79866d00",
   "metadata": {},
   "outputs": [
    {
     "name": "stdout",
     "output_type": "stream",
     "text": [
      "  The Republican president is being challenged by Democratic \n",
      " Party nominee Joe Biden who is best known as Barack Obama ’s vice president but has been in \n",
      " US politics since the 1970s As election day approaches pollingcompanies will be trying to gauge \n",
      " the mood of the nation by asking voters which candidate they prefer\n"
     ]
    }
   ],
   "source": [
    "# using Spacy we can use .is_punct\n",
    "result = (\" \").join([str(token) for token in doc if not token.is_punct])\n",
    "print(result) "
   ]
  },
  {
   "cell_type": "code",
   "execution_count": 40,
   "id": "a5539534",
   "metadata": {},
   "outputs": [],
   "source": [
    "# write a function to remove stopwords and punctatuon from a text and retrun a text\n",
    "\n",
    "def cleaning(data):\n",
    "    return (\" \").join([str(token) for token in doc if (not token.is_punct and not token.is_stop )])"
   ]
  },
  {
   "cell_type": "code",
   "execution_count": 41,
   "id": "21bb1d4b",
   "metadata": {},
   "outputs": [
    {
     "name": "stdout",
     "output_type": "stream",
     "text": [
      "  Republican president challenged Democratic \n",
      " Party nominee Joe Biden best known Barack Obama vice president \n",
      " politics 1970s election day approaches pollingcompanies trying gauge \n",
      " mood nation asking voters candidate prefer\n"
     ]
    }
   ],
   "source": [
    "print(cleaning(doc))  "
   ]
  },
  {
   "cell_type": "code",
   "execution_count": 42,
   "id": "06801a1e",
   "metadata": {},
   "outputs": [
    {
     "name": "stdout",
     "output_type": "stream",
     "text": [
      "  ----->  \n",
      "The -----> the\n",
      "Republican -----> republican\n",
      "president -----> president\n",
      "is -----> be\n",
      "being -----> be\n",
      "challenged -----> challenge\n",
      "by -----> by\n",
      "Democratic -----> democratic\n",
      "\n",
      " -----> \n",
      "\n",
      "Party -----> Party\n",
      "nominee -----> nominee\n",
      "Joe -----> Joe\n",
      "Biden -----> Biden\n",
      ", -----> ,\n",
      "who -----> who\n",
      "is -----> be\n",
      "best -----> well\n",
      "known -----> know\n",
      "as -----> as\n",
      "Barack -----> Barack\n",
      "Obama -----> Obama\n",
      "’s -----> ’s\n",
      "vice -----> vice\n",
      "- -----> -\n",
      "president -----> president\n",
      "but -----> but\n",
      "has -----> have\n",
      "been -----> be\n",
      "in -----> in\n",
      "\n",
      " -----> \n",
      "\n",
      "US -----> US\n",
      "politics -----> politic\n",
      "since -----> since\n",
      "the -----> the\n",
      "1970s -----> 1970\n",
      ". -----> .\n",
      "As -----> as\n",
      "election -----> election\n",
      "day -----> day\n",
      "approaches -----> approach\n",
      ", -----> ,\n",
      "pollingcompanies -----> pollingcompanie\n",
      "will -----> will\n",
      "be -----> be\n",
      "trying -----> try\n",
      "to -----> to\n",
      "gauge -----> gauge\n",
      "\n",
      " -----> \n",
      "\n",
      "the -----> the\n",
      "mood -----> mood\n",
      "of -----> of\n",
      "the -----> the\n",
      "nation -----> nation\n",
      "by -----> by\n",
      "asking -----> ask\n",
      "voters -----> voter\n",
      "which -----> which\n",
      "candidate -----> candidate\n",
      "they -----> they\n",
      "prefer -----> prefer\n",
      ". -----> .\n"
     ]
    }
   ],
   "source": [
    "# lemmatization\n",
    "\n",
    "for token in doc:  \n",
    "    print(token,'----->',token.lemma_)"
   ]
  },
  {
   "cell_type": "code",
   "execution_count": 43,
   "id": "061cadfe",
   "metadata": {},
   "outputs": [
    {
     "name": "stdout",
     "output_type": "stream",
     "text": [
      "  -----> _SP ----> SPACE --> whitespace\n",
      "The -----> DT ----> DET --> determiner\n",
      "Republican -----> JJ ----> ADJ --> adjective (English), other noun-modifier (Chinese)\n",
      "president -----> NN ----> NOUN --> noun, singular or mass\n",
      "is -----> VBZ ----> AUX --> verb, 3rd person singular present\n",
      "being -----> VBG ----> AUX --> verb, gerund or present participle\n",
      "challenged -----> VBN ----> VERB --> verb, past participle\n",
      "by -----> IN ----> ADP --> conjunction, subordinating or preposition\n",
      "Democratic -----> JJ ----> ADJ --> adjective (English), other noun-modifier (Chinese)\n",
      "\n",
      " -----> _SP ----> SPACE --> whitespace\n",
      "Party -----> NNP ----> PROPN --> noun, proper singular\n",
      "nominee -----> NN ----> NOUN --> noun, singular or mass\n",
      "Joe -----> NNP ----> PROPN --> noun, proper singular\n",
      "Biden -----> NNP ----> PROPN --> noun, proper singular\n",
      ", -----> , ----> PUNCT --> punctuation mark, comma\n",
      "who -----> WP ----> PRON --> wh-pronoun, personal\n",
      "is -----> VBZ ----> AUX --> verb, 3rd person singular present\n",
      "best -----> RBS ----> ADV --> adverb, superlative\n",
      "known -----> VBN ----> VERB --> verb, past participle\n",
      "as -----> IN ----> ADP --> conjunction, subordinating or preposition\n",
      "Barack -----> NNP ----> PROPN --> noun, proper singular\n",
      "Obama -----> NNP ----> PROPN --> noun, proper singular\n",
      "’s -----> POS ----> PART --> possessive ending\n",
      "vice -----> NN ----> NOUN --> noun, singular or mass\n",
      "- -----> NN ----> NOUN --> noun, singular or mass\n",
      "president -----> NN ----> NOUN --> noun, singular or mass\n",
      "but -----> CC ----> CCONJ --> conjunction, coordinating\n",
      "has -----> VBZ ----> AUX --> verb, 3rd person singular present\n",
      "been -----> VBN ----> AUX --> verb, past participle\n",
      "in -----> IN ----> ADP --> conjunction, subordinating or preposition\n",
      "\n",
      " -----> _SP ----> SPACE --> whitespace\n",
      "US -----> NNP ----> PROPN --> noun, proper singular\n",
      "politics -----> NNS ----> NOUN --> noun, plural\n",
      "since -----> IN ----> SCONJ --> conjunction, subordinating or preposition\n",
      "the -----> DT ----> DET --> determiner\n",
      "1970s -----> NNS ----> NOUN --> noun, plural\n",
      ". -----> . ----> PUNCT --> punctuation mark, sentence closer\n",
      "As -----> IN ----> SCONJ --> conjunction, subordinating or preposition\n",
      "election -----> NN ----> NOUN --> noun, singular or mass\n",
      "day -----> NN ----> NOUN --> noun, singular or mass\n",
      "approaches -----> NNS ----> NOUN --> noun, plural\n",
      ", -----> , ----> PUNCT --> punctuation mark, comma\n",
      "pollingcompanies -----> NNS ----> NOUN --> noun, plural\n",
      "will -----> MD ----> AUX --> verb, modal auxiliary\n",
      "be -----> VB ----> AUX --> verb, base form\n",
      "trying -----> VBG ----> VERB --> verb, gerund or present participle\n",
      "to -----> TO ----> PART --> infinitival \"to\"\n",
      "gauge -----> VB ----> VERB --> verb, base form\n",
      "\n",
      " -----> _SP ----> SPACE --> whitespace\n",
      "the -----> DT ----> DET --> determiner\n",
      "mood -----> NN ----> NOUN --> noun, singular or mass\n",
      "of -----> IN ----> ADP --> conjunction, subordinating or preposition\n",
      "the -----> DT ----> DET --> determiner\n",
      "nation -----> NN ----> NOUN --> noun, singular or mass\n",
      "by -----> IN ----> ADP --> conjunction, subordinating or preposition\n",
      "asking -----> VBG ----> VERB --> verb, gerund or present participle\n",
      "voters -----> NNS ----> NOUN --> noun, plural\n",
      "which -----> WDT ----> DET --> wh-determiner\n",
      "candidate -----> NN ----> NOUN --> noun, singular or mass\n",
      "they -----> PRP ----> PRON --> pronoun, personal\n",
      "prefer -----> VBP ----> VERB --> verb, non-3rd person singular present\n",
      ". -----> . ----> PUNCT --> punctuation mark, sentence closer\n"
     ]
    }
   ],
   "source": [
    "# pos\n",
    "\n",
    "for token in doc:  \n",
    "    print(token,'----->',token.tag_ ,'---->' , token.pos_ , '-->', spacy.explain(token.tag_))"
   ]
  },
  {
   "cell_type": "raw",
   "id": "3f004725",
   "metadata": {},
   "source": [
    "is_ascii\n",
    "\n",
    "is_digit\n",
    "\n",
    "is_lower\n",
    "\n",
    "is_upper\n",
    "\n",
    "is_aplha\n",
    "\n",
    "is_punct\n",
    "\n",
    "is_space\n",
    "\n",
    "is_stop\n",
    "\n",
    "like_email\n",
    "\n",
    "like_url"
   ]
  },
  {
   "cell_type": "code",
   "execution_count": null,
   "id": "e9a33792",
   "metadata": {},
   "outputs": [],
   "source": []
  }
 ],
 "metadata": {
  "kernelspec": {
   "display_name": "Python 3 (ipykernel)",
   "language": "python",
   "name": "python3"
  },
  "language_info": {
   "codemirror_mode": {
    "name": "ipython",
    "version": 3
   },
   "file_extension": ".py",
   "mimetype": "text/x-python",
   "name": "python",
   "nbconvert_exporter": "python",
   "pygments_lexer": "ipython3",
   "version": "3.9.7"
  }
 },
 "nbformat": 4,
 "nbformat_minor": 5
}
