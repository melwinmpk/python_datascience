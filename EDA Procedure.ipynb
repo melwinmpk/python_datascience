{
 "cells": [
  {
   "cell_type": "markdown",
   "metadata": {},
   "source": [
    "1) how are we supposed to do the eda ?"
   ]
  },
  {
   "cell_type": "markdown",
   "metadata": {},
   "source": [
    "<pre>\n",
    "1st -> shape\n",
    "    to know how namy no of column and rows\n",
    "2nd -> describe \n",
    "    to get the rough idea of the data like weather the data has out liers\n",
    "3rd find the % of Missing values    \n",
    "4th -> segerate the data numeric data and non numeric data\n",
    "5th -> in numeric data \n",
    "        try finding the discrete data that could be categorical data as discretedata\n",
    "        set the other data as continuous data\n",
    "        remember the Year and the time stamp has to be handeled diferentely\n",
    "how to apply the graphs \n",
    "1-> for the Discrete data\n",
    "    try applying \n",
    "     data.groupby(discrete_feature)[target_variable].median().plot.bar() (bar Graph)\n",
    "2-> for the Continuous data\n",
    "    try applyting\n",
    "     data[feature].hist(bins=25) (count plot)\n",
    "</pre>    "
   ]
  },
  {
   "cell_type": "markdown",
   "metadata": {},
   "source": [
    "for understanding this you can reffer  <br>\n",
    "https://www.youtube.com/watch?v=ioN1jcWxbv8&list=PLZoTAELRMXVPQyArDHyQVjQxjj_YmEuO9&index=1"
   ]
  },
  {
   "cell_type": "code",
   "execution_count": null,
   "metadata": {},
   "outputs": [],
   "source": []
  }
 ],
 "metadata": {
  "kernelspec": {
   "display_name": "Python 3",
   "language": "python",
   "name": "python3"
  },
  "language_info": {
   "codemirror_mode": {
    "name": "ipython",
    "version": 3
   },
   "file_extension": ".py",
   "mimetype": "text/x-python",
   "name": "python",
   "nbconvert_exporter": "python",
   "pygments_lexer": "ipython3",
   "version": "3.8.3"
  }
 },
 "nbformat": 4,
 "nbformat_minor": 4
}
