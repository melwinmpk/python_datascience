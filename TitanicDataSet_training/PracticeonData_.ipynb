{
 "cells": [
  {
   "cell_type": "markdown",
   "metadata": {},
   "source": [
    "<a href=\"https://colab.research.google.com/github/melwinmpk/python_datascience/blob/main/TitanicDataSet_training/PracticeonData_.ipynb\">\n",
    "  <img src=\"https://colab.research.google.com/assets/colab-badge.svg\" alt=\"Open In Colab\"/>\n",
    "</a>"
   ]
  },
  {
   "cell_type": "code",
   "execution_count": 1,
   "metadata": {},
   "outputs": [],
   "source": [
    "import numpy as np\n",
    "import matplotlib.pyplot as plt\n",
    "import pandas as pd\n",
    "import seaborn as sns\n",
    "%matplotlib inline"
   ]
  },
  {
   "cell_type": "code",
   "execution_count": 2,
   "metadata": {},
   "outputs": [],
   "source": [
    "df = pd.read_csv('main_dataset/train.csv')"
   ]
  },
  {
   "cell_type": "code",
   "execution_count": 8,
   "metadata": {},
   "outputs": [
    {
     "data": {
      "text/html": [
       "<div>\n",
       "<style scoped>\n",
       "    .dataframe tbody tr th:only-of-type {\n",
       "        vertical-align: middle;\n",
       "    }\n",
       "\n",
       "    .dataframe tbody tr th {\n",
       "        vertical-align: top;\n",
       "    }\n",
       "\n",
       "    .dataframe thead th {\n",
       "        text-align: right;\n",
       "    }\n",
       "</style>\n",
       "<table border=\"1\" class=\"dataframe\">\n",
       "  <thead>\n",
       "    <tr style=\"text-align: right;\">\n",
       "      <th></th>\n",
       "      <th>PassengerId</th>\n",
       "      <th>Survived</th>\n",
       "      <th>Pclass</th>\n",
       "      <th>Name</th>\n",
       "      <th>Sex</th>\n",
       "      <th>Age</th>\n",
       "      <th>SibSp</th>\n",
       "      <th>Parch</th>\n",
       "      <th>Ticket</th>\n",
       "      <th>Fare</th>\n",
       "      <th>Cabin</th>\n",
       "      <th>Embarked</th>\n",
       "    </tr>\n",
       "  </thead>\n",
       "  <tbody>\n",
       "    <tr>\n",
       "      <th>0</th>\n",
       "      <td>1</td>\n",
       "      <td>0</td>\n",
       "      <td>3</td>\n",
       "      <td>Braund, Mr. Owen Harris</td>\n",
       "      <td>male</td>\n",
       "      <td>22.0</td>\n",
       "      <td>1</td>\n",
       "      <td>0</td>\n",
       "      <td>A/5 21171</td>\n",
       "      <td>7.2500</td>\n",
       "      <td>NaN</td>\n",
       "      <td>S</td>\n",
       "    </tr>\n",
       "    <tr>\n",
       "      <th>1</th>\n",
       "      <td>2</td>\n",
       "      <td>1</td>\n",
       "      <td>1</td>\n",
       "      <td>Cumings, Mrs. John Bradley (Florence Briggs Th...</td>\n",
       "      <td>female</td>\n",
       "      <td>38.0</td>\n",
       "      <td>1</td>\n",
       "      <td>0</td>\n",
       "      <td>PC 17599</td>\n",
       "      <td>71.2833</td>\n",
       "      <td>C85</td>\n",
       "      <td>C</td>\n",
       "    </tr>\n",
       "    <tr>\n",
       "      <th>2</th>\n",
       "      <td>3</td>\n",
       "      <td>1</td>\n",
       "      <td>3</td>\n",
       "      <td>Heikkinen, Miss. Laina</td>\n",
       "      <td>female</td>\n",
       "      <td>26.0</td>\n",
       "      <td>0</td>\n",
       "      <td>0</td>\n",
       "      <td>STON/O2. 3101282</td>\n",
       "      <td>7.9250</td>\n",
       "      <td>NaN</td>\n",
       "      <td>S</td>\n",
       "    </tr>\n",
       "    <tr>\n",
       "      <th>3</th>\n",
       "      <td>4</td>\n",
       "      <td>1</td>\n",
       "      <td>1</td>\n",
       "      <td>Futrelle, Mrs. Jacques Heath (Lily May Peel)</td>\n",
       "      <td>female</td>\n",
       "      <td>35.0</td>\n",
       "      <td>1</td>\n",
       "      <td>0</td>\n",
       "      <td>113803</td>\n",
       "      <td>53.1000</td>\n",
       "      <td>C123</td>\n",
       "      <td>S</td>\n",
       "    </tr>\n",
       "    <tr>\n",
       "      <th>4</th>\n",
       "      <td>5</td>\n",
       "      <td>0</td>\n",
       "      <td>3</td>\n",
       "      <td>Allen, Mr. William Henry</td>\n",
       "      <td>male</td>\n",
       "      <td>35.0</td>\n",
       "      <td>0</td>\n",
       "      <td>0</td>\n",
       "      <td>373450</td>\n",
       "      <td>8.0500</td>\n",
       "      <td>NaN</td>\n",
       "      <td>S</td>\n",
       "    </tr>\n",
       "  </tbody>\n",
       "</table>\n",
       "</div>"
      ],
      "text/plain": [
       "   PassengerId  Survived  Pclass  \\\n",
       "0            1         0       3   \n",
       "1            2         1       1   \n",
       "2            3         1       3   \n",
       "3            4         1       1   \n",
       "4            5         0       3   \n",
       "\n",
       "                                                Name     Sex   Age  SibSp  \\\n",
       "0                            Braund, Mr. Owen Harris    male  22.0      1   \n",
       "1  Cumings, Mrs. John Bradley (Florence Briggs Th...  female  38.0      1   \n",
       "2                             Heikkinen, Miss. Laina  female  26.0      0   \n",
       "3       Futrelle, Mrs. Jacques Heath (Lily May Peel)  female  35.0      1   \n",
       "4                           Allen, Mr. William Henry    male  35.0      0   \n",
       "\n",
       "   Parch            Ticket     Fare Cabin Embarked  \n",
       "0      0         A/5 21171   7.2500   NaN        S  \n",
       "1      0          PC 17599  71.2833   C85        C  \n",
       "2      0  STON/O2. 3101282   7.9250   NaN        S  \n",
       "3      0            113803  53.1000  C123        S  \n",
       "4      0            373450   8.0500   NaN        S  "
      ]
     },
     "execution_count": 8,
     "metadata": {},
     "output_type": "execute_result"
    }
   ],
   "source": [
    "df.head()"
   ]
  },
  {
   "cell_type": "code",
   "execution_count": 72,
   "metadata": {
    "scrolled": true
   },
   "outputs": [
    {
     "name": "stderr",
     "output_type": "stream",
     "text": [
      "c:\\users\\melwin\\.conda\\envs\\tutorialdatascience\\lib\\site-packages\\seaborn\\_decorators.py:36: FutureWarning: Pass the following variable as a keyword arg: x. From version 0.12, the only valid positional argument will be `data`, and passing other arguments without an explicit keyword will result in an error or misinterpretation.\n",
      "  warnings.warn(\n"
     ]
    },
    {
     "data": {
      "text/plain": [
       "<AxesSubplot:xlabel='Pclass', ylabel='count'>"
      ]
     },
     "execution_count": 72,
     "metadata": {},
     "output_type": "execute_result"
    },
    {
     "data": {
      "image/png": "[encoded data removed]",
      "text/plain": [
       "<Figure size 432x288 with 1 Axes>"
      ]
     },
     "metadata": {
      "needs_background": "light"
     },
     "output_type": "display_data"
    }
   ],
   "source": [
    "# sns.catplot(x = 'Pclass', y = 'Survived', data = df, kind = 'bar', hue = 'Sex')\n",
    "# count in each classes\n",
    "sns.countplot('Pclass', data = df)"
   ]
  },
  {
   "cell_type": "markdown",
   "metadata": {},
   "source": [
    "## How many male and female and children (age < 20) survived and died?"
   ]
  },
  {
   "cell_type": "code",
   "execution_count": 19,
   "metadata": {},
   "outputs": [
    {
     "name": "stdout",
     "output_type": "stream",
     "text": [
      "----------------------Survived---------------------------\n",
      "Male => 26\n",
      "Female => 53\n",
      "----------------------Died-------------------------------\n",
      "Male => 63\n",
      "Female => 22\n"
     ]
    }
   ],
   "source": [
    "print(\"----------------------Survived---------------------------\")\n",
    "print(\"Male =>\",df[(df[\"Survived\"] == 1) & (df[\"Age\"] < 20)].groupby('Sex').get_group(\"male\")[\"PassengerId\"].count())\n",
    "print(\"Female =>\",df[(df[\"Survived\"] == 1) & (df[\"Age\"] < 20)].groupby('Sex').get_group(\"female\")[\"PassengerId\"].count())\n",
    "print(\"----------------------Died-------------------------------\")\n",
    "print(\"Male =>\",df[(df[\"Survived\"] == 0) & (df[\"Age\"] < 20)].groupby('Sex').get_group(\"male\")[\"PassengerId\"].count())\n",
    "print(\"Female =>\",df[(df[\"Survived\"] == 0) & (df[\"Age\"] < 20)].groupby('Sex').get_group(\"female\")[\"PassengerId\"].count())"
   ]
  },
  {
   "cell_type": "code",
   "execution_count": 20,
   "metadata": {},
   "outputs": [
    {
     "data": {
      "image/png": "[encoded data removed]",
      "text/plain": [
       "<Figure size 720x360 with 2 Axes>"
      ]
     },
     "metadata": {
      "needs_background": "light"
     },
     "output_type": "display_data"
    }
   ],
   "source": [
    "# As per the data less than 20 every body survived \n",
    "qdata = df[(df[\"Age\"] < 20)]\n",
    "sns_plot = sns.catplot(x = 'Sex',y= 'Age', data =qdata, kind = 'swarm', col = 'Survived' )\n",
    "# sns_plot.savefig(\"output.png\")"
   ]
  },
  {
   "cell_type": "markdown",
   "metadata": {},
   "source": [
    "## How many higher class >50 fare, middle class 20 - <50 and lower class <20 survived ?"
   ]
  },
  {
   "cell_type": "code",
   "execution_count": 23,
   "metadata": {},
   "outputs": [
    {
     "name": "stdout",
     "output_type": "stream",
     "text": [
      "-------------1---------------\n",
      "Survived=> 136\n",
      "-------------2---------------\n",
      "Survived=> 87\n",
      "-------------3---------------\n",
      "Survived=> 119\n"
     ]
    }
   ],
   "source": [
    "for key,value in df[df[\"Survived\"] == 1].groupby('Pclass')[\"Pclass\"].count().items():\n",
    "    print(f'-------------{key}---------------')\n",
    "    print(\"Survived=>\",value)"
   ]
  },
  {
   "cell_type": "code",
   "execution_count": 17,
   "metadata": {
    "scrolled": true
   },
   "outputs": [
    {
     "data": {
      "text/plain": [
       "<seaborn.axisgrid.FacetGrid at 0x1647f722a30>"
      ]
     },
     "execution_count": 17,
     "metadata": {},
     "output_type": "execute_result"
    },
    {
     "data": {
      "image/png": "[encoded data removed]",
      "text/plain": [
       "<Figure size 430.5x360 with 1 Axes>"
      ]
     },
     "metadata": {
      "needs_background": "light"
     },
     "output_type": "display_data"
    }
   ],
   "source": [
    "sns.catplot(x = 'Pclass', y = 'Survived', data = df, kind = 'bar', hue = 'Sex')\n",
    "# Remember the Y axis  Survived is in %"
   ]
  },
  {
   "cell_type": "code",
   "execution_count": null,
   "metadata": {},
   "outputs": [],
   "source": [
    "qdata = df[(df[\"Fare\"] > 50)]"
   ]
  },
  {
   "cell_type": "markdown",
   "metadata": {},
   "source": [
    "## How many are there in corresponding cabin A..., B... C... and so on and also no cabins"
   ]
  },
  {
   "cell_type": "code",
   "execution_count": 53,
   "metadata": {},
   "outputs": [
    {
     "name": "stdout",
     "output_type": "stream",
     "text": [
      "-------------A16---------------\n",
      "Survived=> 1\n",
      "-------------A20---------------\n",
      "Survived=> 1\n",
      "-------------A23---------------\n",
      "Survived=> 1\n",
      "-------------A26---------------\n",
      "Survived=> 1\n",
      "-------------A31---------------\n",
      "Survived=> 1\n",
      "-------------A34---------------\n",
      "Survived=> 1\n",
      "-------------A6---------------\n",
      "Survived=> 1\n",
      "-------------B101---------------\n",
      "Survived=> 1\n",
      "-------------B18---------------\n",
      "Survived=> 2\n",
      "-------------B20---------------\n",
      "Survived=> 2\n",
      "-------------B22---------------\n",
      "Survived=> 1\n",
      "-------------B28---------------\n",
      "Survived=> 2\n",
      "-------------B3---------------\n",
      "Survived=> 1\n",
      "-------------B35---------------\n",
      "Survived=> 2\n",
      "-------------B39---------------\n",
      "Survived=> 1\n",
      "-------------B4---------------\n",
      "Survived=> 1\n",
      "-------------B41---------------\n",
      "Survived=> 1\n",
      "-------------B42---------------\n",
      "Survived=> 1\n",
      "-------------B49---------------\n",
      "Survived=> 2\n",
      "-------------B5---------------\n",
      "Survived=> 2\n",
      "-------------B50---------------\n",
      "Survived=> 1\n",
      "-------------B51 B53 B55---------------\n",
      "Survived=> 1\n",
      "-------------B57 B59 B63 B66---------------\n",
      "Survived=> 2\n",
      "-------------B58 B60---------------\n",
      "Survived=> 1\n",
      "-------------B69---------------\n",
      "Survived=> 1\n",
      "-------------B73---------------\n",
      "Survived=> 1\n",
      "-------------B77---------------\n",
      "Survived=> 2\n",
      "-------------B78---------------\n",
      "Survived=> 1\n",
      "-------------B79---------------\n",
      "Survived=> 1\n",
      "-------------B80---------------\n",
      "Survived=> 1\n",
      "-------------B96 B98---------------\n",
      "Survived=> 4\n",
      "-------------C101---------------\n",
      "Survived=> 1\n",
      "-------------C103---------------\n",
      "Survived=> 1\n",
      "-------------C104---------------\n",
      "Survived=> 1\n",
      "-------------C106---------------\n",
      "Survived=> 1\n",
      "-------------C123---------------\n",
      "Survived=> 1\n",
      "-------------C125---------------\n",
      "Survived=> 2\n",
      "-------------C126---------------\n",
      "Survived=> 2\n",
      "-------------C148---------------\n",
      "Survived=> 1\n",
      "-------------C2---------------\n",
      "Survived=> 1\n",
      "-------------C22 C26---------------\n",
      "Survived=> 1\n",
      "-------------C23 C25 C27---------------\n",
      "Survived=> 2\n",
      "-------------C32---------------\n",
      "Survived=> 1\n",
      "-------------C45---------------\n",
      "Survived=> 1\n",
      "-------------C47---------------\n",
      "Survived=> 1\n",
      "-------------C50---------------\n",
      "Survived=> 1\n",
      "-------------C52---------------\n",
      "Survived=> 2\n",
      "-------------C54---------------\n",
      "Survived=> 1\n",
      "-------------C62 C64---------------\n",
      "Survived=> 1\n",
      "-------------C65---------------\n",
      "Survived=> 1\n",
      "-------------C68---------------\n",
      "Survived=> 1\n",
      "-------------C7---------------\n",
      "Survived=> 1\n",
      "-------------C70---------------\n",
      "Survived=> 1\n",
      "-------------C78---------------\n",
      "Survived=> 1\n",
      "-------------C83---------------\n",
      "Survived=> 1\n",
      "-------------C85---------------\n",
      "Survived=> 1\n",
      "-------------C90---------------\n",
      "Survived=> 1\n",
      "-------------C92---------------\n",
      "Survived=> 2\n",
      "-------------C93---------------\n",
      "Survived=> 2\n",
      "-------------C99---------------\n",
      "Survived=> 1\n",
      "-------------D---------------\n",
      "Survived=> 2\n",
      "-------------D10 D12---------------\n",
      "Survived=> 1\n",
      "-------------D11---------------\n",
      "Survived=> 1\n",
      "-------------D15---------------\n",
      "Survived=> 1\n",
      "-------------D17---------------\n",
      "Survived=> 2\n",
      "-------------D19---------------\n",
      "Survived=> 1\n",
      "-------------D20---------------\n",
      "Survived=> 2\n",
      "-------------D21---------------\n",
      "Survived=> 1\n",
      "-------------D28---------------\n",
      "Survived=> 1\n",
      "-------------D33---------------\n",
      "Survived=> 2\n",
      "-------------D35---------------\n",
      "Survived=> 2\n",
      "-------------D36---------------\n",
      "Survived=> 2\n",
      "-------------D37---------------\n",
      "Survived=> 1\n",
      "-------------D45---------------\n",
      "Survived=> 1\n",
      "-------------D47---------------\n",
      "Survived=> 1\n",
      "-------------D49---------------\n",
      "Survived=> 1\n",
      "-------------D56---------------\n",
      "Survived=> 1\n",
      "-------------D7---------------\n",
      "Survived=> 1\n",
      "-------------D9---------------\n",
      "Survived=> 1\n",
      "-------------E10---------------\n",
      "Survived=> 1\n",
      "-------------E101---------------\n",
      "Survived=> 3\n",
      "-------------E12---------------\n",
      "Survived=> 1\n",
      "-------------E121---------------\n",
      "Survived=> 2\n",
      "-------------E17---------------\n",
      "Survived=> 1\n",
      "-------------E24---------------\n",
      "Survived=> 2\n",
      "-------------E25---------------\n",
      "Survived=> 2\n",
      "-------------E33---------------\n",
      "Survived=> 2\n",
      "-------------E34---------------\n",
      "Survived=> 1\n",
      "-------------E36---------------\n",
      "Survived=> 1\n",
      "-------------E40---------------\n",
      "Survived=> 1\n",
      "-------------E44---------------\n",
      "Survived=> 1\n",
      "-------------E49---------------\n",
      "Survived=> 1\n",
      "-------------E50---------------\n",
      "Survived=> 1\n",
      "-------------E67---------------\n",
      "Survived=> 1\n",
      "-------------E68---------------\n",
      "Survived=> 1\n",
      "-------------E8---------------\n",
      "Survived=> 2\n",
      "-------------F E69---------------\n",
      "Survived=> 1\n",
      "-------------F2---------------\n",
      "Survived=> 2\n",
      "-------------F33---------------\n",
      "Survived=> 3\n",
      "-------------F4---------------\n",
      "Survived=> 2\n",
      "-------------G6---------------\n",
      "Survived=> 2\n"
     ]
    }
   ],
   "source": [
    "keys = []\n",
    "values = []\n",
    "for key,value in df[df[\"Survived\"] == 1].groupby('Cabin')[\"Cabin\"].count().items():\n",
    "    print(f'-------------{key}---------------')\n",
    "    print(\"Survived=>\",value)"
   ]
  },
  {
   "cell_type": "code",
   "execution_count": 63,
   "metadata": {
    "scrolled": true
   },
   "outputs": [
    {
     "data": {
      "image/png": "[encoded data removed]",
      "text/plain": [
       "<Figure size 432x288 with 1 Axes>"
      ]
     },
     "metadata": {
      "needs_background": "light"
     },
     "output_type": "display_data"
    }
   ],
   "source": [
    "keys = []\n",
    "values = []\n",
    "# [df[\"Survived\"] == 1]\n",
    "for key,value in df.groupby('Cabin')[\"Cabin\"].count().items():\n",
    "    keys.append(key)\n",
    "    values.append(value)\n",
    "    \n",
    "cnv = plt.figure()\n",
    "ax1 = cnv.add_axes([0.1, 0.1, 15, 1])\n",
    "ax1.bar(keys,values, color ='maroon',  \n",
    "        width = 0.4,label = 'No of Persons vs Cabins') \n",
    "ax1.set_xlabel('Cabins')\n",
    "ax1.set_ylabel('No of Persons')\n",
    "ax1.set_title('No of Persons vs Cabins')\n",
    "ax1.legend()\n",
    "# cnv.savefig('log_graph.png')"
   ]
  },
  {
   "cell_type": "code",
   "execution_count": null,
   "metadata": {},
   "outputs": [],
   "source": []
  },
  {
   "cell_type": "markdown",
   "metadata": {},
   "source": [
    "## How much % of male and femail survived in the titanic data"
   ]
  },
  {
   "cell_type": "code",
   "execution_count": 39,
   "metadata": {
    "scrolled": true
   },
   "outputs": [
    {
     "name": "stdout",
     "output_type": "stream",
     "text": [
      "891\n",
      "----------------TOTAL =>female-----------------\n",
      "Count => 314\n",
      "Count % with total population  => 35.24130190796858\n",
      "----------------TOTAL =>male-----------------\n",
      "Count => 577\n",
      "Count % with total population  => 64.75869809203144\n",
      "----------------female-----------------\n",
      "Survived=> 233\n",
      "Survived % with total population  => 26.15039281705948\n",
      "----------------male-----------------\n",
      "Survived=> 109\n",
      "Survived % with total population  => 12.2334455667789\n",
      "----------------female-----------------\n",
      "Died=> 81\n",
      "Died % with total population  => 9.090909090909092\n",
      "----------------male-----------------\n",
      "Died=> 468\n",
      "Died % with total population  => 52.52525252525253\n"
     ]
    }
   ],
   "source": [
    "totalcount  = df[\"PassengerId\"].count()\n",
    "print(totalcount)\n",
    "for key,item in df.groupby('Sex')[\"PassengerId\"].count().items():\n",
    "    print(f\"----------------TOTAL =>{key}-----------------\")\n",
    "    print(f\"Count => {item}\")\n",
    "    print(f\"Count % with total population  => {(item/totalcount)*100}\")\n",
    "for key,item in df[(df[\"Survived\"] == 1)].groupby('Sex')[\"PassengerId\"].count().items():\n",
    "    print(f\"----------------{key}-----------------\")\n",
    "    print(f\"Survived=> {item}\")\n",
    "    print(f\"Survived % with total population  => {(item/totalcount)*100}\")\n",
    "for key,item in df[(df[\"Survived\"] == 0)].groupby('Sex')[\"PassengerId\"].count().items():\n",
    "    print(f\"----------------{key}-----------------\")\n",
    "    print(f\"Died=> {item}\")\n",
    "    print(f\"Died % with total population  => {(item/totalcount)*100}\")    "
   ]
  },
  {
   "cell_type": "markdown",
   "metadata": {},
   "source": [
    "## In which age group as mostely been there in the Titanic Ship"
   ]
  },
  {
   "cell_type": "code",
   "execution_count": 50,
   "metadata": {},
   "outputs": [
    {
     "data": {
      "image/png": "[encoded data removed]",
      "text/plain": [
       "<Figure size 432x288 with 1 Axes>"
      ]
     },
     "metadata": {
      "needs_background": "light"
     },
     "output_type": "display_data"
    }
   ],
   "source": [
    "grph = sns.distplot( df[\"Age\"], color = 'Green', kde = False)\n",
    "## as per the graph it between 20-30 age group"
   ]
  },
  {
   "cell_type": "code",
   "execution_count": 51,
   "metadata": {},
   "outputs": [
    {
     "data": {
      "text/plain": [
       "<seaborn.axisgrid.JointGrid at 0x1fd58910d90>"
      ]
     },
     "execution_count": 51,
     "metadata": {},
     "output_type": "execute_result"
    },
    {
     "data": {
      "image/png": "[encoded data removed]",
      "text/plain": [
       "<Figure size 432x432 with 3 Axes>"
      ]
     },
     "metadata": {
      "needs_background": "light"
     },
     "output_type": "display_data"
    }
   ],
   "source": [
    "# plotting bivariate data\n",
    "sns.jointplot(x = 'Age', y = 'Survived', data = df)"
   ]
  },
  {
   "cell_type": "code",
   "execution_count": null,
   "metadata": {},
   "outputs": [],
   "source": []
  }
 ],
 "metadata": {
  "kernelspec": {
   "display_name": "Python 3",
   "language": "python",
   "name": "python3"
  },
  "language_info": {
   "codemirror_mode": {
    "name": "ipython",
    "version": 3
   },
   "file_extension": ".py",
   "mimetype": "text/x-python",
   "name": "python",
   "nbconvert_exporter": "python",
   "pygments_lexer": "ipython3",
   "version": "3.8.3"
  }
 },
 "nbformat": 4,
 "nbformat_minor": 4
}
