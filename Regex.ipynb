{
 "cells": [
  {
   "cell_type": "code",
   "execution_count": null,
   "metadata": {},
   "outputs": [],
   "source": [
    "Sequence characters in regular expression:-\n",
    "    1. \\d - any digit from 0 to 9\n",
    "    2. \\D - any non-digit -\n",
    "    3. \\s - white space e.g.:- \\t,\\n,\\r,\\v,\\f\n",
    "    4. \\S - non white space character\n",
    "    5. \\w - any alphanumeric character e.g.:- (A to Z, a to z, 0 to 9)\n",
    "    6. \\W - any non alphanumeric character\n",
    "    7. \\b - represents a space around words\n",
    "    8. \\A - matches only at the start of the string\n",
    "    9. \\Z - matches only at the end of the string\n",
    "\n",
    "Characters represents more than one character to be matched in the string is called Quantifiers.\n",
    "    1. + - represents 1 or more repetitions of the preceding regex exp\n",
    "    2. * - 0 or more repetitions of the preceding regex exp\n",
    "    3. ? - 0 or 1 repetitions of the preceding regex exp\n",
    "    4. {m} - exactly m occurences\n",
    "    5. {m,n} - from m to n. m defaults to 0 n to infinity. Always goes for higher bound i.e n and then m\n",
    "    \n",
    "Special Characters in regex:-\n",
    "    1. \\ - Escape special character\n",
    "    2. . - matches any character except new line\n",
    "    3. ^ - matches begining of the string\n",
    "    4. $ - matches ending of a string\n",
    "    5. [...] - Denotes set of possible charcaters. e.g. [6p-t]matches any characters from 6,p,q,r,s or t.\n",
    "    6. [^...] - Matches every characters except the ones inside brackets. e.g [^6p-t]matches every characters\n",
    "    except 6,p,q,r,s or t.\n",
    "    7. (...) - Matches the regular expression inside the parenthesis and the result can be captured.\n",
    "    8. R|S - Matches the regex either R or S.\n",
    "    9. (?: R | S ) R or S case Melwin the one which worked for You reffer \n",
    "    // https://www.ocpsoft.org/tutorials/regular-expressions/or-in-regex/"
   ]
  },
  {
   "cell_type": "code",
   "execution_count": 9,
   "metadata": {},
   "outputs": [
    {
     "name": "stdout",
     "output_type": "stream",
     "text": [
      "[]\n"
     ]
    }
   ],
   "source": [
    "txt =( '''I like dogs, but not lions.\n",
    "          I like dogs, but not tigers. \n",
    "          I like penguins, but not lions.\n",
    "          I like penguins, but not tigers.''')\n",
    "reg = r'^I like (?:dogs|penguins), but not (?:lions|tigers).$'\n",
    "print(re.findall(reg, txt))\n",
    "# Melwin you will not get the out put but you see the the link\n",
    "# https://www.ocpsoft.org/tutorials/regular-expressions/or-in-regex/"
   ]
  },
  {
   "cell_type": "code",
   "execution_count": 1,
   "metadata": {},
   "outputs": [
    {
     "data": {
      "text/plain": [
       "'The9rain9in9Spain'"
      ]
     },
     "execution_count": 1,
     "metadata": {},
     "output_type": "execute_result"
    }
   ],
   "source": [
    "import re\n",
    "txt = \"The rain in Spain\"\n",
    "# re.sub(pattern, replace, string)\n",
    "x = re.sub(\"\\s\", \"9\", txt)\n",
    "x"
   ]
  },
  {
   "cell_type": "code",
   "execution_count": 20,
   "metadata": {},
   "outputs": [
    {
     "name": "stdout",
     "output_type": "stream",
     "text": [
      "['cy5']\n"
     ]
    }
   ],
   "source": [
    "import re\n",
    "mystr = 'cat mat rat hat bat can cap cp9 cy5'\n",
    "reg = r'c\\w\\w$'\n",
    "print(re.findall(reg, mystr))"
   ]
  },
  {
   "cell_type": "code",
   "execution_count": 32,
   "metadata": {},
   "outputs": [
    {
     "name": "stdout",
     "output_type": "stream",
     "text": [
      "['peterpiper', 'pepper']\n"
     ]
    }
   ],
   "source": [
    "import re\n",
    "my_str = 'peterpiper picked a peck of pickled peppers.'\n",
    "reg = r'[Pp]\\w{3,}r'\n",
    "print(re.findall(reg, my_str))"
   ]
  },
  {
   "cell_type": "code",
   "execution_count": 7,
   "metadata": {},
   "outputs": [
    {
     "name": "stdout",
     "output_type": "stream",
     "text": [
      "['peter', 'piper']\n"
     ]
    }
   ],
   "source": [
    "import re\n",
    "my_str = 'peter piper picked a peck of pickled peppers.'\n",
    "reg = r'[Pp]\\w{3,}r\\b'\n",
    "print(re.findall(reg, my_str))"
   ]
  },
  {
   "cell_type": "code",
   "execution_count": 28,
   "metadata": {},
   "outputs": [
    {
     "name": "stdout",
     "output_type": "stream",
     "text": [
      "['peter', 'piper', 'pepper']\n",
      "peter piper picked a peck of pickled peppers  pry675tgfd.\n"
     ]
    }
   ],
   "source": [
    "import re\n",
    "my_str = 'peter piper picked a peck of pickled peppers  pry675tgfd.'\n",
    "reg = r'[Pp]\\w{3,}r'\n",
    "print(re.findall(reg, my_str))\n",
    "print(my_str)"
   ]
  },
  {
   "cell_type": "code",
   "execution_count": 11,
   "metadata": {},
   "outputs": [
    {
     "name": "stdout",
     "output_type": "stream",
     "text": [
      "['peter', 'piper', 'picke', 'peck', 'pickl', 'peppe']\n"
     ]
    }
   ],
   "source": [
    "import re\n",
    "my_str = 'peter piper picked a peck of pickled peppers.'\n",
    "reg = r'[Pp]\\w{3,4}'\n",
    "print(re.findall(reg, my_str))"
   ]
  },
  {
   "cell_type": "code",
   "execution_count": null,
   "metadata": {},
   "outputs": [],
   "source": [
    "# \\w\\w\\w = \\w{3}"
   ]
  },
  {
   "cell_type": "code",
   "execution_count": 29,
   "metadata": {},
   "outputs": [
    {
     "name": "stdout",
     "output_type": "stream",
     "text": [
      "['peter', 'piper', 'picked', 'peck', 'pickled', 'peppers', 'p98', 'pgf56']\n"
     ]
    }
   ],
   "source": [
    "import re\n",
    "my_str = 'peter piper picked a peck of pickled peppers. p p98 pgf56'\n",
    "reg = r'[Pp]\\w+'\n",
    "print(re.findall(reg, my_str))"
   ]
  },
  {
   "cell_type": "code",
   "execution_count": 31,
   "metadata": {},
   "outputs": [
    {
     "name": "stdout",
     "output_type": "stream",
     "text": [
      "['pe', 'pi', 'pe', 'pi', 'pe', 'pi', 'pe', 'pp', 'p', 'p9', 'pg']\n"
     ]
    }
   ],
   "source": [
    "import re\n",
    "my_str = 'peter piper picked a peck of pickled peppers. p p98 pgf56'\n",
    "reg = r'[Pp]\\w?'\n",
    "print(re.findall(reg, my_str))"
   ]
  },
  {
   "cell_type": "code",
   "execution_count": 21,
   "metadata": {},
   "outputs": [
    {
     "name": "stdout",
     "output_type": "stream",
     "text": [
      "<re.Match object; span=(4, 7), match='pet'>\n",
      "petttt\n",
      "petpetpet\n"
     ]
    }
   ],
   "source": [
    "import re\n",
    "# my_str = 'peter piper pic\\nked a peck of pick\\nled peppers.'\n",
    "my_str = 'abc pet xyz'\n",
    "reg = r'(pet)+'\n",
    "print(re.search(reg, my_str))\n",
    "\n",
    "\n",
    "my_str1 = 'abc petttt xyz'\n",
    "reg = r'(pet+)'\n",
    "print(re.search(reg, my_str1).group())\n",
    "\n",
    "my_str2 = 'abc petpetpet xyz'\n",
    "reg = r'(pet)+'\n",
    "print(re.search(reg, my_str2).group())"
   ]
  },
  {
   "cell_type": "code",
   "execution_count": 23,
   "metadata": {},
   "outputs": [
    {
     "name": "stdout",
     "output_type": "stream",
     "text": [
      "This is Python \\nclass\n"
     ]
    }
   ],
   "source": [
    "reg = r'This is Python \\nclass'\n",
    "print(reg)"
   ]
  },
  {
   "cell_type": "code",
   "execution_count": 35,
   "metadata": {},
   "outputs": [
    {
     "name": "stdout",
     "output_type": "stream",
     "text": [
      "['peter', 'giper']\n"
     ]
    }
   ],
   "source": [
    "#Write the regular expression and use proper method which Retrieves all words having 5 characters.\n",
    "#Output:- ['peter', 'giper']\n",
    "import re\n",
    "str = \"peter giper picked a peck of pickled peppers\"\n",
    "reg = r'\\b\\w{5}\\b'\n",
    "print(re.findall(reg,str))"
   ]
  },
  {
   "cell_type": "code",
   "execution_count": 39,
   "metadata": {},
   "outputs": [
    {
     "name": "stdout",
     "output_type": "stream",
     "text": [
      "['Retrieving', 'having', 'least', 'characters']\n"
     ]
    }
   ],
   "source": [
    "#Write the regular expression and use proper method which Retrieves all words having at least 4 characters.\n",
    "#Output:- ['Retrieving', 'wor$ds', 'having', 'least', 'characters']\n",
    "import re\n",
    "str = \"Retrieving all wor$ds having at least 4 characters\"\n",
    "reg = r'\\w{4,}'\n",
    "print(re.findall(reg,str))"
   ]
  },
  {
   "cell_type": "code",
   "execution_count": 41,
   "metadata": {},
   "outputs": [
    {
     "name": "stdout",
     "output_type": "stream",
     "text": [
      "['8', '11']\n"
     ]
    }
   ],
   "source": [
    "#Write the regular expression and use proper method which Retrieves only digits from the string.\n",
    "#Output:- ['8', '11']\n",
    "import re\n",
    "str = 'The election in delhi will be held on 8 and result for the same will be declared on 11'\n",
    "reg = r'\\d+'\n",
    "print(re.findall(reg,str))"
   ]
  },
  {
   "cell_type": "code",
   "execution_count": 43,
   "metadata": {},
   "outputs": [
    {
     "name": "stdout",
     "output_type": "stream",
     "text": [
      "['8th', '11th']\n"
     ]
    }
   ],
   "source": [
    "#Write the regular expression and use proper method which Retrieves all words starting with a digit.\n",
    "#Output:- ['8th', '11th']\n",
    "import re\n",
    "str = 'The election in delhi will be held on 8th and result for the same will be declared on 11th'\n",
    "reg = r'\\b\\d+\\w+\\b'\n",
    "print(re.findall(reg,str))\n"
   ]
  },
  {
   "cell_type": "code",
   "execution_count": 71,
   "metadata": {},
   "outputs": [
    {
     "name": "stdout",
     "output_type": "stream",
     "text": [
      "['anil', 'akhil ', 'anant', 'ankur']\n"
     ]
    }
   ],
   "source": [
    "##Write the regular expression and use proper method which Retrieves name starting with 'an' or 'ak'.\n",
    "#Output:- ['anil', 'akhil', 'anant', 'ankur']\n",
    "import re\n",
    "str = 'anil akhil anant abhi arun arati arundhati abhijit ankur '\n",
    "reg = r'an\\w+|ak\\w+ '\n",
    "print(re.findall(reg,str))\n"
   ]
  },
  {
   "cell_type": "code",
   "execution_count": 72,
   "metadata": {},
   "outputs": [
    {
     "name": "stdout",
     "output_type": "stream",
     "text": [
      "['pe', 'te', 'pe', 'pe', 'of', 'pe', 'pe']\n"
     ]
    }
   ],
   "source": [
    "str = \"petergiperpickedapeckofpickledpeppers\"\n",
    "# pe/of/te\n",
    "reg = r'pe|of|te'\n",
    "print(re.findall(reg,str))"
   ]
  },
  {
   "cell_type": "code",
   "execution_count": 73,
   "metadata": {},
   "outputs": [
    {
     "name": "stdout",
     "output_type": "stream",
     "text": [
      "['peter', 'picked', 'peck', 'pickle', 'pepper']\n"
     ]
    }
   ],
   "source": [
    "str = \"peter giper picked a peck of pickled peppers\"\n",
    "reg = r'p\\w{3,5}'\n",
    "print(re.findall(reg,str))"
   ]
  },
  {
   "cell_type": "code",
   "execution_count": 80,
   "metadata": {},
   "outputs": [
    {
     "name": "stdout",
     "output_type": "stream",
     "text": [
      "['petper', 'picked', 'peck', 'pickle', 'pepper']\n"
     ]
    }
   ],
   "source": [
    "str = \"petper giper picked a peck of pickled peppers\"\n",
    "reg = r'p\\w{3,5}?'\n",
    "print(re.findall(reg,str))"
   ]
  },
  {
   "cell_type": "code",
   "execution_count": 84,
   "metadata": {},
   "outputs": [
    {
     "name": "stdout",
     "output_type": "stream",
     "text": [
      "['p', 'p', 'p', 'p', 'p', 'p', 'p', 'p', 'p']\n"
     ]
    }
   ],
   "source": [
    "str = \"petper giper picked a peck of pickled peppers\"\n",
    "reg = r'p\\w??'\n",
    "print(re.findall(reg,str))"
   ]
  },
  {
   "cell_type": "code",
   "execution_count": 86,
   "metadata": {},
   "outputs": [
    {
     "name": "stdout",
     "output_type": "stream",
     "text": [
      "['p', 'p', 'p', 'p', 'p', 'p', 'p', 'p', 'p']\n"
     ]
    }
   ],
   "source": [
    "str = \"petper giper picked a peck of pickled peppers\"\n",
    "reg = r'p\\w*?'\n",
    "print(re.findall(reg,str))"
   ]
  },
  {
   "cell_type": "code",
   "execution_count": 85,
   "metadata": {},
   "outputs": [
    {
     "name": "stdout",
     "output_type": "stream",
     "text": [
      "['pe', 'pe', 'pe', 'pi', 'pe', 'pi', 'pe', 'pp']\n"
     ]
    }
   ],
   "source": [
    "str = \"petper giper picked a peck of pickled peppers\"\n",
    "reg = r'p\\w+?'\n",
    "print(re.findall(reg,str))"
   ]
  }
 ],
 "metadata": {
  "kernelspec": {
   "display_name": "Python 3",
   "language": "python",
   "name": "python3"
  },
  "language_info": {
   "codemirror_mode": {
    "name": "ipython",
    "version": 3
   },
   "file_extension": ".py",
   "mimetype": "text/x-python",
   "name": "python",
   "nbconvert_exporter": "python",
   "pygments_lexer": "ipython3",
   "version": "3.8.3"
  }
 },
 "nbformat": 4,
 "nbformat_minor": 2
}
